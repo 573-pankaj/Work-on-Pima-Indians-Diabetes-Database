{
 "cells": [
  {
   "cell_type": "markdown",
   "id": "cc973ec5",
   "metadata": {},
   "source": [
    "<!-- <img src=\"../images/performances.png\" width=\"100%\"> -->"
   ]
  },
  {
   "cell_type": "markdown",
   "id": "fe430018",
   "metadata": {},
   "source": [
    "### RECOMENDATION SYSTEM"
   ]
  },
  {
   "cell_type": "markdown",
   "id": "df5542d1",
   "metadata": {},
   "source": [
    "## Contents\n",
    "\n",
    "- [Importing Dataset](#Importing-Dataset)  \n",
    "- [EDA](#EDA)  \n",
    "- [Decision Tree](#Decision-Tree)\n",
    "- [K-Nearest Neighbors](#K-Nearest-Neighbors)\n",
    "- [Random Forest](#Random-Forest)\n",
    "- [Logistic Regression](#Logistic-Regression)\n",
    "- [Support Vector Machine|Linear](#Support-Vector-Machine|Linear)\n",
    "- [ Support Vector Machine|RBF](#Support-Vector-Machine|RBF)\n",
    "- [Hyper Parameter tuning ](#Hyper-Parameter-tuning )\n",
    "- [Random Forest After Hyper Parameter Tuning ](#Random-Forest-After-Hyper-Parameter-Tuning )\n",
    "- [SVM | RBF After Tuning](#SVM-|-RBF-After-Tuning)\n",
    "- [SVM | LINEAR After Tuning ](#SVM-|-LINEAR-After-Tuning )\n",
    "- [SVM | 'sigmoid' After Tuning](#SVM-|-'sigmoid'-After-Tuning) \n",
    "- [SVM | Poly After Tuning ](#SVM-|-Poly-After-Tuning )\n",
    "- [SVM | Poly After Tuning ](#SVM-|-Poly-After-Tuning )  \n",
    "- [Logistic Regression | LR After Tuning ](#Logistic-Regression-|-LR-After-Tuning ) \n",
    "- [Herparameter Optimization for K value](#Herparameter-Optimization-for-K-value)\n",
    "- [Decision Tree Model Hyperparameter optimization](#Decision-Tree-Model-Hyperparameter-optimization) \n",
    "- [Accuracy Comparision](#Accuracy-Comparision )\n",
    "- [Accuracy Without Hyperparameter Tuning](#Accuracy-Without-Hyperparameter-Tuning)\n",
    "- [Thank You](#Thank-You)"
   ]
  },
  {
   "cell_type": "code",
   "execution_count": 2,
   "id": "20b0c8b9",
   "metadata": {},
   "outputs": [],
   "source": [
    "import pandas as pd\n",
    "import matplotlib.pyplot as plt\n",
    "import numpy as np\n",
    "import pickle\n",
    "import seaborn as sns"
   ]
  },
  {
   "cell_type": "markdown",
   "id": "2ceeccea",
   "metadata": {},
   "source": [
    "### Importing Dataset"
   ]
  },
  {
   "cell_type": "code",
   "execution_count": 4,
   "id": "cbe38576",
   "metadata": {},
   "outputs": [],
   "source": [
    "df = pd.read_csv('../data/diabetes.csv')"
   ]
  },
  {
   "cell_type": "code",
   "execution_count": null,
   "id": "37234dd9",
   "metadata": {},
   "outputs": [],
   "source": [
    "type(df)"
   ]
  },
  {
   "cell_type": "code",
   "execution_count": 37,
   "id": "bba5aed8",
   "metadata": {},
   "outputs": [
    {
     "data": {
      "text/html": [
       "<div>\n",
       "<style scoped>\n",
       "    .dataframe tbody tr th:only-of-type {\n",
       "        vertical-align: middle;\n",
       "    }\n",
       "\n",
       "    .dataframe tbody tr th {\n",
       "        vertical-align: top;\n",
       "    }\n",
       "\n",
       "    .dataframe thead th {\n",
       "        text-align: right;\n",
       "    }\n",
       "</style>\n",
       "<table border=\"1\" class=\"dataframe\">\n",
       "  <thead>\n",
       "    <tr style=\"text-align: right;\">\n",
       "      <th></th>\n",
       "      <th>Pregnancies</th>\n",
       "      <th>Glucose</th>\n",
       "      <th>BloodPressure</th>\n",
       "      <th>SkinThickness</th>\n",
       "      <th>Insulin</th>\n",
       "      <th>BMI</th>\n",
       "      <th>DiabetesPedigreeFunction</th>\n",
       "      <th>Age</th>\n",
       "      <th>Outcome</th>\n",
       "    </tr>\n",
       "  </thead>\n",
       "  <tbody>\n",
       "    <tr>\n",
       "      <th>0</th>\n",
       "      <td>6</td>\n",
       "      <td>148</td>\n",
       "      <td>72</td>\n",
       "      <td>35</td>\n",
       "      <td>0</td>\n",
       "      <td>33.6</td>\n",
       "      <td>0.627</td>\n",
       "      <td>50</td>\n",
       "      <td>1</td>\n",
       "    </tr>\n",
       "    <tr>\n",
       "      <th>1</th>\n",
       "      <td>1</td>\n",
       "      <td>85</td>\n",
       "      <td>66</td>\n",
       "      <td>29</td>\n",
       "      <td>0</td>\n",
       "      <td>26.6</td>\n",
       "      <td>0.351</td>\n",
       "      <td>31</td>\n",
       "      <td>0</td>\n",
       "    </tr>\n",
       "    <tr>\n",
       "      <th>2</th>\n",
       "      <td>8</td>\n",
       "      <td>183</td>\n",
       "      <td>64</td>\n",
       "      <td>0</td>\n",
       "      <td>0</td>\n",
       "      <td>23.3</td>\n",
       "      <td>0.672</td>\n",
       "      <td>32</td>\n",
       "      <td>1</td>\n",
       "    </tr>\n",
       "    <tr>\n",
       "      <th>3</th>\n",
       "      <td>1</td>\n",
       "      <td>89</td>\n",
       "      <td>66</td>\n",
       "      <td>23</td>\n",
       "      <td>94</td>\n",
       "      <td>28.1</td>\n",
       "      <td>0.167</td>\n",
       "      <td>21</td>\n",
       "      <td>0</td>\n",
       "    </tr>\n",
       "    <tr>\n",
       "      <th>4</th>\n",
       "      <td>0</td>\n",
       "      <td>137</td>\n",
       "      <td>40</td>\n",
       "      <td>35</td>\n",
       "      <td>168</td>\n",
       "      <td>43.1</td>\n",
       "      <td>2.288</td>\n",
       "      <td>33</td>\n",
       "      <td>1</td>\n",
       "    </tr>\n",
       "    <tr>\n",
       "      <th>...</th>\n",
       "      <td>...</td>\n",
       "      <td>...</td>\n",
       "      <td>...</td>\n",
       "      <td>...</td>\n",
       "      <td>...</td>\n",
       "      <td>...</td>\n",
       "      <td>...</td>\n",
       "      <td>...</td>\n",
       "      <td>...</td>\n",
       "    </tr>\n",
       "    <tr>\n",
       "      <th>763</th>\n",
       "      <td>10</td>\n",
       "      <td>101</td>\n",
       "      <td>76</td>\n",
       "      <td>48</td>\n",
       "      <td>180</td>\n",
       "      <td>32.9</td>\n",
       "      <td>0.171</td>\n",
       "      <td>63</td>\n",
       "      <td>0</td>\n",
       "    </tr>\n",
       "    <tr>\n",
       "      <th>764</th>\n",
       "      <td>2</td>\n",
       "      <td>122</td>\n",
       "      <td>70</td>\n",
       "      <td>27</td>\n",
       "      <td>0</td>\n",
       "      <td>36.8</td>\n",
       "      <td>0.340</td>\n",
       "      <td>27</td>\n",
       "      <td>0</td>\n",
       "    </tr>\n",
       "    <tr>\n",
       "      <th>765</th>\n",
       "      <td>5</td>\n",
       "      <td>121</td>\n",
       "      <td>72</td>\n",
       "      <td>23</td>\n",
       "      <td>112</td>\n",
       "      <td>26.2</td>\n",
       "      <td>0.245</td>\n",
       "      <td>30</td>\n",
       "      <td>0</td>\n",
       "    </tr>\n",
       "    <tr>\n",
       "      <th>766</th>\n",
       "      <td>1</td>\n",
       "      <td>126</td>\n",
       "      <td>60</td>\n",
       "      <td>0</td>\n",
       "      <td>0</td>\n",
       "      <td>30.1</td>\n",
       "      <td>0.349</td>\n",
       "      <td>47</td>\n",
       "      <td>1</td>\n",
       "    </tr>\n",
       "    <tr>\n",
       "      <th>767</th>\n",
       "      <td>1</td>\n",
       "      <td>93</td>\n",
       "      <td>70</td>\n",
       "      <td>31</td>\n",
       "      <td>0</td>\n",
       "      <td>30.4</td>\n",
       "      <td>0.315</td>\n",
       "      <td>23</td>\n",
       "      <td>0</td>\n",
       "    </tr>\n",
       "  </tbody>\n",
       "</table>\n",
       "<p>768 rows × 9 columns</p>\n",
       "</div>"
      ],
      "text/plain": [
       "     Pregnancies  Glucose  BloodPressure  SkinThickness  Insulin   BMI  \\\n",
       "0              6      148             72             35        0  33.6   \n",
       "1              1       85             66             29        0  26.6   \n",
       "2              8      183             64              0        0  23.3   \n",
       "3              1       89             66             23       94  28.1   \n",
       "4              0      137             40             35      168  43.1   \n",
       "..           ...      ...            ...            ...      ...   ...   \n",
       "763           10      101             76             48      180  32.9   \n",
       "764            2      122             70             27        0  36.8   \n",
       "765            5      121             72             23      112  26.2   \n",
       "766            1      126             60              0        0  30.1   \n",
       "767            1       93             70             31        0  30.4   \n",
       "\n",
       "     DiabetesPedigreeFunction  Age  Outcome  \n",
       "0                       0.627   50        1  \n",
       "1                       0.351   31        0  \n",
       "2                       0.672   32        1  \n",
       "3                       0.167   21        0  \n",
       "4                       2.288   33        1  \n",
       "..                        ...  ...      ...  \n",
       "763                     0.171   63        0  \n",
       "764                     0.340   27        0  \n",
       "765                     0.245   30        0  \n",
       "766                     0.349   47        1  \n",
       "767                     0.315   23        0  \n",
       "\n",
       "[768 rows x 9 columns]"
      ]
     },
     "execution_count": 37,
     "metadata": {},
     "output_type": "execute_result"
    }
   ],
   "source": [
    "df"
   ]
  },
  {
   "cell_type": "code",
   "execution_count": 38,
   "id": "b52dedc3",
   "metadata": {},
   "outputs": [
    {
     "data": {
      "text/html": [
       "<div>\n",
       "<style scoped>\n",
       "    .dataframe tbody tr th:only-of-type {\n",
       "        vertical-align: middle;\n",
       "    }\n",
       "\n",
       "    .dataframe tbody tr th {\n",
       "        vertical-align: top;\n",
       "    }\n",
       "\n",
       "    .dataframe thead th {\n",
       "        text-align: right;\n",
       "    }\n",
       "</style>\n",
       "<table border=\"1\" class=\"dataframe\">\n",
       "  <thead>\n",
       "    <tr style=\"text-align: right;\">\n",
       "      <th></th>\n",
       "      <th>Pregnancies</th>\n",
       "      <th>Glucose</th>\n",
       "      <th>BloodPressure</th>\n",
       "      <th>SkinThickness</th>\n",
       "      <th>Insulin</th>\n",
       "      <th>BMI</th>\n",
       "      <th>DiabetesPedigreeFunction</th>\n",
       "      <th>Age</th>\n",
       "      <th>Outcome</th>\n",
       "    </tr>\n",
       "  </thead>\n",
       "  <tbody>\n",
       "    <tr>\n",
       "      <th>0</th>\n",
       "      <td>6</td>\n",
       "      <td>148</td>\n",
       "      <td>72</td>\n",
       "      <td>35</td>\n",
       "      <td>0</td>\n",
       "      <td>33.6</td>\n",
       "      <td>0.627</td>\n",
       "      <td>50</td>\n",
       "      <td>1</td>\n",
       "    </tr>\n",
       "    <tr>\n",
       "      <th>1</th>\n",
       "      <td>1</td>\n",
       "      <td>85</td>\n",
       "      <td>66</td>\n",
       "      <td>29</td>\n",
       "      <td>0</td>\n",
       "      <td>26.6</td>\n",
       "      <td>0.351</td>\n",
       "      <td>31</td>\n",
       "      <td>0</td>\n",
       "    </tr>\n",
       "    <tr>\n",
       "      <th>2</th>\n",
       "      <td>8</td>\n",
       "      <td>183</td>\n",
       "      <td>64</td>\n",
       "      <td>0</td>\n",
       "      <td>0</td>\n",
       "      <td>23.3</td>\n",
       "      <td>0.672</td>\n",
       "      <td>32</td>\n",
       "      <td>1</td>\n",
       "    </tr>\n",
       "    <tr>\n",
       "      <th>3</th>\n",
       "      <td>1</td>\n",
       "      <td>89</td>\n",
       "      <td>66</td>\n",
       "      <td>23</td>\n",
       "      <td>94</td>\n",
       "      <td>28.1</td>\n",
       "      <td>0.167</td>\n",
       "      <td>21</td>\n",
       "      <td>0</td>\n",
       "    </tr>\n",
       "    <tr>\n",
       "      <th>4</th>\n",
       "      <td>0</td>\n",
       "      <td>137</td>\n",
       "      <td>40</td>\n",
       "      <td>35</td>\n",
       "      <td>168</td>\n",
       "      <td>43.1</td>\n",
       "      <td>2.288</td>\n",
       "      <td>33</td>\n",
       "      <td>1</td>\n",
       "    </tr>\n",
       "    <tr>\n",
       "      <th>5</th>\n",
       "      <td>5</td>\n",
       "      <td>116</td>\n",
       "      <td>74</td>\n",
       "      <td>0</td>\n",
       "      <td>0</td>\n",
       "      <td>25.6</td>\n",
       "      <td>0.201</td>\n",
       "      <td>30</td>\n",
       "      <td>0</td>\n",
       "    </tr>\n",
       "    <tr>\n",
       "      <th>6</th>\n",
       "      <td>3</td>\n",
       "      <td>78</td>\n",
       "      <td>50</td>\n",
       "      <td>32</td>\n",
       "      <td>88</td>\n",
       "      <td>31.0</td>\n",
       "      <td>0.248</td>\n",
       "      <td>26</td>\n",
       "      <td>1</td>\n",
       "    </tr>\n",
       "    <tr>\n",
       "      <th>7</th>\n",
       "      <td>10</td>\n",
       "      <td>115</td>\n",
       "      <td>0</td>\n",
       "      <td>0</td>\n",
       "      <td>0</td>\n",
       "      <td>35.3</td>\n",
       "      <td>0.134</td>\n",
       "      <td>29</td>\n",
       "      <td>0</td>\n",
       "    </tr>\n",
       "    <tr>\n",
       "      <th>8</th>\n",
       "      <td>2</td>\n",
       "      <td>197</td>\n",
       "      <td>70</td>\n",
       "      <td>45</td>\n",
       "      <td>543</td>\n",
       "      <td>30.5</td>\n",
       "      <td>0.158</td>\n",
       "      <td>53</td>\n",
       "      <td>1</td>\n",
       "    </tr>\n",
       "    <tr>\n",
       "      <th>9</th>\n",
       "      <td>8</td>\n",
       "      <td>125</td>\n",
       "      <td>96</td>\n",
       "      <td>0</td>\n",
       "      <td>0</td>\n",
       "      <td>0.0</td>\n",
       "      <td>0.232</td>\n",
       "      <td>54</td>\n",
       "      <td>1</td>\n",
       "    </tr>\n",
       "  </tbody>\n",
       "</table>\n",
       "</div>"
      ],
      "text/plain": [
       "   Pregnancies  Glucose  BloodPressure  SkinThickness  Insulin   BMI  \\\n",
       "0            6      148             72             35        0  33.6   \n",
       "1            1       85             66             29        0  26.6   \n",
       "2            8      183             64              0        0  23.3   \n",
       "3            1       89             66             23       94  28.1   \n",
       "4            0      137             40             35      168  43.1   \n",
       "5            5      116             74              0        0  25.6   \n",
       "6            3       78             50             32       88  31.0   \n",
       "7           10      115              0              0        0  35.3   \n",
       "8            2      197             70             45      543  30.5   \n",
       "9            8      125             96              0        0   0.0   \n",
       "\n",
       "   DiabetesPedigreeFunction  Age  Outcome  \n",
       "0                     0.627   50        1  \n",
       "1                     0.351   31        0  \n",
       "2                     0.672   32        1  \n",
       "3                     0.167   21        0  \n",
       "4                     2.288   33        1  \n",
       "5                     0.201   30        0  \n",
       "6                     0.248   26        1  \n",
       "7                     0.134   29        0  \n",
       "8                     0.158   53        1  \n",
       "9                     0.232   54        1  "
      ]
     },
     "execution_count": 38,
     "metadata": {},
     "output_type": "execute_result"
    }
   ],
   "source": [
    "df.head(10)"
   ]
  },
  {
   "cell_type": "code",
   "execution_count": 39,
   "id": "7224ffb8",
   "metadata": {},
   "outputs": [
    {
     "data": {
      "text/plain": [
       "(768, 9)"
      ]
     },
     "execution_count": 39,
     "metadata": {},
     "output_type": "execute_result"
    }
   ],
   "source": [
    "df.shape"
   ]
  },
  {
   "cell_type": "code",
   "execution_count": 40,
   "id": "a0ad7772",
   "metadata": {},
   "outputs": [
    {
     "data": {
      "text/html": [
       "<div>\n",
       "<style scoped>\n",
       "    .dataframe tbody tr th:only-of-type {\n",
       "        vertical-align: middle;\n",
       "    }\n",
       "\n",
       "    .dataframe tbody tr th {\n",
       "        vertical-align: top;\n",
       "    }\n",
       "\n",
       "    .dataframe thead th {\n",
       "        text-align: right;\n",
       "    }\n",
       "</style>\n",
       "<table border=\"1\" class=\"dataframe\">\n",
       "  <thead>\n",
       "    <tr style=\"text-align: right;\">\n",
       "      <th></th>\n",
       "      <th>Pregnancies</th>\n",
       "      <th>Glucose</th>\n",
       "      <th>BloodPressure</th>\n",
       "      <th>SkinThickness</th>\n",
       "      <th>Insulin</th>\n",
       "      <th>BMI</th>\n",
       "      <th>DiabetesPedigreeFunction</th>\n",
       "      <th>Age</th>\n",
       "      <th>Outcome</th>\n",
       "    </tr>\n",
       "  </thead>\n",
       "  <tbody>\n",
       "    <tr>\n",
       "      <th>763</th>\n",
       "      <td>10</td>\n",
       "      <td>101</td>\n",
       "      <td>76</td>\n",
       "      <td>48</td>\n",
       "      <td>180</td>\n",
       "      <td>32.9</td>\n",
       "      <td>0.171</td>\n",
       "      <td>63</td>\n",
       "      <td>0</td>\n",
       "    </tr>\n",
       "    <tr>\n",
       "      <th>764</th>\n",
       "      <td>2</td>\n",
       "      <td>122</td>\n",
       "      <td>70</td>\n",
       "      <td>27</td>\n",
       "      <td>0</td>\n",
       "      <td>36.8</td>\n",
       "      <td>0.340</td>\n",
       "      <td>27</td>\n",
       "      <td>0</td>\n",
       "    </tr>\n",
       "    <tr>\n",
       "      <th>765</th>\n",
       "      <td>5</td>\n",
       "      <td>121</td>\n",
       "      <td>72</td>\n",
       "      <td>23</td>\n",
       "      <td>112</td>\n",
       "      <td>26.2</td>\n",
       "      <td>0.245</td>\n",
       "      <td>30</td>\n",
       "      <td>0</td>\n",
       "    </tr>\n",
       "    <tr>\n",
       "      <th>766</th>\n",
       "      <td>1</td>\n",
       "      <td>126</td>\n",
       "      <td>60</td>\n",
       "      <td>0</td>\n",
       "      <td>0</td>\n",
       "      <td>30.1</td>\n",
       "      <td>0.349</td>\n",
       "      <td>47</td>\n",
       "      <td>1</td>\n",
       "    </tr>\n",
       "    <tr>\n",
       "      <th>767</th>\n",
       "      <td>1</td>\n",
       "      <td>93</td>\n",
       "      <td>70</td>\n",
       "      <td>31</td>\n",
       "      <td>0</td>\n",
       "      <td>30.4</td>\n",
       "      <td>0.315</td>\n",
       "      <td>23</td>\n",
       "      <td>0</td>\n",
       "    </tr>\n",
       "  </tbody>\n",
       "</table>\n",
       "</div>"
      ],
      "text/plain": [
       "     Pregnancies  Glucose  BloodPressure  SkinThickness  Insulin   BMI  \\\n",
       "763           10      101             76             48      180  32.9   \n",
       "764            2      122             70             27        0  36.8   \n",
       "765            5      121             72             23      112  26.2   \n",
       "766            1      126             60              0        0  30.1   \n",
       "767            1       93             70             31        0  30.4   \n",
       "\n",
       "     DiabetesPedigreeFunction  Age  Outcome  \n",
       "763                     0.171   63        0  \n",
       "764                     0.340   27        0  \n",
       "765                     0.245   30        0  \n",
       "766                     0.349   47        1  \n",
       "767                     0.315   23        0  "
      ]
     },
     "execution_count": 40,
     "metadata": {},
     "output_type": "execute_result"
    }
   ],
   "source": [
    "df.tail()"
   ]
  },
  {
   "cell_type": "code",
   "execution_count": 41,
   "id": "7a98f50f",
   "metadata": {},
   "outputs": [
    {
     "data": {
      "text/plain": [
       "pandas.core.frame.DataFrame"
      ]
     },
     "execution_count": 41,
     "metadata": {},
     "output_type": "execute_result"
    }
   ],
   "source": [
    "type(df)"
   ]
  },
  {
   "cell_type": "markdown",
   "id": "5a165da8",
   "metadata": {},
   "source": [
    "# EDA"
   ]
  },
  {
   "cell_type": "code",
   "execution_count": 14,
   "id": "4f9fe7b6",
   "metadata": {},
   "outputs": [
    {
     "data": {
      "text/html": [
       "<div>\n",
       "<style scoped>\n",
       "    .dataframe tbody tr th:only-of-type {\n",
       "        vertical-align: middle;\n",
       "    }\n",
       "\n",
       "    .dataframe tbody tr th {\n",
       "        vertical-align: top;\n",
       "    }\n",
       "\n",
       "    .dataframe thead th {\n",
       "        text-align: right;\n",
       "    }\n",
       "</style>\n",
       "<table border=\"1\" class=\"dataframe\">\n",
       "  <thead>\n",
       "    <tr style=\"text-align: right;\">\n",
       "      <th></th>\n",
       "      <th>Pregnancies</th>\n",
       "      <th>Glucose</th>\n",
       "      <th>BloodPressure</th>\n",
       "      <th>SkinThickness</th>\n",
       "      <th>Insulin</th>\n",
       "      <th>BMI</th>\n",
       "      <th>DiabetesPedigreeFunction</th>\n",
       "      <th>Age</th>\n",
       "      <th>Outcome</th>\n",
       "    </tr>\n",
       "  </thead>\n",
       "  <tbody>\n",
       "    <tr>\n",
       "      <th>count</th>\n",
       "      <td>768.000000</td>\n",
       "      <td>768.000000</td>\n",
       "      <td>768.000000</td>\n",
       "      <td>768.000000</td>\n",
       "      <td>768.000000</td>\n",
       "      <td>768.000000</td>\n",
       "      <td>768.000000</td>\n",
       "      <td>768.000000</td>\n",
       "      <td>768.000000</td>\n",
       "    </tr>\n",
       "    <tr>\n",
       "      <th>mean</th>\n",
       "      <td>3.845052</td>\n",
       "      <td>120.894531</td>\n",
       "      <td>69.105469</td>\n",
       "      <td>20.536458</td>\n",
       "      <td>79.799479</td>\n",
       "      <td>31.992578</td>\n",
       "      <td>0.471876</td>\n",
       "      <td>33.240885</td>\n",
       "      <td>0.348958</td>\n",
       "    </tr>\n",
       "    <tr>\n",
       "      <th>std</th>\n",
       "      <td>3.369578</td>\n",
       "      <td>31.972618</td>\n",
       "      <td>19.355807</td>\n",
       "      <td>15.952218</td>\n",
       "      <td>115.244002</td>\n",
       "      <td>7.884160</td>\n",
       "      <td>0.331329</td>\n",
       "      <td>11.760232</td>\n",
       "      <td>0.476951</td>\n",
       "    </tr>\n",
       "    <tr>\n",
       "      <th>min</th>\n",
       "      <td>0.000000</td>\n",
       "      <td>0.000000</td>\n",
       "      <td>0.000000</td>\n",
       "      <td>0.000000</td>\n",
       "      <td>0.000000</td>\n",
       "      <td>0.000000</td>\n",
       "      <td>0.078000</td>\n",
       "      <td>21.000000</td>\n",
       "      <td>0.000000</td>\n",
       "    </tr>\n",
       "    <tr>\n",
       "      <th>25%</th>\n",
       "      <td>1.000000</td>\n",
       "      <td>99.000000</td>\n",
       "      <td>62.000000</td>\n",
       "      <td>0.000000</td>\n",
       "      <td>0.000000</td>\n",
       "      <td>27.300000</td>\n",
       "      <td>0.243750</td>\n",
       "      <td>24.000000</td>\n",
       "      <td>0.000000</td>\n",
       "    </tr>\n",
       "    <tr>\n",
       "      <th>50%</th>\n",
       "      <td>3.000000</td>\n",
       "      <td>117.000000</td>\n",
       "      <td>72.000000</td>\n",
       "      <td>23.000000</td>\n",
       "      <td>30.500000</td>\n",
       "      <td>32.000000</td>\n",
       "      <td>0.372500</td>\n",
       "      <td>29.000000</td>\n",
       "      <td>0.000000</td>\n",
       "    </tr>\n",
       "    <tr>\n",
       "      <th>75%</th>\n",
       "      <td>6.000000</td>\n",
       "      <td>140.250000</td>\n",
       "      <td>80.000000</td>\n",
       "      <td>32.000000</td>\n",
       "      <td>127.250000</td>\n",
       "      <td>36.600000</td>\n",
       "      <td>0.626250</td>\n",
       "      <td>41.000000</td>\n",
       "      <td>1.000000</td>\n",
       "    </tr>\n",
       "    <tr>\n",
       "      <th>max</th>\n",
       "      <td>17.000000</td>\n",
       "      <td>199.000000</td>\n",
       "      <td>122.000000</td>\n",
       "      <td>99.000000</td>\n",
       "      <td>846.000000</td>\n",
       "      <td>67.100000</td>\n",
       "      <td>2.420000</td>\n",
       "      <td>81.000000</td>\n",
       "      <td>1.000000</td>\n",
       "    </tr>\n",
       "  </tbody>\n",
       "</table>\n",
       "</div>"
      ],
      "text/plain": [
       "       Pregnancies     Glucose  BloodPressure  SkinThickness     Insulin  \\\n",
       "count   768.000000  768.000000     768.000000     768.000000  768.000000   \n",
       "mean      3.845052  120.894531      69.105469      20.536458   79.799479   \n",
       "std       3.369578   31.972618      19.355807      15.952218  115.244002   \n",
       "min       0.000000    0.000000       0.000000       0.000000    0.000000   \n",
       "25%       1.000000   99.000000      62.000000       0.000000    0.000000   \n",
       "50%       3.000000  117.000000      72.000000      23.000000   30.500000   \n",
       "75%       6.000000  140.250000      80.000000      32.000000  127.250000   \n",
       "max      17.000000  199.000000     122.000000      99.000000  846.000000   \n",
       "\n",
       "              BMI  DiabetesPedigreeFunction         Age     Outcome  \n",
       "count  768.000000                768.000000  768.000000  768.000000  \n",
       "mean    31.992578                  0.471876   33.240885    0.348958  \n",
       "std      7.884160                  0.331329   11.760232    0.476951  \n",
       "min      0.000000                  0.078000   21.000000    0.000000  \n",
       "25%     27.300000                  0.243750   24.000000    0.000000  \n",
       "50%     32.000000                  0.372500   29.000000    0.000000  \n",
       "75%     36.600000                  0.626250   41.000000    1.000000  \n",
       "max     67.100000                  2.420000   81.000000    1.000000  "
      ]
     },
     "execution_count": 14,
     "metadata": {},
     "output_type": "execute_result"
    }
   ],
   "source": [
    "df.describe() # 5 point sumary "
   ]
  },
  {
   "cell_type": "code",
   "execution_count": 45,
   "id": "c2236f27",
   "metadata": {},
   "outputs": [
    {
     "data": {
      "text/plain": [
       "<AxesSubplot: xlabel='SkinThickness', ylabel='Density'>"
      ]
     },
     "execution_count": 45,
     "metadata": {},
     "output_type": "execute_result"
    },
    {
     "data": {
      "image/png": "[encoded data removed]",
      "text/plain": [
       "<Figure size 640x480 with 1 Axes>"
      ]
     },
     "metadata": {},
     "output_type": "display_data"
    }
   ],
   "source": [
    "sns.kdeplot(df['SkinThickness'])"
   ]
  },
  {
   "cell_type": "code",
   "execution_count": 46,
   "id": "4aa3379b",
   "metadata": {},
   "outputs": [
    {
     "data": {
      "text/plain": [
       "<AxesSubplot: >"
      ]
     },
     "execution_count": 46,
     "metadata": {},
     "output_type": "execute_result"
    },
    {
     "data": {
      "image/png": "[encoded data removed]",
      "text/plain": [
       "<Figure size 640x480 with 1 Axes>"
      ]
     },
     "metadata": {},
     "output_type": "display_data"
    }
   ],
   "source": [
    "sns.boxplot(df['SkinThickness'])"
   ]
  },
  {
   "cell_type": "code",
   "execution_count": 47,
   "id": "4f209b01",
   "metadata": {},
   "outputs": [
    {
     "data": {
      "text/plain": [
       "<AxesSubplot: >"
      ]
     },
     "execution_count": 47,
     "metadata": {},
     "output_type": "execute_result"
    },
    {
     "data": {
      "image/png": "[encoded data removed]",
      "text/plain": [
       "<Figure size 640x480 with 1 Axes>"
      ]
     },
     "metadata": {},
     "output_type": "display_data"
    }
   ],
   "source": [
    "sns.boxplot(df['Pregnancies'])"
   ]
  },
  {
   "cell_type": "code",
   "execution_count": 166,
   "id": "fb9f2a00",
   "metadata": {},
   "outputs": [
    {
     "data": {
      "text/plain": [
       "<AxesSubplot: >"
      ]
     },
     "execution_count": 166,
     "metadata": {},
     "output_type": "execute_result"
    },
    {
     "data": {
      "image/png": "[encoded data removed]",
      "text/plain": [
       "<Figure size 640x480 with 1 Axes>"
      ]
     },
     "metadata": {},
     "output_type": "display_data"
    }
   ],
   "source": [
    "sns.boxplot(df['Glucose'])"
   ]
  },
  {
   "cell_type": "code",
   "execution_count": 13,
   "id": "e12f4ce8",
   "metadata": {},
   "outputs": [
    {
     "data": {
      "text/plain": [
       "<AxesSubplot: >"
      ]
     },
     "execution_count": 13,
     "metadata": {},
     "output_type": "execute_result"
    },
    {
     "data": {
      "image/png": "[encoded data removed]",
      "text/plain": [
       "<Figure size 800x700 with 2 Axes>"
      ]
     },
     "metadata": {},
     "output_type": "display_data"
    }
   ],
   "source": [
    "plt.figure(figsize=(8,7))\n",
    "sns.heatmap(df.corr(), cmap=\"YlGnBu\", annot=True)"
   ]
  },
  {
   "cell_type": "code",
   "execution_count": 16,
   "id": "08a6f27e",
   "metadata": {},
   "outputs": [
    {
     "name": "stdout",
     "output_type": "stream",
     "text": [
      "<class 'pandas.core.frame.DataFrame'>\n",
      "RangeIndex: 768 entries, 0 to 767\n",
      "Data columns (total 9 columns):\n",
      " #   Column                    Non-Null Count  Dtype  \n",
      "---  ------                    --------------  -----  \n",
      " 0   Pregnancies               768 non-null    int64  \n",
      " 1   Glucose                   768 non-null    int64  \n",
      " 2   BloodPressure             768 non-null    int64  \n",
      " 3   SkinThickness             768 non-null    int64  \n",
      " 4   Insulin                   768 non-null    int64  \n",
      " 5   BMI                       768 non-null    float64\n",
      " 6   DiabetesPedigreeFunction  768 non-null    float64\n",
      " 7   Age                       768 non-null    int64  \n",
      " 8   Outcome                   768 non-null    int64  \n",
      "dtypes: float64(2), int64(7)\n",
      "memory usage: 54.1 KB\n"
     ]
    }
   ],
   "source": [
    "df.info()  "
   ]
  },
  {
   "cell_type": "markdown",
   "id": "ea3df868",
   "metadata": {},
   "source": [
    "### Checking Null Value"
   ]
  },
  {
   "cell_type": "code",
   "execution_count": 17,
   "id": "23cd9829",
   "metadata": {
    "scrolled": true
   },
   "outputs": [
    {
     "data": {
      "text/plain": [
       "Pregnancies                 0\n",
       "Glucose                     0\n",
       "BloodPressure               0\n",
       "SkinThickness               0\n",
       "Insulin                     0\n",
       "BMI                         0\n",
       "DiabetesPedigreeFunction    0\n",
       "Age                         0\n",
       "Outcome                     0\n",
       "dtype: int64"
      ]
     },
     "execution_count": 17,
     "metadata": {},
     "output_type": "execute_result"
    }
   ],
   "source": [
    "df.isnull().sum() "
   ]
  },
  {
   "cell_type": "code",
   "execution_count": 18,
   "id": "52cbc444",
   "metadata": {},
   "outputs": [
    {
     "data": {
      "text/html": [
       "<div>\n",
       "<style scoped>\n",
       "    .dataframe tbody tr th:only-of-type {\n",
       "        vertical-align: middle;\n",
       "    }\n",
       "\n",
       "    .dataframe tbody tr th {\n",
       "        vertical-align: top;\n",
       "    }\n",
       "\n",
       "    .dataframe thead th {\n",
       "        text-align: right;\n",
       "    }\n",
       "</style>\n",
       "<table border=\"1\" class=\"dataframe\">\n",
       "  <thead>\n",
       "    <tr style=\"text-align: right;\">\n",
       "      <th></th>\n",
       "      <th>Pregnancies</th>\n",
       "      <th>Glucose</th>\n",
       "      <th>BloodPressure</th>\n",
       "      <th>SkinThickness</th>\n",
       "      <th>Insulin</th>\n",
       "      <th>BMI</th>\n",
       "      <th>DiabetesPedigreeFunction</th>\n",
       "      <th>Age</th>\n",
       "      <th>Outcome</th>\n",
       "    </tr>\n",
       "  </thead>\n",
       "  <tbody>\n",
       "    <tr>\n",
       "      <th>0</th>\n",
       "      <td>6</td>\n",
       "      <td>148</td>\n",
       "      <td>72</td>\n",
       "      <td>35</td>\n",
       "      <td>0</td>\n",
       "      <td>33.6</td>\n",
       "      <td>0.627</td>\n",
       "      <td>50</td>\n",
       "      <td>1</td>\n",
       "    </tr>\n",
       "    <tr>\n",
       "      <th>1</th>\n",
       "      <td>1</td>\n",
       "      <td>85</td>\n",
       "      <td>66</td>\n",
       "      <td>29</td>\n",
       "      <td>0</td>\n",
       "      <td>26.6</td>\n",
       "      <td>0.351</td>\n",
       "      <td>31</td>\n",
       "      <td>0</td>\n",
       "    </tr>\n",
       "    <tr>\n",
       "      <th>2</th>\n",
       "      <td>8</td>\n",
       "      <td>183</td>\n",
       "      <td>64</td>\n",
       "      <td>0</td>\n",
       "      <td>0</td>\n",
       "      <td>23.3</td>\n",
       "      <td>0.672</td>\n",
       "      <td>32</td>\n",
       "      <td>1</td>\n",
       "    </tr>\n",
       "    <tr>\n",
       "      <th>3</th>\n",
       "      <td>1</td>\n",
       "      <td>89</td>\n",
       "      <td>66</td>\n",
       "      <td>23</td>\n",
       "      <td>94</td>\n",
       "      <td>28.1</td>\n",
       "      <td>0.167</td>\n",
       "      <td>21</td>\n",
       "      <td>0</td>\n",
       "    </tr>\n",
       "    <tr>\n",
       "      <th>4</th>\n",
       "      <td>0</td>\n",
       "      <td>137</td>\n",
       "      <td>40</td>\n",
       "      <td>35</td>\n",
       "      <td>168</td>\n",
       "      <td>43.1</td>\n",
       "      <td>2.288</td>\n",
       "      <td>33</td>\n",
       "      <td>1</td>\n",
       "    </tr>\n",
       "  </tbody>\n",
       "</table>\n",
       "</div>"
      ],
      "text/plain": [
       "   Pregnancies  Glucose  BloodPressure  SkinThickness  Insulin   BMI  \\\n",
       "0            6      148             72             35        0  33.6   \n",
       "1            1       85             66             29        0  26.6   \n",
       "2            8      183             64              0        0  23.3   \n",
       "3            1       89             66             23       94  28.1   \n",
       "4            0      137             40             35      168  43.1   \n",
       "\n",
       "   DiabetesPedigreeFunction  Age  Outcome  \n",
       "0                     0.627   50        1  \n",
       "1                     0.351   31        0  \n",
       "2                     0.672   32        1  \n",
       "3                     0.167   21        0  \n",
       "4                     2.288   33        1  "
      ]
     },
     "execution_count": 18,
     "metadata": {},
     "output_type": "execute_result"
    }
   ],
   "source": [
    "df.head()"
   ]
  },
  {
   "cell_type": "code",
   "execution_count": 19,
   "id": "1f990983",
   "metadata": {},
   "outputs": [],
   "source": [
    "IN = df.iloc[:,:-1] #.values\n",
    "DN = df.iloc[:,-1] #.values"
   ]
  },
  {
   "cell_type": "code",
   "execution_count": 20,
   "id": "9faa712b",
   "metadata": {},
   "outputs": [
    {
     "data": {
      "text/html": [
       "<div>\n",
       "<style scoped>\n",
       "    .dataframe tbody tr th:only-of-type {\n",
       "        vertical-align: middle;\n",
       "    }\n",
       "\n",
       "    .dataframe tbody tr th {\n",
       "        vertical-align: top;\n",
       "    }\n",
       "\n",
       "    .dataframe thead th {\n",
       "        text-align: right;\n",
       "    }\n",
       "</style>\n",
       "<table border=\"1\" class=\"dataframe\">\n",
       "  <thead>\n",
       "    <tr style=\"text-align: right;\">\n",
       "      <th></th>\n",
       "      <th>Pregnancies</th>\n",
       "      <th>Glucose</th>\n",
       "      <th>BloodPressure</th>\n",
       "      <th>SkinThickness</th>\n",
       "      <th>Insulin</th>\n",
       "      <th>BMI</th>\n",
       "      <th>DiabetesPedigreeFunction</th>\n",
       "      <th>Age</th>\n",
       "    </tr>\n",
       "  </thead>\n",
       "  <tbody>\n",
       "    <tr>\n",
       "      <th>0</th>\n",
       "      <td>6</td>\n",
       "      <td>148</td>\n",
       "      <td>72</td>\n",
       "      <td>35</td>\n",
       "      <td>0</td>\n",
       "      <td>33.6</td>\n",
       "      <td>0.627</td>\n",
       "      <td>50</td>\n",
       "    </tr>\n",
       "    <tr>\n",
       "      <th>1</th>\n",
       "      <td>1</td>\n",
       "      <td>85</td>\n",
       "      <td>66</td>\n",
       "      <td>29</td>\n",
       "      <td>0</td>\n",
       "      <td>26.6</td>\n",
       "      <td>0.351</td>\n",
       "      <td>31</td>\n",
       "    </tr>\n",
       "    <tr>\n",
       "      <th>2</th>\n",
       "      <td>8</td>\n",
       "      <td>183</td>\n",
       "      <td>64</td>\n",
       "      <td>0</td>\n",
       "      <td>0</td>\n",
       "      <td>23.3</td>\n",
       "      <td>0.672</td>\n",
       "      <td>32</td>\n",
       "    </tr>\n",
       "    <tr>\n",
       "      <th>3</th>\n",
       "      <td>1</td>\n",
       "      <td>89</td>\n",
       "      <td>66</td>\n",
       "      <td>23</td>\n",
       "      <td>94</td>\n",
       "      <td>28.1</td>\n",
       "      <td>0.167</td>\n",
       "      <td>21</td>\n",
       "    </tr>\n",
       "    <tr>\n",
       "      <th>4</th>\n",
       "      <td>0</td>\n",
       "      <td>137</td>\n",
       "      <td>40</td>\n",
       "      <td>35</td>\n",
       "      <td>168</td>\n",
       "      <td>43.1</td>\n",
       "      <td>2.288</td>\n",
       "      <td>33</td>\n",
       "    </tr>\n",
       "    <tr>\n",
       "      <th>...</th>\n",
       "      <td>...</td>\n",
       "      <td>...</td>\n",
       "      <td>...</td>\n",
       "      <td>...</td>\n",
       "      <td>...</td>\n",
       "      <td>...</td>\n",
       "      <td>...</td>\n",
       "      <td>...</td>\n",
       "    </tr>\n",
       "    <tr>\n",
       "      <th>763</th>\n",
       "      <td>10</td>\n",
       "      <td>101</td>\n",
       "      <td>76</td>\n",
       "      <td>48</td>\n",
       "      <td>180</td>\n",
       "      <td>32.9</td>\n",
       "      <td>0.171</td>\n",
       "      <td>63</td>\n",
       "    </tr>\n",
       "    <tr>\n",
       "      <th>764</th>\n",
       "      <td>2</td>\n",
       "      <td>122</td>\n",
       "      <td>70</td>\n",
       "      <td>27</td>\n",
       "      <td>0</td>\n",
       "      <td>36.8</td>\n",
       "      <td>0.340</td>\n",
       "      <td>27</td>\n",
       "    </tr>\n",
       "    <tr>\n",
       "      <th>765</th>\n",
       "      <td>5</td>\n",
       "      <td>121</td>\n",
       "      <td>72</td>\n",
       "      <td>23</td>\n",
       "      <td>112</td>\n",
       "      <td>26.2</td>\n",
       "      <td>0.245</td>\n",
       "      <td>30</td>\n",
       "    </tr>\n",
       "    <tr>\n",
       "      <th>766</th>\n",
       "      <td>1</td>\n",
       "      <td>126</td>\n",
       "      <td>60</td>\n",
       "      <td>0</td>\n",
       "      <td>0</td>\n",
       "      <td>30.1</td>\n",
       "      <td>0.349</td>\n",
       "      <td>47</td>\n",
       "    </tr>\n",
       "    <tr>\n",
       "      <th>767</th>\n",
       "      <td>1</td>\n",
       "      <td>93</td>\n",
       "      <td>70</td>\n",
       "      <td>31</td>\n",
       "      <td>0</td>\n",
       "      <td>30.4</td>\n",
       "      <td>0.315</td>\n",
       "      <td>23</td>\n",
       "    </tr>\n",
       "  </tbody>\n",
       "</table>\n",
       "<p>768 rows × 8 columns</p>\n",
       "</div>"
      ],
      "text/plain": [
       "     Pregnancies  Glucose  BloodPressure  SkinThickness  Insulin   BMI  \\\n",
       "0              6      148             72             35        0  33.6   \n",
       "1              1       85             66             29        0  26.6   \n",
       "2              8      183             64              0        0  23.3   \n",
       "3              1       89             66             23       94  28.1   \n",
       "4              0      137             40             35      168  43.1   \n",
       "..           ...      ...            ...            ...      ...   ...   \n",
       "763           10      101             76             48      180  32.9   \n",
       "764            2      122             70             27        0  36.8   \n",
       "765            5      121             72             23      112  26.2   \n",
       "766            1      126             60              0        0  30.1   \n",
       "767            1       93             70             31        0  30.4   \n",
       "\n",
       "     DiabetesPedigreeFunction  Age  \n",
       "0                       0.627   50  \n",
       "1                       0.351   31  \n",
       "2                       0.672   32  \n",
       "3                       0.167   21  \n",
       "4                       2.288   33  \n",
       "..                        ...  ...  \n",
       "763                     0.171   63  \n",
       "764                     0.340   27  \n",
       "765                     0.245   30  \n",
       "766                     0.349   47  \n",
       "767                     0.315   23  \n",
       "\n",
       "[768 rows x 8 columns]"
      ]
     },
     "execution_count": 20,
     "metadata": {},
     "output_type": "execute_result"
    }
   ],
   "source": [
    "IN"
   ]
  },
  {
   "cell_type": "code",
   "execution_count": 21,
   "id": "16ff3256",
   "metadata": {},
   "outputs": [],
   "source": [
    "x = df.drop(['Outcome'],axis = 1)\n",
    "\n",
    "y = df['Outcome']"
   ]
  },
  {
   "cell_type": "code",
   "execution_count": 22,
   "id": "9db25c30",
   "metadata": {},
   "outputs": [
    {
     "data": {
      "text/html": [
       "<div>\n",
       "<style scoped>\n",
       "    .dataframe tbody tr th:only-of-type {\n",
       "        vertical-align: middle;\n",
       "    }\n",
       "\n",
       "    .dataframe tbody tr th {\n",
       "        vertical-align: top;\n",
       "    }\n",
       "\n",
       "    .dataframe thead th {\n",
       "        text-align: right;\n",
       "    }\n",
       "</style>\n",
       "<table border=\"1\" class=\"dataframe\">\n",
       "  <thead>\n",
       "    <tr style=\"text-align: right;\">\n",
       "      <th></th>\n",
       "      <th>Pregnancies</th>\n",
       "      <th>Glucose</th>\n",
       "      <th>BloodPressure</th>\n",
       "      <th>SkinThickness</th>\n",
       "      <th>Insulin</th>\n",
       "      <th>BMI</th>\n",
       "      <th>DiabetesPedigreeFunction</th>\n",
       "      <th>Age</th>\n",
       "    </tr>\n",
       "  </thead>\n",
       "  <tbody>\n",
       "    <tr>\n",
       "      <th>0</th>\n",
       "      <td>6</td>\n",
       "      <td>148</td>\n",
       "      <td>72</td>\n",
       "      <td>35</td>\n",
       "      <td>0</td>\n",
       "      <td>33.6</td>\n",
       "      <td>0.627</td>\n",
       "      <td>50</td>\n",
       "    </tr>\n",
       "    <tr>\n",
       "      <th>1</th>\n",
       "      <td>1</td>\n",
       "      <td>85</td>\n",
       "      <td>66</td>\n",
       "      <td>29</td>\n",
       "      <td>0</td>\n",
       "      <td>26.6</td>\n",
       "      <td>0.351</td>\n",
       "      <td>31</td>\n",
       "    </tr>\n",
       "    <tr>\n",
       "      <th>2</th>\n",
       "      <td>8</td>\n",
       "      <td>183</td>\n",
       "      <td>64</td>\n",
       "      <td>0</td>\n",
       "      <td>0</td>\n",
       "      <td>23.3</td>\n",
       "      <td>0.672</td>\n",
       "      <td>32</td>\n",
       "    </tr>\n",
       "    <tr>\n",
       "      <th>3</th>\n",
       "      <td>1</td>\n",
       "      <td>89</td>\n",
       "      <td>66</td>\n",
       "      <td>23</td>\n",
       "      <td>94</td>\n",
       "      <td>28.1</td>\n",
       "      <td>0.167</td>\n",
       "      <td>21</td>\n",
       "    </tr>\n",
       "    <tr>\n",
       "      <th>4</th>\n",
       "      <td>0</td>\n",
       "      <td>137</td>\n",
       "      <td>40</td>\n",
       "      <td>35</td>\n",
       "      <td>168</td>\n",
       "      <td>43.1</td>\n",
       "      <td>2.288</td>\n",
       "      <td>33</td>\n",
       "    </tr>\n",
       "    <tr>\n",
       "      <th>...</th>\n",
       "      <td>...</td>\n",
       "      <td>...</td>\n",
       "      <td>...</td>\n",
       "      <td>...</td>\n",
       "      <td>...</td>\n",
       "      <td>...</td>\n",
       "      <td>...</td>\n",
       "      <td>...</td>\n",
       "    </tr>\n",
       "    <tr>\n",
       "      <th>763</th>\n",
       "      <td>10</td>\n",
       "      <td>101</td>\n",
       "      <td>76</td>\n",
       "      <td>48</td>\n",
       "      <td>180</td>\n",
       "      <td>32.9</td>\n",
       "      <td>0.171</td>\n",
       "      <td>63</td>\n",
       "    </tr>\n",
       "    <tr>\n",
       "      <th>764</th>\n",
       "      <td>2</td>\n",
       "      <td>122</td>\n",
       "      <td>70</td>\n",
       "      <td>27</td>\n",
       "      <td>0</td>\n",
       "      <td>36.8</td>\n",
       "      <td>0.340</td>\n",
       "      <td>27</td>\n",
       "    </tr>\n",
       "    <tr>\n",
       "      <th>765</th>\n",
       "      <td>5</td>\n",
       "      <td>121</td>\n",
       "      <td>72</td>\n",
       "      <td>23</td>\n",
       "      <td>112</td>\n",
       "      <td>26.2</td>\n",
       "      <td>0.245</td>\n",
       "      <td>30</td>\n",
       "    </tr>\n",
       "    <tr>\n",
       "      <th>766</th>\n",
       "      <td>1</td>\n",
       "      <td>126</td>\n",
       "      <td>60</td>\n",
       "      <td>0</td>\n",
       "      <td>0</td>\n",
       "      <td>30.1</td>\n",
       "      <td>0.349</td>\n",
       "      <td>47</td>\n",
       "    </tr>\n",
       "    <tr>\n",
       "      <th>767</th>\n",
       "      <td>1</td>\n",
       "      <td>93</td>\n",
       "      <td>70</td>\n",
       "      <td>31</td>\n",
       "      <td>0</td>\n",
       "      <td>30.4</td>\n",
       "      <td>0.315</td>\n",
       "      <td>23</td>\n",
       "    </tr>\n",
       "  </tbody>\n",
       "</table>\n",
       "<p>768 rows × 8 columns</p>\n",
       "</div>"
      ],
      "text/plain": [
       "     Pregnancies  Glucose  BloodPressure  SkinThickness  Insulin   BMI  \\\n",
       "0              6      148             72             35        0  33.6   \n",
       "1              1       85             66             29        0  26.6   \n",
       "2              8      183             64              0        0  23.3   \n",
       "3              1       89             66             23       94  28.1   \n",
       "4              0      137             40             35      168  43.1   \n",
       "..           ...      ...            ...            ...      ...   ...   \n",
       "763           10      101             76             48      180  32.9   \n",
       "764            2      122             70             27        0  36.8   \n",
       "765            5      121             72             23      112  26.2   \n",
       "766            1      126             60              0        0  30.1   \n",
       "767            1       93             70             31        0  30.4   \n",
       "\n",
       "     DiabetesPedigreeFunction  Age  \n",
       "0                       0.627   50  \n",
       "1                       0.351   31  \n",
       "2                       0.672   32  \n",
       "3                       0.167   21  \n",
       "4                       2.288   33  \n",
       "..                        ...  ...  \n",
       "763                     0.171   63  \n",
       "764                     0.340   27  \n",
       "765                     0.245   30  \n",
       "766                     0.349   47  \n",
       "767                     0.315   23  \n",
       "\n",
       "[768 rows x 8 columns]"
      ]
     },
     "execution_count": 22,
     "metadata": {},
     "output_type": "execute_result"
    }
   ],
   "source": [
    "x"
   ]
  },
  {
   "cell_type": "code",
   "execution_count": 23,
   "id": "10f70366",
   "metadata": {},
   "outputs": [],
   "source": [
    "# !pip install scikit-learn"
   ]
  },
  {
   "cell_type": "code",
   "execution_count": 24,
   "id": "b16816f2",
   "metadata": {},
   "outputs": [],
   "source": [
    "from sklearn.model_selection import train_test_split\n",
    "xtrain, xtest, ytrain, ytest = train_test_split(x,y, test_size = 0.20)"
   ]
  },
  {
   "cell_type": "code",
   "execution_count": 25,
   "id": "ef400d59",
   "metadata": {},
   "outputs": [
    {
     "data": {
      "text/html": [
       "<div>\n",
       "<style scoped>\n",
       "    .dataframe tbody tr th:only-of-type {\n",
       "        vertical-align: middle;\n",
       "    }\n",
       "\n",
       "    .dataframe tbody tr th {\n",
       "        vertical-align: top;\n",
       "    }\n",
       "\n",
       "    .dataframe thead th {\n",
       "        text-align: right;\n",
       "    }\n",
       "</style>\n",
       "<table border=\"1\" class=\"dataframe\">\n",
       "  <thead>\n",
       "    <tr style=\"text-align: right;\">\n",
       "      <th></th>\n",
       "      <th>Pregnancies</th>\n",
       "      <th>Glucose</th>\n",
       "      <th>BloodPressure</th>\n",
       "      <th>SkinThickness</th>\n",
       "      <th>Insulin</th>\n",
       "      <th>BMI</th>\n",
       "      <th>DiabetesPedigreeFunction</th>\n",
       "      <th>Age</th>\n",
       "    </tr>\n",
       "  </thead>\n",
       "  <tbody>\n",
       "    <tr>\n",
       "      <th>186</th>\n",
       "      <td>8</td>\n",
       "      <td>181</td>\n",
       "      <td>68</td>\n",
       "      <td>36</td>\n",
       "      <td>495</td>\n",
       "      <td>30.1</td>\n",
       "      <td>0.615</td>\n",
       "      <td>60</td>\n",
       "    </tr>\n",
       "    <tr>\n",
       "      <th>284</th>\n",
       "      <td>2</td>\n",
       "      <td>108</td>\n",
       "      <td>80</td>\n",
       "      <td>0</td>\n",
       "      <td>0</td>\n",
       "      <td>27.0</td>\n",
       "      <td>0.259</td>\n",
       "      <td>52</td>\n",
       "    </tr>\n",
       "    <tr>\n",
       "      <th>209</th>\n",
       "      <td>7</td>\n",
       "      <td>184</td>\n",
       "      <td>84</td>\n",
       "      <td>33</td>\n",
       "      <td>0</td>\n",
       "      <td>35.5</td>\n",
       "      <td>0.355</td>\n",
       "      <td>41</td>\n",
       "    </tr>\n",
       "    <tr>\n",
       "      <th>670</th>\n",
       "      <td>6</td>\n",
       "      <td>165</td>\n",
       "      <td>68</td>\n",
       "      <td>26</td>\n",
       "      <td>168</td>\n",
       "      <td>33.6</td>\n",
       "      <td>0.631</td>\n",
       "      <td>49</td>\n",
       "    </tr>\n",
       "    <tr>\n",
       "      <th>418</th>\n",
       "      <td>1</td>\n",
       "      <td>83</td>\n",
       "      <td>68</td>\n",
       "      <td>0</td>\n",
       "      <td>0</td>\n",
       "      <td>18.2</td>\n",
       "      <td>0.624</td>\n",
       "      <td>27</td>\n",
       "    </tr>\n",
       "    <tr>\n",
       "      <th>...</th>\n",
       "      <td>...</td>\n",
       "      <td>...</td>\n",
       "      <td>...</td>\n",
       "      <td>...</td>\n",
       "      <td>...</td>\n",
       "      <td>...</td>\n",
       "      <td>...</td>\n",
       "      <td>...</td>\n",
       "    </tr>\n",
       "    <tr>\n",
       "      <th>604</th>\n",
       "      <td>4</td>\n",
       "      <td>183</td>\n",
       "      <td>0</td>\n",
       "      <td>0</td>\n",
       "      <td>0</td>\n",
       "      <td>28.4</td>\n",
       "      <td>0.212</td>\n",
       "      <td>36</td>\n",
       "    </tr>\n",
       "    <tr>\n",
       "      <th>716</th>\n",
       "      <td>3</td>\n",
       "      <td>173</td>\n",
       "      <td>78</td>\n",
       "      <td>39</td>\n",
       "      <td>185</td>\n",
       "      <td>33.8</td>\n",
       "      <td>0.970</td>\n",
       "      <td>31</td>\n",
       "    </tr>\n",
       "    <tr>\n",
       "      <th>210</th>\n",
       "      <td>2</td>\n",
       "      <td>81</td>\n",
       "      <td>60</td>\n",
       "      <td>22</td>\n",
       "      <td>0</td>\n",
       "      <td>27.7</td>\n",
       "      <td>0.290</td>\n",
       "      <td>25</td>\n",
       "    </tr>\n",
       "    <tr>\n",
       "      <th>73</th>\n",
       "      <td>4</td>\n",
       "      <td>129</td>\n",
       "      <td>86</td>\n",
       "      <td>20</td>\n",
       "      <td>270</td>\n",
       "      <td>35.1</td>\n",
       "      <td>0.231</td>\n",
       "      <td>23</td>\n",
       "    </tr>\n",
       "    <tr>\n",
       "      <th>85</th>\n",
       "      <td>2</td>\n",
       "      <td>110</td>\n",
       "      <td>74</td>\n",
       "      <td>29</td>\n",
       "      <td>125</td>\n",
       "      <td>32.4</td>\n",
       "      <td>0.698</td>\n",
       "      <td>27</td>\n",
       "    </tr>\n",
       "  </tbody>\n",
       "</table>\n",
       "<p>614 rows × 8 columns</p>\n",
       "</div>"
      ],
      "text/plain": [
       "     Pregnancies  Glucose  BloodPressure  SkinThickness  Insulin   BMI  \\\n",
       "186            8      181             68             36      495  30.1   \n",
       "284            2      108             80              0        0  27.0   \n",
       "209            7      184             84             33        0  35.5   \n",
       "670            6      165             68             26      168  33.6   \n",
       "418            1       83             68              0        0  18.2   \n",
       "..           ...      ...            ...            ...      ...   ...   \n",
       "604            4      183              0              0        0  28.4   \n",
       "716            3      173             78             39      185  33.8   \n",
       "210            2       81             60             22        0  27.7   \n",
       "73             4      129             86             20      270  35.1   \n",
       "85             2      110             74             29      125  32.4   \n",
       "\n",
       "     DiabetesPedigreeFunction  Age  \n",
       "186                     0.615   60  \n",
       "284                     0.259   52  \n",
       "209                     0.355   41  \n",
       "670                     0.631   49  \n",
       "418                     0.624   27  \n",
       "..                        ...  ...  \n",
       "604                     0.212   36  \n",
       "716                     0.970   31  \n",
       "210                     0.290   25  \n",
       "73                      0.231   23  \n",
       "85                      0.698   27  \n",
       "\n",
       "[614 rows x 8 columns]"
      ]
     },
     "execution_count": 25,
     "metadata": {},
     "output_type": "execute_result"
    }
   ],
   "source": [
    "xtrain"
   ]
  },
  {
   "cell_type": "markdown",
   "id": "190d93f4",
   "metadata": {},
   "source": [
    "### Decision Tree"
   ]
  },
  {
   "cell_type": "code",
   "execution_count": 26,
   "id": "3e02271f",
   "metadata": {},
   "outputs": [
    {
     "data": {
      "text/plain": [
       "0.7597402597402597"
      ]
     },
     "execution_count": 26,
     "metadata": {},
     "output_type": "execute_result"
    }
   ],
   "source": [
    "from sklearn.tree import DecisionTreeClassifier  # load Decision libraries\n",
    " \n",
    "dtc = DecisionTreeClassifier()   # create a decision tree class\n",
    "\n",
    "dtc.fit(xtrain,ytrain)\n",
    "\n",
    "dtc.score(xtest,ytest)"
   ]
  },
  {
   "cell_type": "markdown",
   "id": "f6a558cf",
   "metadata": {},
   "source": [
    "### Scope hyper parameter tuing for DT"
   ]
  },
  {
   "cell_type": "code",
   "execution_count": 28,
   "id": "63909df2",
   "metadata": {},
   "outputs": [],
   "source": [
    "from sklearn.metrics import (\n",
    "    confusion_matrix,\n",
    "    ConfusionMatrixDisplay,\n",
    "    f1_score,\n",
    "    recall_score,\n",
    ")"
   ]
  },
  {
   "cell_type": "code",
   "execution_count": 30,
   "id": "0721327c",
   "metadata": {},
   "outputs": [
    {
     "name": "stdout",
     "output_type": "stream",
     "text": [
      "Accuracy :  0.7597402597402597\n",
      "specificity1 :  0.84\n",
      "Sensitivity :  0.6111111111111112\n",
      "MCC :  0.4621550622759656\n",
      "AUC :  0.7255555555555555\n",
      "              precision    recall  f1-score   support\n",
      "\n",
      "           0       0.80      0.84      0.82       100\n",
      "           1       0.67      0.61      0.64        54\n",
      "\n",
      "    accuracy                           0.76       154\n",
      "   macro avg       0.74      0.73      0.73       154\n",
      "weighted avg       0.76      0.76      0.76       154\n",
      "\n",
      "Confusion Matrix : \n",
      "\n"
     ]
    },
    {
     "data": {
      "text/plain": [
       "<sklearn.metrics._plot.confusion_matrix.ConfusionMatrixDisplay at 0x28b724e1ca0>"
      ]
     },
     "execution_count": 30,
     "metadata": {},
     "output_type": "execute_result"
    },
    {
     "data": {
      "image/png": "[encoded data removed]",
      "text/plain": [
       "<Figure size 640x480 with 2 Axes>"
      ]
     },
     "metadata": {},
     "output_type": "display_data"
    }
   ],
   "source": [
    "pred_dtc = dtc.predict(xtest)\n",
    "\n",
    "from sklearn.metrics import confusion_matrix\n",
    "\n",
    "cm1 = confusion_matrix(ytest,pred_dtc)\n",
    "\n",
    "\n",
    "total1=sum(sum(cm1))\n",
    "\n",
    "accuracy1=(cm1[0,0]+cm1[1,1])/total1\n",
    "print ('Accuracy : ', accuracy1)\n",
    "\n",
    "specificity1 = cm1[0,0]/(cm1[0,0]+cm1[0,1])\n",
    "print('specificity1 : ', specificity1)\n",
    "\n",
    "sensitivity1 = cm1[1,1]/(cm1[1,0]+cm1[1,1])\n",
    "print('Sensitivity : ', sensitivity1)\n",
    "\n",
    "from sklearn.metrics import matthews_corrcoef\n",
    "\n",
    "print(\"MCC : \",matthews_corrcoef(ytest,pred_dtc))\n",
    "\n",
    "from sklearn.metrics import roc_auc_score\n",
    "\n",
    "print(\"AUC : \",roc_auc_score(ytest,pred_dtc))\n",
    "\n",
    "from sklearn.metrics import classification_report\n",
    "\n",
    "print(classification_report(ytest, pred_dtc))\n",
    "\n",
    "\n",
    "print('Confusion Matrix : \\n')\n",
    "conf_matrix1 = ConfusionMatrixDisplay(confusion_matrix=cm1)\n",
    "conf_matrix1.plot()"
   ]
  },
  {
   "cell_type": "markdown",
   "id": "4a51123c",
   "metadata": {},
   "source": [
    "### K-Nearest Neighbors"
   ]
  },
  {
   "cell_type": "code",
   "execution_count": 100,
   "id": "5db137a3",
   "metadata": {},
   "outputs": [
    {
     "data": {
      "text/plain": [
       "0.6818181818181818"
      ]
     },
     "execution_count": 100,
     "metadata": {},
     "output_type": "execute_result"
    }
   ],
   "source": [
    "from sklearn.neighbors import KNeighborsClassifier\n",
    "\n",
    "knn = KNeighborsClassifier(n_neighbors = 16)\n",
    "\n",
    "knn.fit(xtrain,ytrain)\n",
    "\n",
    "knn.score(xtest,ytest)"
   ]
  },
  {
   "cell_type": "code",
   "execution_count": null,
   "id": "1273cd5a",
   "metadata": {},
   "outputs": [],
   "source": [
    "# Scopre of hyper parameter tuning"
   ]
  },
  {
   "cell_type": "code",
   "execution_count": 105,
   "id": "38ef1311",
   "metadata": {},
   "outputs": [
    {
     "data": {
      "text/html": [
       "<div>\n",
       "<style scoped>\n",
       "    .dataframe tbody tr th:only-of-type {\n",
       "        vertical-align: middle;\n",
       "    }\n",
       "\n",
       "    .dataframe tbody tr th {\n",
       "        vertical-align: top;\n",
       "    }\n",
       "\n",
       "    .dataframe thead th {\n",
       "        text-align: right;\n",
       "    }\n",
       "</style>\n",
       "<table border=\"1\" class=\"dataframe\">\n",
       "  <thead>\n",
       "    <tr style=\"text-align: right;\">\n",
       "      <th></th>\n",
       "      <th>Pregnancies</th>\n",
       "      <th>Glucose</th>\n",
       "      <th>BloodPressure</th>\n",
       "      <th>SkinThickness</th>\n",
       "      <th>Insulin</th>\n",
       "      <th>BMI</th>\n",
       "      <th>DiabetesPedigreeFunction</th>\n",
       "      <th>Age</th>\n",
       "    </tr>\n",
       "  </thead>\n",
       "  <tbody>\n",
       "    <tr>\n",
       "      <th>0</th>\n",
       "      <td>6</td>\n",
       "      <td>148</td>\n",
       "      <td>72</td>\n",
       "      <td>35</td>\n",
       "      <td>0</td>\n",
       "      <td>33.6</td>\n",
       "      <td>0.627</td>\n",
       "      <td>50</td>\n",
       "    </tr>\n",
       "  </tbody>\n",
       "</table>\n",
       "</div>"
      ],
      "text/plain": [
       "   Pregnancies  Glucose  BloodPressure  SkinThickness  Insulin   BMI  \\\n",
       "0            6      148             72             35        0  33.6   \n",
       "\n",
       "   DiabetesPedigreeFunction  Age  \n",
       "0                     0.627   50  "
      ]
     },
     "execution_count": 105,
     "metadata": {},
     "output_type": "execute_result"
    }
   ],
   "source": [
    "x.head(1) #, y[0]"
   ]
  },
  {
   "cell_type": "code",
   "execution_count": 110,
   "id": "65855ff2",
   "metadata": {},
   "outputs": [
    {
     "data": {
      "text/plain": [
       "array([0], dtype=int64)"
      ]
     },
     "execution_count": 110,
     "metadata": {},
     "output_type": "execute_result"
    }
   ],
   "source": [
    "Pregnancies = 5\n",
    "Glucose = 87\n",
    "Age = 60\n",
    "BloodPressure = 80\n",
    "BMI = 12.173913043478262\n",
    "SkinThickness = 35\n",
    "DiabetesPedigreeFunction = 0.627\n",
    "knn.predict([[Pregnancies,Glucose,BloodPressure,SkinThickness,0,BMI,DiabetesPedigreeFunction,60]])"
   ]
  },
  {
   "cell_type": "code",
   "execution_count": 106,
   "id": "b249d001",
   "metadata": {},
   "outputs": [
    {
     "data": {
      "text/plain": [
       "12.173913043478262"
      ]
     },
     "execution_count": 106,
     "metadata": {},
     "output_type": "execute_result"
    }
   ],
   "source": [
    "56/(4.6)"
   ]
  },
  {
   "cell_type": "code",
   "execution_count": 11,
   "id": "0bcd84de",
   "metadata": {},
   "outputs": [
    {
     "name": "stdout",
     "output_type": "stream",
     "text": [
      "Confusion Matrix : \n",
      " [[81 15]\n",
      " [34 24]]\n",
      "Accuracy :  0.6818181818181818\n",
      "specificity1 :  0.84375\n",
      "Sensitivity :  0.41379310344827586\n",
      "MCC :  0.2869579851645234\n",
      "AUC :  0.6287715517241379\n",
      "              precision    recall  f1-score   support\n",
      "\n",
      "           0       0.70      0.84      0.77        96\n",
      "           1       0.62      0.41      0.49        58\n",
      "\n",
      "    accuracy                           0.68       154\n",
      "   macro avg       0.66      0.63      0.63       154\n",
      "weighted avg       0.67      0.68      0.66       154\n",
      "\n"
     ]
    }
   ],
   "source": [
    "pred_knn = knn.predict(xtest)\n",
    "\n",
    "from sklearn.metrics import confusion_matrix\n",
    "\n",
    "cm1 = confusion_matrix(ytest,pred_knn)\n",
    "print('Confusion Matrix : \\n', cm1)\n",
    "\n",
    "total1=sum(sum(cm1))\n",
    "\n",
    "accuracy1=(cm1[0,0]+cm1[1,1])/total1\n",
    "print ('Accuracy : ', accuracy1)\n",
    "\n",
    "specificity1 = cm1[0,0]/(cm1[0,0]+cm1[0,1])\n",
    "print('specificity1 : ', specificity1)\n",
    "\n",
    "sensitivity1 = cm1[1,1]/(cm1[1,0]+cm1[1,1])\n",
    "print('Sensitivity : ', sensitivity1)\n",
    "\n",
    "from sklearn.metrics import matthews_corrcoef\n",
    "\n",
    "print(\"MCC : \",matthews_corrcoef(ytest,pred_knn))\n",
    "\n",
    "from sklearn.metrics import roc_auc_score\n",
    "\n",
    "print(\"AUC : \",roc_auc_score(ytest,pred_knn))\n",
    "\n",
    "from sklearn.metrics import classification_report\n",
    "\n",
    "print(classification_report(ytest, pred_knn))"
   ]
  },
  {
   "cell_type": "markdown",
   "id": "2df41bcb",
   "metadata": {},
   "source": [
    "### Random Forest"
   ]
  },
  {
   "cell_type": "code",
   "execution_count": 56,
   "id": "78ea7ee1",
   "metadata": {},
   "outputs": [
    {
     "data": {
      "text/plain": [
       "0.7272727272727273"
      ]
     },
     "execution_count": 56,
     "metadata": {},
     "output_type": "execute_result"
    }
   ],
   "source": [
    "from sklearn.ensemble import RandomForestClassifier\n",
    "\n",
    "rfc = RandomForestClassifier()\n",
    "\n",
    "rfc.fit(xtrain,ytrain)\n",
    "\n",
    "rfc.score(xtest,ytest)"
   ]
  },
  {
   "cell_type": "markdown",
   "id": "6ae27d41",
   "metadata": {},
   "source": [
    "#### Scope of hyper parameter tuning  and corss validations"
   ]
  },
  {
   "cell_type": "code",
   "execution_count": null,
   "id": "08170532",
   "metadata": {},
   "outputs": [],
   "source": []
  },
  {
   "cell_type": "code",
   "execution_count": null,
   "id": "f0cb0621",
   "metadata": {},
   "outputs": [],
   "source": []
  },
  {
   "cell_type": "code",
   "execution_count": 12,
   "id": "dae2f7d8",
   "metadata": {},
   "outputs": [
    {
     "name": "stdout",
     "output_type": "stream",
     "text": [
      "Confusion Matrix : \n",
      " [[95 22]\n",
      " [11 26]]\n",
      "Accuracy :  0.7857142857142857\n",
      "specificity1 :  0.811965811965812\n",
      "Sensitivity :  0.7027027027027027\n",
      "MCC :  0.47473127343114396\n",
      "AUC :  0.7573342573342574\n",
      "              precision    recall  f1-score   support\n",
      "\n",
      "           0       0.90      0.81      0.85       117\n",
      "           1       0.54      0.70      0.61        37\n",
      "\n",
      "    accuracy                           0.79       154\n",
      "   macro avg       0.72      0.76      0.73       154\n",
      "weighted avg       0.81      0.79      0.79       154\n",
      "\n"
     ]
    }
   ],
   "source": [
    "pred_rfc = rfc.predict(xtest)\n",
    "\n",
    "from sklearn.metrics import confusion_matrix\n",
    "\n",
    "cm1 = confusion_matrix(ytest,pred_rfc)\n",
    "print('Confusion Matrix : \\n', cm1)\n",
    "\n",
    "total1=sum(sum(cm1))\n",
    "\n",
    "accuracy1=(cm1[0,0]+cm1[1,1])/total1\n",
    "print ('Accuracy : ', accuracy1)\n",
    "\n",
    "specificity1 = cm1[0,0]/(cm1[0,0]+cm1[0,1])\n",
    "print('specificity1 : ', specificity1)\n",
    "\n",
    "sensitivity1 = cm1[1,1]/(cm1[1,0]+cm1[1,1])\n",
    "print('Sensitivity : ', sensitivity1)\n",
    "\n",
    "from sklearn.metrics import matthews_corrcoef\n",
    "\n",
    "print(\"MCC : \",matthews_corrcoef(ytest,pred_rfc))\n",
    "\n",
    "from sklearn.metrics import roc_auc_score\n",
    "\n",
    "print(\"AUC : \",roc_auc_score(ytest,pred_rfc))\n",
    "\n",
    "from sklearn.metrics import classification_report\n",
    "\n",
    "print(classification_report(ytest, pred_rfc))"
   ]
  },
  {
   "cell_type": "markdown",
   "id": "82f3cccb",
   "metadata": {},
   "source": [
    "### Logistic Regression"
   ]
  },
  {
   "cell_type": "code",
   "execution_count": 57,
   "id": "6203bb09",
   "metadata": {},
   "outputs": [
    {
     "name": "stderr",
     "output_type": "stream",
     "text": [
      "C:\\Users\\panka\\anaconda33\\envs\\cv\\lib\\site-packages\\sklearn\\linear_model\\_logistic.py:458: ConvergenceWarning: lbfgs failed to converge (status=1):\n",
      "STOP: TOTAL NO. of ITERATIONS REACHED LIMIT.\n",
      "\n",
      "Increase the number of iterations (max_iter) or scale the data as shown in:\n",
      "    https://scikit-learn.org/stable/modules/preprocessing.html\n",
      "Please also refer to the documentation for alternative solver options:\n",
      "    https://scikit-learn.org/stable/modules/linear_model.html#logistic-regression\n",
      "  n_iter_i = _check_optimize_result(\n"
     ]
    },
    {
     "data": {
      "text/plain": [
       "0.7467532467532467"
      ]
     },
     "execution_count": 57,
     "metadata": {},
     "output_type": "execute_result"
    }
   ],
   "source": [
    "from sklearn.linear_model import LogisticRegression\n",
    "\n",
    "logReg = LogisticRegression()\n",
    "\n",
    "logReg.fit(xtrain,ytrain)\n",
    "\n",
    "logReg.score(xtest,ytest)"
   ]
  },
  {
   "cell_type": "markdown",
   "id": "7430d94e",
   "metadata": {},
   "source": [
    "#### scope of  hyper parameter tuning and cross validations"
   ]
  },
  {
   "cell_type": "code",
   "execution_count": null,
   "id": "8fa38fe9",
   "metadata": {},
   "outputs": [],
   "source": []
  },
  {
   "cell_type": "code",
   "execution_count": 14,
   "id": "41af36c4",
   "metadata": {},
   "outputs": [
    {
     "name": "stdout",
     "output_type": "stream",
     "text": [
      "Confusion Matrix : \n",
      " [[96 21]\n",
      " [13 24]]\n",
      "Accuracy :  0.7792207792207793\n",
      "specificity1 :  0.8205128205128205\n",
      "Sensitivity :  0.6486486486486487\n",
      "MCC :  0.4407543676618945\n",
      "AUC :  0.7345807345807346\n",
      "              precision    recall  f1-score   support\n",
      "\n",
      "           0       0.88      0.82      0.85       117\n",
      "           1       0.53      0.65      0.59        37\n",
      "\n",
      "    accuracy                           0.78       154\n",
      "   macro avg       0.71      0.73      0.72       154\n",
      "weighted avg       0.80      0.78      0.79       154\n",
      "\n"
     ]
    }
   ],
   "source": [
    "pred_logReg = logReg.predict(xtest)\n",
    "\n",
    "from sklearn.metrics import confusion_matrix\n",
    "\n",
    "cm1 = confusion_matrix(ytest,pred_logReg)\n",
    "print('Confusion Matrix : \\n', cm1)\n",
    "\n",
    "total1=sum(sum(cm1))\n",
    "\n",
    "accuracy1=(cm1[0,0]+cm1[1,1])/total1\n",
    "print ('Accuracy : ', accuracy1)\n",
    "\n",
    "specificity1 = cm1[0,0]/(cm1[0,0]+cm1[0,1])\n",
    "print('specificity1 : ', specificity1)\n",
    "\n",
    "sensitivity1 = cm1[1,1]/(cm1[1,0]+cm1[1,1])\n",
    "print('Sensitivity : ', sensitivity1)\n",
    "\n",
    "from sklearn.metrics import matthews_corrcoef\n",
    "\n",
    "print(\"MCC : \",matthews_corrcoef(ytest,pred_logReg))\n",
    "\n",
    "from sklearn.metrics import roc_auc_score\n",
    "\n",
    "print(\"AUC : \",roc_auc_score(ytest,pred_logReg))\n",
    "\n",
    "from sklearn.metrics import classification_report\n",
    "\n",
    "print(classification_report(ytest, pred_logReg))"
   ]
  },
  {
   "cell_type": "markdown",
   "id": "40d874da",
   "metadata": {},
   "source": [
    "### Support Vector Machine|Linear"
   ]
  },
  {
   "cell_type": "code",
   "execution_count": 15,
   "id": "ada5dcaa",
   "metadata": {},
   "outputs": [
    {
     "data": {
      "text/plain": [
       "0.7987012987012987"
      ]
     },
     "execution_count": 15,
     "metadata": {},
     "output_type": "execute_result"
    }
   ],
   "source": [
    "from sklearn.svm import SVC\n",
    "\n",
    "svml = SVC(kernel = 'linear')\n",
    "\n",
    "svml.fit(xtrain,ytrain)\n",
    "\n",
    "svml.score(xtest,ytest)"
   ]
  },
  {
   "cell_type": "markdown",
   "id": "ab529790",
   "metadata": {},
   "source": [
    "#### scope of  hyper parameter tuning and cross validations"
   ]
  },
  {
   "cell_type": "code",
   "execution_count": null,
   "id": "1871b1c2",
   "metadata": {},
   "outputs": [],
   "source": []
  },
  {
   "cell_type": "code",
   "execution_count": 16,
   "id": "ae7a71ae",
   "metadata": {},
   "outputs": [
    {
     "name": "stdout",
     "output_type": "stream",
     "text": [
      "Confusion Matrix : \n",
      " [[97 20]\n",
      " [11 26]]\n",
      "Accuracy :  0.7987012987012987\n",
      "specificity1 :  0.8290598290598291\n",
      "Sensitivity :  0.7027027027027027\n",
      "MCC :  0.4963873813774586\n",
      "AUC :  0.7658812658812658\n",
      "              precision    recall  f1-score   support\n",
      "\n",
      "           0       0.90      0.83      0.86       117\n",
      "           1       0.57      0.70      0.63        37\n",
      "\n",
      "    accuracy                           0.80       154\n",
      "   macro avg       0.73      0.77      0.74       154\n",
      "weighted avg       0.82      0.80      0.81       154\n",
      "\n"
     ]
    }
   ],
   "source": [
    "pred_svml = svml.predict(xtest)\n",
    "\n",
    "from sklearn.metrics import confusion_matrix\n",
    "\n",
    "cm1 = confusion_matrix(ytest,pred_svml)\n",
    "print('Confusion Matrix : \\n', cm1)\n",
    "\n",
    "total1=sum(sum(cm1))\n",
    "\n",
    "accuracy1=(cm1[0,0]+cm1[1,1])/total1\n",
    "print ('Accuracy : ', accuracy1)\n",
    "\n",
    "specificity1 = cm1[0,0]/(cm1[0,0]+cm1[0,1])\n",
    "print('specificity1 : ', specificity1)\n",
    "\n",
    "sensitivity1 = cm1[1,1]/(cm1[1,0]+cm1[1,1])\n",
    "print('Sensitivity : ', sensitivity1)\n",
    "\n",
    "from sklearn.metrics import matthews_corrcoef\n",
    "\n",
    "print(\"MCC : \",matthews_corrcoef(ytest,pred_svml))\n",
    "\n",
    "from sklearn.metrics import roc_auc_score\n",
    "\n",
    "print(\"AUC : \",roc_auc_score(ytest,pred_svml))\n",
    "\n",
    "from sklearn.metrics import classification_report\n",
    "\n",
    "print(classification_report(ytest, pred_svml))"
   ]
  },
  {
   "cell_type": "markdown",
   "id": "896a3c39",
   "metadata": {},
   "source": [
    "### Support Vector Machine|RBF"
   ]
  },
  {
   "cell_type": "code",
   "execution_count": 58,
   "id": "8ebfa16b",
   "metadata": {},
   "outputs": [
    {
     "data": {
      "text/plain": [
       "0.7467532467532467"
      ]
     },
     "execution_count": 58,
     "metadata": {},
     "output_type": "execute_result"
    }
   ],
   "source": [
    "from sklearn.svm import SVC\n",
    "\n",
    "svmr = SVC(kernel = 'rbf')\n",
    "\n",
    "svmr.fit(xtrain,ytrain)\n",
    "\n",
    "svmr.score(xtest,ytest)"
   ]
  },
  {
   "cell_type": "markdown",
   "id": "7eb9f7b8",
   "metadata": {},
   "source": [
    "### scope of  hyper parameter tuning and cross validations"
   ]
  },
  {
   "cell_type": "code",
   "execution_count": null,
   "id": "1c124412",
   "metadata": {},
   "outputs": [],
   "source": []
  },
  {
   "cell_type": "code",
   "execution_count": null,
   "id": "ddf36251",
   "metadata": {},
   "outputs": [],
   "source": []
  },
  {
   "cell_type": "code",
   "execution_count": 18,
   "id": "dafb4cfe",
   "metadata": {},
   "outputs": [
    {
     "name": "stdout",
     "output_type": "stream",
     "text": [
      "Confusion Matrix : \n",
      " [[106  11]\n",
      " [ 15  22]]\n",
      "Accuracy :  0.8311688311688312\n",
      "specificity1 :  0.905982905982906\n",
      "Sensitivity :  0.5945945945945946\n",
      "MCC :  0.5212132688864239\n",
      "AUC :  0.7502887502887504\n",
      "              precision    recall  f1-score   support\n",
      "\n",
      "           0       0.88      0.91      0.89       117\n",
      "           1       0.67      0.59      0.63        37\n",
      "\n",
      "    accuracy                           0.83       154\n",
      "   macro avg       0.77      0.75      0.76       154\n",
      "weighted avg       0.83      0.83      0.83       154\n",
      "\n"
     ]
    }
   ],
   "source": [
    "pred_svmr = svmr.predict(xtest)\n",
    "\n",
    "from sklearn.metrics import confusion_matrix\n",
    "\n",
    "cm1 = confusion_matrix(ytest,pred_svmr)\n",
    "print('Confusion Matrix : \\n', cm1)\n",
    "\n",
    "total1=sum(sum(cm1))\n",
    "\n",
    "accuracy1=(cm1[0,0]+cm1[1,1])/total1\n",
    "print ('Accuracy : ', accuracy1)\n",
    "\n",
    "specificity1 = cm1[0,0]/(cm1[0,0]+cm1[0,1])\n",
    "print('specificity1 : ', specificity1)\n",
    "\n",
    "sensitivity1 = cm1[1,1]/(cm1[1,0]+cm1[1,1])\n",
    "print('Sensitivity : ', sensitivity1)\n",
    "\n",
    "from sklearn.metrics import matthews_corrcoef\n",
    "\n",
    "print(\"MCC : \",matthews_corrcoef(ytest,pred_svmr))\n",
    "\n",
    "from sklearn.metrics import roc_auc_score\n",
    "\n",
    "print(\"AUC : \",roc_auc_score(ytest,pred_svmr))\n",
    "\n",
    "from sklearn.metrics import classification_report\n",
    "\n",
    "print(classification_report(ytest, pred_svmr))"
   ]
  },
  {
   "cell_type": "markdown",
   "id": "bed54354",
   "metadata": {},
   "source": [
    "# Hyper Parameter tuning "
   ]
  },
  {
   "cell_type": "code",
   "execution_count": 59,
   "id": "167bdcd2",
   "metadata": {},
   "outputs": [],
   "source": [
    "import numpy as np\n",
    "import pandas as pd\n",
    "import matplotlib.pyplot as plt\n",
    "%matplotlib inline\n",
    "import seaborn as sns\n",
    "from scipy import stats\n",
    "#from sklearn.cross_validation import KFold, cross_val_score, train_test_split\n",
    "\n",
    "from sklearn.model_selection import train_test_split\n",
    "from sklearn.preprocessing import normalize \n",
    "from sklearn.linear_model import LogisticRegression\n",
    "from sklearn.tree import DecisionTreeClassifier\n",
    "from sklearn.neighbors import KNeighborsClassifier\n",
    "from sklearn.discriminant_analysis import LinearDiscriminantAnalysis\n",
    "from sklearn.naive_bayes import GaussianNB, MultinomialNB\n",
    "from sklearn.svm import SVC\n",
    "from sklearn.ensemble import RandomForestClassifier\n",
    "\n",
    "from sklearn.metrics import accuracy_score, classification_report, confusion_matrix\n",
    "from sklearn.metrics import mean_squared_error as mse\n",
    "from sklearn.feature_selection import RFECV\n",
    "from sklearn.decomposition import PCA\n",
    "from sklearn.cluster import KMeans\n",
    "from sklearn.ensemble import BaggingClassifier\n",
    "from sklearn.ensemble import AdaBoostClassifier\n",
    "from sklearn.ensemble import GradientBoostingClassifier\n",
    "from sklearn.ensemble import ExtraTreesClassifier\n",
    "from sklearn.preprocessing import Normalizer\n",
    "from sklearn.pipeline import Pipeline\n",
    "from sklearn.pipeline import FeatureUnion\n",
    "from sklearn.feature_selection import SelectKBest\n",
    "from sklearn import datasets\n",
    "from sklearn.model_selection import cross_validate\n",
    "from sklearn.model_selection import GridSearchCV\n",
    "import warnings\n",
    "warnings.filterwarnings(\"ignore\")"
   ]
  },
  {
   "cell_type": "code",
   "execution_count": 13,
   "id": "7c9fc2aa",
   "metadata": {},
   "outputs": [],
   "source": [
    "# Define parameters for optimization using dictionaries {parameter name: parameter list}\n",
    "\n",
    "# SVM_params = {'C':[0.001, 0.1, 10, 100], 'kernel':['rbf' ,'linear', 'poly', 'sigmoid']}\n",
    "LR_params = {'C':[0.001, 0.1, 1, 10, 100]}\n",
    "LDA_params = {'n_components':[None, 1,2,3], 'solver':['svd'], 'shrinkage':[None]}\n",
    "KNN_params = {'n_neighbors':[1,5,10,9,20, 50], 'p':[2], 'metric':['minkowski']}\n",
    "RF_params = {'n_estimators':[10,50,100]}\n",
    "DTC_params = {'criterion':['entropy', 'gini'], 'max_depth':[10, 50, 100]}"
   ]
  },
  {
   "cell_type": "code",
   "execution_count": 50,
   "id": "b2b5493d",
   "metadata": {},
   "outputs": [],
   "source": [
    "# Append list of models with parameter dictionaries\n",
    "\n",
    "models_opt = []\n",
    "\n",
    "models_opt.append(('LR', LogisticRegression(), LR_params))\n",
    "models_opt.append(('LDA', LinearDiscriminantAnalysis(), LDA_params))\n",
    "models_opt.append(('KNN', KNeighborsClassifier(),KNN_params))\n",
    "models_opt.append(('DTC', DecisionTreeClassifier(), DTC_params))\n",
    "models_opt.append(('RFC', RandomForestClassifier(), RF_params))\n",
    "# models_opt.append(('SVM', SVC(), SVM_params))"
   ]
  },
  {
   "cell_type": "code",
   "execution_count": 51,
   "id": "28ea994d",
   "metadata": {},
   "outputs": [
    {
     "data": {
      "text/plain": [
       "[('LR', LogisticRegression(), {'C': [0.001, 0.1, 1, 10, 100]}),\n",
       " ('LDA',\n",
       "  LinearDiscriminantAnalysis(),\n",
       "  {'n_components': [None, 1, 2, 3], 'solver': ['svd'], 'shrinkage': [None]}),\n",
       " ('KNN',\n",
       "  KNeighborsClassifier(),\n",
       "  {'n_neighbors': [1, 5, 10, 9, 20, 50], 'p': [2], 'metric': ['minkowski']}),\n",
       " ('DTC',\n",
       "  DecisionTreeClassifier(),\n",
       "  {'criterion': ['entropy', 'gini'], 'max_depth': [10, 50, 100]}),\n",
       " ('RFC', RandomForestClassifier(), {'n_estimators': [10, 50, 100]})]"
      ]
     },
     "execution_count": 51,
     "metadata": {},
     "output_type": "execute_result"
    }
   ],
   "source": [
    "models_opt"
   ]
  },
  {
   "cell_type": "code",
   "execution_count": 14,
   "id": "791bf870",
   "metadata": {},
   "outputs": [],
   "source": [
    "from sklearn.model_selection import LeaveOneOut\n",
    "from sklearn.model_selection import KFold\n",
    "from sklearn.model_selection import cross_val_score\n",
    "from sklearn.model_selection import GridSearchCV\n",
    "#from sklearn.cross_validation.KFold(n=4, n_folds=2, shuffle=False,random_state=None)\n",
    "from sklearn.model_selection import StratifiedKFold\n",
    "skfold=StratifiedKFold(n_splits=5)"
   ]
  },
  {
   "cell_type": "code",
   "execution_count": 32,
   "id": "ab42571f",
   "metadata": {},
   "outputs": [
    {
     "name": "stdout",
     "output_type": "stream",
     "text": [
      "Time consumed in working:  0.06753969192504883\n"
     ]
    }
   ],
   "source": [
    "import time\n",
    "start = time.time()\n",
    "from sklearn.model_selection import train_test_split\n",
    "X_train, X_test, Y_train, Y_test = train_test_split(x, y, test_size = 0.25 , random_state = 0)\n",
    "end = time.time()\n",
    "print(\"Time consumed in working: \",end - start)"
   ]
  },
  {
   "cell_type": "code",
   "execution_count": 67,
   "id": "25133578",
   "metadata": {},
   "outputs": [],
   "source": [
    "results = []\n",
    "names = []\n",
    "\n",
    "\n",
    "def estimator_function(parameter_dictionary, scoring = 'accuracy'):\n",
    "    \n",
    "    \n",
    "    for name, model, params in models_opt:\n",
    "    \n",
    "        #kfold = KFold(len(X_train), n_folds=5, random_state=2, shuffle=True)\n",
    "        skfold=StratifiedKFold(n_splits=5)\n",
    "        leave_validation=LeaveOneOut()\n",
    "\n",
    "        model_grid = GridSearchCV(model, params)\n",
    "\n",
    "        cv_results = cross_val_score(model_grid, X_train, Y_train, cv =leave_validation, scoring=scoring)\n",
    "\n",
    "        results.append(cv_results)\n",
    "\n",
    "        names.append(name)\n",
    "\n",
    "        msg = \"Cross Validation Accuracy %s: Accarcy: %f SD: %f\" % (name, cv_results.mean(), cv_results.std())\n",
    "\n",
    "        print(msg)"
   ]
  },
  {
   "cell_type": "code",
   "execution_count": 68,
   "id": "9770225f",
   "metadata": {},
   "outputs": [
    {
     "name": "stdout",
     "output_type": "stream",
     "text": [
      "Cross Validation Accuracy LR: Accarcy: 0.751736 SD: 0.432006\n",
      "Cross Validation Accuracy LDA: Accarcy: 0.750000 SD: 0.433013\n",
      "Cross Validation Accuracy KNN: Accarcy: 0.701389 SD: 0.457649\n",
      "Cross Validation Accuracy DTC: Accarcy: 0.647569 SD: 0.477727\n",
      "Cross Validation Accuracy RFC: Accarcy: 0.744792 SD: 0.435978\n"
     ]
    }
   ],
   "source": [
    "estimator_function(models_opt, scoring = 'accuracy')"
   ]
  },
  {
   "cell_type": "code",
   "execution_count": null,
   "id": "69cb70bb",
   "metadata": {},
   "outputs": [],
   "source": [
    "# leave_validation=LeaveOneOut()  \n",
    "Cross Validation Accuracy LR: Accarcy: 0.751736 SD: 0.432006\n",
    "Cross Validation Accuracy LDA: Accarcy: 0.750000 SD: 0.433013\n",
    "Cross Validation Accuracy KNN: Accarcy: 0.701389 SD: 0.457649\n",
    "Cross Validation Accuracy DTC: Accarcy: 0.637153 SD: 0.480821\n",
    "Cross Validation Accuracy RFC: Accarcy: 0.736111 SD: 0.440740"
   ]
  },
  {
   "cell_type": "code",
   "execution_count": null,
   "id": "e42804e5",
   "metadata": {},
   "outputs": [],
   "source": []
  },
  {
   "cell_type": "code",
   "execution_count": null,
   "id": "e9985c98",
   "metadata": {},
   "outputs": [],
   "source": []
  },
  {
   "cell_type": "code",
   "execution_count": 62,
   "id": "d2da69a4",
   "metadata": {},
   "outputs": [],
   "source": [
    "import time\n",
    "from contextlib import contextmanager\n",
    "@contextmanager\n",
    "def timer():\n",
    "    \"\"\"Helper for measuring runtime\"\"\"\n",
    "\n",
    "    time0 =  time.perf_counter()\n",
    "    \n",
    "    yield\n",
    "    print('[elapsed time: %.18f s]' % (time.perf_counter() - time0))"
   ]
  },
  {
   "cell_type": "markdown",
   "id": "a94f45ab",
   "metadata": {},
   "source": [
    "## Random Forest After Hyper Parameter Tuning "
   ]
  },
  {
   "cell_type": "code",
   "execution_count": 65,
   "id": "5410b742",
   "metadata": {},
   "outputs": [
    {
     "name": "stdout",
     "output_type": "stream",
     "text": [
      "{'n_estimators': [200, 400, 600, 800, 1000, 1200, 1400, 1600, 1800, 2000], 'max_features': ['auto', 'sqrt', 'log2'], 'max_depth': [10, 120, 230, 340, 450, 560, 670, 780, 890, 1000], 'min_samples_split': [2, 5, 10, 14], 'min_samples_leaf': [1, 2, 4, 6, 8], 'criterion': ['entropy', 'gini']}\n"
     ]
    }
   ],
   "source": [
    "import numpy as np\n",
    "from sklearn.model_selection import RandomizedSearchCV\n",
    "# Number of trees in random forest\n",
    "n_estimators = [int(x) for x in np.linspace(start = 200, stop = 2000, num = 10)]\n",
    "# Number of features to consider at every split\n",
    "max_features = ['auto', 'sqrt','log2']\n",
    "# Maximum number of levels in tree\n",
    "max_depth = [int(x) for x in np.linspace(10, 1000,10)]\n",
    "# Minimum number of samples required to split a node\n",
    "min_samples_split = [2, 5, 10,14]\n",
    "# Minimum number of samples required at each leaf node\n",
    "min_samples_leaf = [1, 2, 4,6,8]\n",
    "# Create the random grid\n",
    "random_grid = {'n_estimators': n_estimators,\n",
    "               'max_features': max_features,\n",
    "               'max_depth': max_depth,\n",
    "               'min_samples_split': min_samples_split,\n",
    "               'min_samples_leaf': min_samples_leaf,\n",
    "              'criterion':['entropy','gini']}\n",
    "print(random_grid)"
   ]
  },
  {
   "cell_type": "code",
   "execution_count": 66,
   "id": "5abeae41",
   "metadata": {},
   "outputs": [
    {
     "name": "stdout",
     "output_type": "stream",
     "text": [
      "Fitting 3 folds for each of 100 candidates, totalling 300 fits\n",
      "[elapsed time: 210.705565000185742974 s]\n"
     ]
    }
   ],
   "source": [
    "with timer() as t:\n",
    "    rf=RandomForestClassifier()\n",
    "    rf_randomcv=RandomizedSearchCV(estimator=rf,param_distributions=random_grid,n_iter=100,cv=3,verbose=2,\n",
    "                               random_state=100,n_jobs=-1)\n",
    "    rf_randomcv.fit(X_train,Y_train)"
   ]
  },
  {
   "cell_type": "code",
   "execution_count": 72,
   "id": "b83a853b",
   "metadata": {},
   "outputs": [],
   "source": [
    "# rf=RandomForestClassifier()\n",
    "# rf_randomcv=RandomizedSearchCV(estimator=rf,param_distributions=random_grid,n_iter=100,cv=3,verbose=2,\n",
    "#                                random_state=100,n_jobs=-1)\n",
    "# ### fit the randomized model\n",
    "# rf_randomcv.fit(X_train,Y_train)"
   ]
  },
  {
   "cell_type": "code",
   "execution_count": 67,
   "id": "c3f51eec",
   "metadata": {},
   "outputs": [
    {
     "data": {
      "text/plain": [
       "{'n_estimators': 1400,\n",
       " 'min_samples_split': 5,\n",
       " 'min_samples_leaf': 6,\n",
       " 'max_features': 'sqrt',\n",
       " 'max_depth': 120,\n",
       " 'criterion': 'gini'}"
      ]
     },
     "execution_count": 67,
     "metadata": {},
     "output_type": "execute_result"
    }
   ],
   "source": [
    "rf_randomcv.best_params_"
   ]
  },
  {
   "cell_type": "code",
   "execution_count": 68,
   "id": "00db4188",
   "metadata": {},
   "outputs": [],
   "source": [
    "best_random_grid=rf_randomcv.best_estimator_"
   ]
  },
  {
   "cell_type": "code",
   "execution_count": 69,
   "id": "cfa7e4d1",
   "metadata": {},
   "outputs": [
    {
     "name": "stdout",
     "output_type": "stream",
     "text": [
      "[[119  11]\n",
      " [ 30  32]]\n",
      "Training Accuracy Score 0.8802083333333334\n",
      "Testing Accuracy Score 0.7864583333333334\n",
      "Classification report:               precision    recall  f1-score   support\n",
      "\n",
      "           0       0.80      0.92      0.85       130\n",
      "           1       0.74      0.52      0.61        62\n",
      "\n",
      "    accuracy                           0.79       192\n",
      "   macro avg       0.77      0.72      0.73       192\n",
      "weighted avg       0.78      0.79      0.77       192\n",
      "\n"
     ]
    }
   ],
   "source": [
    "from sklearn.metrics import accuracy_score\n",
    "y_predRM=best_random_grid.predict(X_test)\n",
    "print(confusion_matrix(Y_test,y_predRM))\n",
    "print(\"Training Accuracy Score {}\".format(best_random_grid.score(X_train,Y_train)))\n",
    "print(\"Testing Accuracy Score {}\".format(accuracy_score(Y_test,y_predRM)))\n",
    "print(\"Classification report: {}\".format(classification_report(Y_test,y_predRM)))"
   ]
  },
  {
   "cell_type": "code",
   "execution_count": 70,
   "id": "ccceb4ba",
   "metadata": {},
   "outputs": [
    {
     "name": "stdout",
     "output_type": "stream",
     "text": [
      "Confusion Matrix : \n",
      " [[119  11]\n",
      " [ 30  32]]\n",
      "Accuracy :  0.7864583333333334\n",
      "specificity1 :  0.9153846153846154\n",
      "Sensitivity :  0.5161290322580645\n",
      "MCC :  0.48398811243317297\n",
      "AUC :  0.7157568238213399\n",
      "              precision    recall  f1-score   support\n",
      "\n",
      "           0       0.80      0.92      0.85       130\n",
      "           1       0.74      0.52      0.61        62\n",
      "\n",
      "    accuracy                           0.79       192\n",
      "   macro avg       0.77      0.72      0.73       192\n",
      "weighted avg       0.78      0.79      0.77       192\n",
      "\n"
     ]
    }
   ],
   "source": [
    "# Random forest\n",
    "cm1 = confusion_matrix(Y_test,y_predRM)\n",
    "print('Confusion Matrix : \\n', cm1)\n",
    "\n",
    "total1=sum(sum(cm1))\n",
    "\n",
    "accuracy1=(cm1[0,0]+cm1[1,1])/total1\n",
    "print ('Accuracy : ', accuracy1)\n",
    "\n",
    "specificity1 = cm1[0,0]/(cm1[0,0]+cm1[0,1])\n",
    "print('specificity1 : ', specificity1)\n",
    "\n",
    "sensitivity1 = cm1[1,1]/(cm1[1,0]+cm1[1,1])\n",
    "print('Sensitivity : ', sensitivity1)\n",
    "\n",
    "from sklearn.metrics import matthews_corrcoef\n",
    "\n",
    "print(\"MCC : \",matthews_corrcoef(Y_test,y_predRM))\n",
    "\n",
    "from sklearn.metrics import roc_auc_score\n",
    "\n",
    "print(\"AUC : \",roc_auc_score(Y_test,y_predRM))\n",
    "\n",
    "from sklearn.metrics import classification_report\n",
    "\n",
    "print(classification_report(Y_test, y_predRM))"
   ]
  },
  {
   "cell_type": "markdown",
   "id": "78e450a6",
   "metadata": {},
   "source": [
    "# Pickel it"
   ]
  },
  {
   "cell_type": "code",
   "execution_count": 71,
   "id": "4adc18ad",
   "metadata": {},
   "outputs": [],
   "source": [
    "pickle.dump(rf_randomcv, open('../PICKEL/RFmodel.pkl','wb'))"
   ]
  },
  {
   "cell_type": "markdown",
   "id": "6630b378",
   "metadata": {},
   "source": [
    "### De-Pickel it"
   ]
  },
  {
   "cell_type": "code",
   "execution_count": 72,
   "id": "61d05652",
   "metadata": {},
   "outputs": [],
   "source": [
    "# Loading model to compare the results\n",
    "modelRF = pickle.load(open('../PICKEL/RFmodel.pkl','rb'))"
   ]
  },
  {
   "cell_type": "code",
   "execution_count": 78,
   "id": "62d6a90a",
   "metadata": {},
   "outputs": [
    {
     "data": {
      "text/plain": [
       "array([1], dtype=int64)"
      ]
     },
     "execution_count": 78,
     "metadata": {},
     "output_type": "execute_result"
    }
   ],
   "source": [
    "modelRF.predict([[6.000,148.000,72.000,35.000,0.000,33.600,0.627,50.000]])"
   ]
  },
  {
   "cell_type": "code",
   "execution_count": 76,
   "id": "63504cfc",
   "metadata": {},
   "outputs": [
    {
     "data": {
      "text/plain": [
       "Pregnancies                   6.000\n",
       "Glucose                     148.000\n",
       "BloodPressure                72.000\n",
       "SkinThickness                35.000\n",
       "Insulin                       0.000\n",
       "BMI                          33.600\n",
       "DiabetesPedigreeFunction      0.627\n",
       "Age                          50.000\n",
       "Outcome                       1.000\n",
       "Name: 0, dtype: float64"
      ]
     },
     "execution_count": 76,
     "metadata": {},
     "output_type": "execute_result"
    }
   ],
   "source": [
    "df.iloc[0].T"
   ]
  },
  {
   "cell_type": "code",
   "execution_count": 79,
   "id": "1cc6beac",
   "metadata": {},
   "outputs": [
    {
     "name": "stdout",
     "output_type": "stream",
     "text": [
      "<class 'pandas.core.frame.DataFrame'>\n",
      "RangeIndex: 768 entries, 0 to 767\n",
      "Data columns (total 9 columns):\n",
      " #   Column                    Non-Null Count  Dtype  \n",
      "---  ------                    --------------  -----  \n",
      " 0   Pregnancies               768 non-null    int64  \n",
      " 1   Glucose                   768 non-null    int64  \n",
      " 2   BloodPressure             768 non-null    int64  \n",
      " 3   SkinThickness             768 non-null    int64  \n",
      " 4   Insulin                   768 non-null    int64  \n",
      " 5   BMI                       768 non-null    float64\n",
      " 6   DiabetesPedigreeFunction  768 non-null    float64\n",
      " 7   Age                       768 non-null    int64  \n",
      " 8   Outcome                   768 non-null    int64  \n",
      "dtypes: float64(2), int64(7)\n",
      "memory usage: 54.1 KB\n"
     ]
    }
   ],
   "source": [
    "df.info()"
   ]
  },
  {
   "cell_type": "code",
   "execution_count": null,
   "id": "f70ef880",
   "metadata": {},
   "outputs": [],
   "source": [
    "Training Accuracy Score 0.9114583333333334\n",
    "Testing Accuracy Score 0.7760416666666666\n",
    "precision    \n",
    "recall  \n",
    "f1-score"
   ]
  },
  {
   "cell_type": "code",
   "execution_count": 30,
   "id": "a5df18ab",
   "metadata": {},
   "outputs": [
    {
     "data": {
      "text/plain": [
       "75.5"
      ]
     },
     "execution_count": 30,
     "metadata": {},
     "output_type": "execute_result"
    }
   ],
   "source": [
    "(80+71)/2"
   ]
  },
  {
   "cell_type": "markdown",
   "id": "4d7d3492",
   "metadata": {},
   "source": [
    "<img src=\"../images/confusion_Matrix.jpeg\" width=\"70%\">"
   ]
  },
  {
   "cell_type": "code",
   "execution_count": 28,
   "id": "650ad673",
   "metadata": {},
   "outputs": [],
   "source": [
    "# Confusion Matrix : \n",
    "#  [[118  12]\n",
    "#  [ 28  34]]\n",
    "TP = 118\n",
    "FP = 12\n",
    "FN = 28\n",
    "TN = 34"
   ]
  },
  {
   "cell_type": "code",
   "execution_count": 29,
   "id": "746db23b",
   "metadata": {},
   "outputs": [],
   "source": [
    "# Random forest\n",
    "def fun(TP,FN,FP,TN):\n",
    "    print(\"Random Forest on BCWD\")\n",
    "    print(\"TP\",TP)\n",
    "    print(\"FN\",FN)\n",
    "    print(\"FP\",FP)\n",
    "    print(\"TN\", TN)\n",
    "    Accuracy = (TP + TN)/(TP + TN + FP + FN)\n",
    "    print(\"Accuracy : {}\".format(Accuracy))\n",
    "    Precision = TP / (TP + FP)\n",
    "    print(\"Precision : {}\".format(Precision))\n",
    "    Recall = TP / (TP + FN)\n",
    "    print(\"Recall : {} \".format(Recall))\n",
    "    F1_score = 2*(Precision*Recall)/(Precision + Recall)\n",
    "    print(\"F1_score : {}\".format(F1_score))\n",
    "    TPR = TP / (TP + FP)\n",
    "    print(\"TPR : {}\".format(TPR))\n",
    "    FPR = FP / (FP + TN)\n",
    "    print(\"FPR : {}\".format(FPR))"
   ]
  },
  {
   "cell_type": "code",
   "execution_count": 30,
   "id": "85822228",
   "metadata": {},
   "outputs": [
    {
     "name": "stdout",
     "output_type": "stream",
     "text": [
      "Random Forest on BCWD\n",
      "TP 118\n",
      "FN 28\n",
      "FP 12\n",
      "TN 34\n",
      "Accuracy : 0.7916666666666666\n",
      "Precision : 0.9076923076923077\n",
      "Recall : 0.8082191780821918 \n",
      "F1_score : 0.8550724637681159\n",
      "TPR : 0.9076923076923077\n",
      "FPR : 0.2608695652173913\n"
     ]
    }
   ],
   "source": [
    "fun(TP,FN,FP,TN)"
   ]
  },
  {
   "cell_type": "markdown",
   "id": "23cc9992",
   "metadata": {},
   "source": [
    "<img src=\"../images/performances.png\" width=\"100%\">"
   ]
  },
  {
   "cell_type": "markdown",
   "id": "feddabea",
   "metadata": {},
   "source": [
    "# SVM | RBF After Tuning"
   ]
  },
  {
   "cell_type": "code",
   "execution_count": 35,
   "id": "485b1e00",
   "metadata": {},
   "outputs": [],
   "source": [
    "from contextlib import contextmanager\n",
    "@contextmanager\n",
    "def timer():\n",
    "    \"\"\"Helper for measuring runtime\"\"\"\n",
    "\n",
    "    time0 =  time.perf_counter()\n",
    "    \n",
    "    yield\n",
    "    print('[elapsed time: %.18f s]' % (time.perf_counter() - time0))"
   ]
  },
  {
   "cell_type": "code",
   "execution_count": 81,
   "id": "d4d24ae6",
   "metadata": {},
   "outputs": [
    {
     "name": "stdout",
     "output_type": "stream",
     "text": [
      "training score : 0.7586805555555556\n",
      "testing score : 0.7708333333333334\n",
      "              precision    recall  f1-score   support\n",
      "\n",
      "           0       0.78      0.92      0.84       130\n",
      "           1       0.72      0.47      0.57        62\n",
      "\n",
      "    accuracy                           0.77       192\n",
      "   macro avg       0.75      0.69      0.71       192\n",
      "weighted avg       0.76      0.77      0.76       192\n",
      "\n",
      "[[119  11]\n",
      " [ 33  29]]\n",
      "[elapsed time: 3.734715000027790666 s]\n"
     ]
    }
   ],
   "source": [
    "from sklearn.metrics import classification_report # make predictions on validation datasets\n",
    "import time\n",
    "with timer() as t:\n",
    "    SVM = SVC(C=1.0,\n",
    "    kernel='rbf',\n",
    "    degree=6,\n",
    "    gamma='scale',\n",
    "    coef0=0.0,\n",
    "    shrinking=True,\n",
    "    probability=False,\n",
    "    tol=0.001,\n",
    "    cache_size=300,\n",
    "    class_weight=None,\n",
    "    verbose=False,\n",
    "    max_iter=-1,\n",
    "    decision_function_shape='ovr',\n",
    "    break_ties=False,\n",
    "    random_state=None)\n",
    "    \n",
    "    SVM.fit(X_train, Y_train)\n",
    "    y_predSVM_rbf= SVM.predict(X_test)\n",
    "    print((\"training score : {}\").format(SVM.score(X_train, Y_train)))\n",
    "    print((\"testing score : {}\").format(accuracy_score(Y_test, y_predSVM_rbf)))\n",
    "    print(classification_report(Y_test, y_predSVM_rbf))\n",
    "    print(confusion_matrix(Y_test, y_predSVM_rbf))"
   ]
  },
  {
   "cell_type": "code",
   "execution_count": 82,
   "id": "b8e01c11",
   "metadata": {},
   "outputs": [
    {
     "name": "stdout",
     "output_type": "stream",
     "text": [
      "Confusion Matrix : \n",
      " [[119  11]\n",
      " [ 33  29]]\n",
      "Accuracy :  0.7708333333333334\n",
      "specificity1 :  0.9153846153846154\n",
      "Sensitivity :  0.46774193548387094\n",
      "MCC :  0.44112125173309585\n",
      "AUC :  0.6915632754342431\n",
      "              precision    recall  f1-score   support\n",
      "\n",
      "           0       0.78      0.92      0.84       130\n",
      "           1       0.72      0.47      0.57        62\n",
      "\n",
      "    accuracy                           0.77       192\n",
      "   macro avg       0.75      0.69      0.71       192\n",
      "weighted avg       0.76      0.77      0.76       192\n",
      "\n"
     ]
    }
   ],
   "source": [
    "# SVM with RBF\n",
    "cm1 = confusion_matrix(Y_test,y_predSVM_rbf)\n",
    "print('Confusion Matrix : \\n', cm1)\n",
    "\n",
    "total1=sum(sum(cm1))\n",
    "\n",
    "accuracy1=(cm1[0,0]+cm1[1,1])/total1\n",
    "print ('Accuracy : ', accuracy1)\n",
    "\n",
    "specificity1 = cm1[0,0]/(cm1[0,0]+cm1[0,1])\n",
    "print('specificity1 : ', specificity1)\n",
    "\n",
    "sensitivity1 = cm1[1,1]/(cm1[1,0]+cm1[1,1])\n",
    "print('Sensitivity : ', sensitivity1)\n",
    "\n",
    "from sklearn.metrics import matthews_corrcoef\n",
    "\n",
    "print(\"MCC : \",matthews_corrcoef(Y_test,y_predSVM_rbf))\n",
    "\n",
    "from sklearn.metrics import roc_auc_score\n",
    "\n",
    "print(\"AUC : \",roc_auc_score(Y_test,y_predSVM_rbf))\n",
    "\n",
    "from sklearn.metrics import classification_report\n",
    "\n",
    "print(classification_report(Y_test, y_predSVM_rbf))"
   ]
  },
  {
   "cell_type": "code",
   "execution_count": 33,
   "id": "b408e401",
   "metadata": {},
   "outputs": [],
   "source": [
    "# SVM with RBF\n",
    "# #Confusion Matrix : \n",
    "#  [[119  11]\n",
    "#  [ 33  29]]\n",
    "TP1 = 119\n",
    "FP1 = 11\n",
    "FN1 = 33\n",
    "TN1 = 29\n",
    "\n",
    "\n",
    "def fun1(TP,FN,FP,TN):\n",
    "    \n",
    "    print(\"SVM on BCWD ---------------------->\")\n",
    "    print(\"TP\",TP)\n",
    "    print(\"FN\",FN)\n",
    "    print(\"FP\",FP)\n",
    "    print(\"TN\", TN)\n",
    "    Accuracy = (TP + TN)/(TP + TN + FP + FN)\n",
    "    print(\"Accuracy : {}\".format(Accuracy))\n",
    "    Precision = TP / (TP + FP)\n",
    "    print(\"Precision : {}\".format(Precision))\n",
    "    Recall = TP / (TP + FN)\n",
    "    print(\"Recall : {} \".format(Recall))\n",
    "    F1_score = 2*(Precision*Recall)/(Precision + Recall)\n",
    "    print(\"F1_score : {}\".format(F1_score))\n",
    "    TPR = TP / (TP + FP)\n",
    "    print(\"TPR : {}\".format(TPR))\n",
    "    FPR = FP / (FP + TN)\n",
    "    print(\"FPR : {}\".format(FPR))"
   ]
  },
  {
   "cell_type": "code",
   "execution_count": 34,
   "id": "a2f2c47f",
   "metadata": {},
   "outputs": [
    {
     "name": "stdout",
     "output_type": "stream",
     "text": [
      "SVM on BCWD ---------------------->\n",
      "TP 119\n",
      "FN 33\n",
      "FP 11\n",
      "TN 29\n",
      "Accuracy : 0.7708333333333334\n",
      "Precision : 0.9153846153846154\n",
      "Recall : 0.7828947368421053 \n",
      "F1_score : 0.8439716312056739\n",
      "TPR : 0.9153846153846154\n",
      "FPR : 0.275\n"
     ]
    }
   ],
   "source": [
    "fun1(TP1,FN1,FP1,TN1)"
   ]
  },
  {
   "cell_type": "markdown",
   "id": "6e56d11a",
   "metadata": {},
   "source": [
    "### Pickle and Di-Pickle"
   ]
  },
  {
   "cell_type": "code",
   "execution_count": 84,
   "id": "a1979a66",
   "metadata": {},
   "outputs": [],
   "source": [
    "pickle.dump(SVM, open('../PICKEL/SVMmodel.pkl','wb'))"
   ]
  },
  {
   "cell_type": "code",
   "execution_count": 86,
   "id": "b4cf115e",
   "metadata": {},
   "outputs": [],
   "source": [
    "# Loading model to compare the results\n",
    "modelSVM = pickle.load(open('../PICKEL/SVMmodel.pkl','rb'))\n"
   ]
  },
  {
   "cell_type": "code",
   "execution_count": 87,
   "id": "22156847",
   "metadata": {},
   "outputs": [],
   "source": [
    "pred = modelSVM.predict(X_test)"
   ]
  },
  {
   "cell_type": "code",
   "execution_count": 88,
   "id": "3bb5da2c",
   "metadata": {},
   "outputs": [
    {
     "data": {
      "text/plain": [
       "0.7708333333333334"
      ]
     },
     "execution_count": 88,
     "metadata": {},
     "output_type": "execute_result"
    }
   ],
   "source": [
    "accuracy_score(Y_test, pred)"
   ]
  },
  {
   "cell_type": "code",
   "execution_count": 90,
   "id": "6161cbe6",
   "metadata": {},
   "outputs": [
    {
     "data": {
      "text/plain": [
       "array([0], dtype=int64)"
      ]
     },
     "execution_count": 90,
     "metadata": {},
     "output_type": "execute_result"
    }
   ],
   "source": [
    "modelSVM.predict([[1,85,66,29,0,26,0.351,31]])"
   ]
  },
  {
   "cell_type": "code",
   "execution_count": 89,
   "id": "e24e5893",
   "metadata": {},
   "outputs": [
    {
     "data": {
      "text/html": [
       "<div>\n",
       "<style scoped>\n",
       "    .dataframe tbody tr th:only-of-type {\n",
       "        vertical-align: middle;\n",
       "    }\n",
       "\n",
       "    .dataframe tbody tr th {\n",
       "        vertical-align: top;\n",
       "    }\n",
       "\n",
       "    .dataframe thead th {\n",
       "        text-align: right;\n",
       "    }\n",
       "</style>\n",
       "<table border=\"1\" class=\"dataframe\">\n",
       "  <thead>\n",
       "    <tr style=\"text-align: right;\">\n",
       "      <th></th>\n",
       "      <th>Pregnancies</th>\n",
       "      <th>Glucose</th>\n",
       "      <th>BloodPressure</th>\n",
       "      <th>SkinThickness</th>\n",
       "      <th>Insulin</th>\n",
       "      <th>BMI</th>\n",
       "      <th>DiabetesPedigreeFunction</th>\n",
       "      <th>Age</th>\n",
       "      <th>Outcome</th>\n",
       "    </tr>\n",
       "  </thead>\n",
       "  <tbody>\n",
       "    <tr>\n",
       "      <th>0</th>\n",
       "      <td>6</td>\n",
       "      <td>148</td>\n",
       "      <td>72</td>\n",
       "      <td>35</td>\n",
       "      <td>0</td>\n",
       "      <td>33.6</td>\n",
       "      <td>0.627</td>\n",
       "      <td>50</td>\n",
       "      <td>1</td>\n",
       "    </tr>\n",
       "    <tr>\n",
       "      <th>1</th>\n",
       "      <td>1</td>\n",
       "      <td>85</td>\n",
       "      <td>66</td>\n",
       "      <td>29</td>\n",
       "      <td>0</td>\n",
       "      <td>26.6</td>\n",
       "      <td>0.351</td>\n",
       "      <td>31</td>\n",
       "      <td>0</td>\n",
       "    </tr>\n",
       "    <tr>\n",
       "      <th>2</th>\n",
       "      <td>8</td>\n",
       "      <td>183</td>\n",
       "      <td>64</td>\n",
       "      <td>0</td>\n",
       "      <td>0</td>\n",
       "      <td>23.3</td>\n",
       "      <td>0.672</td>\n",
       "      <td>32</td>\n",
       "      <td>1</td>\n",
       "    </tr>\n",
       "    <tr>\n",
       "      <th>3</th>\n",
       "      <td>1</td>\n",
       "      <td>89</td>\n",
       "      <td>66</td>\n",
       "      <td>23</td>\n",
       "      <td>94</td>\n",
       "      <td>28.1</td>\n",
       "      <td>0.167</td>\n",
       "      <td>21</td>\n",
       "      <td>0</td>\n",
       "    </tr>\n",
       "    <tr>\n",
       "      <th>4</th>\n",
       "      <td>0</td>\n",
       "      <td>137</td>\n",
       "      <td>40</td>\n",
       "      <td>35</td>\n",
       "      <td>168</td>\n",
       "      <td>43.1</td>\n",
       "      <td>2.288</td>\n",
       "      <td>33</td>\n",
       "      <td>1</td>\n",
       "    </tr>\n",
       "  </tbody>\n",
       "</table>\n",
       "</div>"
      ],
      "text/plain": [
       "   Pregnancies  Glucose  BloodPressure  SkinThickness  Insulin   BMI  \\\n",
       "0            6      148             72             35        0  33.6   \n",
       "1            1       85             66             29        0  26.6   \n",
       "2            8      183             64              0        0  23.3   \n",
       "3            1       89             66             23       94  28.1   \n",
       "4            0      137             40             35      168  43.1   \n",
       "\n",
       "   DiabetesPedigreeFunction  Age  Outcome  \n",
       "0                     0.627   50        1  \n",
       "1                     0.351   31        0  \n",
       "2                     0.672   32        1  \n",
       "3                     0.167   21        0  \n",
       "4                     2.288   33        1  "
      ]
     },
     "execution_count": 89,
     "metadata": {},
     "output_type": "execute_result"
    }
   ],
   "source": [
    "df.head()"
   ]
  },
  {
   "cell_type": "markdown",
   "id": "71e07924",
   "metadata": {},
   "source": [
    "<img src=\"../images/performances.png\" width=\"100%\">"
   ]
  },
  {
   "cell_type": "code",
   "execution_count": null,
   "id": "b9972208",
   "metadata": {},
   "outputs": [],
   "source": [
    "Observations : "
   ]
  },
  {
   "cell_type": "markdown",
   "id": "75fb6f9e",
   "metadata": {},
   "source": [
    "# SVM | LINEAR After Tuning "
   ]
  },
  {
   "cell_type": "markdown",
   "id": "36b86edb",
   "metadata": {},
   "source": [
    "#### 'kernel':['rbf' ,'linear', 'poly', 'sigmoid']"
   ]
  },
  {
   "cell_type": "code",
   "execution_count": 35,
   "id": "5515a127",
   "metadata": {},
   "outputs": [
    {
     "name": "stdout",
     "output_type": "stream",
     "text": [
      "training score : 0.765625\n",
      "testing score : 0.8020833333333334\n",
      "              precision    recall  f1-score   support\n",
      "\n",
      "           0       0.82      0.90      0.86       130\n",
      "           1       0.74      0.60      0.66        62\n",
      "\n",
      "    accuracy                           0.80       192\n",
      "   macro avg       0.78      0.75      0.76       192\n",
      "weighted avg       0.80      0.80      0.80       192\n",
      "\n",
      "[[117  13]\n",
      " [ 25  37]]\n",
      "[elapsed time: 3.306440500000007887 s]\n"
     ]
    }
   ],
   "source": [
    "from sklearn.metrics import classification_report # make predictions on validation datasets\n",
    "import time\n",
    "with timer() as t:\n",
    "    SVM = SVC(C=1.0,\n",
    "    kernel='linear',\n",
    "    degree=6,\n",
    "    gamma='scale',\n",
    "    coef0=0.0,\n",
    "    shrinking=True,\n",
    "    probability=False,\n",
    "    tol=0.001,\n",
    "    cache_size=300,\n",
    "    class_weight=None,\n",
    "    verbose=False,\n",
    "    max_iter=-1,\n",
    "    decision_function_shape='ovr',\n",
    "    break_ties=False,\n",
    "    random_state=None)\n",
    "    \n",
    "    SVM.fit(X_train, Y_train)\n",
    "    y_predSVM_linear= SVM.predict(X_test)\n",
    "    print((\"training score : {}\").format(SVM.score(X_train, Y_train)))\n",
    "    print((\"testing score : {}\").format(accuracy_score(Y_test, y_predSVM_linear)))\n",
    "    print(classification_report(Y_test, y_predSVM_linear))\n",
    "    print(confusion_matrix(Y_test, y_predSVM_linear))"
   ]
  },
  {
   "cell_type": "code",
   "execution_count": 36,
   "id": "abc04d63",
   "metadata": {},
   "outputs": [
    {
     "name": "stdout",
     "output_type": "stream",
     "text": [
      "Confusion Matrix : \n",
      " [[117  13]\n",
      " [ 25  37]]\n",
      "Accuracy :  0.8020833333333334\n",
      "specificity1 :  0.9\n",
      "Sensitivity :  0.5967741935483871\n",
      "MCC :  0.5292944906975516\n",
      "AUC :  0.7483870967741935\n",
      "              precision    recall  f1-score   support\n",
      "\n",
      "           0       0.82      0.90      0.86       130\n",
      "           1       0.74      0.60      0.66        62\n",
      "\n",
      "    accuracy                           0.80       192\n",
      "   macro avg       0.78      0.75      0.76       192\n",
      "weighted avg       0.80      0.80      0.80       192\n",
      "\n"
     ]
    }
   ],
   "source": [
    "# SVM with RBF\n",
    "cm1 = confusion_matrix(Y_test,y_predSVM_linear)\n",
    "print('Confusion Matrix : \\n', cm1)\n",
    "\n",
    "total1=sum(sum(cm1))\n",
    "\n",
    "accuracy1=(cm1[0,0]+cm1[1,1])/total1\n",
    "print ('Accuracy : ', accuracy1)\n",
    "\n",
    "specificity1 = cm1[0,0]/(cm1[0,0]+cm1[0,1])\n",
    "print('specificity1 : ', specificity1)\n",
    "\n",
    "sensitivity1 = cm1[1,1]/(cm1[1,0]+cm1[1,1])\n",
    "print('Sensitivity : ', sensitivity1)\n",
    "\n",
    "from sklearn.metrics import matthews_corrcoef\n",
    "\n",
    "print(\"MCC : \",matthews_corrcoef(Y_test,y_predSVM_linear))\n",
    "\n",
    "from sklearn.metrics import roc_auc_score\n",
    "\n",
    "print(\"AUC : \",roc_auc_score(Y_test,y_predSVM_linear))\n",
    "\n",
    "from sklearn.metrics import classification_report\n",
    "\n",
    "print(classification_report(Y_test, y_predSVM_linear))"
   ]
  },
  {
   "cell_type": "code",
   "execution_count": 37,
   "id": "6fec4134",
   "metadata": {},
   "outputs": [],
   "source": [
    "# Confusion Matrix : \n",
    "#  [[117  13]\n",
    "#  [ 25  37]]\n",
    "TP2 = 117\n",
    "FP2 = 13\n",
    "FN2 = 25\n",
    "TN2 = 37\n",
    "\n",
    "\n",
    "def fun1(TP,FN,FP,TN):\n",
    "    \n",
    "    print(\"SVM on BCWD ---------------------->\")\n",
    "    print(\"TP\",TP)\n",
    "    print(\"FN\",FN)\n",
    "    print(\"FP\",FP)\n",
    "    print(\"TN\", TN)\n",
    "    Accuracy = (TP + TN)/(TP + TN + FP + FN)\n",
    "    print(\"Accuracy : {}\".format(Accuracy))\n",
    "    Precision = TP / (TP + FP)\n",
    "    print(\"Precision : {}\".format(Precision))\n",
    "    Recall = TP / (TP + FN)\n",
    "    print(\"Recall : {} \".format(Recall))\n",
    "    F1_score = 2*(Precision*Recall)/(Precision + Recall)\n",
    "    print(\"F1_score : {}\".format(F1_score))\n",
    "    TPR = TP / (TP + FP)\n",
    "    print(\"TPR : {}\".format(TPR))\n",
    "    FPR = FP / (FP + TN)\n",
    "    print(\"FPR : {}\".format(FPR))"
   ]
  },
  {
   "cell_type": "code",
   "execution_count": 38,
   "id": "5bfe3f6d",
   "metadata": {},
   "outputs": [
    {
     "name": "stdout",
     "output_type": "stream",
     "text": [
      "SVM on BCWD ---------------------->\n",
      "TP 117\n",
      "FN 13\n",
      "FP 25\n",
      "TN 37\n",
      "Accuracy : 0.8020833333333334\n",
      "Precision : 0.823943661971831\n",
      "Recall : 0.9 \n",
      "F1_score : 0.8602941176470589\n",
      "TPR : 0.823943661971831\n",
      "FPR : 0.4032258064516129\n"
     ]
    }
   ],
   "source": [
    "fun1(TP2,FP2,FN2,TN2)"
   ]
  },
  {
   "cell_type": "code",
   "execution_count": null,
   "id": "4327ab4d",
   "metadata": {},
   "outputs": [],
   "source": []
  },
  {
   "cell_type": "markdown",
   "id": "2ce0c874",
   "metadata": {},
   "source": [
    "# SVM | 'sigmoid' After Tuning "
   ]
  },
  {
   "cell_type": "code",
   "execution_count": 39,
   "id": "8cb6946b",
   "metadata": {},
   "outputs": [
    {
     "name": "stdout",
     "output_type": "stream",
     "text": [
      "training score : 0.4739583333333333\n",
      "testing score : 0.5104166666666666\n",
      "              precision    recall  f1-score   support\n",
      "\n",
      "           0       0.63      0.68      0.65       130\n",
      "           1       0.19      0.16      0.18        62\n",
      "\n",
      "    accuracy                           0.51       192\n",
      "   macro avg       0.41      0.42      0.41       192\n",
      "weighted avg       0.49      0.51      0.50       192\n",
      "\n",
      "[[88 42]\n",
      " [52 10]]\n",
      "[elapsed time: 0.032866000000012718 s]\n"
     ]
    }
   ],
   "source": [
    "from sklearn.metrics import classification_report # make predictions on validation datasets\n",
    "import time\n",
    "with timer() as t:\n",
    "    SVM = SVC(C=1.0,\n",
    "    kernel='sigmoid',\n",
    "    degree=6,\n",
    "    gamma='scale',\n",
    "    coef0=0.0,\n",
    "    shrinking=True,\n",
    "    probability=False,\n",
    "    tol=0.001,\n",
    "    cache_size=300,\n",
    "    class_weight=None,\n",
    "    verbose=False,\n",
    "    max_iter=-1,\n",
    "    decision_function_shape='ovr',\n",
    "    break_ties=False,\n",
    "    random_state=None)\n",
    "    \n",
    "    SVM.fit(X_train, Y_train)\n",
    "    y_predSVM_sigmoid= SVM.predict(X_test)\n",
    "    print((\"training score : {}\").format(SVM.score(X_train, Y_train)))\n",
    "    print((\"testing score : {}\").format(accuracy_score(Y_test, y_predSVM_sigmoid)))\n",
    "    print(classification_report(Y_test, y_predSVM_sigmoid))\n",
    "    print(confusion_matrix(Y_test, y_predSVM_sigmoid))"
   ]
  },
  {
   "cell_type": "code",
   "execution_count": 40,
   "id": "efc328f7",
   "metadata": {},
   "outputs": [
    {
     "name": "stdout",
     "output_type": "stream",
     "text": [
      "Confusion Matrix : \n",
      " [[88 42]\n",
      " [52 10]]\n",
      "Accuracy :  0.5104166666666666\n",
      "specificity1 :  0.676923076923077\n",
      "Sensitivity :  0.16129032258064516\n",
      "MCC :  -0.17023324619730354\n",
      "AUC :  0.4191066997518611\n",
      "              precision    recall  f1-score   support\n",
      "\n",
      "           0       0.63      0.68      0.65       130\n",
      "           1       0.19      0.16      0.18        62\n",
      "\n",
      "    accuracy                           0.51       192\n",
      "   macro avg       0.41      0.42      0.41       192\n",
      "weighted avg       0.49      0.51      0.50       192\n",
      "\n"
     ]
    }
   ],
   "source": [
    "# SVM with RBF\n",
    "cm1 = confusion_matrix(Y_test,y_predSVM_sigmoid)\n",
    "print('Confusion Matrix : \\n', cm1)\n",
    "\n",
    "total1=sum(sum(cm1))\n",
    "\n",
    "accuracy1=(cm1[0,0]+cm1[1,1])/total1\n",
    "print ('Accuracy : ', accuracy1)\n",
    "\n",
    "specificity1 = cm1[0,0]/(cm1[0,0]+cm1[0,1])\n",
    "print('specificity1 : ', specificity1)\n",
    "\n",
    "sensitivity1 = cm1[1,1]/(cm1[1,0]+cm1[1,1])\n",
    "print('Sensitivity : ', sensitivity1)\n",
    "\n",
    "from sklearn.metrics import matthews_corrcoef\n",
    "\n",
    "print(\"MCC : \",matthews_corrcoef(Y_test,y_predSVM_sigmoid))\n",
    "\n",
    "from sklearn.metrics import roc_auc_score\n",
    "\n",
    "print(\"AUC : \",roc_auc_score(Y_test,y_predSVM_sigmoid))\n",
    "\n",
    "from sklearn.metrics import classification_report\n",
    "\n",
    "print(classification_report(Y_test, y_predSVM_sigmoid))"
   ]
  },
  {
   "cell_type": "code",
   "execution_count": 41,
   "id": "f1ef4f18",
   "metadata": {},
   "outputs": [],
   "source": [
    "# observations : here sigmoid kernel performed very bad "
   ]
  },
  {
   "cell_type": "markdown",
   "id": "47ed0fb3",
   "metadata": {},
   "source": [
    "# SVM | Poly After Tuning "
   ]
  },
  {
   "cell_type": "code",
   "execution_count": 42,
   "id": "f36cd795",
   "metadata": {},
   "outputs": [
    {
     "name": "stdout",
     "output_type": "stream",
     "text": [
      "training score : 0.7847222222222222\n",
      "testing score : 0.7604166666666666\n",
      "              precision    recall  f1-score   support\n",
      "\n",
      "           0       0.76      0.94      0.84       130\n",
      "           1       0.75      0.39      0.51        62\n",
      "\n",
      "    accuracy                           0.76       192\n",
      "   macro avg       0.76      0.66      0.68       192\n",
      "weighted avg       0.76      0.76      0.73       192\n",
      "\n",
      "[[122   8]\n",
      " [ 38  24]]\n",
      "[elapsed time: 0.893132900000182417 s]\n"
     ]
    }
   ],
   "source": [
    "from sklearn.metrics import classification_report # make predictions on validation datasets\n",
    "import time\n",
    "with timer() as t:\n",
    "    SVM = SVC(C=1.0,\n",
    "    kernel='poly',\n",
    "    degree=6,\n",
    "    gamma='scale',\n",
    "    coef0=0.0,\n",
    "    shrinking=True,\n",
    "    probability=False,\n",
    "    tol=0.001,\n",
    "    cache_size=300,\n",
    "    class_weight=None,\n",
    "    verbose=False,\n",
    "    max_iter=-1,\n",
    "    decision_function_shape='ovr',\n",
    "    break_ties=False,\n",
    "    random_state=None)\n",
    "    \n",
    "    SVM.fit(X_train, Y_train)\n",
    "    y_predSVM_poly= SVM.predict(X_test)\n",
    "    print((\"training score : {}\").format(SVM.score(X_train, Y_train)))\n",
    "    print((\"testing score : {}\").format(accuracy_score(Y_test, y_predSVM_poly)))\n",
    "    print(classification_report(Y_test, y_predSVM_poly))\n",
    "    print(confusion_matrix(Y_test, y_predSVM_poly))"
   ]
  },
  {
   "cell_type": "code",
   "execution_count": 43,
   "id": "7b617bd8",
   "metadata": {},
   "outputs": [
    {
     "name": "stdout",
     "output_type": "stream",
     "text": [
      "Confusion Matrix : \n",
      " [[122   8]\n",
      " [ 38  24]]\n",
      "Accuracy :  0.7604166666666666\n",
      "specificity1 :  0.9384615384615385\n",
      "Sensitivity :  0.3870967741935484\n",
      "MCC :  0.4084710947371087\n",
      "AUC :  0.6627791563275435\n",
      "              precision    recall  f1-score   support\n",
      "\n",
      "           0       0.76      0.94      0.84       130\n",
      "           1       0.75      0.39      0.51        62\n",
      "\n",
      "    accuracy                           0.76       192\n",
      "   macro avg       0.76      0.66      0.68       192\n",
      "weighted avg       0.76      0.76      0.73       192\n",
      "\n"
     ]
    }
   ],
   "source": [
    "# SVM with RBF\n",
    "cm1 = confusion_matrix(Y_test,y_predSVM_poly)\n",
    "print('Confusion Matrix : \\n', cm1)\n",
    "\n",
    "total1=sum(sum(cm1))\n",
    "\n",
    "accuracy1=(cm1[0,0]+cm1[1,1])/total1\n",
    "print ('Accuracy : ', accuracy1)\n",
    "\n",
    "specificity1 = cm1[0,0]/(cm1[0,0]+cm1[0,1])\n",
    "print('specificity1 : ', specificity1)\n",
    "\n",
    "sensitivity1 = cm1[1,1]/(cm1[1,0]+cm1[1,1])\n",
    "print('Sensitivity : ', sensitivity1)\n",
    "\n",
    "from sklearn.metrics import matthews_corrcoef\n",
    "\n",
    "print(\"MCC : \",matthews_corrcoef(Y_test,y_predSVM_poly))\n",
    "\n",
    "from sklearn.metrics import roc_auc_score\n",
    "\n",
    "print(\"AUC : \",roc_auc_score(Y_test,y_predSVM_poly))\n",
    "\n",
    "from sklearn.metrics import classification_report\n",
    "\n",
    "print(classification_report(Y_test, y_predSVM_poly))"
   ]
  },
  {
   "cell_type": "code",
   "execution_count": 44,
   "id": "5b097eeb",
   "metadata": {},
   "outputs": [],
   "source": [
    "# Confusion Matrix : \n",
    "#  [[122   8]\n",
    "#  [ 38  24]]\n",
    "TP3 = 122\n",
    "FP3 = 8\n",
    "FN3 = 38\n",
    "TN3 = 24\n",
    "\n",
    "\n",
    "def fun1(TP,FN,FP,TN):\n",
    "    \n",
    "    print(\"SVM on PIDDD ---------------------->\")\n",
    "    print(\"TP\",TP)\n",
    "    print(\"FN\",FN)\n",
    "    print(\"FP\",FP)\n",
    "    print(\"TN\", TN)\n",
    "    Accuracy = (TP + TN)/(TP + TN + FP + FN)\n",
    "    print(\"Accuracy : {}\".format(Accuracy))\n",
    "    Precision = TP / (TP + FP)\n",
    "    print(\"Precision : {}\".format(Precision))\n",
    "    Recall = TP / (TP + FN)\n",
    "    print(\"Recall : {} \".format(Recall))\n",
    "    F1_score = 2*(Precision*Recall)/(Precision + Recall)\n",
    "    print(\"F1_score : {}\".format(F1_score))\n",
    "    TPR = TP / (TP + FP)\n",
    "    print(\"TPR : {}\".format(TPR))\n",
    "    FPR = FP / (FP + TN)\n",
    "    print(\"FPR : {}\".format(FPR))"
   ]
  },
  {
   "cell_type": "code",
   "execution_count": 45,
   "id": "c44eeb12",
   "metadata": {},
   "outputs": [
    {
     "name": "stdout",
     "output_type": "stream",
     "text": [
      "SVM on PIDDD ---------------------->\n",
      "TP 122\n",
      "FN 38\n",
      "FP 8\n",
      "TN 24\n",
      "Accuracy : 0.7604166666666666\n",
      "Precision : 0.9384615384615385\n",
      "Recall : 0.7625 \n",
      "F1_score : 0.8413793103448275\n",
      "TPR : 0.9384615384615385\n",
      "FPR : 0.25\n"
     ]
    }
   ],
   "source": [
    "fun1(TP3,FN3,FP3,TN3)"
   ]
  },
  {
   "cell_type": "markdown",
   "id": "6a98d5b6",
   "metadata": {},
   "source": [
    "# SVM | 'precomputed' After Tuning "
   ]
  },
  {
   "cell_type": "code",
   "execution_count": 46,
   "id": "4fe12e92",
   "metadata": {},
   "outputs": [
    {
     "name": "stdout",
     "output_type": "stream",
     "text": [
      "testing score : 0.8020833333333334\n",
      "              precision    recall  f1-score   support\n",
      "\n",
      "           0       0.82      0.90      0.86       130\n",
      "           1       0.74      0.60      0.66        62\n",
      "\n",
      "    accuracy                           0.80       192\n",
      "   macro avg       0.78      0.75      0.76       192\n",
      "weighted avg       0.80      0.80      0.80       192\n",
      "\n",
      "[[117  13]\n",
      " [ 25  37]]\n",
      "[elapsed time: 3.682442300000047908 s]\n"
     ]
    }
   ],
   "source": [
    "from sklearn.metrics import classification_report # make predictions on validation datasets\n",
    "import time\n",
    "with timer() as t:\n",
    "    SVM = SVC(C=1.0,\n",
    "    kernel='precomputed',\n",
    "    degree=6,\n",
    "    gamma='scale',\n",
    "    coef0=0.0,\n",
    "    shrinking=True,\n",
    "    probability=False,\n",
    "    tol=0.001,\n",
    "    cache_size=300,\n",
    "    class_weight=None,\n",
    "    verbose=False,\n",
    "    max_iter=-1,\n",
    "    decision_function_shape='ovr',\n",
    "    break_ties=False,\n",
    "    random_state=None)\n",
    "    \n",
    "    gram_train = np.dot(X_train, X_train.T)\n",
    "    SVM.fit(gram_train, Y_train)\n",
    "    gram_test = np.dot(X_test, X_train.T)\n",
    "    y_predSVM_precomputed= SVM.predict(gram_test)\n",
    "#     gram_score = np.dot(X_train, Y_train)\n",
    "#     print((\"training score : {}\").format(SVM.score(gram_score)))\n",
    "    print((\"testing score : {}\").format(accuracy_score(Y_test, y_predSVM_precomputed)))\n",
    "    print(classification_report(Y_test, y_predSVM_precomputed))\n",
    "    print(confusion_matrix(Y_test, y_predSVM_precomputed))"
   ]
  },
  {
   "cell_type": "code",
   "execution_count": 47,
   "id": "5b1768cc",
   "metadata": {},
   "outputs": [
    {
     "name": "stdout",
     "output_type": "stream",
     "text": [
      "Confusion Matrix : \n",
      " [[117  13]\n",
      " [ 25  37]]\n",
      "Accuracy :  0.8020833333333334\n",
      "specificity1 :  0.9\n",
      "Sensitivity :  0.5967741935483871\n",
      "MCC :  0.5292944906975516\n",
      "AUC :  0.7483870967741935\n",
      "              precision    recall  f1-score   support\n",
      "\n",
      "           0       0.82      0.90      0.86       130\n",
      "           1       0.74      0.60      0.66        62\n",
      "\n",
      "    accuracy                           0.80       192\n",
      "   macro avg       0.78      0.75      0.76       192\n",
      "weighted avg       0.80      0.80      0.80       192\n",
      "\n"
     ]
    }
   ],
   "source": [
    "# SVM with precomputed\n",
    "cm1 = confusion_matrix(Y_test,y_predSVM_precomputed)\n",
    "print('Confusion Matrix : \\n', cm1)\n",
    "\n",
    "total1=sum(sum(cm1))\n",
    "\n",
    "accuracy1=(cm1[0,0]+cm1[1,1])/total1\n",
    "print ('Accuracy : ', accuracy1)\n",
    "\n",
    "specificity1 = cm1[0,0]/(cm1[0,0]+cm1[0,1])\n",
    "print('specificity1 : ', specificity1)\n",
    "\n",
    "sensitivity1 = cm1[1,1]/(cm1[1,0]+cm1[1,1])\n",
    "print('Sensitivity : ', sensitivity1)\n",
    "\n",
    "from sklearn.metrics import matthews_corrcoef\n",
    "\n",
    "print(\"MCC : \",matthews_corrcoef(Y_test,y_predSVM_precomputed))\n",
    "\n",
    "from sklearn.metrics import roc_auc_score\n",
    "\n",
    "print(\"AUC : \",roc_auc_score(Y_test,y_predSVM_precomputed))\n",
    "\n",
    "from sklearn.metrics import classification_report\n",
    "\n",
    "print(classification_report(Y_test, y_predSVM_precomputed))"
   ]
  },
  {
   "cell_type": "code",
   "execution_count": 48,
   "id": "a2d8b902",
   "metadata": {},
   "outputs": [
    {
     "name": "stdout",
     "output_type": "stream",
     "text": [
      "SVM on PIDDD ---------------------->\n",
      "TP 117\n",
      "FN 25\n",
      "FP 13\n",
      "TN 37\n",
      "Accuracy : 0.8020833333333334\n",
      "Precision : 0.9\n",
      "Recall : 0.823943661971831 \n",
      "F1_score : 0.8602941176470589\n",
      "TPR : 0.9\n",
      "FPR : 0.26\n"
     ]
    }
   ],
   "source": [
    "# Confusion Matrix : \n",
    "#  [[117  13]\n",
    "#  [ 25  37]]\n",
    "TP4 = 117\n",
    "FP4 = 13\n",
    "FN4 = 25\n",
    "TN4 = 37\n",
    "\n",
    "\n",
    "def fun1(TP,FN,FP,TN):\n",
    "    \n",
    "    print(\"SVM on PIDDD ---------------------->\")\n",
    "    print(\"TP\",TP)\n",
    "    print(\"FN\",FN)\n",
    "    print(\"FP\",FP)\n",
    "    print(\"TN\", TN)\n",
    "    Accuracy = (TP + TN)/(TP + TN + FP + FN)\n",
    "    print(\"Accuracy : {}\".format(Accuracy))\n",
    "    Precision = TP / (TP + FP)\n",
    "    print(\"Precision : {}\".format(Precision))\n",
    "    Recall = TP / (TP + FN)\n",
    "    print(\"Recall : {} \".format(Recall))\n",
    "    F1_score = 2*(Precision*Recall)/(Precision + Recall)\n",
    "    print(\"F1_score : {}\".format(F1_score))\n",
    "    TPR = TP / (TP + FP)\n",
    "    print(\"TPR : {}\".format(TPR))\n",
    "    FPR = FP / (FP + TN)\n",
    "    print(\"FPR : {}\".format(FPR))\n",
    "    \n",
    "fun1(TP4,FN4,FP4,TN4)"
   ]
  },
  {
   "cell_type": "markdown",
   "id": "6c5ce693",
   "metadata": {},
   "source": [
    "# Logistic Regression | LR After Tuning "
   ]
  },
  {
   "cell_type": "code",
   "execution_count": 33,
   "id": "977bfbfd",
   "metadata": {},
   "outputs": [
    {
     "name": "stderr",
     "output_type": "stream",
     "text": [
      "C:\\Users\\panka\\anaconda33\\envs\\cv\\lib\\site-packages\\sklearn\\linear_model\\_logistic.py:458: ConvergenceWarning: lbfgs failed to converge (status=1):\n",
      "STOP: TOTAL NO. of ITERATIONS REACHED LIMIT.\n",
      "\n",
      "Increase the number of iterations (max_iter) or scale the data as shown in:\n",
      "    https://scikit-learn.org/stable/modules/preprocessing.html\n",
      "Please also refer to the documentation for alternative solver options:\n",
      "    https://scikit-learn.org/stable/modules/linear_model.html#logistic-regression\n",
      "  n_iter_i = _check_optimize_result(\n"
     ]
    },
    {
     "data": {
      "text/html": [
       "<style>#sk-container-id-1 {color: black;background-color: white;}#sk-container-id-1 pre{padding: 0;}#sk-container-id-1 div.sk-toggleable {background-color: white;}#sk-container-id-1 label.sk-toggleable__label {cursor: pointer;display: block;width: 100%;margin-bottom: 0;padding: 0.3em;box-sizing: border-box;text-align: center;}#sk-container-id-1 label.sk-toggleable__label-arrow:before {content: \"▸\";float: left;margin-right: 0.25em;color: #696969;}#sk-container-id-1 label.sk-toggleable__label-arrow:hover:before {color: black;}#sk-container-id-1 div.sk-estimator:hover label.sk-toggleable__label-arrow:before {color: black;}#sk-container-id-1 div.sk-toggleable__content {max-height: 0;max-width: 0;overflow: hidden;text-align: left;background-color: #f0f8ff;}#sk-container-id-1 div.sk-toggleable__content pre {margin: 0.2em;color: black;border-radius: 0.25em;background-color: #f0f8ff;}#sk-container-id-1 input.sk-toggleable__control:checked~div.sk-toggleable__content {max-height: 200px;max-width: 100%;overflow: auto;}#sk-container-id-1 input.sk-toggleable__control:checked~label.sk-toggleable__label-arrow:before {content: \"▾\";}#sk-container-id-1 div.sk-estimator input.sk-toggleable__control:checked~label.sk-toggleable__label {background-color: #d4ebff;}#sk-container-id-1 div.sk-label input.sk-toggleable__control:checked~label.sk-toggleable__label {background-color: #d4ebff;}#sk-container-id-1 input.sk-hidden--visually {border: 0;clip: rect(1px 1px 1px 1px);clip: rect(1px, 1px, 1px, 1px);height: 1px;margin: -1px;overflow: hidden;padding: 0;position: absolute;width: 1px;}#sk-container-id-1 div.sk-estimator {font-family: monospace;background-color: #f0f8ff;border: 1px dotted black;border-radius: 0.25em;box-sizing: border-box;margin-bottom: 0.5em;}#sk-container-id-1 div.sk-estimator:hover {background-color: #d4ebff;}#sk-container-id-1 div.sk-parallel-item::after {content: \"\";width: 100%;border-bottom: 1px solid gray;flex-grow: 1;}#sk-container-id-1 div.sk-label:hover label.sk-toggleable__label {background-color: #d4ebff;}#sk-container-id-1 div.sk-serial::before {content: \"\";position: absolute;border-left: 1px solid gray;box-sizing: border-box;top: 0;bottom: 0;left: 50%;z-index: 0;}#sk-container-id-1 div.sk-serial {display: flex;flex-direction: column;align-items: center;background-color: white;padding-right: 0.2em;padding-left: 0.2em;position: relative;}#sk-container-id-1 div.sk-item {position: relative;z-index: 1;}#sk-container-id-1 div.sk-parallel {display: flex;align-items: stretch;justify-content: center;background-color: white;position: relative;}#sk-container-id-1 div.sk-item::before, #sk-container-id-1 div.sk-parallel-item::before {content: \"\";position: absolute;border-left: 1px solid gray;box-sizing: border-box;top: 0;bottom: 0;left: 50%;z-index: -1;}#sk-container-id-1 div.sk-parallel-item {display: flex;flex-direction: column;z-index: 1;position: relative;background-color: white;}#sk-container-id-1 div.sk-parallel-item:first-child::after {align-self: flex-end;width: 50%;}#sk-container-id-1 div.sk-parallel-item:last-child::after {align-self: flex-start;width: 50%;}#sk-container-id-1 div.sk-parallel-item:only-child::after {width: 0;}#sk-container-id-1 div.sk-dashed-wrapped {border: 1px dashed gray;margin: 0 0.4em 0.5em 0.4em;box-sizing: border-box;padding-bottom: 0.4em;background-color: white;}#sk-container-id-1 div.sk-label label {font-family: monospace;font-weight: bold;display: inline-block;line-height: 1.2em;}#sk-container-id-1 div.sk-label-container {text-align: center;}#sk-container-id-1 div.sk-container {/* jupyter's `normalize.less` sets `[hidden] { display: none; }` but bootstrap.min.css set `[hidden] { display: none !important; }` so we also need the `!important` here to be able to override the default hidden behavior on the sphinx rendered scikit-learn.org. See: https://github.com/scikit-learn/scikit-learn/issues/21755 */display: inline-block !important;position: relative;}#sk-container-id-1 div.sk-text-repr-fallback {display: none;}</style><div id=\"sk-container-id-1\" class=\"sk-top-container\"><div class=\"sk-text-repr-fallback\"><pre>LogisticRegression(random_state=0)</pre><b>In a Jupyter environment, please rerun this cell to show the HTML representation or trust the notebook. <br />On GitHub, the HTML representation is unable to render, please try loading this page with nbviewer.org.</b></div><div class=\"sk-container\" hidden><div class=\"sk-item\"><div class=\"sk-estimator sk-toggleable\"><input class=\"sk-toggleable__control sk-hidden--visually\" id=\"sk-estimator-id-1\" type=\"checkbox\" checked><label for=\"sk-estimator-id-1\" class=\"sk-toggleable__label sk-toggleable__label-arrow\">LogisticRegression</label><div class=\"sk-toggleable__content\"><pre>LogisticRegression(random_state=0)</pre></div></div></div></div></div>"
      ],
      "text/plain": [
       "LogisticRegression(random_state=0)"
      ]
     },
     "execution_count": 33,
     "metadata": {},
     "output_type": "execute_result"
    }
   ],
   "source": [
    "#Logistic Regression\n",
    "from sklearn.linear_model import LogisticRegression\n",
    "log = LogisticRegression(random_state=0)\n",
    "log.fit(X_train,Y_train)"
   ]
  },
  {
   "cell_type": "code",
   "execution_count": 36,
   "id": "c788d452",
   "metadata": {},
   "outputs": [
    {
     "name": "stdout",
     "output_type": "stream",
     "text": [
      "[elapsed time: 0.030384999998204876 s]\n"
     ]
    },
    {
     "name": "stderr",
     "output_type": "stream",
     "text": [
      "C:\\Users\\panka\\anaconda33\\envs\\cv\\lib\\site-packages\\sklearn\\linear_model\\_logistic.py:458: ConvergenceWarning: lbfgs failed to converge (status=1):\n",
      "STOP: TOTAL NO. of ITERATIONS REACHED LIMIT.\n",
      "\n",
      "Increase the number of iterations (max_iter) or scale the data as shown in:\n",
      "    https://scikit-learn.org/stable/modules/preprocessing.html\n",
      "Please also refer to the documentation for alternative solver options:\n",
      "    https://scikit-learn.org/stable/modules/linear_model.html#logistic-regression\n",
      "  n_iter_i = _check_optimize_result(\n"
     ]
    }
   ],
   "source": [
    "with timer() as t:\n",
    "    from sklearn.linear_model import LogisticRegression\n",
    "    log = LogisticRegression(random_state=0)\n",
    "    log.fit(X_train,Y_train)\n",
    "    "
   ]
  },
  {
   "cell_type": "code",
   "execution_count": 37,
   "id": "ea27ca56",
   "metadata": {},
   "outputs": [
    {
     "data": {
      "text/plain": [
       "0.7708333333333334"
      ]
     },
     "execution_count": 37,
     "metadata": {},
     "output_type": "execute_result"
    }
   ],
   "source": [
    "log.score(X_train,Y_train)"
   ]
  },
  {
   "cell_type": "code",
   "execution_count": 38,
   "id": "9b706da9",
   "metadata": {},
   "outputs": [
    {
     "name": "stdout",
     "output_type": "stream",
     "text": [
      "Confusion Matrix : \n",
      " [[115  15]\n",
      " [ 25  37]]\n",
      "Accuracy :  0.7916666666666666\n",
      "specificity1 :  0.8846153846153846\n",
      "Sensitivity :  0.5967741935483871\n",
      "MCC :  0.5065222356177437\n",
      "AUC :  0.7406947890818858\n",
      "              precision    recall  f1-score   support\n",
      "\n",
      "           0       0.82      0.88      0.85       130\n",
      "           1       0.71      0.60      0.65        62\n",
      "\n",
      "    accuracy                           0.79       192\n",
      "   macro avg       0.77      0.74      0.75       192\n",
      "weighted avg       0.79      0.79      0.79       192\n",
      "\n"
     ]
    }
   ],
   "source": [
    "pred_logReg = log.predict(X_test)\n",
    "\n",
    "from sklearn.metrics import confusion_matrix\n",
    "\n",
    "cm1 = confusion_matrix(Y_test,pred_logReg)\n",
    "print('Confusion Matrix : \\n', cm1)\n",
    "\n",
    "total1=sum(sum(cm1))\n",
    "\n",
    "accuracy1=(cm1[0,0]+cm1[1,1])/total1\n",
    "print ('Accuracy : ', accuracy1)\n",
    "\n",
    "specificity1 = cm1[0,0]/(cm1[0,0]+cm1[0,1])\n",
    "print('specificity1 : ', specificity1)\n",
    "\n",
    "sensitivity1 = cm1[1,1]/(cm1[1,0]+cm1[1,1])\n",
    "print('Sensitivity : ', sensitivity1)\n",
    "\n",
    "from sklearn.metrics import matthews_corrcoef\n",
    "\n",
    "print(\"MCC : \",matthews_corrcoef(Y_test,pred_logReg))\n",
    "\n",
    "from sklearn.metrics import roc_auc_score\n",
    "\n",
    "print(\"AUC : \",roc_auc_score(Y_test,pred_logReg))\n",
    "\n",
    "from sklearn.metrics import classification_report\n",
    "\n",
    "print(classification_report(Y_test, pred_logReg))"
   ]
  },
  {
   "cell_type": "code",
   "execution_count": 53,
   "id": "48d60179",
   "metadata": {},
   "outputs": [
    {
     "name": "stdout",
     "output_type": "stream",
     "text": [
      "SVM on PIDDD ---------------------->\n",
      "TP 115\n",
      "FN 25\n",
      "FP 15\n",
      "TN 37\n",
      "Accuracy : 0.7916666666666666\n",
      "Precision : 0.8846153846153846\n",
      "Recall : 0.8214285714285714 \n",
      "F1_score : 0.8518518518518519\n",
      "TPR : 0.8846153846153846\n",
      "FPR : 0.28846153846153844\n"
     ]
    }
   ],
   "source": [
    "# Confusion Matrix : \n",
    "#  [[115  15]\n",
    "#  [ 25  37]]\n",
    "TP5 = 115\n",
    "FP5 = 15\n",
    "FN5 = 25\n",
    "TN5 = 37\n",
    "\n",
    "\n",
    "def fun1(TP,FN,FP,TN):\n",
    "    \n",
    "    print(\"SVM on PIDDD ---------------------->\")\n",
    "    print(\"TP\",TP)\n",
    "    print(\"FN\",FN)\n",
    "    print(\"FP\",FP)\n",
    "    print(\"TN\", TN)\n",
    "    Accuracy = (TP + TN)/(TP + TN + FP + FN)\n",
    "    print(\"Accuracy : {}\".format(Accuracy))\n",
    "    Precision = TP / (TP + FP)\n",
    "    print(\"Precision : {}\".format(Precision))\n",
    "    Recall = TP / (TP + FN)\n",
    "    print(\"Recall : {} \".format(Recall))\n",
    "    F1_score = 2*(Precision*Recall)/(Precision + Recall)\n",
    "    print(\"F1_score : {}\".format(F1_score))\n",
    "    TPR = TP / (TP + FP)\n",
    "    print(\"TPR : {}\".format(TPR))\n",
    "    FPR = FP / (FP + TN)\n",
    "    print(\"FPR : {}\".format(FPR))\n",
    "    \n",
    "fun1(TP5,FN5,FP5,TN5)"
   ]
  },
  {
   "cell_type": "markdown",
   "id": "5c0209e8",
   "metadata": {},
   "source": [
    "## Hyper parameter tuning on  LR"
   ]
  },
  {
   "cell_type": "code",
   "execution_count": 54,
   "id": "e5f7b898",
   "metadata": {},
   "outputs": [],
   "source": [
    "from sklearn.model_selection import LeaveOneOut\n",
    "from sklearn.model_selection import KFold\n",
    "from sklearn.model_selection import cross_val_score\n",
    "from sklearn.model_selection import GridSearchCV\n",
    "# sklearn.cross_validation.KFold(n=4, n_folds=2, shuffle=False,\n",
    "#                                random_state=None)\n",
    "from sklearn.model_selection import StratifiedKFold\n",
    "#skfold=StratifiedKFold(n_splits=5)\n"
   ]
  },
  {
   "cell_type": "code",
   "execution_count": 55,
   "id": "aa00bdbc",
   "metadata": {},
   "outputs": [
    {
     "data": {
      "text/plain": [
       "array([0.        , 0.02040816, 0.04081633, 0.06122449, 0.08163265,\n",
       "       0.10204082, 0.12244898, 0.14285714, 0.16326531, 0.18367347,\n",
       "       0.20408163, 0.2244898 , 0.24489796, 0.26530612, 0.28571429,\n",
       "       0.30612245, 0.32653061, 0.34693878, 0.36734694, 0.3877551 ,\n",
       "       0.40816327, 0.42857143, 0.44897959, 0.46938776, 0.48979592,\n",
       "       0.51020408, 0.53061224, 0.55102041, 0.57142857, 0.59183673,\n",
       "       0.6122449 , 0.63265306, 0.65306122, 0.67346939, 0.69387755,\n",
       "       0.71428571, 0.73469388, 0.75510204, 0.7755102 , 0.79591837,\n",
       "       0.81632653, 0.83673469, 0.85714286, 0.87755102, 0.89795918,\n",
       "       0.91836735, 0.93877551, 0.95918367, 0.97959184, 1.        ])"
      ]
     },
     "execution_count": 55,
     "metadata": {},
     "output_type": "execute_result"
    }
   ],
   "source": [
    "import numpy as np\n",
    "#range(0,1)\n",
    "np.linspace(0,1)"
   ]
  },
  {
   "cell_type": "code",
   "execution_count": 56,
   "id": "91c60e9a",
   "metadata": {},
   "outputs": [],
   "source": [
    "logModel = LogisticRegression()\n",
    "param_grid = [    \n",
    "    {'penalty' : ['l1', 'l2', 'elasticnet', 'none'],\n",
    "    'C' : np.logspace(1, 2, 20),\n",
    "    'solver' : ['lbfgs','newton-cg','liblinear','sag','saga'],\n",
    "    'max_iter' : [100, 1000,2500, 5000],\n",
    "     'dual' : [True,False],\n",
    "     'multi_class' : ['auto', 'ovr', 'multinomial'],\n",
    "    \n",
    "    }\n",
    "]"
   ]
  },
  {
   "cell_type": "code",
   "execution_count": 57,
   "id": "88889720",
   "metadata": {},
   "outputs": [],
   "source": [
    "clf = GridSearchCV(logModel, param_grid = param_grid, cv = 4, verbose=True, n_jobs=-1)"
   ]
  },
  {
   "cell_type": "code",
   "execution_count": 58,
   "id": "3a539bdd",
   "metadata": {},
   "outputs": [
    {
     "name": "stdout",
     "output_type": "stream",
     "text": [
      "Fitting 4 folds for each of 9600 candidates, totalling 38400 fits\n"
     ]
    }
   ],
   "source": [
    "best_clf = clf.fit(X_train,Y_train)"
   ]
  },
  {
   "cell_type": "code",
   "execution_count": 59,
   "id": "9c93a866",
   "metadata": {},
   "outputs": [
    {
     "data": {
      "text/html": [
       "<style>#sk-container-id-2 {color: black;background-color: white;}#sk-container-id-2 pre{padding: 0;}#sk-container-id-2 div.sk-toggleable {background-color: white;}#sk-container-id-2 label.sk-toggleable__label {cursor: pointer;display: block;width: 100%;margin-bottom: 0;padding: 0.3em;box-sizing: border-box;text-align: center;}#sk-container-id-2 label.sk-toggleable__label-arrow:before {content: \"▸\";float: left;margin-right: 0.25em;color: #696969;}#sk-container-id-2 label.sk-toggleable__label-arrow:hover:before {color: black;}#sk-container-id-2 div.sk-estimator:hover label.sk-toggleable__label-arrow:before {color: black;}#sk-container-id-2 div.sk-toggleable__content {max-height: 0;max-width: 0;overflow: hidden;text-align: left;background-color: #f0f8ff;}#sk-container-id-2 div.sk-toggleable__content pre {margin: 0.2em;color: black;border-radius: 0.25em;background-color: #f0f8ff;}#sk-container-id-2 input.sk-toggleable__control:checked~div.sk-toggleable__content {max-height: 200px;max-width: 100%;overflow: auto;}#sk-container-id-2 input.sk-toggleable__control:checked~label.sk-toggleable__label-arrow:before {content: \"▾\";}#sk-container-id-2 div.sk-estimator input.sk-toggleable__control:checked~label.sk-toggleable__label {background-color: #d4ebff;}#sk-container-id-2 div.sk-label input.sk-toggleable__control:checked~label.sk-toggleable__label {background-color: #d4ebff;}#sk-container-id-2 input.sk-hidden--visually {border: 0;clip: rect(1px 1px 1px 1px);clip: rect(1px, 1px, 1px, 1px);height: 1px;margin: -1px;overflow: hidden;padding: 0;position: absolute;width: 1px;}#sk-container-id-2 div.sk-estimator {font-family: monospace;background-color: #f0f8ff;border: 1px dotted black;border-radius: 0.25em;box-sizing: border-box;margin-bottom: 0.5em;}#sk-container-id-2 div.sk-estimator:hover {background-color: #d4ebff;}#sk-container-id-2 div.sk-parallel-item::after {content: \"\";width: 100%;border-bottom: 1px solid gray;flex-grow: 1;}#sk-container-id-2 div.sk-label:hover label.sk-toggleable__label {background-color: #d4ebff;}#sk-container-id-2 div.sk-serial::before {content: \"\";position: absolute;border-left: 1px solid gray;box-sizing: border-box;top: 0;bottom: 0;left: 50%;z-index: 0;}#sk-container-id-2 div.sk-serial {display: flex;flex-direction: column;align-items: center;background-color: white;padding-right: 0.2em;padding-left: 0.2em;position: relative;}#sk-container-id-2 div.sk-item {position: relative;z-index: 1;}#sk-container-id-2 div.sk-parallel {display: flex;align-items: stretch;justify-content: center;background-color: white;position: relative;}#sk-container-id-2 div.sk-item::before, #sk-container-id-2 div.sk-parallel-item::before {content: \"\";position: absolute;border-left: 1px solid gray;box-sizing: border-box;top: 0;bottom: 0;left: 50%;z-index: -1;}#sk-container-id-2 div.sk-parallel-item {display: flex;flex-direction: column;z-index: 1;position: relative;background-color: white;}#sk-container-id-2 div.sk-parallel-item:first-child::after {align-self: flex-end;width: 50%;}#sk-container-id-2 div.sk-parallel-item:last-child::after {align-self: flex-start;width: 50%;}#sk-container-id-2 div.sk-parallel-item:only-child::after {width: 0;}#sk-container-id-2 div.sk-dashed-wrapped {border: 1px dashed gray;margin: 0 0.4em 0.5em 0.4em;box-sizing: border-box;padding-bottom: 0.4em;background-color: white;}#sk-container-id-2 div.sk-label label {font-family: monospace;font-weight: bold;display: inline-block;line-height: 1.2em;}#sk-container-id-2 div.sk-label-container {text-align: center;}#sk-container-id-2 div.sk-container {/* jupyter's `normalize.less` sets `[hidden] { display: none; }` but bootstrap.min.css set `[hidden] { display: none !important; }` so we also need the `!important` here to be able to override the default hidden behavior on the sphinx rendered scikit-learn.org. See: https://github.com/scikit-learn/scikit-learn/issues/21755 */display: inline-block !important;position: relative;}#sk-container-id-2 div.sk-text-repr-fallback {display: none;}</style><div id=\"sk-container-id-2\" class=\"sk-top-container\"><div class=\"sk-text-repr-fallback\"><pre>LogisticRegression(C=54.5559478116852, multi_class=&#x27;multinomial&#x27;)</pre><b>In a Jupyter environment, please rerun this cell to show the HTML representation or trust the notebook. <br />On GitHub, the HTML representation is unable to render, please try loading this page with nbviewer.org.</b></div><div class=\"sk-container\" hidden><div class=\"sk-item\"><div class=\"sk-estimator sk-toggleable\"><input class=\"sk-toggleable__control sk-hidden--visually\" id=\"sk-estimator-id-2\" type=\"checkbox\" checked><label for=\"sk-estimator-id-2\" class=\"sk-toggleable__label sk-toggleable__label-arrow\">LogisticRegression</label><div class=\"sk-toggleable__content\"><pre>LogisticRegression(C=54.5559478116852, multi_class=&#x27;multinomial&#x27;)</pre></div></div></div></div></div>"
      ],
      "text/plain": [
       "LogisticRegression(C=54.5559478116852, multi_class='multinomial')"
      ]
     },
     "execution_count": 59,
     "metadata": {},
     "output_type": "execute_result"
    }
   ],
   "source": [
    "best_clf.best_estimator_"
   ]
  },
  {
   "cell_type": "code",
   "execution_count": 60,
   "id": "9b9543e5",
   "metadata": {},
   "outputs": [
    {
     "name": "stdout",
     "output_type": "stream",
     "text": [
      "Confusion Matrix : \n",
      " [[117  13]\n",
      " [ 24  38]]\n",
      "Accuracy :  0.8072916666666666\n",
      "specificity1 :  0.9\n",
      "Sensitivity :  0.6129032258064516\n",
      "MCC :  0.5430105994571142\n",
      "AUC :  0.7564516129032258\n",
      "              precision    recall  f1-score   support\n",
      "\n",
      "           0       0.83      0.90      0.86       130\n",
      "           1       0.75      0.61      0.67        62\n",
      "\n",
      "    accuracy                           0.81       192\n",
      "   macro avg       0.79      0.76      0.77       192\n",
      "weighted avg       0.80      0.81      0.80       192\n",
      "\n"
     ]
    }
   ],
   "source": [
    "pred_logReg1 = best_clf.predict(X_test)\n",
    "\n",
    "from sklearn.metrics import confusion_matrix\n",
    "\n",
    "cm1 = confusion_matrix(Y_test,pred_logReg1)\n",
    "print('Confusion Matrix : \\n', cm1)\n",
    "\n",
    "total1=sum(sum(cm1))\n",
    "\n",
    "accuracy1=(cm1[0,0]+cm1[1,1])/total1\n",
    "print ('Accuracy : ', accuracy1)\n",
    "\n",
    "specificity1 = cm1[0,0]/(cm1[0,0]+cm1[0,1])\n",
    "print('specificity1 : ', specificity1)\n",
    "\n",
    "sensitivity1 = cm1[1,1]/(cm1[1,0]+cm1[1,1])\n",
    "print('Sensitivity : ', sensitivity1)\n",
    "\n",
    "from sklearn.metrics import matthews_corrcoef\n",
    "\n",
    "print(\"MCC : \",matthews_corrcoef(Y_test,pred_logReg1))\n",
    "\n",
    "from sklearn.metrics import roc_auc_score\n",
    "\n",
    "print(\"AUC : \",roc_auc_score(Y_test,pred_logReg1))\n",
    "\n",
    "from sklearn.metrics import classification_report\n",
    "\n",
    "print(classification_report(Y_test, pred_logReg1))"
   ]
  },
  {
   "cell_type": "raw",
   "id": "3ac6d99f",
   "metadata": {},
   "source": [
    "Confusion Matrix : \n",
    " [[118  12]\n",
    " [ 26  36]]\n",
    "Accuracy :  0.8020833333333334\n",
    "specificity1 :  0.9076923076923077\n",
    "Sensitivity :  0.5806451612903226\n",
    "MCC :  0.5273339157746447\n",
    "AUC :  0.7441687344913152\n",
    "              precision    recall  f1-score   support\n",
    "\n",
    "           0       0.82      0.91      0.86       130\n",
    "           1       0.75      0.58      0.65        62\n",
    "\n",
    "    accuracy                           0.80       192\n",
    "   macro avg       0.78      0.74      0.76       192\n",
    "weighted avg       0.80      0.80      0.79       192"
   ]
  },
  {
   "cell_type": "code",
   "execution_count": 61,
   "id": "338b2b9f",
   "metadata": {},
   "outputs": [
    {
     "name": "stdout",
     "output_type": "stream",
     "text": [
      "SVM on PIDDD ---------------------->\n",
      "TP 118\n",
      "FN 26\n",
      "FP 12\n",
      "TN 36\n",
      "Accuracy : 0.8020833333333334\n",
      "Precision : 0.9076923076923077\n",
      "Recall : 0.8194444444444444 \n",
      "F1_score : 0.8613138686131386\n",
      "TPR : 0.9076923076923077\n",
      "FPR : 0.25\n"
     ]
    }
   ],
   "source": [
    "# Confusion Matrix : \n",
    "#  [[118  12]\n",
    "#  [ 26  36]]\n",
    "TP6 = 118\n",
    "FP6 = 12\n",
    "FN6 = 26\n",
    "TN6 = 36\n",
    "\n",
    "\n",
    "def fun1(TP,FN,FP,TN):\n",
    "    \n",
    "    print(\"SVM on PIDDD ---------------------->\")\n",
    "    print(\"TP\",TP)\n",
    "    print(\"FN\",FN)\n",
    "    print(\"FP\",FP)\n",
    "    print(\"TN\", TN)\n",
    "    Accuracy = (TP + TN)/(TP + TN + FP + FN)\n",
    "    print(\"Accuracy : {}\".format(Accuracy))\n",
    "    Precision = TP / (TP + FP)\n",
    "    print(\"Precision : {}\".format(Precision))\n",
    "    Recall = TP / (TP + FN)\n",
    "    print(\"Recall : {} \".format(Recall))\n",
    "    F1_score = 2*(Precision*Recall)/(Precision + Recall)\n",
    "    print(\"F1_score : {}\".format(F1_score))\n",
    "    TPR = TP / (TP + FP)\n",
    "    print(\"TPR : {}\".format(TPR))\n",
    "    FPR = FP / (FP + TN)\n",
    "    print(\"FPR : {}\".format(FPR))\n",
    "    \n",
    "fun1(TP6,FN6,FP6,TN6)"
   ]
  },
  {
   "cell_type": "markdown",
   "id": "d6a334c8",
   "metadata": {},
   "source": [
    "# KNN \n",
    "# Herparameter Optimization for K value"
   ]
  },
  {
   "cell_type": "code",
   "execution_count": 62,
   "id": "375be177",
   "metadata": {},
   "outputs": [],
   "source": [
    "error = []\n",
    "# Calculating error for k between 1 and 60\n",
    "for i in range(1,50):\n",
    "    knn = KNeighborsClassifier(n_neighbors = i)\n",
    "    knn.fit(X_train, Y_train)\n",
    "    pred_i = knn.predict(X_test)\n",
    "    error.append(np.mean(pred_i != Y_test))"
   ]
  },
  {
   "cell_type": "code",
   "execution_count": 63,
   "id": "9fd39413",
   "metadata": {},
   "outputs": [
    {
     "data": {
      "text/plain": [
       "Text(0, 0.5, '<---------------------------mean Error----------------------------->')"
      ]
     },
     "execution_count": 63,
     "metadata": {},
     "output_type": "execute_result"
    },
    {
     "data": {
      "image/png": "[encoded data removed]",
      "text/plain": [
       "<Figure size 1300x600 with 1 Axes>"
      ]
     },
     "metadata": {},
     "output_type": "display_data"
    }
   ],
   "source": [
    "plt.figure(figsize=(13,6))\n",
    "plt.plot(range(1,50),error,color='red',linestyle='dashed',marker='o', markerfacecolor='green', markersize = 10)\n",
    "plt.title(\"Error Rate for K value\")\n",
    "plt.xlabel('<----------------------------------------K_value-------------------------------------------->')\n",
    "plt.ylabel(\"<---------------------------mean Error----------------------------->\")"
   ]
  },
  {
   "cell_type": "markdown",
   "id": "ba70a472",
   "metadata": {},
   "source": [
    "### Hyperparameter Optimization for K value using RandomizedSearchCV"
   ]
  },
  {
   "cell_type": "code",
   "execution_count": 64,
   "id": "9698aaf3",
   "metadata": {},
   "outputs": [],
   "source": [
    "from sklearn.model_selection import GridSearchCV, RandomizedSearchCV\n",
    "knn = KNeighborsClassifier(n_neighbors = 5)"
   ]
  },
  {
   "cell_type": "code",
   "execution_count": 65,
   "id": "52b824f3",
   "metadata": {},
   "outputs": [
    {
     "data": {
      "text/html": [
       "<style>#sk-container-id-3 {color: black;background-color: white;}#sk-container-id-3 pre{padding: 0;}#sk-container-id-3 div.sk-toggleable {background-color: white;}#sk-container-id-3 label.sk-toggleable__label {cursor: pointer;display: block;width: 100%;margin-bottom: 0;padding: 0.3em;box-sizing: border-box;text-align: center;}#sk-container-id-3 label.sk-toggleable__label-arrow:before {content: \"▸\";float: left;margin-right: 0.25em;color: #696969;}#sk-container-id-3 label.sk-toggleable__label-arrow:hover:before {color: black;}#sk-container-id-3 div.sk-estimator:hover label.sk-toggleable__label-arrow:before {color: black;}#sk-container-id-3 div.sk-toggleable__content {max-height: 0;max-width: 0;overflow: hidden;text-align: left;background-color: #f0f8ff;}#sk-container-id-3 div.sk-toggleable__content pre {margin: 0.2em;color: black;border-radius: 0.25em;background-color: #f0f8ff;}#sk-container-id-3 input.sk-toggleable__control:checked~div.sk-toggleable__content {max-height: 200px;max-width: 100%;overflow: auto;}#sk-container-id-3 input.sk-toggleable__control:checked~label.sk-toggleable__label-arrow:before {content: \"▾\";}#sk-container-id-3 div.sk-estimator input.sk-toggleable__control:checked~label.sk-toggleable__label {background-color: #d4ebff;}#sk-container-id-3 div.sk-label input.sk-toggleable__control:checked~label.sk-toggleable__label {background-color: #d4ebff;}#sk-container-id-3 input.sk-hidden--visually {border: 0;clip: rect(1px 1px 1px 1px);clip: rect(1px, 1px, 1px, 1px);height: 1px;margin: -1px;overflow: hidden;padding: 0;position: absolute;width: 1px;}#sk-container-id-3 div.sk-estimator {font-family: monospace;background-color: #f0f8ff;border: 1px dotted black;border-radius: 0.25em;box-sizing: border-box;margin-bottom: 0.5em;}#sk-container-id-3 div.sk-estimator:hover {background-color: #d4ebff;}#sk-container-id-3 div.sk-parallel-item::after {content: \"\";width: 100%;border-bottom: 1px solid gray;flex-grow: 1;}#sk-container-id-3 div.sk-label:hover label.sk-toggleable__label {background-color: #d4ebff;}#sk-container-id-3 div.sk-serial::before {content: \"\";position: absolute;border-left: 1px solid gray;box-sizing: border-box;top: 0;bottom: 0;left: 50%;z-index: 0;}#sk-container-id-3 div.sk-serial {display: flex;flex-direction: column;align-items: center;background-color: white;padding-right: 0.2em;padding-left: 0.2em;position: relative;}#sk-container-id-3 div.sk-item {position: relative;z-index: 1;}#sk-container-id-3 div.sk-parallel {display: flex;align-items: stretch;justify-content: center;background-color: white;position: relative;}#sk-container-id-3 div.sk-item::before, #sk-container-id-3 div.sk-parallel-item::before {content: \"\";position: absolute;border-left: 1px solid gray;box-sizing: border-box;top: 0;bottom: 0;left: 50%;z-index: -1;}#sk-container-id-3 div.sk-parallel-item {display: flex;flex-direction: column;z-index: 1;position: relative;background-color: white;}#sk-container-id-3 div.sk-parallel-item:first-child::after {align-self: flex-end;width: 50%;}#sk-container-id-3 div.sk-parallel-item:last-child::after {align-self: flex-start;width: 50%;}#sk-container-id-3 div.sk-parallel-item:only-child::after {width: 0;}#sk-container-id-3 div.sk-dashed-wrapped {border: 1px dashed gray;margin: 0 0.4em 0.5em 0.4em;box-sizing: border-box;padding-bottom: 0.4em;background-color: white;}#sk-container-id-3 div.sk-label label {font-family: monospace;font-weight: bold;display: inline-block;line-height: 1.2em;}#sk-container-id-3 div.sk-label-container {text-align: center;}#sk-container-id-3 div.sk-container {/* jupyter's `normalize.less` sets `[hidden] { display: none; }` but bootstrap.min.css set `[hidden] { display: none !important; }` so we also need the `!important` here to be able to override the default hidden behavior on the sphinx rendered scikit-learn.org. See: https://github.com/scikit-learn/scikit-learn/issues/21755 */display: inline-block !important;position: relative;}#sk-container-id-3 div.sk-text-repr-fallback {display: none;}</style><div id=\"sk-container-id-3\" class=\"sk-top-container\"><div class=\"sk-text-repr-fallback\"><pre>RandomizedSearchCV(cv=7, estimator=KNeighborsClassifier(), n_jobs=-1,\n",
       "                   param_distributions={&#x27;metric&#x27;: [&#x27;minkowski&#x27;],\n",
       "                                        &#x27;n_neighbors&#x27;: array([3, 7, 7, 3, 9, 2, 3, 8, 4, 7]),\n",
       "                                        &#x27;p&#x27;: [2]})</pre><b>In a Jupyter environment, please rerun this cell to show the HTML representation or trust the notebook. <br />On GitHub, the HTML representation is unable to render, please try loading this page with nbviewer.org.</b></div><div class=\"sk-container\" hidden><div class=\"sk-item sk-dashed-wrapped\"><div class=\"sk-label-container\"><div class=\"sk-label sk-toggleable\"><input class=\"sk-toggleable__control sk-hidden--visually\" id=\"sk-estimator-id-3\" type=\"checkbox\" ><label for=\"sk-estimator-id-3\" class=\"sk-toggleable__label sk-toggleable__label-arrow\">RandomizedSearchCV</label><div class=\"sk-toggleable__content\"><pre>RandomizedSearchCV(cv=7, estimator=KNeighborsClassifier(), n_jobs=-1,\n",
       "                   param_distributions={&#x27;metric&#x27;: [&#x27;minkowski&#x27;],\n",
       "                                        &#x27;n_neighbors&#x27;: array([3, 7, 7, 3, 9, 2, 3, 8, 4, 7]),\n",
       "                                        &#x27;p&#x27;: [2]})</pre></div></div></div><div class=\"sk-parallel\"><div class=\"sk-parallel-item\"><div class=\"sk-item\"><div class=\"sk-label-container\"><div class=\"sk-label sk-toggleable\"><input class=\"sk-toggleable__control sk-hidden--visually\" id=\"sk-estimator-id-4\" type=\"checkbox\" ><label for=\"sk-estimator-id-4\" class=\"sk-toggleable__label sk-toggleable__label-arrow\">estimator: KNeighborsClassifier</label><div class=\"sk-toggleable__content\"><pre>KNeighborsClassifier()</pre></div></div></div><div class=\"sk-serial\"><div class=\"sk-item\"><div class=\"sk-estimator sk-toggleable\"><input class=\"sk-toggleable__control sk-hidden--visually\" id=\"sk-estimator-id-5\" type=\"checkbox\" ><label for=\"sk-estimator-id-5\" class=\"sk-toggleable__label sk-toggleable__label-arrow\">KNeighborsClassifier</label><div class=\"sk-toggleable__content\"><pre>KNeighborsClassifier()</pre></div></div></div></div></div></div></div></div></div></div>"
      ],
      "text/plain": [
       "RandomizedSearchCV(cv=7, estimator=KNeighborsClassifier(), n_jobs=-1,\n",
       "                   param_distributions={'metric': ['minkowski'],\n",
       "                                        'n_neighbors': array([3, 7, 7, 3, 9, 2, 3, 8, 4, 7]),\n",
       "                                        'p': [2]})"
      ]
     },
     "execution_count": 65,
     "metadata": {},
     "output_type": "execute_result"
    }
   ],
   "source": [
    "k = np.random.randint(1,10,10)\n",
    "# define list of parameters for the model\n",
    "KNN_params = {'n_neighbors': k, 'p':[2], 'metric':['minkowski']}\n",
    "random_search =  RandomizedSearchCV(knn, KNN_params, n_iter = 10, cv = 7, n_jobs = -1, verbose = 0 )\n",
    "random_search.fit(X_train,Y_train)"
   ]
  },
  {
   "cell_type": "code",
   "execution_count": 66,
   "id": "0ef0ce2b",
   "metadata": {},
   "outputs": [
    {
     "name": "stdout",
     "output_type": "stream",
     "text": [
      "Training Score : 0.7881944444444444\n",
      "Testing Score : 0.7708333333333334\n"
     ]
    }
   ],
   "source": [
    "print(\"Training Score : \" + str(random_search.score(X_train,Y_train)))\n",
    "print(\"Testing Score : \" + str(random_search.score(X_test, Y_test)))"
   ]
  },
  {
   "cell_type": "code",
   "execution_count": 67,
   "id": "42a82c48",
   "metadata": {},
   "outputs": [
    {
     "name": "stdout",
     "output_type": "stream",
     "text": [
      "{'p': 2, 'n_neighbors': 9, 'metric': 'minkowski'}\n"
     ]
    }
   ],
   "source": [
    "print(random_search.best_params_)"
   ]
  },
  {
   "cell_type": "code",
   "execution_count": 68,
   "id": "2a50ee00",
   "metadata": {},
   "outputs": [
    {
     "name": "stdout",
     "output_type": "stream",
     "text": [
      "Confusion Matrix : \n",
      " [[112  18]\n",
      " [ 26  36]]\n",
      "Accuracy :  0.7708333333333334\n",
      "specificity1 :  0.8615384615384616\n",
      "Sensitivity :  0.5806451612903226\n",
      "MCC :  0.4598685942327356\n",
      "AUC :  0.721091811414392\n",
      "              precision    recall  f1-score   support\n",
      "\n",
      "           0       0.81      0.86      0.84       130\n",
      "           1       0.67      0.58      0.62        62\n",
      "\n",
      "    accuracy                           0.77       192\n",
      "   macro avg       0.74      0.72      0.73       192\n",
      "weighted avg       0.76      0.77      0.77       192\n",
      "\n"
     ]
    }
   ],
   "source": [
    "pred_KNN = random_search.predict(X_test)\n",
    "\n",
    "from sklearn.metrics import confusion_matrix\n",
    "\n",
    "cm1 = confusion_matrix(Y_test,pred_KNN)\n",
    "print('Confusion Matrix : \\n', cm1)\n",
    "\n",
    "total1=sum(sum(cm1))\n",
    "\n",
    "accuracy1=(cm1[0,0]+cm1[1,1])/total1\n",
    "print ('Accuracy : ', accuracy1)\n",
    "\n",
    "specificity1 = cm1[0,0]/(cm1[0,0]+cm1[0,1])\n",
    "print('specificity1 : ', specificity1)\n",
    "\n",
    "sensitivity1 = cm1[1,1]/(cm1[1,0]+cm1[1,1])\n",
    "print('Sensitivity : ', sensitivity1)\n",
    "\n",
    "from sklearn.metrics import matthews_corrcoef\n",
    "\n",
    "print(\"MCC : \",matthews_corrcoef(Y_test,pred_KNN))\n",
    "\n",
    "from sklearn.metrics import roc_auc_score\n",
    "\n",
    "print(\"AUC : \",roc_auc_score(Y_test,pred_KNN))\n",
    "\n",
    "from sklearn.metrics import classification_report\n",
    "\n",
    "print(classification_report(Y_test, pred_KNN))"
   ]
  },
  {
   "cell_type": "code",
   "execution_count": 69,
   "id": "2ccd5775",
   "metadata": {},
   "outputs": [
    {
     "name": "stdout",
     "output_type": "stream",
     "text": [
      "SVM on PIDDD ---------------------->\n",
      "TP 112\n",
      "FN 26\n",
      "FP 18\n",
      "TN 36\n",
      "Accuracy : 0.7708333333333334\n",
      "Precision : 0.8615384615384616\n",
      "Recall : 0.8115942028985508 \n",
      "F1_score : 0.835820895522388\n",
      "TPR : 0.8615384615384616\n",
      "FPR : 0.3333333333333333\n"
     ]
    }
   ],
   "source": [
    "# forb KNN\n",
    "# Confusion Matrix : \n",
    "#  [[112  18]\n",
    "#  [ 26  36]]\n",
    "TP7 = 112\n",
    "FP7 = 18\n",
    "FN7 = 26\n",
    "TN7 = 36\n",
    "\n",
    "\n",
    "def fun1(TP,FN,FP,TN):\n",
    "    \n",
    "    print(\"SVM on PIDDD ---------------------->\")\n",
    "    print(\"TP\",TP)\n",
    "    print(\"FN\",FN)\n",
    "    print(\"FP\",FP)\n",
    "    print(\"TN\", TN)\n",
    "    Accuracy = (TP + TN)/(TP + TN + FP + FN)\n",
    "    print(\"Accuracy : {}\".format(Accuracy))\n",
    "    Precision = TP / (TP + FP)\n",
    "    print(\"Precision : {}\".format(Precision))\n",
    "    Recall = TP / (TP + FN)\n",
    "    print(\"Recall : {} \".format(Recall))\n",
    "    F1_score = 2*(Precision*Recall)/(Precision + Recall)\n",
    "    print(\"F1_score : {}\".format(F1_score))\n",
    "    TPR = TP / (TP + FP)\n",
    "    print(\"TPR : {}\".format(TPR))\n",
    "    FPR = FP / (FP + TN)\n",
    "    print(\"FPR : {}\".format(FPR))\n",
    "    \n",
    "fun1(TP7,FN7,FP7,TN7)"
   ]
  },
  {
   "cell_type": "code",
   "execution_count": 70,
   "id": "d6ff42e3",
   "metadata": {},
   "outputs": [],
   "source": [
    "# KNN_params = {'n_neighbors':[1,5,10,9,20, 50], 'p':[2], 'metric':['minkowski']}"
   ]
  },
  {
   "cell_type": "code",
   "execution_count": 71,
   "id": "cbb3702e",
   "metadata": {},
   "outputs": [],
   "source": [
    "# from sklearn.neighbors import KNeighborsClassifier\n",
    "\n",
    "# knn = KNeighborsClassifier(n_neighbors = 9)\n",
    "\n",
    "# knn.fit(xtrain,ytrain)\n",
    "\n",
    "# knn.score(xtest,ytest)"
   ]
  },
  {
   "cell_type": "code",
   "execution_count": null,
   "id": "cd4851c5",
   "metadata": {},
   "outputs": [],
   "source": []
  },
  {
   "cell_type": "markdown",
   "id": "82cc4e8f",
   "metadata": {},
   "source": [
    "# Decision Tree Model Hyperparameter optimization"
   ]
  },
  {
   "cell_type": "code",
   "execution_count": 72,
   "id": "fe9f0315",
   "metadata": {},
   "outputs": [],
   "source": [
    "DTC_parameters = {  'criterion':('entropy', 'gini','log_loss'), \n",
    "                    'splitter' : ('best', 'random'), \n",
    "                    'max_depth':(10, 50, 120),\n",
    "                    'max_features' : ('auto','sqrt','log'),\n",
    "                    \n",
    "                 }\n",
    "\n",
    "# 'max_sample_split' : (2,4,6) "
   ]
  },
  {
   "cell_type": "code",
   "execution_count": 73,
   "id": "c4d70b4a",
   "metadata": {},
   "outputs": [],
   "source": [
    "from sklearn.tree import DecisionTreeClassifier\n",
    "DTC_classifier = DecisionTreeClassifier()"
   ]
  },
  {
   "cell_type": "markdown",
   "id": "abc4ceec",
   "metadata": {},
   "source": [
    "# Randomized Search CV"
   ]
  },
  {
   "cell_type": "code",
   "execution_count": 74,
   "id": "e6b2bb91",
   "metadata": {},
   "outputs": [],
   "source": [
    "from sklearn.tree import DecisionTreeClassifier\n",
    "from sklearn.model_selection import cross_validate\n",
    "from sklearn.model_selection import GridSearchCV , RandomizedSearchCV\n",
    "kfold = KFold( random_state=2, n_splits= 4, shuffle=True) # n_splits=2, random_state=None, shuffle=False len(X_train),\n",
    "leave_validation=LeaveOneOut()\n",
    "skfold=StratifiedKFold(n_splits=20,random_state=2,shuffle=True)  #n_splits=20"
   ]
  },
  {
   "cell_type": "code",
   "execution_count": 75,
   "id": "1728cf85",
   "metadata": {},
   "outputs": [],
   "source": [
    "DTC_grid =  GridSearchCV(DTC_classifier, DTC_parameters, cv = 21 , n_jobs = -1,  verbose = True )"
   ]
  },
  {
   "cell_type": "code",
   "execution_count": 76,
   "id": "c432284d",
   "metadata": {},
   "outputs": [
    {
     "name": "stdout",
     "output_type": "stream",
     "text": [
      "Fitting 21 folds for each of 54 candidates, totalling 1134 fits\n"
     ]
    },
    {
     "data": {
      "text/html": [
       "<style>#sk-container-id-4 {color: black;background-color: white;}#sk-container-id-4 pre{padding: 0;}#sk-container-id-4 div.sk-toggleable {background-color: white;}#sk-container-id-4 label.sk-toggleable__label {cursor: pointer;display: block;width: 100%;margin-bottom: 0;padding: 0.3em;box-sizing: border-box;text-align: center;}#sk-container-id-4 label.sk-toggleable__label-arrow:before {content: \"▸\";float: left;margin-right: 0.25em;color: #696969;}#sk-container-id-4 label.sk-toggleable__label-arrow:hover:before {color: black;}#sk-container-id-4 div.sk-estimator:hover label.sk-toggleable__label-arrow:before {color: black;}#sk-container-id-4 div.sk-toggleable__content {max-height: 0;max-width: 0;overflow: hidden;text-align: left;background-color: #f0f8ff;}#sk-container-id-4 div.sk-toggleable__content pre {margin: 0.2em;color: black;border-radius: 0.25em;background-color: #f0f8ff;}#sk-container-id-4 input.sk-toggleable__control:checked~div.sk-toggleable__content {max-height: 200px;max-width: 100%;overflow: auto;}#sk-container-id-4 input.sk-toggleable__control:checked~label.sk-toggleable__label-arrow:before {content: \"▾\";}#sk-container-id-4 div.sk-estimator input.sk-toggleable__control:checked~label.sk-toggleable__label {background-color: #d4ebff;}#sk-container-id-4 div.sk-label input.sk-toggleable__control:checked~label.sk-toggleable__label {background-color: #d4ebff;}#sk-container-id-4 input.sk-hidden--visually {border: 0;clip: rect(1px 1px 1px 1px);clip: rect(1px, 1px, 1px, 1px);height: 1px;margin: -1px;overflow: hidden;padding: 0;position: absolute;width: 1px;}#sk-container-id-4 div.sk-estimator {font-family: monospace;background-color: #f0f8ff;border: 1px dotted black;border-radius: 0.25em;box-sizing: border-box;margin-bottom: 0.5em;}#sk-container-id-4 div.sk-estimator:hover {background-color: #d4ebff;}#sk-container-id-4 div.sk-parallel-item::after {content: \"\";width: 100%;border-bottom: 1px solid gray;flex-grow: 1;}#sk-container-id-4 div.sk-label:hover label.sk-toggleable__label {background-color: #d4ebff;}#sk-container-id-4 div.sk-serial::before {content: \"\";position: absolute;border-left: 1px solid gray;box-sizing: border-box;top: 0;bottom: 0;left: 50%;z-index: 0;}#sk-container-id-4 div.sk-serial {display: flex;flex-direction: column;align-items: center;background-color: white;padding-right: 0.2em;padding-left: 0.2em;position: relative;}#sk-container-id-4 div.sk-item {position: relative;z-index: 1;}#sk-container-id-4 div.sk-parallel {display: flex;align-items: stretch;justify-content: center;background-color: white;position: relative;}#sk-container-id-4 div.sk-item::before, #sk-container-id-4 div.sk-parallel-item::before {content: \"\";position: absolute;border-left: 1px solid gray;box-sizing: border-box;top: 0;bottom: 0;left: 50%;z-index: -1;}#sk-container-id-4 div.sk-parallel-item {display: flex;flex-direction: column;z-index: 1;position: relative;background-color: white;}#sk-container-id-4 div.sk-parallel-item:first-child::after {align-self: flex-end;width: 50%;}#sk-container-id-4 div.sk-parallel-item:last-child::after {align-self: flex-start;width: 50%;}#sk-container-id-4 div.sk-parallel-item:only-child::after {width: 0;}#sk-container-id-4 div.sk-dashed-wrapped {border: 1px dashed gray;margin: 0 0.4em 0.5em 0.4em;box-sizing: border-box;padding-bottom: 0.4em;background-color: white;}#sk-container-id-4 div.sk-label label {font-family: monospace;font-weight: bold;display: inline-block;line-height: 1.2em;}#sk-container-id-4 div.sk-label-container {text-align: center;}#sk-container-id-4 div.sk-container {/* jupyter's `normalize.less` sets `[hidden] { display: none; }` but bootstrap.min.css set `[hidden] { display: none !important; }` so we also need the `!important` here to be able to override the default hidden behavior on the sphinx rendered scikit-learn.org. See: https://github.com/scikit-learn/scikit-learn/issues/21755 */display: inline-block !important;position: relative;}#sk-container-id-4 div.sk-text-repr-fallback {display: none;}</style><div id=\"sk-container-id-4\" class=\"sk-top-container\"><div class=\"sk-text-repr-fallback\"><pre>GridSearchCV(cv=21, estimator=DecisionTreeClassifier(), n_jobs=-1,\n",
       "             param_grid={&#x27;criterion&#x27;: (&#x27;entropy&#x27;, &#x27;gini&#x27;, &#x27;log_loss&#x27;),\n",
       "                         &#x27;max_depth&#x27;: (10, 50, 120),\n",
       "                         &#x27;max_features&#x27;: (&#x27;auto&#x27;, &#x27;sqrt&#x27;, &#x27;log&#x27;),\n",
       "                         &#x27;splitter&#x27;: (&#x27;best&#x27;, &#x27;random&#x27;)},\n",
       "             verbose=True)</pre><b>In a Jupyter environment, please rerun this cell to show the HTML representation or trust the notebook. <br />On GitHub, the HTML representation is unable to render, please try loading this page with nbviewer.org.</b></div><div class=\"sk-container\" hidden><div class=\"sk-item sk-dashed-wrapped\"><div class=\"sk-label-container\"><div class=\"sk-label sk-toggleable\"><input class=\"sk-toggleable__control sk-hidden--visually\" id=\"sk-estimator-id-6\" type=\"checkbox\" ><label for=\"sk-estimator-id-6\" class=\"sk-toggleable__label sk-toggleable__label-arrow\">GridSearchCV</label><div class=\"sk-toggleable__content\"><pre>GridSearchCV(cv=21, estimator=DecisionTreeClassifier(), n_jobs=-1,\n",
       "             param_grid={&#x27;criterion&#x27;: (&#x27;entropy&#x27;, &#x27;gini&#x27;, &#x27;log_loss&#x27;),\n",
       "                         &#x27;max_depth&#x27;: (10, 50, 120),\n",
       "                         &#x27;max_features&#x27;: (&#x27;auto&#x27;, &#x27;sqrt&#x27;, &#x27;log&#x27;),\n",
       "                         &#x27;splitter&#x27;: (&#x27;best&#x27;, &#x27;random&#x27;)},\n",
       "             verbose=True)</pre></div></div></div><div class=\"sk-parallel\"><div class=\"sk-parallel-item\"><div class=\"sk-item\"><div class=\"sk-label-container\"><div class=\"sk-label sk-toggleable\"><input class=\"sk-toggleable__control sk-hidden--visually\" id=\"sk-estimator-id-7\" type=\"checkbox\" ><label for=\"sk-estimator-id-7\" class=\"sk-toggleable__label sk-toggleable__label-arrow\">estimator: DecisionTreeClassifier</label><div class=\"sk-toggleable__content\"><pre>DecisionTreeClassifier()</pre></div></div></div><div class=\"sk-serial\"><div class=\"sk-item\"><div class=\"sk-estimator sk-toggleable\"><input class=\"sk-toggleable__control sk-hidden--visually\" id=\"sk-estimator-id-8\" type=\"checkbox\" ><label for=\"sk-estimator-id-8\" class=\"sk-toggleable__label sk-toggleable__label-arrow\">DecisionTreeClassifier</label><div class=\"sk-toggleable__content\"><pre>DecisionTreeClassifier()</pre></div></div></div></div></div></div></div></div></div></div>"
      ],
      "text/plain": [
       "GridSearchCV(cv=21, estimator=DecisionTreeClassifier(), n_jobs=-1,\n",
       "             param_grid={'criterion': ('entropy', 'gini', 'log_loss'),\n",
       "                         'max_depth': (10, 50, 120),\n",
       "                         'max_features': ('auto', 'sqrt', 'log'),\n",
       "                         'splitter': ('best', 'random')},\n",
       "             verbose=True)"
      ]
     },
     "execution_count": 76,
     "metadata": {},
     "output_type": "execute_result"
    }
   ],
   "source": [
    "DTC_grid.fit(X_train,Y_train) # model fitting with training examples "
   ]
  },
  {
   "cell_type": "code",
   "execution_count": 77,
   "id": "70a1ed46",
   "metadata": {},
   "outputs": [
    {
     "data": {
      "text/html": [
       "<style>#sk-container-id-5 {color: black;background-color: white;}#sk-container-id-5 pre{padding: 0;}#sk-container-id-5 div.sk-toggleable {background-color: white;}#sk-container-id-5 label.sk-toggleable__label {cursor: pointer;display: block;width: 100%;margin-bottom: 0;padding: 0.3em;box-sizing: border-box;text-align: center;}#sk-container-id-5 label.sk-toggleable__label-arrow:before {content: \"▸\";float: left;margin-right: 0.25em;color: #696969;}#sk-container-id-5 label.sk-toggleable__label-arrow:hover:before {color: black;}#sk-container-id-5 div.sk-estimator:hover label.sk-toggleable__label-arrow:before {color: black;}#sk-container-id-5 div.sk-toggleable__content {max-height: 0;max-width: 0;overflow: hidden;text-align: left;background-color: #f0f8ff;}#sk-container-id-5 div.sk-toggleable__content pre {margin: 0.2em;color: black;border-radius: 0.25em;background-color: #f0f8ff;}#sk-container-id-5 input.sk-toggleable__control:checked~div.sk-toggleable__content {max-height: 200px;max-width: 100%;overflow: auto;}#sk-container-id-5 input.sk-toggleable__control:checked~label.sk-toggleable__label-arrow:before {content: \"▾\";}#sk-container-id-5 div.sk-estimator input.sk-toggleable__control:checked~label.sk-toggleable__label {background-color: #d4ebff;}#sk-container-id-5 div.sk-label input.sk-toggleable__control:checked~label.sk-toggleable__label {background-color: #d4ebff;}#sk-container-id-5 input.sk-hidden--visually {border: 0;clip: rect(1px 1px 1px 1px);clip: rect(1px, 1px, 1px, 1px);height: 1px;margin: -1px;overflow: hidden;padding: 0;position: absolute;width: 1px;}#sk-container-id-5 div.sk-estimator {font-family: monospace;background-color: #f0f8ff;border: 1px dotted black;border-radius: 0.25em;box-sizing: border-box;margin-bottom: 0.5em;}#sk-container-id-5 div.sk-estimator:hover {background-color: #d4ebff;}#sk-container-id-5 div.sk-parallel-item::after {content: \"\";width: 100%;border-bottom: 1px solid gray;flex-grow: 1;}#sk-container-id-5 div.sk-label:hover label.sk-toggleable__label {background-color: #d4ebff;}#sk-container-id-5 div.sk-serial::before {content: \"\";position: absolute;border-left: 1px solid gray;box-sizing: border-box;top: 0;bottom: 0;left: 50%;z-index: 0;}#sk-container-id-5 div.sk-serial {display: flex;flex-direction: column;align-items: center;background-color: white;padding-right: 0.2em;padding-left: 0.2em;position: relative;}#sk-container-id-5 div.sk-item {position: relative;z-index: 1;}#sk-container-id-5 div.sk-parallel {display: flex;align-items: stretch;justify-content: center;background-color: white;position: relative;}#sk-container-id-5 div.sk-item::before, #sk-container-id-5 div.sk-parallel-item::before {content: \"\";position: absolute;border-left: 1px solid gray;box-sizing: border-box;top: 0;bottom: 0;left: 50%;z-index: -1;}#sk-container-id-5 div.sk-parallel-item {display: flex;flex-direction: column;z-index: 1;position: relative;background-color: white;}#sk-container-id-5 div.sk-parallel-item:first-child::after {align-self: flex-end;width: 50%;}#sk-container-id-5 div.sk-parallel-item:last-child::after {align-self: flex-start;width: 50%;}#sk-container-id-5 div.sk-parallel-item:only-child::after {width: 0;}#sk-container-id-5 div.sk-dashed-wrapped {border: 1px dashed gray;margin: 0 0.4em 0.5em 0.4em;box-sizing: border-box;padding-bottom: 0.4em;background-color: white;}#sk-container-id-5 div.sk-label label {font-family: monospace;font-weight: bold;display: inline-block;line-height: 1.2em;}#sk-container-id-5 div.sk-label-container {text-align: center;}#sk-container-id-5 div.sk-container {/* jupyter's `normalize.less` sets `[hidden] { display: none; }` but bootstrap.min.css set `[hidden] { display: none !important; }` so we also need the `!important` here to be able to override the default hidden behavior on the sphinx rendered scikit-learn.org. See: https://github.com/scikit-learn/scikit-learn/issues/21755 */display: inline-block !important;position: relative;}#sk-container-id-5 div.sk-text-repr-fallback {display: none;}</style><div id=\"sk-container-id-5\" class=\"sk-top-container\"><div class=\"sk-text-repr-fallback\"><pre>DecisionTreeClassifier(criterion=&#x27;log_loss&#x27;, max_depth=10, max_features=&#x27;sqrt&#x27;,\n",
       "                       splitter=&#x27;random&#x27;)</pre><b>In a Jupyter environment, please rerun this cell to show the HTML representation or trust the notebook. <br />On GitHub, the HTML representation is unable to render, please try loading this page with nbviewer.org.</b></div><div class=\"sk-container\" hidden><div class=\"sk-item\"><div class=\"sk-estimator sk-toggleable\"><input class=\"sk-toggleable__control sk-hidden--visually\" id=\"sk-estimator-id-9\" type=\"checkbox\" checked><label for=\"sk-estimator-id-9\" class=\"sk-toggleable__label sk-toggleable__label-arrow\">DecisionTreeClassifier</label><div class=\"sk-toggleable__content\"><pre>DecisionTreeClassifier(criterion=&#x27;log_loss&#x27;, max_depth=10, max_features=&#x27;sqrt&#x27;,\n",
       "                       splitter=&#x27;random&#x27;)</pre></div></div></div></div></div>"
      ],
      "text/plain": [
       "DecisionTreeClassifier(criterion='log_loss', max_depth=10, max_features='sqrt',\n",
       "                       splitter='random')"
      ]
     },
     "execution_count": 77,
     "metadata": {},
     "output_type": "execute_result"
    }
   ],
   "source": [
    "# to see the best_estimators\n",
    "DTC_grid.best_estimator_"
   ]
  },
  {
   "cell_type": "code",
   "execution_count": 78,
   "id": "c4732ccc",
   "metadata": {},
   "outputs": [
    {
     "name": "stdout",
     "output_type": "stream",
     "text": [
      "Training Score : 0.8541666666666666\n",
      "Testing Score : 0.6979166666666666\n"
     ]
    }
   ],
   "source": [
    "print(\"Training Score : \" + str(DTC_grid.score(X_train,Y_train)))\n",
    "print(\"Testing Score : \" + str(DTC_grid.score(X_test, Y_test)))"
   ]
  },
  {
   "cell_type": "code",
   "execution_count": 79,
   "id": "7b97a760",
   "metadata": {},
   "outputs": [
    {
     "name": "stdout",
     "output_type": "stream",
     "text": [
      "Confusion Matrix : \n",
      " [[107  23]\n",
      " [ 35  27]]\n",
      "Accuracy :  0.6979166666666666\n",
      "specificity1 :  0.823076923076923\n",
      "Sensitivity :  0.43548387096774194\n",
      "MCC :  0.27548694271071367\n",
      "AUC :  0.6292803970223325\n",
      "              precision    recall  f1-score   support\n",
      "\n",
      "           0       0.75      0.82      0.79       130\n",
      "           1       0.54      0.44      0.48        62\n",
      "\n",
      "    accuracy                           0.70       192\n",
      "   macro avg       0.65      0.63      0.63       192\n",
      "weighted avg       0.68      0.70      0.69       192\n",
      "\n"
     ]
    }
   ],
   "source": [
    "pred_DTC = DTC_grid.predict(X_test)\n",
    "\n",
    "from sklearn.metrics import confusion_matrix\n",
    "\n",
    "cm1 = confusion_matrix(Y_test, pred_DTC)\n",
    "print('Confusion Matrix : \\n', cm1)\n",
    "\n",
    "total1=sum(sum(cm1))\n",
    "\n",
    "accuracy1=(cm1[0,0]+cm1[1,1])/total1\n",
    "print ('Accuracy : ', accuracy1)\n",
    "\n",
    "specificity1 = cm1[0,0]/(cm1[0,0]+cm1[0,1])\n",
    "\n",
    "print('specificity1 : ', specificity1)\n",
    "\n",
    "sensitivity1 = cm1[1,1]/(cm1[1,0]+cm1[1,1])\n",
    "print('Sensitivity : ', sensitivity1)\n",
    "\n",
    "from sklearn.metrics import matthews_corrcoef\n",
    "\n",
    "print(\"MCC : \",matthews_corrcoef(Y_test,pred_DTC))\n",
    "\n",
    "from sklearn.metrics import roc_auc_score\n",
    "\n",
    "print(\"AUC : \",roc_auc_score(Y_test,pred_DTC))\n",
    "\n",
    "from sklearn.metrics import classification_report\n",
    "\n",
    "print(classification_report(Y_test, pred_DTC))"
   ]
  },
  {
   "cell_type": "code",
   "execution_count": 80,
   "id": "5285a7fa",
   "metadata": {},
   "outputs": [
    {
     "name": "stdout",
     "output_type": "stream",
     "text": [
      "SVM on PIDDD ---------------------->\n",
      "TP 114\n",
      "FN 32\n",
      "FP 16\n",
      "TN 30\n",
      "Accuracy : 0.75\n",
      "Precision : 0.8769230769230769\n",
      "Recall : 0.7808219178082192 \n",
      "F1_score : 0.8260869565217391\n",
      "TPR : 0.8769230769230769\n",
      "FPR : 0.34782608695652173\n"
     ]
    }
   ],
   "source": [
    "# Confusion Matrix : \n",
    "#  [[114  16]\n",
    "#  [ 32  30]]\n",
    "TP7 = 114\n",
    "FP7 = 16\n",
    "FN7 = 32\n",
    "TN7 = 30\n",
    "\n",
    "\n",
    "def fun1(TP,FN,FP,TN):\n",
    "    \n",
    "    print(\"SVM on PIDDD ---------------------->\")\n",
    "    print(\"TP\",TP)\n",
    "    print(\"FN\",FN)\n",
    "    print(\"FP\",FP)\n",
    "    print(\"TN\", TN)\n",
    "    Accuracy = (TP + TN)/(TP + TN + FP + FN)\n",
    "    print(\"Accuracy : {}\".format(Accuracy))\n",
    "    Precision = TP / (TP + FP)\n",
    "    print(\"Precision : {}\".format(Precision))\n",
    "    Recall = TP / (TP + FN)\n",
    "    print(\"Recall : {} \".format(Recall))\n",
    "    F1_score = 2*(Precision*Recall)/(Precision + Recall)\n",
    "    print(\"F1_score : {}\".format(F1_score))\n",
    "    TPR = TP / (TP + FP)\n",
    "    print(\"TPR : {}\".format(TPR))\n",
    "    FPR = FP / (FP + TN)\n",
    "    print(\"FPR : {}\".format(FPR))\n",
    "    \n",
    "fun1(TP7,FN7,FP7,TN7)"
   ]
  },
  {
   "cell_type": "code",
   "execution_count": 81,
   "id": "ec92fd21",
   "metadata": {},
   "outputs": [
    {
     "name": "stdout",
     "output_type": "stream",
     "text": [
      "Requirement already satisfied: graphviz in c:\\users\\panka\\anaconda33\\envs\\cv\\lib\\site-packages (0.20.1)\n"
     ]
    }
   ],
   "source": [
    "!pip install graphviz"
   ]
  },
  {
   "cell_type": "code",
   "execution_count": 82,
   "id": "5b11852f",
   "metadata": {},
   "outputs": [],
   "source": [
    "# import graphviz  \n",
    "# from sklearn.tree import DecisionTreeClassifier, export_graphviz"
   ]
  },
  {
   "cell_type": "code",
   "execution_count": 83,
   "id": "d4f08bf1",
   "metadata": {},
   "outputs": [],
   "source": [
    "# results = []\n",
    "# names = []\n",
    "\n",
    "\n",
    "# def estimator_function(parameter_dictionary, scoring = 'accuracy'):\n",
    "    \n",
    "    \n",
    "#     for name, model, params in models_opt:\n",
    "    \n",
    "#         #kfold = KFold(len(X_train), n_folds=5, random_state=2, shuffle=True)\n",
    "#         skfold=StratifiedKFold(n_splits=5)\n",
    "#         leave_validation=LeaveOneOut()\n",
    "\n",
    "#         model_grid = GridSearchCV(model, params)\n",
    "\n",
    "#         cv_results = cross_val_score(model_grid, X_train, Y_train, cv =leave_validation, scoring=scoring)\n",
    "\n",
    "#         results.append(cv_results)\n",
    "\n",
    "#         names.append(name)\n",
    "\n",
    "#         msg = \"Cross Validation Accuracy %s: Accarcy: %f SD: %f\" % (name, cv_results.mean(), cv_results.std())\n",
    "\n",
    "#         print(msg)"
   ]
  },
  {
   "cell_type": "code",
   "execution_count": 84,
   "id": "0a9cabd9",
   "metadata": {},
   "outputs": [],
   "source": [
    "# kfold = KFold(len(X_train), random_state=2, shuffle=True)\n",
    "# leave_validation=LeaveOneOut()\n",
    "# skfold=StratifiedKFold(n_splits=5)\n",
    "# model_grid_DTC = GridSearchCV(DTC_classifier, DTC_grid)\n",
    "# cv_results = cross_val_score(model_grid_DTC, X_train, Y_train, cv =skfold, scoring='accuracy')"
   ]
  },
  {
   "cell_type": "code",
   "execution_count": 606,
   "id": "e2f1b7bb",
   "metadata": {},
   "outputs": [],
   "source": [
    "# # dot_data = export_graphviz(DTC_grid,   \n",
    "#                       out_file=None, \n",
    "#                       feature_names=x.columns,       #Provide X Variables Column Names \n",
    "#                       class_names=df.columns[-1],      # Provide Target Variable Column Name\n",
    "#                       filled=True, rounded=True,     # Controls the look of the nodes and colours it\n",
    "#                       special_characters=True)  \n",
    "# graph = graphviz.Source(dot_data)  \n",
    "# graph "
   ]
  },
  {
   "cell_type": "code",
   "execution_count": 310,
   "id": "d640e776",
   "metadata": {},
   "outputs": [
    {
     "data": {
      "text/plain": [
       "Index(['Pregnancies', 'Glucose', 'BloodPressure', 'SkinThickness', 'Insulin',\n",
       "       'BMI', 'DiabetesPedigreeFunction', 'Age'],\n",
       "      dtype='object')"
      ]
     },
     "execution_count": 310,
     "metadata": {},
     "output_type": "execute_result"
    }
   ],
   "source": [
    "X_train.columns"
   ]
  },
  {
   "cell_type": "code",
   "execution_count": null,
   "id": "27645cd0",
   "metadata": {},
   "outputs": [],
   "source": []
  },
  {
   "cell_type": "markdown",
   "id": "d2547a8d",
   "metadata": {},
   "source": [
    "# Accuracy Comparision"
   ]
  },
  {
   "cell_type": "code",
   "execution_count": 40,
   "id": "1b4a8e03",
   "metadata": {},
   "outputs": [],
   "source": [
    "Data = pd.read_csv('../data/calculations.csv')"
   ]
  },
  {
   "cell_type": "code",
   "execution_count": 41,
   "id": "eda9abda",
   "metadata": {},
   "outputs": [
    {
     "name": "stdout",
     "output_type": "stream",
     "text": [
      "<class 'pandas.core.frame.DataFrame'>\n",
      "RangeIndex: 8 entries, 0 to 7\n",
      "Data columns (total 8 columns):\n",
      " #   Column                Non-Null Count  Dtype  \n",
      "---  ------                --------------  -----  \n",
      " 0   Classification Model  8 non-null      object \n",
      " 1   Accuracy              8 non-null      float64\n",
      " 2   Specificity           8 non-null      float64\n",
      " 3   Sensitivity           8 non-null      float64\n",
      " 4   Precision             8 non-null      float64\n",
      " 5   AUC                   8 non-null      float64\n",
      " 6   F1-Score              8 non-null      float64\n",
      " 7   MCC                   8 non-null      float64\n",
      "dtypes: float64(7), object(1)\n",
      "memory usage: 640.0+ bytes\n"
     ]
    }
   ],
   "source": [
    "Data.info()"
   ]
  },
  {
   "cell_type": "code",
   "execution_count": null,
   "id": "b1c888cd",
   "metadata": {},
   "outputs": [],
   "source": []
  },
  {
   "cell_type": "code",
   "execution_count": 44,
   "id": "893d401d",
   "metadata": {},
   "outputs": [
    {
     "data": {
      "text/html": [
       "<div>\n",
       "<style scoped>\n",
       "    .dataframe tbody tr th:only-of-type {\n",
       "        vertical-align: middle;\n",
       "    }\n",
       "\n",
       "    .dataframe tbody tr th {\n",
       "        vertical-align: top;\n",
       "    }\n",
       "\n",
       "    .dataframe thead th {\n",
       "        text-align: right;\n",
       "    }\n",
       "</style>\n",
       "<table border=\"1\" class=\"dataframe\">\n",
       "  <thead>\n",
       "    <tr style=\"text-align: right;\">\n",
       "      <th></th>\n",
       "      <th>Classification Model</th>\n",
       "      <th>Accuracy</th>\n",
       "      <th>Specificity</th>\n",
       "      <th>Sensitivity</th>\n",
       "      <th>Precision</th>\n",
       "      <th>AUC</th>\n",
       "      <th>F1-Score</th>\n",
       "      <th>MCC</th>\n",
       "    </tr>\n",
       "  </thead>\n",
       "  <tbody>\n",
       "    <tr>\n",
       "      <th>0</th>\n",
       "      <td>DT</td>\n",
       "      <td>75.00</td>\n",
       "      <td>87.69</td>\n",
       "      <td>48.38</td>\n",
       "      <td>87.69</td>\n",
       "      <td>68.03</td>\n",
       "      <td>0.82</td>\n",
       "      <td>0.39</td>\n",
       "    </tr>\n",
       "    <tr>\n",
       "      <th>1</th>\n",
       "      <td>KNN(k=9)</td>\n",
       "      <td>77.08</td>\n",
       "      <td>86.15</td>\n",
       "      <td>58.06</td>\n",
       "      <td>86.15</td>\n",
       "      <td>72.10</td>\n",
       "      <td>0.83</td>\n",
       "      <td>0.45</td>\n",
       "    </tr>\n",
       "    <tr>\n",
       "      <th>2</th>\n",
       "      <td>RF</td>\n",
       "      <td>79.16</td>\n",
       "      <td>90.76</td>\n",
       "      <td>54.83</td>\n",
       "      <td>90.76</td>\n",
       "      <td>72.80</td>\n",
       "      <td>0.85</td>\n",
       "      <td>0.49</td>\n",
       "    </tr>\n",
       "    <tr>\n",
       "      <th>3</th>\n",
       "      <td>LR</td>\n",
       "      <td>80.72</td>\n",
       "      <td>90.00</td>\n",
       "      <td>61.29</td>\n",
       "      <td>90.76</td>\n",
       "      <td>74.41</td>\n",
       "      <td>0.86</td>\n",
       "      <td>0.52</td>\n",
       "    </tr>\n",
       "    <tr>\n",
       "      <th>4</th>\n",
       "      <td>SVM(Linear)</td>\n",
       "      <td>80.20</td>\n",
       "      <td>90.00</td>\n",
       "      <td>59.67</td>\n",
       "      <td>82.39</td>\n",
       "      <td>74.83</td>\n",
       "      <td>0.86</td>\n",
       "      <td>0.52</td>\n",
       "    </tr>\n",
       "    <tr>\n",
       "      <th>5</th>\n",
       "      <td>SVM(RBF)</td>\n",
       "      <td>77.08</td>\n",
       "      <td>91.53</td>\n",
       "      <td>46.77</td>\n",
       "      <td>91.53</td>\n",
       "      <td>69.15</td>\n",
       "      <td>0.84</td>\n",
       "      <td>0.44</td>\n",
       "    </tr>\n",
       "    <tr>\n",
       "      <th>6</th>\n",
       "      <td>SVM(poly)</td>\n",
       "      <td>76.04</td>\n",
       "      <td>93.84</td>\n",
       "      <td>38.70</td>\n",
       "      <td>93.84</td>\n",
       "      <td>66.27</td>\n",
       "      <td>0.84</td>\n",
       "      <td>0.40</td>\n",
       "    </tr>\n",
       "    <tr>\n",
       "      <th>7</th>\n",
       "      <td>SVM(precomputed)</td>\n",
       "      <td>80.20</td>\n",
       "      <td>90.00</td>\n",
       "      <td>59.67</td>\n",
       "      <td>90.00</td>\n",
       "      <td>74.83</td>\n",
       "      <td>0.86</td>\n",
       "      <td>0.74</td>\n",
       "    </tr>\n",
       "  </tbody>\n",
       "</table>\n",
       "</div>"
      ],
      "text/plain": [
       "  Classification Model  Accuracy  Specificity  Sensitivity  Precision    AUC  \\\n",
       "0                   DT     75.00        87.69        48.38      87.69  68.03   \n",
       "1             KNN(k=9)     77.08        86.15        58.06      86.15  72.10   \n",
       "2                   RF     79.16        90.76        54.83      90.76  72.80   \n",
       "3                   LR     80.72        90.00        61.29      90.76  74.41   \n",
       "4          SVM(Linear)     80.20        90.00        59.67      82.39  74.83   \n",
       "5             SVM(RBF)     77.08        91.53        46.77      91.53  69.15   \n",
       "6            SVM(poly)     76.04        93.84        38.70      93.84  66.27   \n",
       "7     SVM(precomputed)     80.20        90.00        59.67      90.00  74.83   \n",
       "\n",
       "   F1-Score   MCC  \n",
       "0      0.82  0.39  \n",
       "1      0.83  0.45  \n",
       "2      0.85  0.49  \n",
       "3      0.86  0.52  \n",
       "4      0.86  0.52  \n",
       "5      0.84  0.44  \n",
       "6      0.84  0.40  \n",
       "7      0.86  0.74  "
      ]
     },
     "execution_count": 44,
     "metadata": {},
     "output_type": "execute_result"
    }
   ],
   "source": [
    "Data"
   ]
  },
  {
   "cell_type": "markdown",
   "id": "46ac6232",
   "metadata": {},
   "source": [
    "### Accuracy Without Hyperparameter Tuning"
   ]
  },
  {
   "cell_type": "markdown",
   "id": "c634e5c4",
   "metadata": {},
   "source": [
    "<img src=\"../images/performances.png\" width=\"100%\">"
   ]
  },
  {
   "cell_type": "code",
   "execution_count": 45,
   "id": "388bb503",
   "metadata": {},
   "outputs": [
    {
     "data": {
      "text/plain": [
       "<Figure size 1000x1400 with 0 Axes>"
      ]
     },
     "metadata": {},
     "output_type": "display_data"
    },
    {
     "data": {
      "image/png": "[encoded data removed]",
      "text/plain": [
       "<Figure size 640x480 with 1 Axes>"
      ]
     },
     "metadata": {},
     "output_type": "display_data"
    }
   ],
   "source": [
    "plt.figure(figsize=(10,14))\n",
    "ax = Data.plot(kind='bar', x = 'Classification Model',y= ['Accuracy','Specificity', 'Sensitivity'] , width =0.8 )\n",
    "plt.ylim(0,130)\n",
    "for container in  ax.containers:\n",
    "    ax.bar_label(container)"
   ]
  },
  {
   "cell_type": "code",
   "execution_count": 155,
   "id": "c908ba98",
   "metadata": {},
   "outputs": [
    {
     "data": {
      "text/plain": [
       "<Figure size 1000x1000 with 0 Axes>"
      ]
     },
     "metadata": {},
     "output_type": "display_data"
    },
    {
     "data": {
      "image/png": "[encoded data removed]",
      "text/plain": [
       "<Figure size 640x480 with 1 Axes>"
      ]
     },
     "metadata": {},
     "output_type": "display_data"
    }
   ],
   "source": [
    "plt.figure(figsize=(10,10))\n",
    "ax = Data.plot(kind='bar', x = 'Classification Model',y= ['F1-Score','MCC'] , width =0.8 )\n",
    "plt.ylim(0,1.1)\n",
    "for container in  ax.containers:\n",
    "    ax.bar_label(container)"
   ]
  },
  {
   "cell_type": "code",
   "execution_count": 147,
   "id": "a9e50c00",
   "metadata": {},
   "outputs": [
    {
     "data": {
      "text/plain": [
       "(0.0, 120.0)"
      ]
     },
     "execution_count": 147,
     "metadata": {},
     "output_type": "execute_result"
    },
    {
     "data": {
      "image/png": "[encoded data removed]",
      "text/plain": [
       "<Figure size 640x480 with 1 Axes>"
      ]
     },
     "metadata": {},
     "output_type": "display_data"
    }
   ],
   "source": [
    "\n",
    "Data.plot( kind='bar', x = 'Classification Model', y= ['Precision','AUC'] , width =0.8 )\n",
    "plt.ylim(0,120)\n",
    "# for container in  ax.containers:\n",
    "#     ax.bar_label(container)"
   ]
  },
  {
   "cell_type": "code",
   "execution_count": 142,
   "id": "24b564a8",
   "metadata": {},
   "outputs": [
    {
     "name": "stdout",
     "output_type": "stream",
     "text": [
      "<class 'pandas.core.frame.DataFrame'>\n",
      "RangeIndex: 8 entries, 0 to 7\n",
      "Data columns (total 8 columns):\n",
      " #   Column                Non-Null Count  Dtype  \n",
      "---  ------                --------------  -----  \n",
      " 0   Classification Model  8 non-null      object \n",
      " 1   Accuracy              8 non-null      float64\n",
      " 2   Specificity           8 non-null      float64\n",
      " 3   Sensitivity           8 non-null      float64\n",
      " 4   Precision             8 non-null      float64\n",
      " 5   AUC                   8 non-null      float64\n",
      " 6   F1-Score              8 non-null      float64\n",
      " 7   MCC                   8 non-null      float64\n",
      "dtypes: float64(7), object(1)\n",
      "memory usage: 640.0+ bytes\n"
     ]
    }
   ],
   "source": [
    "Data.info()\n"
   ]
  },
  {
   "cell_type": "markdown",
   "id": "e0f5341b",
   "metadata": {},
   "source": [
    "### Thank You"
   ]
  },
  {
   "cell_type": "code",
   "execution_count": null,
   "id": "20bae417",
   "metadata": {},
   "outputs": [],
   "source": []
  },
  {
   "cell_type": "code",
   "execution_count": null,
   "id": "3477646b",
   "metadata": {},
   "outputs": [],
   "source": []
  }
 ],
 "metadata": {
  "kernelspec": {
   "display_name": "Python 3 (ipykernel)",
   "language": "python",
   "name": "python3"
  },
  "language_info": {
   "codemirror_mode": {
    "name": "ipython",
    "version": 3
   },
   "file_extension": ".py",
   "mimetype": "text/x-python",
   "name": "python",
   "nbconvert_exporter": "python",
   "pygments_lexer": "ipython3",
   "version": "3.9.15"
  }
 },
 "nbformat": 4,
 "nbformat_minor": 5
}
