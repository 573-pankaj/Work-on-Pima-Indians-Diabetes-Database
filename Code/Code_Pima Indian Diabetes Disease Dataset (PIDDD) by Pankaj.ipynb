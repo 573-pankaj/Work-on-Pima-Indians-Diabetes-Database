{
 "cells": [
  {
   "cell_type": "code",
   "execution_count": 1,
   "id": "20b0c8b9",
   "metadata": {},
   "outputs": [],
   "source": [
    "import pandas as pd\n",
    "import matplotlib.pyplot as plt\n",
    "import numpy as np"
   ]
  },
  {
   "cell_type": "markdown",
   "id": "2ceeccea",
   "metadata": {},
   "source": [
    "### Importing Dataset"
   ]
  },
  {
   "cell_type": "code",
   "execution_count": 2,
   "id": "cbe38576",
   "metadata": {},
   "outputs": [],
   "source": [
    "df = pd.read_csv('../data/diabetes.csv')"
   ]
  },
  {
   "cell_type": "code",
   "execution_count": 3,
   "id": "bba5aed8",
   "metadata": {},
   "outputs": [
    {
     "data": {
      "text/html": [
       "<div>\n",
       "<style scoped>\n",
       "    .dataframe tbody tr th:only-of-type {\n",
       "        vertical-align: middle;\n",
       "    }\n",
       "\n",
       "    .dataframe tbody tr th {\n",
       "        vertical-align: top;\n",
       "    }\n",
       "\n",
       "    .dataframe thead th {\n",
       "        text-align: right;\n",
       "    }\n",
       "</style>\n",
       "<table border=\"1\" class=\"dataframe\">\n",
       "  <thead>\n",
       "    <tr style=\"text-align: right;\">\n",
       "      <th></th>\n",
       "      <th>Pregnancies</th>\n",
       "      <th>Glucose</th>\n",
       "      <th>BloodPressure</th>\n",
       "      <th>SkinThickness</th>\n",
       "      <th>Insulin</th>\n",
       "      <th>BMI</th>\n",
       "      <th>DiabetesPedigreeFunction</th>\n",
       "      <th>Age</th>\n",
       "      <th>Outcome</th>\n",
       "    </tr>\n",
       "  </thead>\n",
       "  <tbody>\n",
       "    <tr>\n",
       "      <th>0</th>\n",
       "      <td>6</td>\n",
       "      <td>148</td>\n",
       "      <td>72</td>\n",
       "      <td>35</td>\n",
       "      <td>0</td>\n",
       "      <td>33.6</td>\n",
       "      <td>0.627</td>\n",
       "      <td>50</td>\n",
       "      <td>1</td>\n",
       "    </tr>\n",
       "    <tr>\n",
       "      <th>1</th>\n",
       "      <td>1</td>\n",
       "      <td>85</td>\n",
       "      <td>66</td>\n",
       "      <td>29</td>\n",
       "      <td>0</td>\n",
       "      <td>26.6</td>\n",
       "      <td>0.351</td>\n",
       "      <td>31</td>\n",
       "      <td>0</td>\n",
       "    </tr>\n",
       "    <tr>\n",
       "      <th>2</th>\n",
       "      <td>8</td>\n",
       "      <td>183</td>\n",
       "      <td>64</td>\n",
       "      <td>0</td>\n",
       "      <td>0</td>\n",
       "      <td>23.3</td>\n",
       "      <td>0.672</td>\n",
       "      <td>32</td>\n",
       "      <td>1</td>\n",
       "    </tr>\n",
       "    <tr>\n",
       "      <th>3</th>\n",
       "      <td>1</td>\n",
       "      <td>89</td>\n",
       "      <td>66</td>\n",
       "      <td>23</td>\n",
       "      <td>94</td>\n",
       "      <td>28.1</td>\n",
       "      <td>0.167</td>\n",
       "      <td>21</td>\n",
       "      <td>0</td>\n",
       "    </tr>\n",
       "    <tr>\n",
       "      <th>4</th>\n",
       "      <td>0</td>\n",
       "      <td>137</td>\n",
       "      <td>40</td>\n",
       "      <td>35</td>\n",
       "      <td>168</td>\n",
       "      <td>43.1</td>\n",
       "      <td>2.288</td>\n",
       "      <td>33</td>\n",
       "      <td>1</td>\n",
       "    </tr>\n",
       "    <tr>\n",
       "      <th>...</th>\n",
       "      <td>...</td>\n",
       "      <td>...</td>\n",
       "      <td>...</td>\n",
       "      <td>...</td>\n",
       "      <td>...</td>\n",
       "      <td>...</td>\n",
       "      <td>...</td>\n",
       "      <td>...</td>\n",
       "      <td>...</td>\n",
       "    </tr>\n",
       "    <tr>\n",
       "      <th>763</th>\n",
       "      <td>10</td>\n",
       "      <td>101</td>\n",
       "      <td>76</td>\n",
       "      <td>48</td>\n",
       "      <td>180</td>\n",
       "      <td>32.9</td>\n",
       "      <td>0.171</td>\n",
       "      <td>63</td>\n",
       "      <td>0</td>\n",
       "    </tr>\n",
       "    <tr>\n",
       "      <th>764</th>\n",
       "      <td>2</td>\n",
       "      <td>122</td>\n",
       "      <td>70</td>\n",
       "      <td>27</td>\n",
       "      <td>0</td>\n",
       "      <td>36.8</td>\n",
       "      <td>0.340</td>\n",
       "      <td>27</td>\n",
       "      <td>0</td>\n",
       "    </tr>\n",
       "    <tr>\n",
       "      <th>765</th>\n",
       "      <td>5</td>\n",
       "      <td>121</td>\n",
       "      <td>72</td>\n",
       "      <td>23</td>\n",
       "      <td>112</td>\n",
       "      <td>26.2</td>\n",
       "      <td>0.245</td>\n",
       "      <td>30</td>\n",
       "      <td>0</td>\n",
       "    </tr>\n",
       "    <tr>\n",
       "      <th>766</th>\n",
       "      <td>1</td>\n",
       "      <td>126</td>\n",
       "      <td>60</td>\n",
       "      <td>0</td>\n",
       "      <td>0</td>\n",
       "      <td>30.1</td>\n",
       "      <td>0.349</td>\n",
       "      <td>47</td>\n",
       "      <td>1</td>\n",
       "    </tr>\n",
       "    <tr>\n",
       "      <th>767</th>\n",
       "      <td>1</td>\n",
       "      <td>93</td>\n",
       "      <td>70</td>\n",
       "      <td>31</td>\n",
       "      <td>0</td>\n",
       "      <td>30.4</td>\n",
       "      <td>0.315</td>\n",
       "      <td>23</td>\n",
       "      <td>0</td>\n",
       "    </tr>\n",
       "  </tbody>\n",
       "</table>\n",
       "<p>768 rows × 9 columns</p>\n",
       "</div>"
      ],
      "text/plain": [
       "     Pregnancies  Glucose  BloodPressure  SkinThickness  Insulin   BMI  \\\n",
       "0              6      148             72             35        0  33.6   \n",
       "1              1       85             66             29        0  26.6   \n",
       "2              8      183             64              0        0  23.3   \n",
       "3              1       89             66             23       94  28.1   \n",
       "4              0      137             40             35      168  43.1   \n",
       "..           ...      ...            ...            ...      ...   ...   \n",
       "763           10      101             76             48      180  32.9   \n",
       "764            2      122             70             27        0  36.8   \n",
       "765            5      121             72             23      112  26.2   \n",
       "766            1      126             60              0        0  30.1   \n",
       "767            1       93             70             31        0  30.4   \n",
       "\n",
       "     DiabetesPedigreeFunction  Age  Outcome  \n",
       "0                       0.627   50        1  \n",
       "1                       0.351   31        0  \n",
       "2                       0.672   32        1  \n",
       "3                       0.167   21        0  \n",
       "4                       2.288   33        1  \n",
       "..                        ...  ...      ...  \n",
       "763                     0.171   63        0  \n",
       "764                     0.340   27        0  \n",
       "765                     0.245   30        0  \n",
       "766                     0.349   47        1  \n",
       "767                     0.315   23        0  \n",
       "\n",
       "[768 rows x 9 columns]"
      ]
     },
     "execution_count": 3,
     "metadata": {},
     "output_type": "execute_result"
    }
   ],
   "source": [
    "df"
   ]
  },
  {
   "cell_type": "markdown",
   "id": "ea3df868",
   "metadata": {},
   "source": [
    "### Checking Null Value"
   ]
  },
  {
   "cell_type": "code",
   "execution_count": 4,
   "id": "23cd9829",
   "metadata": {
    "scrolled": true
   },
   "outputs": [
    {
     "data": {
      "text/plain": [
       "Pregnancies                 0\n",
       "Glucose                     0\n",
       "BloodPressure               0\n",
       "SkinThickness               0\n",
       "Insulin                     0\n",
       "BMI                         0\n",
       "DiabetesPedigreeFunction    0\n",
       "Age                         0\n",
       "Outcome                     0\n",
       "dtype: int64"
      ]
     },
     "execution_count": 4,
     "metadata": {},
     "output_type": "execute_result"
    }
   ],
   "source": [
    "df.isnull().sum()"
   ]
  },
  {
   "cell_type": "code",
   "execution_count": 5,
   "id": "16ff3256",
   "metadata": {},
   "outputs": [],
   "source": [
    "x = df.drop(['Outcome'],axis = 1)\n",
    "\n",
    "y = df['Outcome']"
   ]
  },
  {
   "cell_type": "code",
   "execution_count": 6,
   "id": "10f70366",
   "metadata": {},
   "outputs": [],
   "source": [
    "# !pip install scikit-learn"
   ]
  },
  {
   "cell_type": "code",
   "execution_count": 7,
   "id": "b16816f2",
   "metadata": {},
   "outputs": [],
   "source": [
    "from sklearn.model_selection import train_test_split\n",
    "xtrain, xtest, ytrain, ytest = train_test_split(x,y, test_size = 0.20)"
   ]
  },
  {
   "cell_type": "markdown",
   "id": "190d93f4",
   "metadata": {},
   "source": [
    "### Decision Tree"
   ]
  },
  {
   "cell_type": "code",
   "execution_count": 10,
   "id": "3e02271f",
   "metadata": {},
   "outputs": [
    {
     "data": {
      "text/plain": [
       "0.6883116883116883"
      ]
     },
     "execution_count": 10,
     "metadata": {},
     "output_type": "execute_result"
    }
   ],
   "source": [
    "from sklearn.tree import DecisionTreeClassifier  # load Decision libraries\n",
    " \n",
    "dtc = DecisionTreeClassifier()   # create a decision tree class\n",
    "\n",
    "dtc.fit(xtrain,ytrain)\n",
    "\n",
    "dtc.score(xtest,ytest)"
   ]
  },
  {
   "cell_type": "markdown",
   "id": "c3556db2",
   "metadata": {},
   "source": [
    "### Scope hyper parameter tuing for DT"
   ]
  },
  {
   "cell_type": "code",
   "execution_count": null,
   "id": "544e64b6",
   "metadata": {},
   "outputs": [],
   "source": []
  },
  {
   "cell_type": "code",
   "execution_count": 8,
   "id": "0721327c",
   "metadata": {},
   "outputs": [
    {
     "name": "stdout",
     "output_type": "stream",
     "text": [
      "Confusion Matrix : \n",
      " [[87 30]\n",
      " [13 24]]\n",
      "Accuracy :  0.7207792207792207\n",
      "specificity1 :  0.7435897435897436\n",
      "Sensitivity :  0.6486486486486487\n",
      "MCC :  0.351193939778555\n",
      "AUC :  0.6961191961191961\n",
      "              precision    recall  f1-score   support\n",
      "\n",
      "           0       0.87      0.74      0.80       117\n",
      "           1       0.44      0.65      0.53        37\n",
      "\n",
      "    accuracy                           0.72       154\n",
      "   macro avg       0.66      0.70      0.66       154\n",
      "weighted avg       0.77      0.72      0.74       154\n",
      "\n"
     ]
    }
   ],
   "source": [
    "pred_dtc = dtc.predict(xtest)\n",
    "\n",
    "from sklearn.metrics import confusion_matrix\n",
    "\n",
    "cm1 = confusion_matrix(ytest,pred_dtc)\n",
    "print('Confusion Matrix : \\n', cm1)\n",
    "\n",
    "total1=sum(sum(cm1))\n",
    "\n",
    "accuracy1=(cm1[0,0]+cm1[1,1])/total1\n",
    "print ('Accuracy : ', accuracy1)\n",
    "\n",
    "specificity1 = cm1[0,0]/(cm1[0,0]+cm1[0,1])\n",
    "print('specificity1 : ', specificity1)\n",
    "\n",
    "sensitivity1 = cm1[1,1]/(cm1[1,0]+cm1[1,1])\n",
    "print('Sensitivity : ', sensitivity1)\n",
    "\n",
    "from sklearn.metrics import matthews_corrcoef\n",
    "\n",
    "print(\"MCC : \",matthews_corrcoef(ytest,pred_dtc))\n",
    "\n",
    "from sklearn.metrics import roc_auc_score\n",
    "\n",
    "print(\"AUC : \",roc_auc_score(ytest,pred_dtc))\n",
    "\n",
    "from sklearn.metrics import classification_report\n",
    "\n",
    "print(classification_report(ytest, pred_dtc))"
   ]
  },
  {
   "cell_type": "markdown",
   "id": "4a51123c",
   "metadata": {},
   "source": [
    "### K-Nearest Neighbors"
   ]
  },
  {
   "cell_type": "code",
   "execution_count": 9,
   "id": "5db137a3",
   "metadata": {},
   "outputs": [
    {
     "data": {
      "text/plain": [
       "0.7792207792207793"
      ]
     },
     "execution_count": 9,
     "metadata": {},
     "output_type": "execute_result"
    }
   ],
   "source": [
    "from sklearn.neighbors import KNeighborsClassifier\n",
    "\n",
    "knn = KNeighborsClassifier(n_neighbors = 9)\n",
    "\n",
    "knn.fit(xtrain,ytrain)\n",
    "\n",
    "knn.score(xtest,ytest)"
   ]
  },
  {
   "cell_type": "code",
   "execution_count": null,
   "id": "0e0b6120",
   "metadata": {},
   "outputs": [],
   "source": [
    "# Scopre of hyper parameter tuning"
   ]
  },
  {
   "cell_type": "code",
   "execution_count": null,
   "id": "79af97b8",
   "metadata": {},
   "outputs": [],
   "source": []
  },
  {
   "cell_type": "code",
   "execution_count": 10,
   "id": "0bcd84de",
   "metadata": {},
   "outputs": [
    {
     "name": "stdout",
     "output_type": "stream",
     "text": [
      "Confusion Matrix : \n",
      " [[94 23]\n",
      " [11 26]]\n",
      "Accuracy :  0.7792207792207793\n",
      "specificity1 :  0.8034188034188035\n",
      "Sensitivity :  0.7027027027027027\n",
      "MCC :  0.46425425741937526\n",
      "AUC :  0.753060753060753\n",
      "              precision    recall  f1-score   support\n",
      "\n",
      "           0       0.90      0.80      0.85       117\n",
      "           1       0.53      0.70      0.60        37\n",
      "\n",
      "    accuracy                           0.78       154\n",
      "   macro avg       0.71      0.75      0.73       154\n",
      "weighted avg       0.81      0.78      0.79       154\n",
      "\n"
     ]
    }
   ],
   "source": [
    "pred_knn = knn.predict(xtest)\n",
    "\n",
    "from sklearn.metrics import confusion_matrix\n",
    "\n",
    "cm1 = confusion_matrix(ytest,pred_knn)\n",
    "print('Confusion Matrix : \\n', cm1)\n",
    "\n",
    "total1=sum(sum(cm1))\n",
    "\n",
    "accuracy1=(cm1[0,0]+cm1[1,1])/total1\n",
    "print ('Accuracy : ', accuracy1)\n",
    "\n",
    "specificity1 = cm1[0,0]/(cm1[0,0]+cm1[0,1])\n",
    "print('specificity1 : ', specificity1)\n",
    "\n",
    "sensitivity1 = cm1[1,1]/(cm1[1,0]+cm1[1,1])\n",
    "print('Sensitivity : ', sensitivity1)\n",
    "\n",
    "from sklearn.metrics import matthews_corrcoef\n",
    "\n",
    "print(\"MCC : \",matthews_corrcoef(ytest,pred_knn))\n",
    "\n",
    "from sklearn.metrics import roc_auc_score\n",
    "\n",
    "print(\"AUC : \",roc_auc_score(ytest,pred_knn))\n",
    "\n",
    "from sklearn.metrics import classification_report\n",
    "\n",
    "print(classification_report(ytest, pred_knn))"
   ]
  },
  {
   "cell_type": "markdown",
   "id": "2df41bcb",
   "metadata": {},
   "source": [
    "### Random Forest"
   ]
  },
  {
   "cell_type": "code",
   "execution_count": 11,
   "id": "78ea7ee1",
   "metadata": {},
   "outputs": [
    {
     "data": {
      "text/plain": [
       "0.7857142857142857"
      ]
     },
     "execution_count": 11,
     "metadata": {},
     "output_type": "execute_result"
    }
   ],
   "source": [
    "from sklearn.ensemble import RandomForestClassifier\n",
    "\n",
    "rfc = RandomForestClassifier()\n",
    "\n",
    "rfc.fit(xtrain,ytrain)\n",
    "\n",
    "rfc.score(xtest,ytest)"
   ]
  },
  {
   "cell_type": "markdown",
   "id": "21b9dda8",
   "metadata": {},
   "source": [
    "#### Scope of hyper parameter tuning  and corss validations"
   ]
  },
  {
   "cell_type": "code",
   "execution_count": null,
   "id": "b5dbb71b",
   "metadata": {},
   "outputs": [],
   "source": []
  },
  {
   "cell_type": "code",
   "execution_count": null,
   "id": "1dd7196b",
   "metadata": {},
   "outputs": [],
   "source": []
  },
  {
   "cell_type": "code",
   "execution_count": 12,
   "id": "dae2f7d8",
   "metadata": {},
   "outputs": [
    {
     "name": "stdout",
     "output_type": "stream",
     "text": [
      "Confusion Matrix : \n",
      " [[95 22]\n",
      " [11 26]]\n",
      "Accuracy :  0.7857142857142857\n",
      "specificity1 :  0.811965811965812\n",
      "Sensitivity :  0.7027027027027027\n",
      "MCC :  0.47473127343114396\n",
      "AUC :  0.7573342573342574\n",
      "              precision    recall  f1-score   support\n",
      "\n",
      "           0       0.90      0.81      0.85       117\n",
      "           1       0.54      0.70      0.61        37\n",
      "\n",
      "    accuracy                           0.79       154\n",
      "   macro avg       0.72      0.76      0.73       154\n",
      "weighted avg       0.81      0.79      0.79       154\n",
      "\n"
     ]
    }
   ],
   "source": [
    "pred_rfc = rfc.predict(xtest)\n",
    "\n",
    "from sklearn.metrics import confusion_matrix\n",
    "\n",
    "cm1 = confusion_matrix(ytest,pred_rfc)\n",
    "print('Confusion Matrix : \\n', cm1)\n",
    "\n",
    "total1=sum(sum(cm1))\n",
    "\n",
    "accuracy1=(cm1[0,0]+cm1[1,1])/total1\n",
    "print ('Accuracy : ', accuracy1)\n",
    "\n",
    "specificity1 = cm1[0,0]/(cm1[0,0]+cm1[0,1])\n",
    "print('specificity1 : ', specificity1)\n",
    "\n",
    "sensitivity1 = cm1[1,1]/(cm1[1,0]+cm1[1,1])\n",
    "print('Sensitivity : ', sensitivity1)\n",
    "\n",
    "from sklearn.metrics import matthews_corrcoef\n",
    "\n",
    "print(\"MCC : \",matthews_corrcoef(ytest,pred_rfc))\n",
    "\n",
    "from sklearn.metrics import roc_auc_score\n",
    "\n",
    "print(\"AUC : \",roc_auc_score(ytest,pred_rfc))\n",
    "\n",
    "from sklearn.metrics import classification_report\n",
    "\n",
    "print(classification_report(ytest, pred_rfc))"
   ]
  },
  {
   "cell_type": "markdown",
   "id": "82f3cccb",
   "metadata": {},
   "source": [
    "### Logistic Regression"
   ]
  },
  {
   "cell_type": "code",
   "execution_count": 11,
   "id": "6203bb09",
   "metadata": {},
   "outputs": [
    {
     "name": "stderr",
     "output_type": "stream",
     "text": [
      "C:\\Users\\panka\\anaconda33\\envs\\cv\\lib\\site-packages\\sklearn\\linear_model\\_logistic.py:458: ConvergenceWarning: lbfgs failed to converge (status=1):\n",
      "STOP: TOTAL NO. of ITERATIONS REACHED LIMIT.\n",
      "\n",
      "Increase the number of iterations (max_iter) or scale the data as shown in:\n",
      "    https://scikit-learn.org/stable/modules/preprocessing.html\n",
      "Please also refer to the documentation for alternative solver options:\n",
      "    https://scikit-learn.org/stable/modules/linear_model.html#logistic-regression\n",
      "  n_iter_i = _check_optimize_result(\n"
     ]
    },
    {
     "data": {
      "text/plain": [
       "0.7272727272727273"
      ]
     },
     "execution_count": 11,
     "metadata": {},
     "output_type": "execute_result"
    }
   ],
   "source": [
    "from sklearn.linear_model import LogisticRegression\n",
    "\n",
    "logReg = LogisticRegression()\n",
    "\n",
    "logReg.fit(xtrain,ytrain)\n",
    "\n",
    "logReg.score(xtest,ytest)"
   ]
  },
  {
   "cell_type": "markdown",
   "id": "d8f74e12",
   "metadata": {},
   "source": [
    "#### scope of  hyper parameter tuning and cross validations"
   ]
  },
  {
   "cell_type": "code",
   "execution_count": null,
   "id": "d9dd0bb8",
   "metadata": {},
   "outputs": [],
   "source": []
  },
  {
   "cell_type": "code",
   "execution_count": 14,
   "id": "41af36c4",
   "metadata": {},
   "outputs": [
    {
     "name": "stdout",
     "output_type": "stream",
     "text": [
      "Confusion Matrix : \n",
      " [[96 21]\n",
      " [13 24]]\n",
      "Accuracy :  0.7792207792207793\n",
      "specificity1 :  0.8205128205128205\n",
      "Sensitivity :  0.6486486486486487\n",
      "MCC :  0.4407543676618945\n",
      "AUC :  0.7345807345807346\n",
      "              precision    recall  f1-score   support\n",
      "\n",
      "           0       0.88      0.82      0.85       117\n",
      "           1       0.53      0.65      0.59        37\n",
      "\n",
      "    accuracy                           0.78       154\n",
      "   macro avg       0.71      0.73      0.72       154\n",
      "weighted avg       0.80      0.78      0.79       154\n",
      "\n"
     ]
    }
   ],
   "source": [
    "pred_logReg = logReg.predict(xtest)\n",
    "\n",
    "from sklearn.metrics import confusion_matrix\n",
    "\n",
    "cm1 = confusion_matrix(ytest,pred_logReg)\n",
    "print('Confusion Matrix : \\n', cm1)\n",
    "\n",
    "total1=sum(sum(cm1))\n",
    "\n",
    "accuracy1=(cm1[0,0]+cm1[1,1])/total1\n",
    "print ('Accuracy : ', accuracy1)\n",
    "\n",
    "specificity1 = cm1[0,0]/(cm1[0,0]+cm1[0,1])\n",
    "print('specificity1 : ', specificity1)\n",
    "\n",
    "sensitivity1 = cm1[1,1]/(cm1[1,0]+cm1[1,1])\n",
    "print('Sensitivity : ', sensitivity1)\n",
    "\n",
    "from sklearn.metrics import matthews_corrcoef\n",
    "\n",
    "print(\"MCC : \",matthews_corrcoef(ytest,pred_logReg))\n",
    "\n",
    "from sklearn.metrics import roc_auc_score\n",
    "\n",
    "print(\"AUC : \",roc_auc_score(ytest,pred_logReg))\n",
    "\n",
    "from sklearn.metrics import classification_report\n",
    "\n",
    "print(classification_report(ytest, pred_logReg))"
   ]
  },
  {
   "cell_type": "markdown",
   "id": "40d874da",
   "metadata": {},
   "source": [
    "### Support Vector Machine (Linear)"
   ]
  },
  {
   "cell_type": "code",
   "execution_count": 15,
   "id": "ada5dcaa",
   "metadata": {},
   "outputs": [
    {
     "data": {
      "text/plain": [
       "0.7987012987012987"
      ]
     },
     "execution_count": 15,
     "metadata": {},
     "output_type": "execute_result"
    }
   ],
   "source": [
    "from sklearn.svm import SVC\n",
    "\n",
    "svml = SVC(kernel = 'linear')\n",
    "\n",
    "svml.fit(xtrain,ytrain)\n",
    "\n",
    "svml.score(xtest,ytest)"
   ]
  },
  {
   "cell_type": "markdown",
   "id": "4a61f3bc",
   "metadata": {},
   "source": [
    "#### scope of  hyper parameter tuning and cross validations"
   ]
  },
  {
   "cell_type": "code",
   "execution_count": null,
   "id": "d4e42ef4",
   "metadata": {},
   "outputs": [],
   "source": []
  },
  {
   "cell_type": "code",
   "execution_count": 16,
   "id": "ae7a71ae",
   "metadata": {},
   "outputs": [
    {
     "name": "stdout",
     "output_type": "stream",
     "text": [
      "Confusion Matrix : \n",
      " [[97 20]\n",
      " [11 26]]\n",
      "Accuracy :  0.7987012987012987\n",
      "specificity1 :  0.8290598290598291\n",
      "Sensitivity :  0.7027027027027027\n",
      "MCC :  0.4963873813774586\n",
      "AUC :  0.7658812658812658\n",
      "              precision    recall  f1-score   support\n",
      "\n",
      "           0       0.90      0.83      0.86       117\n",
      "           1       0.57      0.70      0.63        37\n",
      "\n",
      "    accuracy                           0.80       154\n",
      "   macro avg       0.73      0.77      0.74       154\n",
      "weighted avg       0.82      0.80      0.81       154\n",
      "\n"
     ]
    }
   ],
   "source": [
    "pred_svml = svml.predict(xtest)\n",
    "\n",
    "from sklearn.metrics import confusion_matrix\n",
    "\n",
    "cm1 = confusion_matrix(ytest,pred_svml)\n",
    "print('Confusion Matrix : \\n', cm1)\n",
    "\n",
    "total1=sum(sum(cm1))\n",
    "\n",
    "accuracy1=(cm1[0,0]+cm1[1,1])/total1\n",
    "print ('Accuracy : ', accuracy1)\n",
    "\n",
    "specificity1 = cm1[0,0]/(cm1[0,0]+cm1[0,1])\n",
    "print('specificity1 : ', specificity1)\n",
    "\n",
    "sensitivity1 = cm1[1,1]/(cm1[1,0]+cm1[1,1])\n",
    "print('Sensitivity : ', sensitivity1)\n",
    "\n",
    "from sklearn.metrics import matthews_corrcoef\n",
    "\n",
    "print(\"MCC : \",matthews_corrcoef(ytest,pred_svml))\n",
    "\n",
    "from sklearn.metrics import roc_auc_score\n",
    "\n",
    "print(\"AUC : \",roc_auc_score(ytest,pred_svml))\n",
    "\n",
    "from sklearn.metrics import classification_report\n",
    "\n",
    "print(classification_report(ytest, pred_svml))"
   ]
  },
  {
   "cell_type": "markdown",
   "id": "896a3c39",
   "metadata": {},
   "source": [
    "### Support Vector Machine (RBF)"
   ]
  },
  {
   "cell_type": "code",
   "execution_count": 17,
   "id": "8ebfa16b",
   "metadata": {},
   "outputs": [
    {
     "data": {
      "text/plain": [
       "0.8311688311688312"
      ]
     },
     "execution_count": 17,
     "metadata": {},
     "output_type": "execute_result"
    }
   ],
   "source": [
    "from sklearn.svm import SVC\n",
    "\n",
    "svmr = SVC(kernel = 'rbf')\n",
    "\n",
    "svmr.fit(xtrain,ytrain)\n",
    "\n",
    "svmr.score(xtest,ytest)"
   ]
  },
  {
   "cell_type": "markdown",
   "id": "c6c2366f",
   "metadata": {},
   "source": [
    "### scope of  hyper parameter tuning and cross validations"
   ]
  },
  {
   "cell_type": "code",
   "execution_count": null,
   "id": "56ac5087",
   "metadata": {},
   "outputs": [],
   "source": []
  },
  {
   "cell_type": "code",
   "execution_count": null,
   "id": "6ede1d5f",
   "metadata": {},
   "outputs": [],
   "source": []
  },
  {
   "cell_type": "code",
   "execution_count": 18,
   "id": "dafb4cfe",
   "metadata": {},
   "outputs": [
    {
     "name": "stdout",
     "output_type": "stream",
     "text": [
      "Confusion Matrix : \n",
      " [[106  11]\n",
      " [ 15  22]]\n",
      "Accuracy :  0.8311688311688312\n",
      "specificity1 :  0.905982905982906\n",
      "Sensitivity :  0.5945945945945946\n",
      "MCC :  0.5212132688864239\n",
      "AUC :  0.7502887502887504\n",
      "              precision    recall  f1-score   support\n",
      "\n",
      "           0       0.88      0.91      0.89       117\n",
      "           1       0.67      0.59      0.63        37\n",
      "\n",
      "    accuracy                           0.83       154\n",
      "   macro avg       0.77      0.75      0.76       154\n",
      "weighted avg       0.83      0.83      0.83       154\n",
      "\n"
     ]
    }
   ],
   "source": [
    "pred_svmr = svmr.predict(xtest)\n",
    "\n",
    "from sklearn.metrics import confusion_matrix\n",
    "\n",
    "cm1 = confusion_matrix(ytest,pred_svmr)\n",
    "print('Confusion Matrix : \\n', cm1)\n",
    "\n",
    "total1=sum(sum(cm1))\n",
    "\n",
    "accuracy1=(cm1[0,0]+cm1[1,1])/total1\n",
    "print ('Accuracy : ', accuracy1)\n",
    "\n",
    "specificity1 = cm1[0,0]/(cm1[0,0]+cm1[0,1])\n",
    "print('specificity1 : ', specificity1)\n",
    "\n",
    "sensitivity1 = cm1[1,1]/(cm1[1,0]+cm1[1,1])\n",
    "print('Sensitivity : ', sensitivity1)\n",
    "\n",
    "from sklearn.metrics import matthews_corrcoef\n",
    "\n",
    "print(\"MCC : \",matthews_corrcoef(ytest,pred_svmr))\n",
    "\n",
    "from sklearn.metrics import roc_auc_score\n",
    "\n",
    "print(\"AUC : \",roc_auc_score(ytest,pred_svmr))\n",
    "\n",
    "from sklearn.metrics import classification_report\n",
    "\n",
    "print(classification_report(ytest, pred_svmr))"
   ]
  }
 ],
 "metadata": {
  "kernelspec": {
   "display_name": "Python 3 (ipykernel)",
   "language": "python",
   "name": "python3"
  },
  "language_info": {
   "codemirror_mode": {
    "name": "ipython",
    "version": 3
   },
   "file_extension": ".py",
   "mimetype": "text/x-python",
   "name": "python",
   "nbconvert_exporter": "python",
   "pygments_lexer": "ipython3",
   "version": "3.9.15"
  }
 },
 "nbformat": 4,
 "nbformat_minor": 5
}
