{
 "cells": [
  {
   "cell_type": "markdown",
   "id": "14b2904a",
   "metadata": {},
   "source": [
    "<img src=\"../images/performances.png\" width=\"100%\">"
   ]
  },
  {
   "cell_type": "code",
   "execution_count": 605,
   "id": "20b0c8b9",
   "metadata": {},
   "outputs": [],
   "source": [
    "import pandas as pd\n",
    "import matplotlib.pyplot as plt\n",
    "import numpy as np"
   ]
  },
  {
   "cell_type": "markdown",
   "id": "2ceeccea",
   "metadata": {},
   "source": [
    "### Importing Dataset"
   ]
  },
  {
   "cell_type": "code",
   "execution_count": 2,
   "id": "cbe38576",
   "metadata": {},
   "outputs": [],
   "source": [
    "df = pd.read_csv('../data/diabetes.csv')"
   ]
  },
  {
   "cell_type": "code",
   "execution_count": 3,
   "id": "bba5aed8",
   "metadata": {},
   "outputs": [
    {
     "data": {
      "text/html": [
       "<div>\n",
       "<style scoped>\n",
       "    .dataframe tbody tr th:only-of-type {\n",
       "        vertical-align: middle;\n",
       "    }\n",
       "\n",
       "    .dataframe tbody tr th {\n",
       "        vertical-align: top;\n",
       "    }\n",
       "\n",
       "    .dataframe thead th {\n",
       "        text-align: right;\n",
       "    }\n",
       "</style>\n",
       "<table border=\"1\" class=\"dataframe\">\n",
       "  <thead>\n",
       "    <tr style=\"text-align: right;\">\n",
       "      <th></th>\n",
       "      <th>Pregnancies</th>\n",
       "      <th>Glucose</th>\n",
       "      <th>BloodPressure</th>\n",
       "      <th>SkinThickness</th>\n",
       "      <th>Insulin</th>\n",
       "      <th>BMI</th>\n",
       "      <th>DiabetesPedigreeFunction</th>\n",
       "      <th>Age</th>\n",
       "      <th>Outcome</th>\n",
       "    </tr>\n",
       "  </thead>\n",
       "  <tbody>\n",
       "    <tr>\n",
       "      <th>0</th>\n",
       "      <td>6</td>\n",
       "      <td>148</td>\n",
       "      <td>72</td>\n",
       "      <td>35</td>\n",
       "      <td>0</td>\n",
       "      <td>33.6</td>\n",
       "      <td>0.627</td>\n",
       "      <td>50</td>\n",
       "      <td>1</td>\n",
       "    </tr>\n",
       "    <tr>\n",
       "      <th>1</th>\n",
       "      <td>1</td>\n",
       "      <td>85</td>\n",
       "      <td>66</td>\n",
       "      <td>29</td>\n",
       "      <td>0</td>\n",
       "      <td>26.6</td>\n",
       "      <td>0.351</td>\n",
       "      <td>31</td>\n",
       "      <td>0</td>\n",
       "    </tr>\n",
       "    <tr>\n",
       "      <th>2</th>\n",
       "      <td>8</td>\n",
       "      <td>183</td>\n",
       "      <td>64</td>\n",
       "      <td>0</td>\n",
       "      <td>0</td>\n",
       "      <td>23.3</td>\n",
       "      <td>0.672</td>\n",
       "      <td>32</td>\n",
       "      <td>1</td>\n",
       "    </tr>\n",
       "    <tr>\n",
       "      <th>3</th>\n",
       "      <td>1</td>\n",
       "      <td>89</td>\n",
       "      <td>66</td>\n",
       "      <td>23</td>\n",
       "      <td>94</td>\n",
       "      <td>28.1</td>\n",
       "      <td>0.167</td>\n",
       "      <td>21</td>\n",
       "      <td>0</td>\n",
       "    </tr>\n",
       "    <tr>\n",
       "      <th>4</th>\n",
       "      <td>0</td>\n",
       "      <td>137</td>\n",
       "      <td>40</td>\n",
       "      <td>35</td>\n",
       "      <td>168</td>\n",
       "      <td>43.1</td>\n",
       "      <td>2.288</td>\n",
       "      <td>33</td>\n",
       "      <td>1</td>\n",
       "    </tr>\n",
       "    <tr>\n",
       "      <th>...</th>\n",
       "      <td>...</td>\n",
       "      <td>...</td>\n",
       "      <td>...</td>\n",
       "      <td>...</td>\n",
       "      <td>...</td>\n",
       "      <td>...</td>\n",
       "      <td>...</td>\n",
       "      <td>...</td>\n",
       "      <td>...</td>\n",
       "    </tr>\n",
       "    <tr>\n",
       "      <th>763</th>\n",
       "      <td>10</td>\n",
       "      <td>101</td>\n",
       "      <td>76</td>\n",
       "      <td>48</td>\n",
       "      <td>180</td>\n",
       "      <td>32.9</td>\n",
       "      <td>0.171</td>\n",
       "      <td>63</td>\n",
       "      <td>0</td>\n",
       "    </tr>\n",
       "    <tr>\n",
       "      <th>764</th>\n",
       "      <td>2</td>\n",
       "      <td>122</td>\n",
       "      <td>70</td>\n",
       "      <td>27</td>\n",
       "      <td>0</td>\n",
       "      <td>36.8</td>\n",
       "      <td>0.340</td>\n",
       "      <td>27</td>\n",
       "      <td>0</td>\n",
       "    </tr>\n",
       "    <tr>\n",
       "      <th>765</th>\n",
       "      <td>5</td>\n",
       "      <td>121</td>\n",
       "      <td>72</td>\n",
       "      <td>23</td>\n",
       "      <td>112</td>\n",
       "      <td>26.2</td>\n",
       "      <td>0.245</td>\n",
       "      <td>30</td>\n",
       "      <td>0</td>\n",
       "    </tr>\n",
       "    <tr>\n",
       "      <th>766</th>\n",
       "      <td>1</td>\n",
       "      <td>126</td>\n",
       "      <td>60</td>\n",
       "      <td>0</td>\n",
       "      <td>0</td>\n",
       "      <td>30.1</td>\n",
       "      <td>0.349</td>\n",
       "      <td>47</td>\n",
       "      <td>1</td>\n",
       "    </tr>\n",
       "    <tr>\n",
       "      <th>767</th>\n",
       "      <td>1</td>\n",
       "      <td>93</td>\n",
       "      <td>70</td>\n",
       "      <td>31</td>\n",
       "      <td>0</td>\n",
       "      <td>30.4</td>\n",
       "      <td>0.315</td>\n",
       "      <td>23</td>\n",
       "      <td>0</td>\n",
       "    </tr>\n",
       "  </tbody>\n",
       "</table>\n",
       "<p>768 rows × 9 columns</p>\n",
       "</div>"
      ],
      "text/plain": [
       "     Pregnancies  Glucose  BloodPressure  SkinThickness  Insulin   BMI  \\\n",
       "0              6      148             72             35        0  33.6   \n",
       "1              1       85             66             29        0  26.6   \n",
       "2              8      183             64              0        0  23.3   \n",
       "3              1       89             66             23       94  28.1   \n",
       "4              0      137             40             35      168  43.1   \n",
       "..           ...      ...            ...            ...      ...   ...   \n",
       "763           10      101             76             48      180  32.9   \n",
       "764            2      122             70             27        0  36.8   \n",
       "765            5      121             72             23      112  26.2   \n",
       "766            1      126             60              0        0  30.1   \n",
       "767            1       93             70             31        0  30.4   \n",
       "\n",
       "     DiabetesPedigreeFunction  Age  Outcome  \n",
       "0                       0.627   50        1  \n",
       "1                       0.351   31        0  \n",
       "2                       0.672   32        1  \n",
       "3                       0.167   21        0  \n",
       "4                       2.288   33        1  \n",
       "..                        ...  ...      ...  \n",
       "763                     0.171   63        0  \n",
       "764                     0.340   27        0  \n",
       "765                     0.245   30        0  \n",
       "766                     0.349   47        1  \n",
       "767                     0.315   23        0  \n",
       "\n",
       "[768 rows x 9 columns]"
      ]
     },
     "execution_count": 3,
     "metadata": {},
     "output_type": "execute_result"
    }
   ],
   "source": [
    "df"
   ]
  },
  {
   "cell_type": "markdown",
   "id": "ea3df868",
   "metadata": {},
   "source": [
    "### Checking Null Value"
   ]
  },
  {
   "cell_type": "code",
   "execution_count": 4,
   "id": "23cd9829",
   "metadata": {
    "scrolled": true
   },
   "outputs": [
    {
     "data": {
      "text/plain": [
       "Pregnancies                 0\n",
       "Glucose                     0\n",
       "BloodPressure               0\n",
       "SkinThickness               0\n",
       "Insulin                     0\n",
       "BMI                         0\n",
       "DiabetesPedigreeFunction    0\n",
       "Age                         0\n",
       "Outcome                     0\n",
       "dtype: int64"
      ]
     },
     "execution_count": 4,
     "metadata": {},
     "output_type": "execute_result"
    }
   ],
   "source": [
    "df.isnull().sum()"
   ]
  },
  {
   "cell_type": "code",
   "execution_count": 5,
   "id": "16ff3256",
   "metadata": {},
   "outputs": [],
   "source": [
    "x = df.drop(['Outcome'],axis = 1)\n",
    "\n",
    "y = df['Outcome']"
   ]
  },
  {
   "cell_type": "code",
   "execution_count": 6,
   "id": "10f70366",
   "metadata": {},
   "outputs": [],
   "source": [
    "# !pip install scikit-learn"
   ]
  },
  {
   "cell_type": "code",
   "execution_count": 7,
   "id": "b16816f2",
   "metadata": {},
   "outputs": [],
   "source": [
    "from sklearn.model_selection import train_test_split\n",
    "xtrain, xtest, ytrain, ytest = train_test_split(x,y, test_size = 0.20)"
   ]
  },
  {
   "cell_type": "markdown",
   "id": "190d93f4",
   "metadata": {},
   "source": [
    "### Decision Tree"
   ]
  },
  {
   "cell_type": "code",
   "execution_count": 10,
   "id": "3e02271f",
   "metadata": {},
   "outputs": [
    {
     "data": {
      "text/plain": [
       "0.6883116883116883"
      ]
     },
     "execution_count": 10,
     "metadata": {},
     "output_type": "execute_result"
    }
   ],
   "source": [
    "from sklearn.tree import DecisionTreeClassifier  # load Decision libraries\n",
    " \n",
    "dtc = DecisionTreeClassifier()   # create a decision tree class\n",
    "\n",
    "dtc.fit(xtrain,ytrain)\n",
    "\n",
    "dtc.score(xtest,ytest)"
   ]
  },
  {
   "cell_type": "markdown",
   "id": "0bd2f94a",
   "metadata": {},
   "source": [
    "### Scope hyper parameter tuing for DT"
   ]
  },
  {
   "cell_type": "code",
   "execution_count": null,
   "id": "aeb20f38",
   "metadata": {},
   "outputs": [],
   "source": []
  },
  {
   "cell_type": "code",
   "execution_count": 8,
   "id": "0721327c",
   "metadata": {},
   "outputs": [
    {
     "name": "stdout",
     "output_type": "stream",
     "text": [
      "Confusion Matrix : \n",
      " [[87 30]\n",
      " [13 24]]\n",
      "Accuracy :  0.7207792207792207\n",
      "specificity1 :  0.7435897435897436\n",
      "Sensitivity :  0.6486486486486487\n",
      "MCC :  0.351193939778555\n",
      "AUC :  0.6961191961191961\n",
      "              precision    recall  f1-score   support\n",
      "\n",
      "           0       0.87      0.74      0.80       117\n",
      "           1       0.44      0.65      0.53        37\n",
      "\n",
      "    accuracy                           0.72       154\n",
      "   macro avg       0.66      0.70      0.66       154\n",
      "weighted avg       0.77      0.72      0.74       154\n",
      "\n"
     ]
    }
   ],
   "source": [
    "pred_dtc = dtc.predict(xtest)\n",
    "\n",
    "from sklearn.metrics import confusion_matrix\n",
    "\n",
    "cm1 = confusion_matrix(ytest,pred_dtc)\n",
    "print('Confusion Matrix : \\n', cm1)\n",
    "\n",
    "total1=sum(sum(cm1))\n",
    "\n",
    "accuracy1=(cm1[0,0]+cm1[1,1])/total1\n",
    "print ('Accuracy : ', accuracy1)\n",
    "\n",
    "specificity1 = cm1[0,0]/(cm1[0,0]+cm1[0,1])\n",
    "print('specificity1 : ', specificity1)\n",
    "\n",
    "sensitivity1 = cm1[1,1]/(cm1[1,0]+cm1[1,1])\n",
    "print('Sensitivity : ', sensitivity1)\n",
    "\n",
    "from sklearn.metrics import matthews_corrcoef\n",
    "\n",
    "print(\"MCC : \",matthews_corrcoef(ytest,pred_dtc))\n",
    "\n",
    "from sklearn.metrics import roc_auc_score\n",
    "\n",
    "print(\"AUC : \",roc_auc_score(ytest,pred_dtc))\n",
    "\n",
    "from sklearn.metrics import classification_report\n",
    "\n",
    "print(classification_report(ytest, pred_dtc))"
   ]
  },
  {
   "cell_type": "markdown",
   "id": "4a51123c",
   "metadata": {},
   "source": [
    "### K-Nearest Neighbors"
   ]
  },
  {
   "cell_type": "code",
   "execution_count": 9,
   "id": "5db137a3",
   "metadata": {},
   "outputs": [
    {
     "data": {
      "text/plain": [
       "0.7792207792207793"
      ]
     },
     "execution_count": 9,
     "metadata": {},
     "output_type": "execute_result"
    }
   ],
   "source": [
    "from sklearn.neighbors import KNeighborsClassifier\n",
    "\n",
    "knn = KNeighborsClassifier(n_neighbors = 9)\n",
    "\n",
    "knn.fit(xtrain,ytrain)\n",
    "\n",
    "knn.score(xtest,ytest)"
   ]
  },
  {
   "cell_type": "code",
   "execution_count": null,
   "id": "64c480ae",
   "metadata": {},
   "outputs": [],
   "source": [
    "# Scopre of hyper parameter tuning"
   ]
  },
  {
   "cell_type": "code",
   "execution_count": null,
   "id": "60f051f3",
   "metadata": {},
   "outputs": [],
   "source": []
  },
  {
   "cell_type": "code",
   "execution_count": 10,
   "id": "0bcd84de",
   "metadata": {},
   "outputs": [
    {
     "name": "stdout",
     "output_type": "stream",
     "text": [
      "Confusion Matrix : \n",
      " [[94 23]\n",
      " [11 26]]\n",
      "Accuracy :  0.7792207792207793\n",
      "specificity1 :  0.8034188034188035\n",
      "Sensitivity :  0.7027027027027027\n",
      "MCC :  0.46425425741937526\n",
      "AUC :  0.753060753060753\n",
      "              precision    recall  f1-score   support\n",
      "\n",
      "           0       0.90      0.80      0.85       117\n",
      "           1       0.53      0.70      0.60        37\n",
      "\n",
      "    accuracy                           0.78       154\n",
      "   macro avg       0.71      0.75      0.73       154\n",
      "weighted avg       0.81      0.78      0.79       154\n",
      "\n"
     ]
    }
   ],
   "source": [
    "pred_knn = knn.predict(xtest)\n",
    "\n",
    "from sklearn.metrics import confusion_matrix\n",
    "\n",
    "cm1 = confusion_matrix(ytest,pred_knn)\n",
    "print('Confusion Matrix : \\n', cm1)\n",
    "\n",
    "total1=sum(sum(cm1))\n",
    "\n",
    "accuracy1=(cm1[0,0]+cm1[1,1])/total1\n",
    "print ('Accuracy : ', accuracy1)\n",
    "\n",
    "specificity1 = cm1[0,0]/(cm1[0,0]+cm1[0,1])\n",
    "print('specificity1 : ', specificity1)\n",
    "\n",
    "sensitivity1 = cm1[1,1]/(cm1[1,0]+cm1[1,1])\n",
    "print('Sensitivity : ', sensitivity1)\n",
    "\n",
    "from sklearn.metrics import matthews_corrcoef\n",
    "\n",
    "print(\"MCC : \",matthews_corrcoef(ytest,pred_knn))\n",
    "\n",
    "from sklearn.metrics import roc_auc_score\n",
    "\n",
    "print(\"AUC : \",roc_auc_score(ytest,pred_knn))\n",
    "\n",
    "from sklearn.metrics import classification_report\n",
    "\n",
    "print(classification_report(ytest, pred_knn))"
   ]
  },
  {
   "cell_type": "markdown",
   "id": "2df41bcb",
   "metadata": {},
   "source": [
    "### Random Forest"
   ]
  },
  {
   "cell_type": "code",
   "execution_count": 11,
   "id": "78ea7ee1",
   "metadata": {},
   "outputs": [
    {
     "data": {
      "text/plain": [
       "0.7857142857142857"
      ]
     },
     "execution_count": 11,
     "metadata": {},
     "output_type": "execute_result"
    }
   ],
   "source": [
    "from sklearn.ensemble import RandomForestClassifier\n",
    "\n",
    "rfc = RandomForestClassifier()\n",
    "\n",
    "rfc.fit(xtrain,ytrain)\n",
    "\n",
    "rfc.score(xtest,ytest)"
   ]
  },
  {
   "cell_type": "markdown",
   "id": "7de9173c",
   "metadata": {},
   "source": [
    "#### Scope of hyper parameter tuning  and corss validations"
   ]
  },
  {
   "cell_type": "code",
   "execution_count": null,
   "id": "6dc963ea",
   "metadata": {},
   "outputs": [],
   "source": []
  },
  {
   "cell_type": "code",
   "execution_count": null,
   "id": "2bd6514d",
   "metadata": {},
   "outputs": [],
   "source": []
  },
  {
   "cell_type": "code",
   "execution_count": 12,
   "id": "dae2f7d8",
   "metadata": {},
   "outputs": [
    {
     "name": "stdout",
     "output_type": "stream",
     "text": [
      "Confusion Matrix : \n",
      " [[95 22]\n",
      " [11 26]]\n",
      "Accuracy :  0.7857142857142857\n",
      "specificity1 :  0.811965811965812\n",
      "Sensitivity :  0.7027027027027027\n",
      "MCC :  0.47473127343114396\n",
      "AUC :  0.7573342573342574\n",
      "              precision    recall  f1-score   support\n",
      "\n",
      "           0       0.90      0.81      0.85       117\n",
      "           1       0.54      0.70      0.61        37\n",
      "\n",
      "    accuracy                           0.79       154\n",
      "   macro avg       0.72      0.76      0.73       154\n",
      "weighted avg       0.81      0.79      0.79       154\n",
      "\n"
     ]
    }
   ],
   "source": [
    "pred_rfc = rfc.predict(xtest)\n",
    "\n",
    "from sklearn.metrics import confusion_matrix\n",
    "\n",
    "cm1 = confusion_matrix(ytest,pred_rfc)\n",
    "print('Confusion Matrix : \\n', cm1)\n",
    "\n",
    "total1=sum(sum(cm1))\n",
    "\n",
    "accuracy1=(cm1[0,0]+cm1[1,1])/total1\n",
    "print ('Accuracy : ', accuracy1)\n",
    "\n",
    "specificity1 = cm1[0,0]/(cm1[0,0]+cm1[0,1])\n",
    "print('specificity1 : ', specificity1)\n",
    "\n",
    "sensitivity1 = cm1[1,1]/(cm1[1,0]+cm1[1,1])\n",
    "print('Sensitivity : ', sensitivity1)\n",
    "\n",
    "from sklearn.metrics import matthews_corrcoef\n",
    "\n",
    "print(\"MCC : \",matthews_corrcoef(ytest,pred_rfc))\n",
    "\n",
    "from sklearn.metrics import roc_auc_score\n",
    "\n",
    "print(\"AUC : \",roc_auc_score(ytest,pred_rfc))\n",
    "\n",
    "from sklearn.metrics import classification_report\n",
    "\n",
    "print(classification_report(ytest, pred_rfc))"
   ]
  },
  {
   "cell_type": "markdown",
   "id": "82f3cccb",
   "metadata": {},
   "source": [
    "### Logistic Regression"
   ]
  },
  {
   "cell_type": "code",
   "execution_count": 11,
   "id": "6203bb09",
   "metadata": {},
   "outputs": [
    {
     "name": "stderr",
     "output_type": "stream",
     "text": [
      "C:\\Users\\panka\\anaconda33\\envs\\cv\\lib\\site-packages\\sklearn\\linear_model\\_logistic.py:458: ConvergenceWarning: lbfgs failed to converge (status=1):\n",
      "STOP: TOTAL NO. of ITERATIONS REACHED LIMIT.\n",
      "\n",
      "Increase the number of iterations (max_iter) or scale the data as shown in:\n",
      "    https://scikit-learn.org/stable/modules/preprocessing.html\n",
      "Please also refer to the documentation for alternative solver options:\n",
      "    https://scikit-learn.org/stable/modules/linear_model.html#logistic-regression\n",
      "  n_iter_i = _check_optimize_result(\n"
     ]
    },
    {
     "data": {
      "text/plain": [
       "0.7272727272727273"
      ]
     },
     "execution_count": 11,
     "metadata": {},
     "output_type": "execute_result"
    }
   ],
   "source": [
    "from sklearn.linear_model import LogisticRegression\n",
    "\n",
    "logReg = LogisticRegression()\n",
    "\n",
    "logReg.fit(xtrain,ytrain)\n",
    "\n",
    "logReg.score(xtest,ytest)"
   ]
  },
  {
   "cell_type": "markdown",
   "id": "5b29949d",
   "metadata": {},
   "source": [
    "#### scope of  hyper parameter tuning and cross validations"
   ]
  },
  {
   "cell_type": "code",
   "execution_count": null,
   "id": "f7b04e60",
   "metadata": {},
   "outputs": [],
   "source": []
  },
  {
   "cell_type": "code",
   "execution_count": 14,
   "id": "41af36c4",
   "metadata": {},
   "outputs": [
    {
     "name": "stdout",
     "output_type": "stream",
     "text": [
      "Confusion Matrix : \n",
      " [[96 21]\n",
      " [13 24]]\n",
      "Accuracy :  0.7792207792207793\n",
      "specificity1 :  0.8205128205128205\n",
      "Sensitivity :  0.6486486486486487\n",
      "MCC :  0.4407543676618945\n",
      "AUC :  0.7345807345807346\n",
      "              precision    recall  f1-score   support\n",
      "\n",
      "           0       0.88      0.82      0.85       117\n",
      "           1       0.53      0.65      0.59        37\n",
      "\n",
      "    accuracy                           0.78       154\n",
      "   macro avg       0.71      0.73      0.72       154\n",
      "weighted avg       0.80      0.78      0.79       154\n",
      "\n"
     ]
    }
   ],
   "source": [
    "pred_logReg = logReg.predict(xtest)\n",
    "\n",
    "from sklearn.metrics import confusion_matrix\n",
    "\n",
    "cm1 = confusion_matrix(ytest,pred_logReg)\n",
    "print('Confusion Matrix : \\n', cm1)\n",
    "\n",
    "total1=sum(sum(cm1))\n",
    "\n",
    "accuracy1=(cm1[0,0]+cm1[1,1])/total1\n",
    "print ('Accuracy : ', accuracy1)\n",
    "\n",
    "specificity1 = cm1[0,0]/(cm1[0,0]+cm1[0,1])\n",
    "print('specificity1 : ', specificity1)\n",
    "\n",
    "sensitivity1 = cm1[1,1]/(cm1[1,0]+cm1[1,1])\n",
    "print('Sensitivity : ', sensitivity1)\n",
    "\n",
    "from sklearn.metrics import matthews_corrcoef\n",
    "\n",
    "print(\"MCC : \",matthews_corrcoef(ytest,pred_logReg))\n",
    "\n",
    "from sklearn.metrics import roc_auc_score\n",
    "\n",
    "print(\"AUC : \",roc_auc_score(ytest,pred_logReg))\n",
    "\n",
    "from sklearn.metrics import classification_report\n",
    "\n",
    "print(classification_report(ytest, pred_logReg))"
   ]
  },
  {
   "cell_type": "markdown",
   "id": "40d874da",
   "metadata": {},
   "source": [
    "### Support Vector Machine (Linear)"
   ]
  },
  {
   "cell_type": "code",
   "execution_count": 15,
   "id": "ada5dcaa",
   "metadata": {},
   "outputs": [
    {
     "data": {
      "text/plain": [
       "0.7987012987012987"
      ]
     },
     "execution_count": 15,
     "metadata": {},
     "output_type": "execute_result"
    }
   ],
   "source": [
    "from sklearn.svm import SVC\n",
    "\n",
    "svml = SVC(kernel = 'linear')\n",
    "\n",
    "svml.fit(xtrain,ytrain)\n",
    "\n",
    "svml.score(xtest,ytest)"
   ]
  },
  {
   "cell_type": "markdown",
   "id": "9b862519",
   "metadata": {},
   "source": [
    "#### scope of  hyper parameter tuning and cross validations"
   ]
  },
  {
   "cell_type": "code",
   "execution_count": null,
   "id": "2d255bd4",
   "metadata": {},
   "outputs": [],
   "source": []
  },
  {
   "cell_type": "code",
   "execution_count": 16,
   "id": "ae7a71ae",
   "metadata": {},
   "outputs": [
    {
     "name": "stdout",
     "output_type": "stream",
     "text": [
      "Confusion Matrix : \n",
      " [[97 20]\n",
      " [11 26]]\n",
      "Accuracy :  0.7987012987012987\n",
      "specificity1 :  0.8290598290598291\n",
      "Sensitivity :  0.7027027027027027\n",
      "MCC :  0.4963873813774586\n",
      "AUC :  0.7658812658812658\n",
      "              precision    recall  f1-score   support\n",
      "\n",
      "           0       0.90      0.83      0.86       117\n",
      "           1       0.57      0.70      0.63        37\n",
      "\n",
      "    accuracy                           0.80       154\n",
      "   macro avg       0.73      0.77      0.74       154\n",
      "weighted avg       0.82      0.80      0.81       154\n",
      "\n"
     ]
    }
   ],
   "source": [
    "pred_svml = svml.predict(xtest)\n",
    "\n",
    "from sklearn.metrics import confusion_matrix\n",
    "\n",
    "cm1 = confusion_matrix(ytest,pred_svml)\n",
    "print('Confusion Matrix : \\n', cm1)\n",
    "\n",
    "total1=sum(sum(cm1))\n",
    "\n",
    "accuracy1=(cm1[0,0]+cm1[1,1])/total1\n",
    "print ('Accuracy : ', accuracy1)\n",
    "\n",
    "specificity1 = cm1[0,0]/(cm1[0,0]+cm1[0,1])\n",
    "print('specificity1 : ', specificity1)\n",
    "\n",
    "sensitivity1 = cm1[1,1]/(cm1[1,0]+cm1[1,1])\n",
    "print('Sensitivity : ', sensitivity1)\n",
    "\n",
    "from sklearn.metrics import matthews_corrcoef\n",
    "\n",
    "print(\"MCC : \",matthews_corrcoef(ytest,pred_svml))\n",
    "\n",
    "from sklearn.metrics import roc_auc_score\n",
    "\n",
    "print(\"AUC : \",roc_auc_score(ytest,pred_svml))\n",
    "\n",
    "from sklearn.metrics import classification_report\n",
    "\n",
    "print(classification_report(ytest, pred_svml))"
   ]
  },
  {
   "cell_type": "markdown",
   "id": "896a3c39",
   "metadata": {},
   "source": [
    "### Support Vector Machine (RBF)"
   ]
  },
  {
   "cell_type": "code",
   "execution_count": 17,
   "id": "8ebfa16b",
   "metadata": {},
   "outputs": [
    {
     "data": {
      "text/plain": [
       "0.8311688311688312"
      ]
     },
     "execution_count": 17,
     "metadata": {},
     "output_type": "execute_result"
    }
   ],
   "source": [
    "from sklearn.svm import SVC\n",
    "\n",
    "svmr = SVC(kernel = 'rbf')\n",
    "\n",
    "svmr.fit(xtrain,ytrain)\n",
    "\n",
    "svmr.score(xtest,ytest)"
   ]
  },
  {
   "cell_type": "markdown",
   "id": "3b5898f4",
   "metadata": {},
   "source": [
    "### scope of  hyper parameter tuning and cross validations"
   ]
  },
  {
   "cell_type": "code",
   "execution_count": null,
   "id": "ea0f9d4f",
   "metadata": {},
   "outputs": [],
   "source": []
  },
  {
   "cell_type": "code",
   "execution_count": null,
   "id": "461e8013",
   "metadata": {},
   "outputs": [],
   "source": []
  },
  {
   "cell_type": "code",
   "execution_count": 18,
   "id": "dafb4cfe",
   "metadata": {},
   "outputs": [
    {
     "name": "stdout",
     "output_type": "stream",
     "text": [
      "Confusion Matrix : \n",
      " [[106  11]\n",
      " [ 15  22]]\n",
      "Accuracy :  0.8311688311688312\n",
      "specificity1 :  0.905982905982906\n",
      "Sensitivity :  0.5945945945945946\n",
      "MCC :  0.5212132688864239\n",
      "AUC :  0.7502887502887504\n",
      "              precision    recall  f1-score   support\n",
      "\n",
      "           0       0.88      0.91      0.89       117\n",
      "           1       0.67      0.59      0.63        37\n",
      "\n",
      "    accuracy                           0.83       154\n",
      "   macro avg       0.77      0.75      0.76       154\n",
      "weighted avg       0.83      0.83      0.83       154\n",
      "\n"
     ]
    }
   ],
   "source": [
    "pred_svmr = svmr.predict(xtest)\n",
    "\n",
    "from sklearn.metrics import confusion_matrix\n",
    "\n",
    "cm1 = confusion_matrix(ytest,pred_svmr)\n",
    "print('Confusion Matrix : \\n', cm1)\n",
    "\n",
    "total1=sum(sum(cm1))\n",
    "\n",
    "accuracy1=(cm1[0,0]+cm1[1,1])/total1\n",
    "print ('Accuracy : ', accuracy1)\n",
    "\n",
    "specificity1 = cm1[0,0]/(cm1[0,0]+cm1[0,1])\n",
    "print('specificity1 : ', specificity1)\n",
    "\n",
    "sensitivity1 = cm1[1,1]/(cm1[1,0]+cm1[1,1])\n",
    "print('Sensitivity : ', sensitivity1)\n",
    "\n",
    "from sklearn.metrics import matthews_corrcoef\n",
    "\n",
    "print(\"MCC : \",matthews_corrcoef(ytest,pred_svmr))\n",
    "\n",
    "from sklearn.metrics import roc_auc_score\n",
    "\n",
    "print(\"AUC : \",roc_auc_score(ytest,pred_svmr))\n",
    "\n",
    "from sklearn.metrics import classification_report\n",
    "\n",
    "print(classification_report(ytest, pred_svmr))"
   ]
  },
  {
   "cell_type": "markdown",
   "id": "fe8e616f",
   "metadata": {},
   "source": [
    "# Hyper Parameter tuning "
   ]
  },
  {
   "cell_type": "code",
   "execution_count": 15,
   "id": "a1b8af10",
   "metadata": {},
   "outputs": [],
   "source": [
    "import numpy as np\n",
    "import pandas as pd\n",
    "import matplotlib.pyplot as plt\n",
    "%matplotlib inline\n",
    "import seaborn as sns\n",
    "from scipy import stats\n",
    "#from sklearn.cross_validation import KFold, cross_val_score, train_test_split\n",
    "\n",
    "from sklearn.model_selection import train_test_split\n",
    "from sklearn.preprocessing import normalize \n",
    "from sklearn.linear_model import LogisticRegression\n",
    "from sklearn.tree import DecisionTreeClassifier\n",
    "from sklearn.neighbors import KNeighborsClassifier\n",
    "from sklearn.discriminant_analysis import LinearDiscriminantAnalysis\n",
    "from sklearn.naive_bayes import GaussianNB, MultinomialNB\n",
    "from sklearn.svm import SVC\n",
    "from sklearn.ensemble import RandomForestClassifier\n",
    "\n",
    "from sklearn.metrics import accuracy_score, classification_report, confusion_matrix\n",
    "from sklearn.metrics import mean_squared_error as mse\n",
    "from sklearn.feature_selection import RFECV\n",
    "from sklearn.decomposition import PCA\n",
    "from sklearn.cluster import KMeans\n",
    "from sklearn.ensemble import BaggingClassifier\n",
    "from sklearn.ensemble import AdaBoostClassifier\n",
    "from sklearn.ensemble import GradientBoostingClassifier\n",
    "from sklearn.ensemble import ExtraTreesClassifier\n",
    "from sklearn.preprocessing import Normalizer\n",
    "from sklearn.pipeline import Pipeline\n",
    "from sklearn.pipeline import FeatureUnion\n",
    "from sklearn.feature_selection import SelectKBest\n",
    "from sklearn import datasets\n",
    "from sklearn.model_selection import cross_validate\n",
    "from sklearn.model_selection import GridSearchCV\n",
    "import warnings\n",
    "warnings.filterwarnings(\"ignore\")"
   ]
  },
  {
   "cell_type": "code",
   "execution_count": 49,
   "id": "62b21aac",
   "metadata": {},
   "outputs": [],
   "source": [
    "# Define parameters for optimization using dictionaries {parameter name: parameter list}\n",
    "\n",
    "# SVM_params = {'C':[0.001, 0.1, 10, 100], 'kernel':['rbf' ,'linear', 'poly', 'sigmoid']}\n",
    "LR_params = {'C':[0.001, 0.1, 1, 10, 100]}\n",
    "LDA_params = {'n_components':[None, 1,2,3], 'solver':['svd'], 'shrinkage':[None]}\n",
    "KNN_params = {'n_neighbors':[1,5,10,9,20, 50], 'p':[2], 'metric':['minkowski']}\n",
    "RF_params = {'n_estimators':[10,50,100]}\n",
    "DTC_params = {'criterion':['entropy', 'gini'], 'max_depth':[10, 50, 100]}"
   ]
  },
  {
   "cell_type": "code",
   "execution_count": 50,
   "id": "5ad7e3ed",
   "metadata": {},
   "outputs": [],
   "source": [
    "# Append list of models with parameter dictionaries\n",
    "\n",
    "models_opt = []\n",
    "\n",
    "models_opt.append(('LR', LogisticRegression(), LR_params))\n",
    "models_opt.append(('LDA', LinearDiscriminantAnalysis(), LDA_params))\n",
    "models_opt.append(('KNN', KNeighborsClassifier(),KNN_params))\n",
    "models_opt.append(('DTC', DecisionTreeClassifier(), DTC_params))\n",
    "models_opt.append(('RFC', RandomForestClassifier(), RF_params))\n",
    "# models_opt.append(('SVM', SVC(), SVM_params))"
   ]
  },
  {
   "cell_type": "code",
   "execution_count": 51,
   "id": "9d082da7",
   "metadata": {},
   "outputs": [
    {
     "data": {
      "text/plain": [
       "[('LR', LogisticRegression(), {'C': [0.001, 0.1, 1, 10, 100]}),\n",
       " ('LDA',\n",
       "  LinearDiscriminantAnalysis(),\n",
       "  {'n_components': [None, 1, 2, 3], 'solver': ['svd'], 'shrinkage': [None]}),\n",
       " ('KNN',\n",
       "  KNeighborsClassifier(),\n",
       "  {'n_neighbors': [1, 5, 10, 9, 20, 50], 'p': [2], 'metric': ['minkowski']}),\n",
       " ('DTC',\n",
       "  DecisionTreeClassifier(),\n",
       "  {'criterion': ['entropy', 'gini'], 'max_depth': [10, 50, 100]}),\n",
       " ('RFC', RandomForestClassifier(), {'n_estimators': [10, 50, 100]})]"
      ]
     },
     "execution_count": 51,
     "metadata": {},
     "output_type": "execute_result"
    }
   ],
   "source": [
    "models_opt"
   ]
  },
  {
   "cell_type": "code",
   "execution_count": 63,
   "id": "80e498e3",
   "metadata": {},
   "outputs": [],
   "source": [
    "from sklearn.model_selection import LeaveOneOut\n",
    "from sklearn.model_selection import KFold\n",
    "from sklearn.model_selection import cross_val_score\n",
    "from sklearn.model_selection import GridSearchCV\n",
    "#from sklearn.cross_validation.KFold(n=4, n_folds=2, shuffle=False,random_state=None)\n",
    "from sklearn.model_selection import StratifiedKFold\n",
    "skfold=StratifiedKFold(n_splits=5)"
   ]
  },
  {
   "cell_type": "code",
   "execution_count": 64,
   "id": "17e3c3b4",
   "metadata": {},
   "outputs": [
    {
     "name": "stdout",
     "output_type": "stream",
     "text": [
      "Time consumed in working:  0.0019998550415039062\n"
     ]
    }
   ],
   "source": [
    "import time\n",
    "start = time.time()\n",
    "from sklearn.model_selection import train_test_split\n",
    "X_train, X_test, Y_train, Y_test = train_test_split(x, y, test_size = 0.25 , random_state = 0)\n",
    "end = time.time()\n",
    "print(\"Time consumed in working: \",end - start)"
   ]
  },
  {
   "cell_type": "code",
   "execution_count": 67,
   "id": "c01c07a8",
   "metadata": {},
   "outputs": [],
   "source": [
    "results = []\n",
    "names = []\n",
    "\n",
    "\n",
    "def estimator_function(parameter_dictionary, scoring = 'accuracy'):\n",
    "    \n",
    "    \n",
    "    for name, model, params in models_opt:\n",
    "    \n",
    "        #kfold = KFold(len(X_train), n_folds=5, random_state=2, shuffle=True)\n",
    "        skfold=StratifiedKFold(n_splits=5)\n",
    "        leave_validation=LeaveOneOut()\n",
    "\n",
    "        model_grid = GridSearchCV(model, params)\n",
    "\n",
    "        cv_results = cross_val_score(model_grid, X_train, Y_train, cv =leave_validation, scoring=scoring)\n",
    "\n",
    "        results.append(cv_results)\n",
    "\n",
    "        names.append(name)\n",
    "\n",
    "        msg = \"Cross Validation Accuracy %s: Accarcy: %f SD: %f\" % (name, cv_results.mean(), cv_results.std())\n",
    "\n",
    "        print(msg)"
   ]
  },
  {
   "cell_type": "code",
   "execution_count": 68,
   "id": "fb2466bc",
   "metadata": {},
   "outputs": [
    {
     "name": "stdout",
     "output_type": "stream",
     "text": [
      "Cross Validation Accuracy LR: Accarcy: 0.751736 SD: 0.432006\n",
      "Cross Validation Accuracy LDA: Accarcy: 0.750000 SD: 0.433013\n",
      "Cross Validation Accuracy KNN: Accarcy: 0.701389 SD: 0.457649\n",
      "Cross Validation Accuracy DTC: Accarcy: 0.647569 SD: 0.477727\n",
      "Cross Validation Accuracy RFC: Accarcy: 0.744792 SD: 0.435978\n"
     ]
    }
   ],
   "source": [
    "estimator_function(models_opt, scoring = 'accuracy')"
   ]
  },
  {
   "cell_type": "code",
   "execution_count": null,
   "id": "6e207ba0",
   "metadata": {},
   "outputs": [],
   "source": [
    "# leave_validation=LeaveOneOut()  \n",
    "Cross Validation Accuracy LR: Accarcy: 0.751736 SD: 0.432006\n",
    "Cross Validation Accuracy LDA: Accarcy: 0.750000 SD: 0.433013\n",
    "Cross Validation Accuracy KNN: Accarcy: 0.701389 SD: 0.457649\n",
    "Cross Validation Accuracy DTC: Accarcy: 0.637153 SD: 0.480821\n",
    "Cross Validation Accuracy RFC: Accarcy: 0.736111 SD: 0.440740"
   ]
  },
  {
   "cell_type": "code",
   "execution_count": null,
   "id": "92f923d6",
   "metadata": {},
   "outputs": [],
   "source": []
  },
  {
   "cell_type": "code",
   "execution_count": null,
   "id": "728809ee",
   "metadata": {},
   "outputs": [],
   "source": []
  },
  {
   "cell_type": "code",
   "execution_count": null,
   "id": "0b4ba3ca",
   "metadata": {},
   "outputs": [],
   "source": []
  },
  {
   "cell_type": "markdown",
   "id": "fd3d2f44",
   "metadata": {},
   "source": [
    "## Random Forest"
   ]
  },
  {
   "cell_type": "code",
   "execution_count": 25,
   "id": "2702f141",
   "metadata": {},
   "outputs": [
    {
     "name": "stdout",
     "output_type": "stream",
     "text": [
      "{'n_estimators': [200, 400, 600, 800, 1000, 1200, 1400, 1600, 1800, 2000], 'max_features': ['auto', 'sqrt', 'log2'], 'max_depth': [10, 120, 230, 340, 450, 560, 670, 780, 890, 1000], 'min_samples_split': [2, 5, 10, 14], 'min_samples_leaf': [1, 2, 4, 6, 8], 'criterion': ['entropy', 'gini']}\n"
     ]
    }
   ],
   "source": [
    "import numpy as np\n",
    "from sklearn.model_selection import RandomizedSearchCV\n",
    "# Number of trees in random forest\n",
    "n_estimators = [int(x) for x in np.linspace(start = 200, stop = 2000, num = 10)]\n",
    "# Number of features to consider at every split\n",
    "max_features = ['auto', 'sqrt','log2']\n",
    "# Maximum number of levels in tree\n",
    "max_depth = [int(x) for x in np.linspace(10, 1000,10)]\n",
    "# Minimum number of samples required to split a node\n",
    "min_samples_split = [2, 5, 10,14]\n",
    "# Minimum number of samples required at each leaf node\n",
    "min_samples_leaf = [1, 2, 4,6,8]\n",
    "# Create the random grid\n",
    "random_grid = {'n_estimators': n_estimators,\n",
    "               'max_features': max_features,\n",
    "               'max_depth': max_depth,\n",
    "               'min_samples_split': min_samples_split,\n",
    "               'min_samples_leaf': min_samples_leaf,\n",
    "              'criterion':['entropy','gini']}\n",
    "print(random_grid)"
   ]
  },
  {
   "cell_type": "code",
   "execution_count": 71,
   "id": "51eb0faf",
   "metadata": {},
   "outputs": [
    {
     "name": "stdout",
     "output_type": "stream",
     "text": [
      "Fitting 3 folds for each of 100 candidates, totalling 300 fits\n",
      "[elapsed time: 156.909726100006082561 s]\n"
     ]
    }
   ],
   "source": [
    "with timer() as t:\n",
    "    rf=RandomForestClassifier()\n",
    "    rf_randomcv=RandomizedSearchCV(estimator=rf,param_distributions=random_grid,n_iter=100,cv=3,verbose=2,\n",
    "                               random_state=100,n_jobs=-1)\n",
    "    rf_randomcv.fit(X_train,Y_train)"
   ]
  },
  {
   "cell_type": "code",
   "execution_count": 72,
   "id": "780f9f8a",
   "metadata": {},
   "outputs": [],
   "source": [
    "# rf=RandomForestClassifier()\n",
    "# rf_randomcv=RandomizedSearchCV(estimator=rf,param_distributions=random_grid,n_iter=100,cv=3,verbose=2,\n",
    "#                                random_state=100,n_jobs=-1)\n",
    "# ### fit the randomized model\n",
    "# rf_randomcv.fit(X_train,Y_train)"
   ]
  },
  {
   "cell_type": "code",
   "execution_count": 73,
   "id": "e8e3497d",
   "metadata": {},
   "outputs": [
    {
     "data": {
      "text/plain": [
       "{'n_estimators': 600,\n",
       " 'min_samples_split': 5,\n",
       " 'min_samples_leaf': 4,\n",
       " 'max_features': 'auto',\n",
       " 'max_depth': 1000,\n",
       " 'criterion': 'gini'}"
      ]
     },
     "execution_count": 73,
     "metadata": {},
     "output_type": "execute_result"
    }
   ],
   "source": [
    "rf_randomcv.best_params_"
   ]
  },
  {
   "cell_type": "code",
   "execution_count": 74,
   "id": "451dd575",
   "metadata": {},
   "outputs": [],
   "source": [
    "best_random_grid=rf_randomcv.best_estimator_"
   ]
  },
  {
   "cell_type": "code",
   "execution_count": 76,
   "id": "5bac3155",
   "metadata": {},
   "outputs": [
    {
     "name": "stdout",
     "output_type": "stream",
     "text": [
      "[[118  12]\n",
      " [ 28  34]]\n",
      "Training Accuracy Score 0.9097222222222222\n",
      "Testing Accuracy Score 0.7916666666666666\n",
      "Classification report:               precision    recall  f1-score   support\n",
      "\n",
      "           0       0.81      0.91      0.86       130\n",
      "           1       0.74      0.55      0.63        62\n",
      "\n",
      "    accuracy                           0.79       192\n",
      "   macro avg       0.77      0.73      0.74       192\n",
      "weighted avg       0.79      0.79      0.78       192\n",
      "\n"
     ]
    }
   ],
   "source": [
    "from sklearn.metrics import accuracy_score\n",
    "y_predRM=best_random_grid.predict(X_test)\n",
    "print(confusion_matrix(Y_test,y_predRM))\n",
    "print(\"Training Accuracy Score {}\".format(best_random_grid.score(X_train,Y_train)))\n",
    "print(\"Testing Accuracy Score {}\".format(accuracy_score(Y_test,y_predRM)))\n",
    "print(\"Classification report: {}\".format(classification_report(Y_test,y_predRM)))"
   ]
  },
  {
   "cell_type": "code",
   "execution_count": 77,
   "id": "d2660d50",
   "metadata": {},
   "outputs": [
    {
     "name": "stdout",
     "output_type": "stream",
     "text": [
      "Confusion Matrix : \n",
      " [[118  12]\n",
      " [ 28  34]]\n",
      "Accuracy :  0.7916666666666666\n",
      "specificity1 :  0.9076923076923077\n",
      "Sensitivity :  0.5483870967741935\n",
      "MCC :  0.49963475206429364\n",
      "AUC :  0.7280397022332507\n",
      "              precision    recall  f1-score   support\n",
      "\n",
      "           0       0.81      0.91      0.86       130\n",
      "           1       0.74      0.55      0.63        62\n",
      "\n",
      "    accuracy                           0.79       192\n",
      "   macro avg       0.77      0.73      0.74       192\n",
      "weighted avg       0.79      0.79      0.78       192\n",
      "\n"
     ]
    }
   ],
   "source": [
    "# Random forest\n",
    "cm1 = confusion_matrix(Y_test,y_predRM)\n",
    "print('Confusion Matrix : \\n', cm1)\n",
    "\n",
    "total1=sum(sum(cm1))\n",
    "\n",
    "accuracy1=(cm1[0,0]+cm1[1,1])/total1\n",
    "print ('Accuracy : ', accuracy1)\n",
    "\n",
    "specificity1 = cm1[0,0]/(cm1[0,0]+cm1[0,1])\n",
    "print('specificity1 : ', specificity1)\n",
    "\n",
    "sensitivity1 = cm1[1,1]/(cm1[1,0]+cm1[1,1])\n",
    "print('Sensitivity : ', sensitivity1)\n",
    "\n",
    "from sklearn.metrics import matthews_corrcoef\n",
    "\n",
    "print(\"MCC : \",matthews_corrcoef(Y_test,y_predRM))\n",
    "\n",
    "from sklearn.metrics import roc_auc_score\n",
    "\n",
    "print(\"AUC : \",roc_auc_score(Y_test,y_predRM))\n",
    "\n",
    "from sklearn.metrics import classification_report\n",
    "\n",
    "print(classification_report(Y_test, y_predRM))"
   ]
  },
  {
   "cell_type": "code",
   "execution_count": null,
   "id": "955a89fb",
   "metadata": {},
   "outputs": [],
   "source": [
    "Training Accuracy Score 0.9114583333333334\n",
    "Testing Accuracy Score 0.7760416666666666\n",
    "precision    \n",
    "recall  \n",
    "f1-score"
   ]
  },
  {
   "cell_type": "code",
   "execution_count": 30,
   "id": "314ff220",
   "metadata": {},
   "outputs": [
    {
     "data": {
      "text/plain": [
       "75.5"
      ]
     },
     "execution_count": 30,
     "metadata": {},
     "output_type": "execute_result"
    }
   ],
   "source": [
    "(80+71)/2"
   ]
  },
  {
   "cell_type": "markdown",
   "id": "8da64d09",
   "metadata": {},
   "source": [
    "<img src=\"../images/confusion_Matrix.jpeg\" width=\"70%\">"
   ]
  },
  {
   "cell_type": "code",
   "execution_count": 78,
   "id": "c92b7b20",
   "metadata": {},
   "outputs": [],
   "source": [
    "# Confusion Matrix : \n",
    "#  [[118  12]\n",
    "#  [ 28  34]]\n",
    "TP = 118\n",
    "FP = 12\n",
    "FN = 28\n",
    "TN = 34"
   ]
  },
  {
   "cell_type": "code",
   "execution_count": 79,
   "id": "70d3828c",
   "metadata": {},
   "outputs": [],
   "source": [
    "# Random forest\n",
    "def fun(TP,FN,FP,TN):\n",
    "    print(\"Random Forest on BCWD\")\n",
    "    print(\"TP\",TP)\n",
    "    print(\"FN\",FN)\n",
    "    print(\"FP\",FP)\n",
    "    print(\"TN\", TN)\n",
    "    Accuracy = (TP + TN)/(TP + TN + FP + FN)\n",
    "    print(\"Accuracy : {}\".format(Accuracy))\n",
    "    Precision = TP / (TP + FP)\n",
    "    print(\"Precision : {}\".format(Precision))\n",
    "    Recall = TP / (TP + FN)\n",
    "    print(\"Recall : {} \".format(Recall))\n",
    "    F1_score = 2*(Precision*Recall)/(Precision + Recall)\n",
    "    print(\"F1_score : {}\".format(F1_score))\n",
    "    TPR = TP / (TP + FP)\n",
    "    print(\"TPR : {}\".format(TPR))\n",
    "    FPR = FP / (FP + TN)\n",
    "    print(\"FPR : {}\".format(FPR))"
   ]
  },
  {
   "cell_type": "code",
   "execution_count": 80,
   "id": "cc45b831",
   "metadata": {},
   "outputs": [
    {
     "name": "stdout",
     "output_type": "stream",
     "text": [
      "Random Forest on BCWD\n",
      "TP 118\n",
      "FN 28\n",
      "FP 12\n",
      "TN 34\n",
      "Accuracy : 0.7916666666666666\n",
      "Precision : 0.9076923076923077\n",
      "Recall : 0.8082191780821918 \n",
      "F1_score : 0.8550724637681159\n",
      "TPR : 0.9076923076923077\n",
      "FPR : 0.2608695652173913\n"
     ]
    }
   ],
   "source": [
    "fun(TP,FN,FP,TN)"
   ]
  },
  {
   "cell_type": "markdown",
   "id": "1465f88a",
   "metadata": {},
   "source": [
    "<img src=\"../images/performances.png\" width=\"100%\">"
   ]
  },
  {
   "cell_type": "markdown",
   "id": "a520a3bb",
   "metadata": {},
   "source": [
    "# SVM ( RBF)"
   ]
  },
  {
   "cell_type": "code",
   "execution_count": 38,
   "id": "d306e5d9",
   "metadata": {},
   "outputs": [],
   "source": [
    "from contextlib import contextmanager\n",
    "@contextmanager\n",
    "def timer():\n",
    "    \"\"\"Helper for measuring runtime\"\"\"\n",
    "\n",
    "    time0 =  time.perf_counter()\n",
    "    \n",
    "    yield\n",
    "    print('[elapsed time: %.18f s]' % (time.perf_counter() - time0))"
   ]
  },
  {
   "cell_type": "code",
   "execution_count": 82,
   "id": "14c1b3c9",
   "metadata": {},
   "outputs": [
    {
     "name": "stdout",
     "output_type": "stream",
     "text": [
      "training score : 0.7586805555555556\n",
      "testing score : 0.7708333333333334\n",
      "              precision    recall  f1-score   support\n",
      "\n",
      "           0       0.78      0.92      0.84       130\n",
      "           1       0.72      0.47      0.57        62\n",
      "\n",
      "    accuracy                           0.77       192\n",
      "   macro avg       0.75      0.69      0.71       192\n",
      "weighted avg       0.76      0.77      0.76       192\n",
      "\n",
      "[[119  11]\n",
      " [ 33  29]]\n",
      "[elapsed time: 0.332418099998903926 s]\n"
     ]
    }
   ],
   "source": [
    "from sklearn.metrics import classification_report # make predictions on validation datasets\n",
    "import time\n",
    "with timer() as t:\n",
    "    SVM = SVC(C=1.0,\n",
    "    kernel='rbf',\n",
    "    degree=6,\n",
    "    gamma='scale',\n",
    "    coef0=0.0,\n",
    "    shrinking=True,\n",
    "    probability=False,\n",
    "    tol=0.001,\n",
    "    cache_size=300,\n",
    "    class_weight=None,\n",
    "    verbose=False,\n",
    "    max_iter=-1,\n",
    "    decision_function_shape='ovr',\n",
    "    break_ties=False,\n",
    "    random_state=None)\n",
    "    \n",
    "    SVM.fit(X_train, Y_train)\n",
    "    y_predSVM_rbf= SVM.predict(X_test)\n",
    "    print((\"training score : {}\").format(SVM.score(X_train, Y_train)))\n",
    "    print((\"testing score : {}\").format(accuracy_score(Y_test, y_predSVM_rbf)))\n",
    "    print(classification_report(Y_test, y_predSVM_rbf))\n",
    "    print(confusion_matrix(Y_test, y_predSVM_rbf))"
   ]
  },
  {
   "cell_type": "code",
   "execution_count": 83,
   "id": "bd756b6b",
   "metadata": {},
   "outputs": [
    {
     "name": "stdout",
     "output_type": "stream",
     "text": [
      "Confusion Matrix : \n",
      " [[119  11]\n",
      " [ 33  29]]\n",
      "Accuracy :  0.7708333333333334\n",
      "specificity1 :  0.9153846153846154\n",
      "Sensitivity :  0.46774193548387094\n",
      "MCC :  0.44112125173309585\n",
      "AUC :  0.6915632754342431\n",
      "              precision    recall  f1-score   support\n",
      "\n",
      "           0       0.78      0.92      0.84       130\n",
      "           1       0.72      0.47      0.57        62\n",
      "\n",
      "    accuracy                           0.77       192\n",
      "   macro avg       0.75      0.69      0.71       192\n",
      "weighted avg       0.76      0.77      0.76       192\n",
      "\n"
     ]
    }
   ],
   "source": [
    "# SVM with RBF\n",
    "cm1 = confusion_matrix(Y_test,y_predSVM_rbf)\n",
    "print('Confusion Matrix : \\n', cm1)\n",
    "\n",
    "total1=sum(sum(cm1))\n",
    "\n",
    "accuracy1=(cm1[0,0]+cm1[1,1])/total1\n",
    "print ('Accuracy : ', accuracy1)\n",
    "\n",
    "specificity1 = cm1[0,0]/(cm1[0,0]+cm1[0,1])\n",
    "print('specificity1 : ', specificity1)\n",
    "\n",
    "sensitivity1 = cm1[1,1]/(cm1[1,0]+cm1[1,1])\n",
    "print('Sensitivity : ', sensitivity1)\n",
    "\n",
    "from sklearn.metrics import matthews_corrcoef\n",
    "\n",
    "print(\"MCC : \",matthews_corrcoef(Y_test,y_predSVM_rbf))\n",
    "\n",
    "from sklearn.metrics import roc_auc_score\n",
    "\n",
    "print(\"AUC : \",roc_auc_score(Y_test,y_predSVM_rbf))\n",
    "\n",
    "from sklearn.metrics import classification_report\n",
    "\n",
    "print(classification_report(Y_test, y_predSVM_rbf))"
   ]
  },
  {
   "cell_type": "code",
   "execution_count": 84,
   "id": "6f68c5d7",
   "metadata": {},
   "outputs": [],
   "source": [
    "# SVM with RBF\n",
    "# #Confusion Matrix : \n",
    "#  [[119  11]\n",
    "#  [ 33  29]]\n",
    "TP1 = 119\n",
    "FP1 = 11\n",
    "FN1 = 33\n",
    "TN1 = 29\n",
    "\n",
    "\n",
    "def fun1(TP,FN,FP,TN):\n",
    "    \n",
    "    print(\"SVM on BCWD ---------------------->\")\n",
    "    print(\"TP\",TP)\n",
    "    print(\"FN\",FN)\n",
    "    print(\"FP\",FP)\n",
    "    print(\"TN\", TN)\n",
    "    Accuracy = (TP + TN)/(TP + TN + FP + FN)\n",
    "    print(\"Accuracy : {}\".format(Accuracy))\n",
    "    Precision = TP / (TP + FP)\n",
    "    print(\"Precision : {}\".format(Precision))\n",
    "    Recall = TP / (TP + FN)\n",
    "    print(\"Recall : {} \".format(Recall))\n",
    "    F1_score = 2*(Precision*Recall)/(Precision + Recall)\n",
    "    print(\"F1_score : {}\".format(F1_score))\n",
    "    TPR = TP / (TP + FP)\n",
    "    print(\"TPR : {}\".format(TPR))\n",
    "    FPR = FP / (FP + TN)\n",
    "    print(\"FPR : {}\".format(FPR))"
   ]
  },
  {
   "cell_type": "code",
   "execution_count": 85,
   "id": "0cb8ef5c",
   "metadata": {},
   "outputs": [
    {
     "name": "stdout",
     "output_type": "stream",
     "text": [
      "SVM on BCWD ---------------------->\n",
      "TP 119\n",
      "FN 33\n",
      "FP 11\n",
      "TN 29\n",
      "Accuracy : 0.7708333333333334\n",
      "Precision : 0.9153846153846154\n",
      "Recall : 0.7828947368421053 \n",
      "F1_score : 0.8439716312056739\n",
      "TPR : 0.9153846153846154\n",
      "FPR : 0.275\n"
     ]
    }
   ],
   "source": [
    "fun1(TP1,FN1,FP1,TN1)"
   ]
  },
  {
   "cell_type": "markdown",
   "id": "7849d35a",
   "metadata": {},
   "source": [
    "<img src=\"../images/performances.png\" width=\"100%\">"
   ]
  },
  {
   "cell_type": "code",
   "execution_count": null,
   "id": "47893c34",
   "metadata": {},
   "outputs": [],
   "source": [
    "Observations : "
   ]
  },
  {
   "cell_type": "markdown",
   "id": "5a431de8",
   "metadata": {},
   "source": [
    "# SVM (LINEAR)"
   ]
  },
  {
   "cell_type": "markdown",
   "id": "c59d071b",
   "metadata": {},
   "source": [
    "#### 'kernel':['rbf' ,'linear', 'poly', 'sigmoid']"
   ]
  },
  {
   "cell_type": "code",
   "execution_count": 86,
   "id": "0d80634c",
   "metadata": {},
   "outputs": [
    {
     "name": "stdout",
     "output_type": "stream",
     "text": [
      "training score : 0.765625\n",
      "testing score : 0.8020833333333334\n",
      "              precision    recall  f1-score   support\n",
      "\n",
      "           0       0.82      0.90      0.86       130\n",
      "           1       0.74      0.60      0.66        62\n",
      "\n",
      "    accuracy                           0.80       192\n",
      "   macro avg       0.78      0.75      0.76       192\n",
      "weighted avg       0.80      0.80      0.80       192\n",
      "\n",
      "[[117  13]\n",
      " [ 25  37]]\n",
      "[elapsed time: 3.549143299998831935 s]\n"
     ]
    }
   ],
   "source": [
    "from sklearn.metrics import classification_report # make predictions on validation datasets\n",
    "import time\n",
    "with timer() as t:\n",
    "    SVM = SVC(C=1.0,\n",
    "    kernel='linear',\n",
    "    degree=6,\n",
    "    gamma='scale',\n",
    "    coef0=0.0,\n",
    "    shrinking=True,\n",
    "    probability=False,\n",
    "    tol=0.001,\n",
    "    cache_size=300,\n",
    "    class_weight=None,\n",
    "    verbose=False,\n",
    "    max_iter=-1,\n",
    "    decision_function_shape='ovr',\n",
    "    break_ties=False,\n",
    "    random_state=None)\n",
    "    \n",
    "    SVM.fit(X_train, Y_train)\n",
    "    y_predSVM_linear= SVM.predict(X_test)\n",
    "    print((\"training score : {}\").format(SVM.score(X_train, Y_train)))\n",
    "    print((\"testing score : {}\").format(accuracy_score(Y_test, y_predSVM_linear)))\n",
    "    print(classification_report(Y_test, y_predSVM_linear))\n",
    "    print(confusion_matrix(Y_test, y_predSVM_linear))"
   ]
  },
  {
   "cell_type": "code",
   "execution_count": 87,
   "id": "349cb2b1",
   "metadata": {},
   "outputs": [
    {
     "name": "stdout",
     "output_type": "stream",
     "text": [
      "Confusion Matrix : \n",
      " [[117  13]\n",
      " [ 25  37]]\n",
      "Accuracy :  0.8020833333333334\n",
      "specificity1 :  0.9\n",
      "Sensitivity :  0.5967741935483871\n",
      "MCC :  0.5292944906975516\n",
      "AUC :  0.7483870967741935\n",
      "              precision    recall  f1-score   support\n",
      "\n",
      "           0       0.82      0.90      0.86       130\n",
      "           1       0.74      0.60      0.66        62\n",
      "\n",
      "    accuracy                           0.80       192\n",
      "   macro avg       0.78      0.75      0.76       192\n",
      "weighted avg       0.80      0.80      0.80       192\n",
      "\n"
     ]
    }
   ],
   "source": [
    "# SVM with RBF\n",
    "cm1 = confusion_matrix(Y_test,y_predSVM_linear)\n",
    "print('Confusion Matrix : \\n', cm1)\n",
    "\n",
    "total1=sum(sum(cm1))\n",
    "\n",
    "accuracy1=(cm1[0,0]+cm1[1,1])/total1\n",
    "print ('Accuracy : ', accuracy1)\n",
    "\n",
    "specificity1 = cm1[0,0]/(cm1[0,0]+cm1[0,1])\n",
    "print('specificity1 : ', specificity1)\n",
    "\n",
    "sensitivity1 = cm1[1,1]/(cm1[1,0]+cm1[1,1])\n",
    "print('Sensitivity : ', sensitivity1)\n",
    "\n",
    "from sklearn.metrics import matthews_corrcoef\n",
    "\n",
    "print(\"MCC : \",matthews_corrcoef(Y_test,y_predSVM_linear))\n",
    "\n",
    "from sklearn.metrics import roc_auc_score\n",
    "\n",
    "print(\"AUC : \",roc_auc_score(Y_test,y_predSVM_linear))\n",
    "\n",
    "from sklearn.metrics import classification_report\n",
    "\n",
    "print(classification_report(Y_test, y_predSVM_linear))"
   ]
  },
  {
   "cell_type": "code",
   "execution_count": 89,
   "id": "44ecc0cf",
   "metadata": {},
   "outputs": [],
   "source": [
    "# Confusion Matrix : \n",
    "#  [[117  13]\n",
    "#  [ 25  37]]\n",
    "TP2 = 117\n",
    "FP2 = 13\n",
    "FN2 = 25\n",
    "TN2 = 37\n",
    "\n",
    "\n",
    "def fun1(TP,FN,FP,TN):\n",
    "    \n",
    "    print(\"SVM on BCWD ---------------------->\")\n",
    "    print(\"TP\",TP)\n",
    "    print(\"FN\",FN)\n",
    "    print(\"FP\",FP)\n",
    "    print(\"TN\", TN)\n",
    "    Accuracy = (TP + TN)/(TP + TN + FP + FN)\n",
    "    print(\"Accuracy : {}\".format(Accuracy))\n",
    "    Precision = TP / (TP + FP)\n",
    "    print(\"Precision : {}\".format(Precision))\n",
    "    Recall = TP / (TP + FN)\n",
    "    print(\"Recall : {} \".format(Recall))\n",
    "    F1_score = 2*(Precision*Recall)/(Precision + Recall)\n",
    "    print(\"F1_score : {}\".format(F1_score))\n",
    "    TPR = TP / (TP + FP)\n",
    "    print(\"TPR : {}\".format(TPR))\n",
    "    FPR = FP / (FP + TN)\n",
    "    print(\"FPR : {}\".format(FPR))"
   ]
  },
  {
   "cell_type": "code",
   "execution_count": 90,
   "id": "ea2cb2c3",
   "metadata": {},
   "outputs": [
    {
     "name": "stdout",
     "output_type": "stream",
     "text": [
      "SVM on BCWD ---------------------->\n",
      "TP 117\n",
      "FN 13\n",
      "FP 25\n",
      "TN 37\n",
      "Accuracy : 0.8020833333333334\n",
      "Precision : 0.823943661971831\n",
      "Recall : 0.9 \n",
      "F1_score : 0.8602941176470589\n",
      "TPR : 0.823943661971831\n",
      "FPR : 0.4032258064516129\n"
     ]
    }
   ],
   "source": [
    "fun1(TP2,FP2,FN2,TN2)"
   ]
  },
  {
   "cell_type": "code",
   "execution_count": null,
   "id": "551e75b6",
   "metadata": {},
   "outputs": [],
   "source": []
  },
  {
   "cell_type": "markdown",
   "id": "49aae2d3",
   "metadata": {},
   "source": [
    "# SVM ('sigmoid')"
   ]
  },
  {
   "cell_type": "code",
   "execution_count": 93,
   "id": "fb45b23c",
   "metadata": {},
   "outputs": [
    {
     "name": "stdout",
     "output_type": "stream",
     "text": [
      "training score : 0.4739583333333333\n",
      "testing score : 0.5104166666666666\n",
      "              precision    recall  f1-score   support\n",
      "\n",
      "           0       0.63      0.68      0.65       130\n",
      "           1       0.19      0.16      0.18        62\n",
      "\n",
      "    accuracy                           0.51       192\n",
      "   macro avg       0.41      0.42      0.41       192\n",
      "weighted avg       0.49      0.51      0.50       192\n",
      "\n",
      "[[88 42]\n",
      " [52 10]]\n",
      "[elapsed time: 0.128701200002979022 s]\n"
     ]
    }
   ],
   "source": [
    "from sklearn.metrics import classification_report # make predictions on validation datasets\n",
    "import time\n",
    "with timer() as t:\n",
    "    SVM = SVC(C=1.0,\n",
    "    kernel='sigmoid',\n",
    "    degree=6,\n",
    "    gamma='scale',\n",
    "    coef0=0.0,\n",
    "    shrinking=True,\n",
    "    probability=False,\n",
    "    tol=0.001,\n",
    "    cache_size=300,\n",
    "    class_weight=None,\n",
    "    verbose=False,\n",
    "    max_iter=-1,\n",
    "    decision_function_shape='ovr',\n",
    "    break_ties=False,\n",
    "    random_state=None)\n",
    "    \n",
    "    SVM.fit(X_train, Y_train)\n",
    "    y_predSVM_sigmoid= SVM.predict(X_test)\n",
    "    print((\"training score : {}\").format(SVM.score(X_train, Y_train)))\n",
    "    print((\"testing score : {}\").format(accuracy_score(Y_test, y_predSVM_sigmoid)))\n",
    "    print(classification_report(Y_test, y_predSVM_sigmoid))\n",
    "    print(confusion_matrix(Y_test, y_predSVM_sigmoid))"
   ]
  },
  {
   "cell_type": "code",
   "execution_count": 92,
   "id": "b069909b",
   "metadata": {},
   "outputs": [
    {
     "name": "stdout",
     "output_type": "stream",
     "text": [
      "Confusion Matrix : \n",
      " [[88 42]\n",
      " [52 10]]\n",
      "Accuracy :  0.5104166666666666\n",
      "specificity1 :  0.676923076923077\n",
      "Sensitivity :  0.16129032258064516\n",
      "MCC :  -0.17023324619730354\n",
      "AUC :  0.4191066997518611\n",
      "              precision    recall  f1-score   support\n",
      "\n",
      "           0       0.63      0.68      0.65       130\n",
      "           1       0.19      0.16      0.18        62\n",
      "\n",
      "    accuracy                           0.51       192\n",
      "   macro avg       0.41      0.42      0.41       192\n",
      "weighted avg       0.49      0.51      0.50       192\n",
      "\n"
     ]
    }
   ],
   "source": [
    "# SVM with RBF\n",
    "cm1 = confusion_matrix(Y_test,y_predSVM_sigmoid)\n",
    "print('Confusion Matrix : \\n', cm1)\n",
    "\n",
    "total1=sum(sum(cm1))\n",
    "\n",
    "accuracy1=(cm1[0,0]+cm1[1,1])/total1\n",
    "print ('Accuracy : ', accuracy1)\n",
    "\n",
    "specificity1 = cm1[0,0]/(cm1[0,0]+cm1[0,1])\n",
    "print('specificity1 : ', specificity1)\n",
    "\n",
    "sensitivity1 = cm1[1,1]/(cm1[1,0]+cm1[1,1])\n",
    "print('Sensitivity : ', sensitivity1)\n",
    "\n",
    "from sklearn.metrics import matthews_corrcoef\n",
    "\n",
    "print(\"MCC : \",matthews_corrcoef(Y_test,y_predSVM_sigmoid))\n",
    "\n",
    "from sklearn.metrics import roc_auc_score\n",
    "\n",
    "print(\"AUC : \",roc_auc_score(Y_test,y_predSVM_sigmoid))\n",
    "\n",
    "from sklearn.metrics import classification_report\n",
    "\n",
    "print(classification_report(Y_test, y_predSVM_sigmoid))"
   ]
  },
  {
   "cell_type": "code",
   "execution_count": null,
   "id": "9791518f",
   "metadata": {},
   "outputs": [],
   "source": [
    "# observations : here sigmoid kernel performed very bad "
   ]
  },
  {
   "cell_type": "markdown",
   "id": "2abd6d13",
   "metadata": {},
   "source": [
    "# SVM (poly)"
   ]
  },
  {
   "cell_type": "code",
   "execution_count": 95,
   "id": "9f7d4a5b",
   "metadata": {},
   "outputs": [
    {
     "name": "stdout",
     "output_type": "stream",
     "text": [
      "training score : 0.7847222222222222\n",
      "testing score : 0.7604166666666666\n",
      "              precision    recall  f1-score   support\n",
      "\n",
      "           0       0.76      0.94      0.84       130\n",
      "           1       0.75      0.39      0.51        62\n",
      "\n",
      "    accuracy                           0.76       192\n",
      "   macro avg       0.76      0.66      0.68       192\n",
      "weighted avg       0.76      0.76      0.73       192\n",
      "\n",
      "[[122   8]\n",
      " [ 38  24]]\n",
      "[elapsed time: 1.020718599997053389 s]\n"
     ]
    }
   ],
   "source": [
    "from sklearn.metrics import classification_report # make predictions on validation datasets\n",
    "import time\n",
    "with timer() as t:\n",
    "    SVM = SVC(C=1.0,\n",
    "    kernel='poly',\n",
    "    degree=6,\n",
    "    gamma='scale',\n",
    "    coef0=0.0,\n",
    "    shrinking=True,\n",
    "    probability=False,\n",
    "    tol=0.001,\n",
    "    cache_size=300,\n",
    "    class_weight=None,\n",
    "    verbose=False,\n",
    "    max_iter=-1,\n",
    "    decision_function_shape='ovr',\n",
    "    break_ties=False,\n",
    "    random_state=None)\n",
    "    \n",
    "    SVM.fit(X_train, Y_train)\n",
    "    y_predSVM_poly= SVM.predict(X_test)\n",
    "    print((\"training score : {}\").format(SVM.score(X_train, Y_train)))\n",
    "    print((\"testing score : {}\").format(accuracy_score(Y_test, y_predSVM_poly)))\n",
    "    print(classification_report(Y_test, y_predSVM_poly))\n",
    "    print(confusion_matrix(Y_test, y_predSVM_poly))"
   ]
  },
  {
   "cell_type": "code",
   "execution_count": 96,
   "id": "495c556e",
   "metadata": {},
   "outputs": [
    {
     "name": "stdout",
     "output_type": "stream",
     "text": [
      "Confusion Matrix : \n",
      " [[122   8]\n",
      " [ 38  24]]\n",
      "Accuracy :  0.7604166666666666\n",
      "specificity1 :  0.9384615384615385\n",
      "Sensitivity :  0.3870967741935484\n",
      "MCC :  0.4084710947371087\n",
      "AUC :  0.6627791563275435\n",
      "              precision    recall  f1-score   support\n",
      "\n",
      "           0       0.76      0.94      0.84       130\n",
      "           1       0.75      0.39      0.51        62\n",
      "\n",
      "    accuracy                           0.76       192\n",
      "   macro avg       0.76      0.66      0.68       192\n",
      "weighted avg       0.76      0.76      0.73       192\n",
      "\n"
     ]
    }
   ],
   "source": [
    "# SVM with RBF\n",
    "cm1 = confusion_matrix(Y_test,y_predSVM_poly)\n",
    "print('Confusion Matrix : \\n', cm1)\n",
    "\n",
    "total1=sum(sum(cm1))\n",
    "\n",
    "accuracy1=(cm1[0,0]+cm1[1,1])/total1\n",
    "print ('Accuracy : ', accuracy1)\n",
    "\n",
    "specificity1 = cm1[0,0]/(cm1[0,0]+cm1[0,1])\n",
    "print('specificity1 : ', specificity1)\n",
    "\n",
    "sensitivity1 = cm1[1,1]/(cm1[1,0]+cm1[1,1])\n",
    "print('Sensitivity : ', sensitivity1)\n",
    "\n",
    "from sklearn.metrics import matthews_corrcoef\n",
    "\n",
    "print(\"MCC : \",matthews_corrcoef(Y_test,y_predSVM_poly))\n",
    "\n",
    "from sklearn.metrics import roc_auc_score\n",
    "\n",
    "print(\"AUC : \",roc_auc_score(Y_test,y_predSVM_poly))\n",
    "\n",
    "from sklearn.metrics import classification_report\n",
    "\n",
    "print(classification_report(Y_test, y_predSVM_poly))"
   ]
  },
  {
   "cell_type": "code",
   "execution_count": 101,
   "id": "c7fcd82d",
   "metadata": {},
   "outputs": [],
   "source": [
    "# Confusion Matrix : \n",
    "#  [[122   8]\n",
    "#  [ 38  24]]\n",
    "TP3 = 122\n",
    "FP3 = 8\n",
    "FN3 = 38\n",
    "TN3 = 24\n",
    "\n",
    "\n",
    "def fun1(TP,FN,FP,TN):\n",
    "    \n",
    "    print(\"SVM on PIDDD ---------------------->\")\n",
    "    print(\"TP\",TP)\n",
    "    print(\"FN\",FN)\n",
    "    print(\"FP\",FP)\n",
    "    print(\"TN\", TN)\n",
    "    Accuracy = (TP + TN)/(TP + TN + FP + FN)\n",
    "    print(\"Accuracy : {}\".format(Accuracy))\n",
    "    Precision = TP / (TP + FP)\n",
    "    print(\"Precision : {}\".format(Precision))\n",
    "    Recall = TP / (TP + FN)\n",
    "    print(\"Recall : {} \".format(Recall))\n",
    "    F1_score = 2*(Precision*Recall)/(Precision + Recall)\n",
    "    print(\"F1_score : {}\".format(F1_score))\n",
    "    TPR = TP / (TP + FP)\n",
    "    print(\"TPR : {}\".format(TPR))\n",
    "    FPR = FP / (FP + TN)\n",
    "    print(\"FPR : {}\".format(FPR))"
   ]
  },
  {
   "cell_type": "code",
   "execution_count": 102,
   "id": "af55e6d8",
   "metadata": {},
   "outputs": [
    {
     "name": "stdout",
     "output_type": "stream",
     "text": [
      "SVM on PIDDD ---------------------->\n",
      "TP 122\n",
      "FN 38\n",
      "FP 8\n",
      "TN 24\n",
      "Accuracy : 0.7604166666666666\n",
      "Precision : 0.9384615384615385\n",
      "Recall : 0.7625 \n",
      "F1_score : 0.8413793103448275\n",
      "TPR : 0.9384615384615385\n",
      "FPR : 0.25\n"
     ]
    }
   ],
   "source": [
    "fun1(TP3,FN3,FP3,TN3)"
   ]
  },
  {
   "cell_type": "markdown",
   "id": "8df4cbff",
   "metadata": {},
   "source": [
    "# SVM ('precomputed')"
   ]
  },
  {
   "cell_type": "code",
   "execution_count": 110,
   "id": "4677094a",
   "metadata": {},
   "outputs": [
    {
     "name": "stdout",
     "output_type": "stream",
     "text": [
      "testing score : 0.8020833333333334\n",
      "              precision    recall  f1-score   support\n",
      "\n",
      "           0       0.82      0.90      0.86       130\n",
      "           1       0.74      0.60      0.66        62\n",
      "\n",
      "    accuracy                           0.80       192\n",
      "   macro avg       0.78      0.75      0.76       192\n",
      "weighted avg       0.80      0.80      0.80       192\n",
      "\n",
      "[[117  13]\n",
      " [ 25  37]]\n",
      "[elapsed time: 3.067948900003102608 s]\n"
     ]
    }
   ],
   "source": [
    "from sklearn.metrics import classification_report # make predictions on validation datasets\n",
    "import time\n",
    "with timer() as t:\n",
    "    SVM = SVC(C=1.0,\n",
    "    kernel='precomputed',\n",
    "    degree=6,\n",
    "    gamma='scale',\n",
    "    coef0=0.0,\n",
    "    shrinking=True,\n",
    "    probability=False,\n",
    "    tol=0.001,\n",
    "    cache_size=300,\n",
    "    class_weight=None,\n",
    "    verbose=False,\n",
    "    max_iter=-1,\n",
    "    decision_function_shape='ovr',\n",
    "    break_ties=False,\n",
    "    random_state=None)\n",
    "    \n",
    "    gram_train = np.dot(X_train, X_train.T)\n",
    "    SVM.fit(gram_train, Y_train)\n",
    "    gram_test = np.dot(X_test, X_train.T)\n",
    "    y_predSVM_precomputed= SVM.predict(gram_test)\n",
    "#     gram_score = np.dot(X_train, Y_train)\n",
    "#     print((\"training score : {}\").format(SVM.score(gram_score)))\n",
    "    print((\"testing score : {}\").format(accuracy_score(Y_test, y_predSVM_precomputed)))\n",
    "    print(classification_report(Y_test, y_predSVM_precomputed))\n",
    "    print(confusion_matrix(Y_test, y_predSVM_precomputed))"
   ]
  },
  {
   "cell_type": "code",
   "execution_count": 111,
   "id": "77346ce4",
   "metadata": {},
   "outputs": [
    {
     "name": "stdout",
     "output_type": "stream",
     "text": [
      "Confusion Matrix : \n",
      " [[117  13]\n",
      " [ 25  37]]\n",
      "Accuracy :  0.8020833333333334\n",
      "specificity1 :  0.9\n",
      "Sensitivity :  0.5967741935483871\n",
      "MCC :  0.5292944906975516\n",
      "AUC :  0.7483870967741935\n",
      "              precision    recall  f1-score   support\n",
      "\n",
      "           0       0.82      0.90      0.86       130\n",
      "           1       0.74      0.60      0.66        62\n",
      "\n",
      "    accuracy                           0.80       192\n",
      "   macro avg       0.78      0.75      0.76       192\n",
      "weighted avg       0.80      0.80      0.80       192\n",
      "\n"
     ]
    }
   ],
   "source": [
    "# SVM with precomputed\n",
    "cm1 = confusion_matrix(Y_test,y_predSVM_precomputed)\n",
    "print('Confusion Matrix : \\n', cm1)\n",
    "\n",
    "total1=sum(sum(cm1))\n",
    "\n",
    "accuracy1=(cm1[0,0]+cm1[1,1])/total1\n",
    "print ('Accuracy : ', accuracy1)\n",
    "\n",
    "specificity1 = cm1[0,0]/(cm1[0,0]+cm1[0,1])\n",
    "print('specificity1 : ', specificity1)\n",
    "\n",
    "sensitivity1 = cm1[1,1]/(cm1[1,0]+cm1[1,1])\n",
    "print('Sensitivity : ', sensitivity1)\n",
    "\n",
    "from sklearn.metrics import matthews_corrcoef\n",
    "\n",
    "print(\"MCC : \",matthews_corrcoef(Y_test,y_predSVM_precomputed))\n",
    "\n",
    "from sklearn.metrics import roc_auc_score\n",
    "\n",
    "print(\"AUC : \",roc_auc_score(Y_test,y_predSVM_precomputed))\n",
    "\n",
    "from sklearn.metrics import classification_report\n",
    "\n",
    "print(classification_report(Y_test, y_predSVM_precomputed))"
   ]
  },
  {
   "cell_type": "code",
   "execution_count": 112,
   "id": "07b9afc7",
   "metadata": {},
   "outputs": [
    {
     "name": "stdout",
     "output_type": "stream",
     "text": [
      "SVM on PIDDD ---------------------->\n",
      "TP 117\n",
      "FN 25\n",
      "FP 13\n",
      "TN 37\n",
      "Accuracy : 0.8020833333333334\n",
      "Precision : 0.9\n",
      "Recall : 0.823943661971831 \n",
      "F1_score : 0.8602941176470589\n",
      "TPR : 0.9\n",
      "FPR : 0.26\n"
     ]
    }
   ],
   "source": [
    "# Confusion Matrix : \n",
    "#  [[117  13]\n",
    "#  [ 25  37]]\n",
    "TP4 = 117\n",
    "FP4 = 13\n",
    "FN4 = 25\n",
    "TN4 = 37\n",
    "\n",
    "\n",
    "def fun1(TP,FN,FP,TN):\n",
    "    \n",
    "    print(\"SVM on PIDDD ---------------------->\")\n",
    "    print(\"TP\",TP)\n",
    "    print(\"FN\",FN)\n",
    "    print(\"FP\",FP)\n",
    "    print(\"TN\", TN)\n",
    "    Accuracy = (TP + TN)/(TP + TN + FP + FN)\n",
    "    print(\"Accuracy : {}\".format(Accuracy))\n",
    "    Precision = TP / (TP + FP)\n",
    "    print(\"Precision : {}\".format(Precision))\n",
    "    Recall = TP / (TP + FN)\n",
    "    print(\"Recall : {} \".format(Recall))\n",
    "    F1_score = 2*(Precision*Recall)/(Precision + Recall)\n",
    "    print(\"F1_score : {}\".format(F1_score))\n",
    "    TPR = TP / (TP + FP)\n",
    "    print(\"TPR : {}\".format(TPR))\n",
    "    FPR = FP / (FP + TN)\n",
    "    print(\"FPR : {}\".format(FPR))\n",
    "    \n",
    "fun1(TP4,FN4,FP4,TN4)"
   ]
  },
  {
   "cell_type": "markdown",
   "id": "1a6e2fe5",
   "metadata": {},
   "source": [
    "# Logistic Regression ( LR )"
   ]
  },
  {
   "cell_type": "code",
   "execution_count": 113,
   "id": "cda8da84",
   "metadata": {},
   "outputs": [
    {
     "data": {
      "text/html": [
       "<style>#sk-container-id-2 {color: black;background-color: white;}#sk-container-id-2 pre{padding: 0;}#sk-container-id-2 div.sk-toggleable {background-color: white;}#sk-container-id-2 label.sk-toggleable__label {cursor: pointer;display: block;width: 100%;margin-bottom: 0;padding: 0.3em;box-sizing: border-box;text-align: center;}#sk-container-id-2 label.sk-toggleable__label-arrow:before {content: \"▸\";float: left;margin-right: 0.25em;color: #696969;}#sk-container-id-2 label.sk-toggleable__label-arrow:hover:before {color: black;}#sk-container-id-2 div.sk-estimator:hover label.sk-toggleable__label-arrow:before {color: black;}#sk-container-id-2 div.sk-toggleable__content {max-height: 0;max-width: 0;overflow: hidden;text-align: left;background-color: #f0f8ff;}#sk-container-id-2 div.sk-toggleable__content pre {margin: 0.2em;color: black;border-radius: 0.25em;background-color: #f0f8ff;}#sk-container-id-2 input.sk-toggleable__control:checked~div.sk-toggleable__content {max-height: 200px;max-width: 100%;overflow: auto;}#sk-container-id-2 input.sk-toggleable__control:checked~label.sk-toggleable__label-arrow:before {content: \"▾\";}#sk-container-id-2 div.sk-estimator input.sk-toggleable__control:checked~label.sk-toggleable__label {background-color: #d4ebff;}#sk-container-id-2 div.sk-label input.sk-toggleable__control:checked~label.sk-toggleable__label {background-color: #d4ebff;}#sk-container-id-2 input.sk-hidden--visually {border: 0;clip: rect(1px 1px 1px 1px);clip: rect(1px, 1px, 1px, 1px);height: 1px;margin: -1px;overflow: hidden;padding: 0;position: absolute;width: 1px;}#sk-container-id-2 div.sk-estimator {font-family: monospace;background-color: #f0f8ff;border: 1px dotted black;border-radius: 0.25em;box-sizing: border-box;margin-bottom: 0.5em;}#sk-container-id-2 div.sk-estimator:hover {background-color: #d4ebff;}#sk-container-id-2 div.sk-parallel-item::after {content: \"\";width: 100%;border-bottom: 1px solid gray;flex-grow: 1;}#sk-container-id-2 div.sk-label:hover label.sk-toggleable__label {background-color: #d4ebff;}#sk-container-id-2 div.sk-serial::before {content: \"\";position: absolute;border-left: 1px solid gray;box-sizing: border-box;top: 0;bottom: 0;left: 50%;z-index: 0;}#sk-container-id-2 div.sk-serial {display: flex;flex-direction: column;align-items: center;background-color: white;padding-right: 0.2em;padding-left: 0.2em;position: relative;}#sk-container-id-2 div.sk-item {position: relative;z-index: 1;}#sk-container-id-2 div.sk-parallel {display: flex;align-items: stretch;justify-content: center;background-color: white;position: relative;}#sk-container-id-2 div.sk-item::before, #sk-container-id-2 div.sk-parallel-item::before {content: \"\";position: absolute;border-left: 1px solid gray;box-sizing: border-box;top: 0;bottom: 0;left: 50%;z-index: -1;}#sk-container-id-2 div.sk-parallel-item {display: flex;flex-direction: column;z-index: 1;position: relative;background-color: white;}#sk-container-id-2 div.sk-parallel-item:first-child::after {align-self: flex-end;width: 50%;}#sk-container-id-2 div.sk-parallel-item:last-child::after {align-self: flex-start;width: 50%;}#sk-container-id-2 div.sk-parallel-item:only-child::after {width: 0;}#sk-container-id-2 div.sk-dashed-wrapped {border: 1px dashed gray;margin: 0 0.4em 0.5em 0.4em;box-sizing: border-box;padding-bottom: 0.4em;background-color: white;}#sk-container-id-2 div.sk-label label {font-family: monospace;font-weight: bold;display: inline-block;line-height: 1.2em;}#sk-container-id-2 div.sk-label-container {text-align: center;}#sk-container-id-2 div.sk-container {/* jupyter's `normalize.less` sets `[hidden] { display: none; }` but bootstrap.min.css set `[hidden] { display: none !important; }` so we also need the `!important` here to be able to override the default hidden behavior on the sphinx rendered scikit-learn.org. See: https://github.com/scikit-learn/scikit-learn/issues/21755 */display: inline-block !important;position: relative;}#sk-container-id-2 div.sk-text-repr-fallback {display: none;}</style><div id=\"sk-container-id-2\" class=\"sk-top-container\"><div class=\"sk-text-repr-fallback\"><pre>LogisticRegression(random_state=0)</pre><b>In a Jupyter environment, please rerun this cell to show the HTML representation or trust the notebook. <br />On GitHub, the HTML representation is unable to render, please try loading this page with nbviewer.org.</b></div><div class=\"sk-container\" hidden><div class=\"sk-item\"><div class=\"sk-estimator sk-toggleable\"><input class=\"sk-toggleable__control sk-hidden--visually\" id=\"sk-estimator-id-4\" type=\"checkbox\" checked><label for=\"sk-estimator-id-4\" class=\"sk-toggleable__label sk-toggleable__label-arrow\">LogisticRegression</label><div class=\"sk-toggleable__content\"><pre>LogisticRegression(random_state=0)</pre></div></div></div></div></div>"
      ],
      "text/plain": [
       "LogisticRegression(random_state=0)"
      ]
     },
     "execution_count": 113,
     "metadata": {},
     "output_type": "execute_result"
    }
   ],
   "source": [
    "#Logistic Regression\n",
    "from sklearn.linear_model import LogisticRegression\n",
    "log = LogisticRegression(random_state=0)\n",
    "log.fit(X_train,Y_train)"
   ]
  },
  {
   "cell_type": "code",
   "execution_count": 114,
   "id": "a7c1bbcf",
   "metadata": {},
   "outputs": [
    {
     "name": "stdout",
     "output_type": "stream",
     "text": [
      "[elapsed time: 0.026185900002019480 s]\n"
     ]
    }
   ],
   "source": [
    "with timer() as t:\n",
    "    from sklearn.linear_model import LogisticRegression\n",
    "    log = LogisticRegression(random_state=0)\n",
    "    log.fit(X_train,Y_train)\n",
    "    "
   ]
  },
  {
   "cell_type": "code",
   "execution_count": 116,
   "id": "85f46c22",
   "metadata": {},
   "outputs": [
    {
     "data": {
      "text/plain": [
       "0.7708333333333334"
      ]
     },
     "execution_count": 116,
     "metadata": {},
     "output_type": "execute_result"
    }
   ],
   "source": [
    "log.score(X_train,Y_train)"
   ]
  },
  {
   "cell_type": "code",
   "execution_count": 118,
   "id": "680396e8",
   "metadata": {},
   "outputs": [
    {
     "name": "stdout",
     "output_type": "stream",
     "text": [
      "Confusion Matrix : \n",
      " [[115  15]\n",
      " [ 25  37]]\n",
      "Accuracy :  0.7916666666666666\n",
      "specificity1 :  0.8846153846153846\n",
      "Sensitivity :  0.5967741935483871\n",
      "MCC :  0.5065222356177437\n",
      "AUC :  0.7406947890818858\n",
      "              precision    recall  f1-score   support\n",
      "\n",
      "           0       0.82      0.88      0.85       130\n",
      "           1       0.71      0.60      0.65        62\n",
      "\n",
      "    accuracy                           0.79       192\n",
      "   macro avg       0.77      0.74      0.75       192\n",
      "weighted avg       0.79      0.79      0.79       192\n",
      "\n"
     ]
    }
   ],
   "source": [
    "pred_logReg = log.predict(X_test)\n",
    "\n",
    "from sklearn.metrics import confusion_matrix\n",
    "\n",
    "cm1 = confusion_matrix(Y_test,pred_logReg)\n",
    "print('Confusion Matrix : \\n', cm1)\n",
    "\n",
    "total1=sum(sum(cm1))\n",
    "\n",
    "accuracy1=(cm1[0,0]+cm1[1,1])/total1\n",
    "print ('Accuracy : ', accuracy1)\n",
    "\n",
    "specificity1 = cm1[0,0]/(cm1[0,0]+cm1[0,1])\n",
    "print('specificity1 : ', specificity1)\n",
    "\n",
    "sensitivity1 = cm1[1,1]/(cm1[1,0]+cm1[1,1])\n",
    "print('Sensitivity : ', sensitivity1)\n",
    "\n",
    "from sklearn.metrics import matthews_corrcoef\n",
    "\n",
    "print(\"MCC : \",matthews_corrcoef(Y_test,pred_logReg))\n",
    "\n",
    "from sklearn.metrics import roc_auc_score\n",
    "\n",
    "print(\"AUC : \",roc_auc_score(Y_test,pred_logReg))\n",
    "\n",
    "from sklearn.metrics import classification_report\n",
    "\n",
    "print(classification_report(Y_test, pred_logReg))"
   ]
  },
  {
   "cell_type": "code",
   "execution_count": 119,
   "id": "ccbf9cd5",
   "metadata": {},
   "outputs": [
    {
     "name": "stdout",
     "output_type": "stream",
     "text": [
      "SVM on PIDDD ---------------------->\n",
      "TP 115\n",
      "FN 25\n",
      "FP 15\n",
      "TN 37\n",
      "Accuracy : 0.7916666666666666\n",
      "Precision : 0.8846153846153846\n",
      "Recall : 0.8214285714285714 \n",
      "F1_score : 0.8518518518518519\n",
      "TPR : 0.8846153846153846\n",
      "FPR : 0.28846153846153844\n"
     ]
    }
   ],
   "source": [
    "# Confusion Matrix : \n",
    "#  [[115  15]\n",
    "#  [ 25  37]]\n",
    "TP5 = 115\n",
    "FP5 = 15\n",
    "FN5 = 25\n",
    "TN5 = 37\n",
    "\n",
    "\n",
    "def fun1(TP,FN,FP,TN):\n",
    "    \n",
    "    print(\"SVM on PIDDD ---------------------->\")\n",
    "    print(\"TP\",TP)\n",
    "    print(\"FN\",FN)\n",
    "    print(\"FP\",FP)\n",
    "    print(\"TN\", TN)\n",
    "    Accuracy = (TP + TN)/(TP + TN + FP + FN)\n",
    "    print(\"Accuracy : {}\".format(Accuracy))\n",
    "    Precision = TP / (TP + FP)\n",
    "    print(\"Precision : {}\".format(Precision))\n",
    "    Recall = TP / (TP + FN)\n",
    "    print(\"Recall : {} \".format(Recall))\n",
    "    F1_score = 2*(Precision*Recall)/(Precision + Recall)\n",
    "    print(\"F1_score : {}\".format(F1_score))\n",
    "    TPR = TP / (TP + FP)\n",
    "    print(\"TPR : {}\".format(TPR))\n",
    "    FPR = FP / (FP + TN)\n",
    "    print(\"FPR : {}\".format(FPR))\n",
    "    \n",
    "fun1(TP5,FN5,FP5,TN5)"
   ]
  },
  {
   "cell_type": "markdown",
   "id": "909ea802",
   "metadata": {},
   "source": [
    "### Hyper parameter tuning on  LR"
   ]
  },
  {
   "cell_type": "code",
   "execution_count": 156,
   "id": "2514b0a8",
   "metadata": {},
   "outputs": [],
   "source": [
    "from sklearn.model_selection import LeaveOneOut\n",
    "from sklearn.model_selection import KFold\n",
    "from sklearn.model_selection import cross_val_score\n",
    "from sklearn.model_selection import GridSearchCV\n",
    "# sklearn.cross_validation.KFold(n=4, n_folds=2, shuffle=False,\n",
    "#                                random_state=None)\n",
    "from sklearn.model_selection import StratifiedKFold\n",
    "#skfold=StratifiedKFold(n_splits=5)\n"
   ]
  },
  {
   "cell_type": "code",
   "execution_count": 159,
   "id": "aee3cb06",
   "metadata": {},
   "outputs": [
    {
     "data": {
      "text/plain": [
       "array([0.        , 0.02040816, 0.04081633, 0.06122449, 0.08163265,\n",
       "       0.10204082, 0.12244898, 0.14285714, 0.16326531, 0.18367347,\n",
       "       0.20408163, 0.2244898 , 0.24489796, 0.26530612, 0.28571429,\n",
       "       0.30612245, 0.32653061, 0.34693878, 0.36734694, 0.3877551 ,\n",
       "       0.40816327, 0.42857143, 0.44897959, 0.46938776, 0.48979592,\n",
       "       0.51020408, 0.53061224, 0.55102041, 0.57142857, 0.59183673,\n",
       "       0.6122449 , 0.63265306, 0.65306122, 0.67346939, 0.69387755,\n",
       "       0.71428571, 0.73469388, 0.75510204, 0.7755102 , 0.79591837,\n",
       "       0.81632653, 0.83673469, 0.85714286, 0.87755102, 0.89795918,\n",
       "       0.91836735, 0.93877551, 0.95918367, 0.97959184, 1.        ])"
      ]
     },
     "execution_count": 159,
     "metadata": {},
     "output_type": "execute_result"
    }
   ],
   "source": [
    "import numpy as np\n",
    "#range(0,1)\n",
    "np.linspace(0,1)"
   ]
  },
  {
   "cell_type": "code",
   "execution_count": 168,
   "id": "a1434f2b",
   "metadata": {},
   "outputs": [],
   "source": [
    "logModel = LogisticRegression()\n",
    "param_grid = [    \n",
    "    {'penalty' : ['l1', 'l2', 'elasticnet', 'none'],\n",
    "    'C' : np.logspace(1, 2, 20),\n",
    "    'solver' : ['lbfgs','newton-cg','liblinear','sag','saga'],\n",
    "    'max_iter' : [100, 1000,2500, 5000],\n",
    "     'dual' : [True,False],\n",
    "     'multi_class' : ['auto', 'ovr', 'multinomial'],\n",
    "    \n",
    "    }\n",
    "]"
   ]
  },
  {
   "cell_type": "code",
   "execution_count": 169,
   "id": "c227944f",
   "metadata": {},
   "outputs": [],
   "source": [
    "clf = GridSearchCV(logModel, param_grid = param_grid, cv = 4, verbose=True, n_jobs=-1)"
   ]
  },
  {
   "cell_type": "code",
   "execution_count": 170,
   "id": "e2965c7d",
   "metadata": {},
   "outputs": [
    {
     "name": "stdout",
     "output_type": "stream",
     "text": [
      "Fitting 4 folds for each of 9600 candidates, totalling 38400 fits\n"
     ]
    }
   ],
   "source": [
    "best_clf = clf.fit(X_train,Y_train)"
   ]
  },
  {
   "cell_type": "code",
   "execution_count": 171,
   "id": "6d7f97fc",
   "metadata": {},
   "outputs": [
    {
     "data": {
      "text/html": [
       "<style>#sk-container-id-6 {color: black;background-color: white;}#sk-container-id-6 pre{padding: 0;}#sk-container-id-6 div.sk-toggleable {background-color: white;}#sk-container-id-6 label.sk-toggleable__label {cursor: pointer;display: block;width: 100%;margin-bottom: 0;padding: 0.3em;box-sizing: border-box;text-align: center;}#sk-container-id-6 label.sk-toggleable__label-arrow:before {content: \"▸\";float: left;margin-right: 0.25em;color: #696969;}#sk-container-id-6 label.sk-toggleable__label-arrow:hover:before {color: black;}#sk-container-id-6 div.sk-estimator:hover label.sk-toggleable__label-arrow:before {color: black;}#sk-container-id-6 div.sk-toggleable__content {max-height: 0;max-width: 0;overflow: hidden;text-align: left;background-color: #f0f8ff;}#sk-container-id-6 div.sk-toggleable__content pre {margin: 0.2em;color: black;border-radius: 0.25em;background-color: #f0f8ff;}#sk-container-id-6 input.sk-toggleable__control:checked~div.sk-toggleable__content {max-height: 200px;max-width: 100%;overflow: auto;}#sk-container-id-6 input.sk-toggleable__control:checked~label.sk-toggleable__label-arrow:before {content: \"▾\";}#sk-container-id-6 div.sk-estimator input.sk-toggleable__control:checked~label.sk-toggleable__label {background-color: #d4ebff;}#sk-container-id-6 div.sk-label input.sk-toggleable__control:checked~label.sk-toggleable__label {background-color: #d4ebff;}#sk-container-id-6 input.sk-hidden--visually {border: 0;clip: rect(1px 1px 1px 1px);clip: rect(1px, 1px, 1px, 1px);height: 1px;margin: -1px;overflow: hidden;padding: 0;position: absolute;width: 1px;}#sk-container-id-6 div.sk-estimator {font-family: monospace;background-color: #f0f8ff;border: 1px dotted black;border-radius: 0.25em;box-sizing: border-box;margin-bottom: 0.5em;}#sk-container-id-6 div.sk-estimator:hover {background-color: #d4ebff;}#sk-container-id-6 div.sk-parallel-item::after {content: \"\";width: 100%;border-bottom: 1px solid gray;flex-grow: 1;}#sk-container-id-6 div.sk-label:hover label.sk-toggleable__label {background-color: #d4ebff;}#sk-container-id-6 div.sk-serial::before {content: \"\";position: absolute;border-left: 1px solid gray;box-sizing: border-box;top: 0;bottom: 0;left: 50%;z-index: 0;}#sk-container-id-6 div.sk-serial {display: flex;flex-direction: column;align-items: center;background-color: white;padding-right: 0.2em;padding-left: 0.2em;position: relative;}#sk-container-id-6 div.sk-item {position: relative;z-index: 1;}#sk-container-id-6 div.sk-parallel {display: flex;align-items: stretch;justify-content: center;background-color: white;position: relative;}#sk-container-id-6 div.sk-item::before, #sk-container-id-6 div.sk-parallel-item::before {content: \"\";position: absolute;border-left: 1px solid gray;box-sizing: border-box;top: 0;bottom: 0;left: 50%;z-index: -1;}#sk-container-id-6 div.sk-parallel-item {display: flex;flex-direction: column;z-index: 1;position: relative;background-color: white;}#sk-container-id-6 div.sk-parallel-item:first-child::after {align-self: flex-end;width: 50%;}#sk-container-id-6 div.sk-parallel-item:last-child::after {align-self: flex-start;width: 50%;}#sk-container-id-6 div.sk-parallel-item:only-child::after {width: 0;}#sk-container-id-6 div.sk-dashed-wrapped {border: 1px dashed gray;margin: 0 0.4em 0.5em 0.4em;box-sizing: border-box;padding-bottom: 0.4em;background-color: white;}#sk-container-id-6 div.sk-label label {font-family: monospace;font-weight: bold;display: inline-block;line-height: 1.2em;}#sk-container-id-6 div.sk-label-container {text-align: center;}#sk-container-id-6 div.sk-container {/* jupyter's `normalize.less` sets `[hidden] { display: none; }` but bootstrap.min.css set `[hidden] { display: none !important; }` so we also need the `!important` here to be able to override the default hidden behavior on the sphinx rendered scikit-learn.org. See: https://github.com/scikit-learn/scikit-learn/issues/21755 */display: inline-block !important;position: relative;}#sk-container-id-6 div.sk-text-repr-fallback {display: none;}</style><div id=\"sk-container-id-6\" class=\"sk-top-container\"><div class=\"sk-text-repr-fallback\"><pre>LogisticRegression(C=54.5559478116852, multi_class=&#x27;multinomial&#x27;)</pre><b>In a Jupyter environment, please rerun this cell to show the HTML representation or trust the notebook. <br />On GitHub, the HTML representation is unable to render, please try loading this page with nbviewer.org.</b></div><div class=\"sk-container\" hidden><div class=\"sk-item\"><div class=\"sk-estimator sk-toggleable\"><input class=\"sk-toggleable__control sk-hidden--visually\" id=\"sk-estimator-id-8\" type=\"checkbox\" checked><label for=\"sk-estimator-id-8\" class=\"sk-toggleable__label sk-toggleable__label-arrow\">LogisticRegression</label><div class=\"sk-toggleable__content\"><pre>LogisticRegression(C=54.5559478116852, multi_class=&#x27;multinomial&#x27;)</pre></div></div></div></div></div>"
      ],
      "text/plain": [
       "LogisticRegression(C=54.5559478116852, multi_class='multinomial')"
      ]
     },
     "execution_count": 171,
     "metadata": {},
     "output_type": "execute_result"
    }
   ],
   "source": [
    "best_clf.best_estimator_"
   ]
  },
  {
   "cell_type": "code",
   "execution_count": 172,
   "id": "a653518d",
   "metadata": {},
   "outputs": [
    {
     "name": "stdout",
     "output_type": "stream",
     "text": [
      "Confusion Matrix : \n",
      " [[117  13]\n",
      " [ 24  38]]\n",
      "Accuracy :  0.8072916666666666\n",
      "specificity1 :  0.9\n",
      "Sensitivity :  0.6129032258064516\n",
      "MCC :  0.5430105994571142\n",
      "AUC :  0.7564516129032258\n",
      "              precision    recall  f1-score   support\n",
      "\n",
      "           0       0.83      0.90      0.86       130\n",
      "           1       0.75      0.61      0.67        62\n",
      "\n",
      "    accuracy                           0.81       192\n",
      "   macro avg       0.79      0.76      0.77       192\n",
      "weighted avg       0.80      0.81      0.80       192\n",
      "\n"
     ]
    }
   ],
   "source": [
    "pred_logReg1 = best_clf.predict(X_test)\n",
    "\n",
    "from sklearn.metrics import confusion_matrix\n",
    "\n",
    "cm1 = confusion_matrix(Y_test,pred_logReg1)\n",
    "print('Confusion Matrix : \\n', cm1)\n",
    "\n",
    "total1=sum(sum(cm1))\n",
    "\n",
    "accuracy1=(cm1[0,0]+cm1[1,1])/total1\n",
    "print ('Accuracy : ', accuracy1)\n",
    "\n",
    "specificity1 = cm1[0,0]/(cm1[0,0]+cm1[0,1])\n",
    "print('specificity1 : ', specificity1)\n",
    "\n",
    "sensitivity1 = cm1[1,1]/(cm1[1,0]+cm1[1,1])\n",
    "print('Sensitivity : ', sensitivity1)\n",
    "\n",
    "from sklearn.metrics import matthews_corrcoef\n",
    "\n",
    "print(\"MCC : \",matthews_corrcoef(Y_test,pred_logReg1))\n",
    "\n",
    "from sklearn.metrics import roc_auc_score\n",
    "\n",
    "print(\"AUC : \",roc_auc_score(Y_test,pred_logReg1))\n",
    "\n",
    "from sklearn.metrics import classification_report\n",
    "\n",
    "print(classification_report(Y_test, pred_logReg1))"
   ]
  },
  {
   "cell_type": "raw",
   "id": "64297ccc",
   "metadata": {},
   "source": [
    "Confusion Matrix : \n",
    " [[118  12]\n",
    " [ 26  36]]\n",
    "Accuracy :  0.8020833333333334\n",
    "specificity1 :  0.9076923076923077\n",
    "Sensitivity :  0.5806451612903226\n",
    "MCC :  0.5273339157746447\n",
    "AUC :  0.7441687344913152\n",
    "              precision    recall  f1-score   support\n",
    "\n",
    "           0       0.82      0.91      0.86       130\n",
    "           1       0.75      0.58      0.65        62\n",
    "\n",
    "    accuracy                           0.80       192\n",
    "   macro avg       0.78      0.74      0.76       192\n",
    "weighted avg       0.80      0.80      0.79       192"
   ]
  },
  {
   "cell_type": "code",
   "execution_count": 173,
   "id": "b408220a",
   "metadata": {},
   "outputs": [
    {
     "name": "stdout",
     "output_type": "stream",
     "text": [
      "SVM on PIDDD ---------------------->\n",
      "TP 118\n",
      "FN 26\n",
      "FP 12\n",
      "TN 36\n",
      "Accuracy : 0.8020833333333334\n",
      "Precision : 0.9076923076923077\n",
      "Recall : 0.8194444444444444 \n",
      "F1_score : 0.8613138686131386\n",
      "TPR : 0.9076923076923077\n",
      "FPR : 0.25\n"
     ]
    }
   ],
   "source": [
    "# Confusion Matrix : \n",
    "#  [[118  12]\n",
    "#  [ 26  36]]\n",
    "TP6 = 118\n",
    "FP6 = 12\n",
    "FN6 = 26\n",
    "TN6 = 36\n",
    "\n",
    "\n",
    "def fun1(TP,FN,FP,TN):\n",
    "    \n",
    "    print(\"SVM on PIDDD ---------------------->\")\n",
    "    print(\"TP\",TP)\n",
    "    print(\"FN\",FN)\n",
    "    print(\"FP\",FP)\n",
    "    print(\"TN\", TN)\n",
    "    Accuracy = (TP + TN)/(TP + TN + FP + FN)\n",
    "    print(\"Accuracy : {}\".format(Accuracy))\n",
    "    Precision = TP / (TP + FP)\n",
    "    print(\"Precision : {}\".format(Precision))\n",
    "    Recall = TP / (TP + FN)\n",
    "    print(\"Recall : {} \".format(Recall))\n",
    "    F1_score = 2*(Precision*Recall)/(Precision + Recall)\n",
    "    print(\"F1_score : {}\".format(F1_score))\n",
    "    TPR = TP / (TP + FP)\n",
    "    print(\"TPR : {}\".format(TPR))\n",
    "    FPR = FP / (FP + TN)\n",
    "    print(\"FPR : {}\".format(FPR))\n",
    "    \n",
    "fun1(TP6,FN6,FP6,TN6)"
   ]
  },
  {
   "cell_type": "markdown",
   "id": "d67ef5fa",
   "metadata": {},
   "source": [
    "# KNN \n",
    "# Herparameter Optimization for K value"
   ]
  },
  {
   "cell_type": "code",
   "execution_count": 186,
   "id": "9cc1e69f",
   "metadata": {},
   "outputs": [],
   "source": [
    "error = []\n",
    "# Calculating error for k between 1 and 60\n",
    "for i in range(1,50):\n",
    "    knn = KNeighborsClassifier(n_neighbors = i)\n",
    "    knn.fit(X_train, Y_train)\n",
    "    pred_i = knn.predict(X_test)\n",
    "    error.append(np.mean(pred_i != Y_test))"
   ]
  },
  {
   "cell_type": "code",
   "execution_count": 189,
   "id": "042141d9",
   "metadata": {},
   "outputs": [
    {
     "data": {
      "text/plain": [
       "Text(0, 0.5, '<---------------------------mean Error----------------------------->')"
      ]
     },
     "execution_count": 189,
     "metadata": {},
     "output_type": "execute_result"
    },
    {
     "data": {
      "image/png": "[encoded data removed]",
      "text/plain": [
       "<Figure size 1300x600 with 1 Axes>"
      ]
     },
     "metadata": {},
     "output_type": "display_data"
    }
   ],
   "source": [
    "plt.figure(figsize=(13,6))\n",
    "plt.plot(range(1,50),error,color='red',linestyle='dashed',marker='o', markerfacecolor='green', markersize = 10)\n",
    "plt.title(\"Error Rate for K value\")\n",
    "plt.xlabel('<----------------------------------------K_value-------------------------------------------->')\n",
    "plt.ylabel(\"<---------------------------mean Error----------------------------->\")"
   ]
  },
  {
   "cell_type": "markdown",
   "id": "bb1988b2",
   "metadata": {},
   "source": [
    "### Hyperparameter Optimization for K value using RandomizedSearchCV"
   ]
  },
  {
   "cell_type": "code",
   "execution_count": 234,
   "id": "8e02ba8a",
   "metadata": {},
   "outputs": [],
   "source": [
    "from sklearn.model_selection import GridSearchCV, RandomizedSearchCV\n",
    "knn = KNeighborsClassifier(n_neighbors = 5)"
   ]
  },
  {
   "cell_type": "code",
   "execution_count": 236,
   "id": "dfdc24cf",
   "metadata": {},
   "outputs": [
    {
     "data": {
      "text/html": [
       "<style>#sk-container-id-21 {color: black;background-color: white;}#sk-container-id-21 pre{padding: 0;}#sk-container-id-21 div.sk-toggleable {background-color: white;}#sk-container-id-21 label.sk-toggleable__label {cursor: pointer;display: block;width: 100%;margin-bottom: 0;padding: 0.3em;box-sizing: border-box;text-align: center;}#sk-container-id-21 label.sk-toggleable__label-arrow:before {content: \"▸\";float: left;margin-right: 0.25em;color: #696969;}#sk-container-id-21 label.sk-toggleable__label-arrow:hover:before {color: black;}#sk-container-id-21 div.sk-estimator:hover label.sk-toggleable__label-arrow:before {color: black;}#sk-container-id-21 div.sk-toggleable__content {max-height: 0;max-width: 0;overflow: hidden;text-align: left;background-color: #f0f8ff;}#sk-container-id-21 div.sk-toggleable__content pre {margin: 0.2em;color: black;border-radius: 0.25em;background-color: #f0f8ff;}#sk-container-id-21 input.sk-toggleable__control:checked~div.sk-toggleable__content {max-height: 200px;max-width: 100%;overflow: auto;}#sk-container-id-21 input.sk-toggleable__control:checked~label.sk-toggleable__label-arrow:before {content: \"▾\";}#sk-container-id-21 div.sk-estimator input.sk-toggleable__control:checked~label.sk-toggleable__label {background-color: #d4ebff;}#sk-container-id-21 div.sk-label input.sk-toggleable__control:checked~label.sk-toggleable__label {background-color: #d4ebff;}#sk-container-id-21 input.sk-hidden--visually {border: 0;clip: rect(1px 1px 1px 1px);clip: rect(1px, 1px, 1px, 1px);height: 1px;margin: -1px;overflow: hidden;padding: 0;position: absolute;width: 1px;}#sk-container-id-21 div.sk-estimator {font-family: monospace;background-color: #f0f8ff;border: 1px dotted black;border-radius: 0.25em;box-sizing: border-box;margin-bottom: 0.5em;}#sk-container-id-21 div.sk-estimator:hover {background-color: #d4ebff;}#sk-container-id-21 div.sk-parallel-item::after {content: \"\";width: 100%;border-bottom: 1px solid gray;flex-grow: 1;}#sk-container-id-21 div.sk-label:hover label.sk-toggleable__label {background-color: #d4ebff;}#sk-container-id-21 div.sk-serial::before {content: \"\";position: absolute;border-left: 1px solid gray;box-sizing: border-box;top: 0;bottom: 0;left: 50%;z-index: 0;}#sk-container-id-21 div.sk-serial {display: flex;flex-direction: column;align-items: center;background-color: white;padding-right: 0.2em;padding-left: 0.2em;position: relative;}#sk-container-id-21 div.sk-item {position: relative;z-index: 1;}#sk-container-id-21 div.sk-parallel {display: flex;align-items: stretch;justify-content: center;background-color: white;position: relative;}#sk-container-id-21 div.sk-item::before, #sk-container-id-21 div.sk-parallel-item::before {content: \"\";position: absolute;border-left: 1px solid gray;box-sizing: border-box;top: 0;bottom: 0;left: 50%;z-index: -1;}#sk-container-id-21 div.sk-parallel-item {display: flex;flex-direction: column;z-index: 1;position: relative;background-color: white;}#sk-container-id-21 div.sk-parallel-item:first-child::after {align-self: flex-end;width: 50%;}#sk-container-id-21 div.sk-parallel-item:last-child::after {align-self: flex-start;width: 50%;}#sk-container-id-21 div.sk-parallel-item:only-child::after {width: 0;}#sk-container-id-21 div.sk-dashed-wrapped {border: 1px dashed gray;margin: 0 0.4em 0.5em 0.4em;box-sizing: border-box;padding-bottom: 0.4em;background-color: white;}#sk-container-id-21 div.sk-label label {font-family: monospace;font-weight: bold;display: inline-block;line-height: 1.2em;}#sk-container-id-21 div.sk-label-container {text-align: center;}#sk-container-id-21 div.sk-container {/* jupyter's `normalize.less` sets `[hidden] { display: none; }` but bootstrap.min.css set `[hidden] { display: none !important; }` so we also need the `!important` here to be able to override the default hidden behavior on the sphinx rendered scikit-learn.org. See: https://github.com/scikit-learn/scikit-learn/issues/21755 */display: inline-block !important;position: relative;}#sk-container-id-21 div.sk-text-repr-fallback {display: none;}</style><div id=\"sk-container-id-21\" class=\"sk-top-container\"><div class=\"sk-text-repr-fallback\"><pre>RandomizedSearchCV(cv=7, estimator=KNeighborsClassifier(), n_jobs=-1,\n",
       "                   param_distributions={&#x27;metric&#x27;: [&#x27;minkowski&#x27;],\n",
       "                                        &#x27;n_neighbors&#x27;: array([9, 9, 4, 7, 7, 7, 5, 3, 8, 6]),\n",
       "                                        &#x27;p&#x27;: [2]})</pre><b>In a Jupyter environment, please rerun this cell to show the HTML representation or trust the notebook. <br />On GitHub, the HTML representation is unable to render, please try loading this page with nbviewer.org.</b></div><div class=\"sk-container\" hidden><div class=\"sk-item sk-dashed-wrapped\"><div class=\"sk-label-container\"><div class=\"sk-label sk-toggleable\"><input class=\"sk-toggleable__control sk-hidden--visually\" id=\"sk-estimator-id-51\" type=\"checkbox\" ><label for=\"sk-estimator-id-51\" class=\"sk-toggleable__label sk-toggleable__label-arrow\">RandomizedSearchCV</label><div class=\"sk-toggleable__content\"><pre>RandomizedSearchCV(cv=7, estimator=KNeighborsClassifier(), n_jobs=-1,\n",
       "                   param_distributions={&#x27;metric&#x27;: [&#x27;minkowski&#x27;],\n",
       "                                        &#x27;n_neighbors&#x27;: array([9, 9, 4, 7, 7, 7, 5, 3, 8, 6]),\n",
       "                                        &#x27;p&#x27;: [2]})</pre></div></div></div><div class=\"sk-parallel\"><div class=\"sk-parallel-item\"><div class=\"sk-item\"><div class=\"sk-label-container\"><div class=\"sk-label sk-toggleable\"><input class=\"sk-toggleable__control sk-hidden--visually\" id=\"sk-estimator-id-52\" type=\"checkbox\" ><label for=\"sk-estimator-id-52\" class=\"sk-toggleable__label sk-toggleable__label-arrow\">estimator: KNeighborsClassifier</label><div class=\"sk-toggleable__content\"><pre>KNeighborsClassifier()</pre></div></div></div><div class=\"sk-serial\"><div class=\"sk-item\"><div class=\"sk-estimator sk-toggleable\"><input class=\"sk-toggleable__control sk-hidden--visually\" id=\"sk-estimator-id-53\" type=\"checkbox\" ><label for=\"sk-estimator-id-53\" class=\"sk-toggleable__label sk-toggleable__label-arrow\">KNeighborsClassifier</label><div class=\"sk-toggleable__content\"><pre>KNeighborsClassifier()</pre></div></div></div></div></div></div></div></div></div></div>"
      ],
      "text/plain": [
       "RandomizedSearchCV(cv=7, estimator=KNeighborsClassifier(), n_jobs=-1,\n",
       "                   param_distributions={'metric': ['minkowski'],\n",
       "                                        'n_neighbors': array([9, 9, 4, 7, 7, 7, 5, 3, 8, 6]),\n",
       "                                        'p': [2]})"
      ]
     },
     "execution_count": 236,
     "metadata": {},
     "output_type": "execute_result"
    }
   ],
   "source": [
    "k = np.random.randint(1,10,10)\n",
    "# define list of parameters for the model\n",
    "KNN_params = {'n_neighbors': k, 'p':[2], 'metric':['minkowski']}\n",
    "random_search =  RandomizedSearchCV(knn, KNN_params, n_iter = 10, cv = 7, n_jobs = -1, verbose = 0 )\n",
    "random_search.fit(X_train,Y_train)"
   ]
  },
  {
   "cell_type": "code",
   "execution_count": 237,
   "id": "bf7c0924",
   "metadata": {},
   "outputs": [
    {
     "name": "stdout",
     "output_type": "stream",
     "text": [
      "Training Score : 0.7881944444444444\n",
      "Testing Score : 0.7708333333333334\n"
     ]
    }
   ],
   "source": [
    "print(\"Training Score : \" + str(random_search.score(X_train,Y_train)))\n",
    "print(\"Testing Score : \" + str(random_search.score(X_test, Y_test)))"
   ]
  },
  {
   "cell_type": "code",
   "execution_count": 238,
   "id": "d41d51ba",
   "metadata": {},
   "outputs": [
    {
     "name": "stdout",
     "output_type": "stream",
     "text": [
      "{'p': 2, 'n_neighbors': 9, 'metric': 'minkowski'}\n"
     ]
    }
   ],
   "source": [
    "print(random_search.best_params_)"
   ]
  },
  {
   "cell_type": "code",
   "execution_count": 240,
   "id": "4ca2816e",
   "metadata": {},
   "outputs": [
    {
     "name": "stdout",
     "output_type": "stream",
     "text": [
      "Confusion Matrix : \n",
      " [[112  18]\n",
      " [ 26  36]]\n",
      "Accuracy :  0.7708333333333334\n",
      "specificity1 :  0.8615384615384616\n",
      "Sensitivity :  0.5806451612903226\n",
      "MCC :  0.4598685942327356\n",
      "AUC :  0.721091811414392\n",
      "              precision    recall  f1-score   support\n",
      "\n",
      "           0       0.81      0.86      0.84       130\n",
      "           1       0.67      0.58      0.62        62\n",
      "\n",
      "    accuracy                           0.77       192\n",
      "   macro avg       0.74      0.72      0.73       192\n",
      "weighted avg       0.76      0.77      0.77       192\n",
      "\n"
     ]
    }
   ],
   "source": [
    "pred_KNN = random_search.predict(X_test)\n",
    "\n",
    "from sklearn.metrics import confusion_matrix\n",
    "\n",
    "cm1 = confusion_matrix(Y_test,pred_KNN)\n",
    "print('Confusion Matrix : \\n', cm1)\n",
    "\n",
    "total1=sum(sum(cm1))\n",
    "\n",
    "accuracy1=(cm1[0,0]+cm1[1,1])/total1\n",
    "print ('Accuracy : ', accuracy1)\n",
    "\n",
    "specificity1 = cm1[0,0]/(cm1[0,0]+cm1[0,1])\n",
    "print('specificity1 : ', specificity1)\n",
    "\n",
    "sensitivity1 = cm1[1,1]/(cm1[1,0]+cm1[1,1])\n",
    "print('Sensitivity : ', sensitivity1)\n",
    "\n",
    "from sklearn.metrics import matthews_corrcoef\n",
    "\n",
    "print(\"MCC : \",matthews_corrcoef(Y_test,pred_KNN))\n",
    "\n",
    "from sklearn.metrics import roc_auc_score\n",
    "\n",
    "print(\"AUC : \",roc_auc_score(Y_test,pred_KNN))\n",
    "\n",
    "from sklearn.metrics import classification_report\n",
    "\n",
    "print(classification_report(Y_test, pred_KNN))"
   ]
  },
  {
   "cell_type": "code",
   "execution_count": 241,
   "id": "daa5f64b",
   "metadata": {},
   "outputs": [
    {
     "name": "stdout",
     "output_type": "stream",
     "text": [
      "SVM on PIDDD ---------------------->\n",
      "TP 112\n",
      "FN 26\n",
      "FP 18\n",
      "TN 36\n",
      "Accuracy : 0.7708333333333334\n",
      "Precision : 0.8615384615384616\n",
      "Recall : 0.8115942028985508 \n",
      "F1_score : 0.835820895522388\n",
      "TPR : 0.8615384615384616\n",
      "FPR : 0.3333333333333333\n"
     ]
    }
   ],
   "source": [
    "# forb KNN\n",
    "# Confusion Matrix : \n",
    "#  [[112  18]\n",
    "#  [ 26  36]]\n",
    "TP7 = 112\n",
    "FP7 = 18\n",
    "FN7 = 26\n",
    "TN7 = 36\n",
    "\n",
    "\n",
    "def fun1(TP,FN,FP,TN):\n",
    "    \n",
    "    print(\"SVM on PIDDD ---------------------->\")\n",
    "    print(\"TP\",TP)\n",
    "    print(\"FN\",FN)\n",
    "    print(\"FP\",FP)\n",
    "    print(\"TN\", TN)\n",
    "    Accuracy = (TP + TN)/(TP + TN + FP + FN)\n",
    "    print(\"Accuracy : {}\".format(Accuracy))\n",
    "    Precision = TP / (TP + FP)\n",
    "    print(\"Precision : {}\".format(Precision))\n",
    "    Recall = TP / (TP + FN)\n",
    "    print(\"Recall : {} \".format(Recall))\n",
    "    F1_score = 2*(Precision*Recall)/(Precision + Recall)\n",
    "    print(\"F1_score : {}\".format(F1_score))\n",
    "    TPR = TP / (TP + FP)\n",
    "    print(\"TPR : {}\".format(TPR))\n",
    "    FPR = FP / (FP + TN)\n",
    "    print(\"FPR : {}\".format(FPR))\n",
    "    \n",
    "fun1(TP7,FN7,FP7,TN7)"
   ]
  },
  {
   "cell_type": "code",
   "execution_count": 43,
   "id": "b830865f",
   "metadata": {},
   "outputs": [],
   "source": [
    "# KNN_params = {'n_neighbors':[1,5,10,9,20, 50], 'p':[2], 'metric':['minkowski']}"
   ]
  },
  {
   "cell_type": "code",
   "execution_count": null,
   "id": "076d630f",
   "metadata": {},
   "outputs": [],
   "source": [
    "# from sklearn.neighbors import KNeighborsClassifier\n",
    "\n",
    "# knn = KNeighborsClassifier(n_neighbors = 9)\n",
    "\n",
    "# knn.fit(xtrain,ytrain)\n",
    "\n",
    "# knn.score(xtest,ytest)"
   ]
  },
  {
   "cell_type": "code",
   "execution_count": null,
   "id": "4426e871",
   "metadata": {},
   "outputs": [],
   "source": []
  },
  {
   "cell_type": "markdown",
   "id": "2cb4176c",
   "metadata": {},
   "source": [
    "# Decision Tree Model Hyperparameter optimization"
   ]
  },
  {
   "cell_type": "code",
   "execution_count": 580,
   "id": "1258784e",
   "metadata": {},
   "outputs": [],
   "source": [
    "DTC_parameters = {  'criterion':('entropy', 'gini','log_loss'), \n",
    "                    'splitter' : ('best', 'random'), \n",
    "                    'max_depth':(10, 50, 120),\n",
    "                    'max_features' : ('auto','sqrt','log'),\n",
    "                    \n",
    "                 }\n",
    "\n",
    "# 'max_sample_split' : (2,4,6) "
   ]
  },
  {
   "cell_type": "code",
   "execution_count": 581,
   "id": "c6c43919",
   "metadata": {},
   "outputs": [],
   "source": [
    "from sklearn.tree import DecisionTreeClassifier\n",
    "DTC_classifier = DecisionTreeClassifier()"
   ]
  },
  {
   "cell_type": "markdown",
   "id": "fba2c355",
   "metadata": {},
   "source": [
    "# Randomized Search CV"
   ]
  },
  {
   "cell_type": "code",
   "execution_count": 638,
   "id": "b1c793dd",
   "metadata": {},
   "outputs": [],
   "source": [
    "from sklearn.tree import DecisionTreeClassifier\n",
    "from sklearn.model_selection import cross_validate\n",
    "from sklearn.model_selection import GridSearchCV , RandomizedSearchCV\n",
    "kfold = KFold( random_state=2, n_splits= 4, shuffle=True) # n_splits=2, random_state=None, shuffle=False len(X_train),\n",
    "leave_validation=LeaveOneOut()\n",
    "skfold=StratifiedKFold(n_splits=20,random_state=2,shuffle=True)  #n_splits=20"
   ]
  },
  {
   "cell_type": "code",
   "execution_count": 639,
   "id": "06243df7",
   "metadata": {},
   "outputs": [],
   "source": [
    "DTC_grid =  GridSearchCV(DTC_classifier, DTC_parameters, cv = 21 , n_jobs = -1,  verbose = True )"
   ]
  },
  {
   "cell_type": "code",
   "execution_count": 640,
   "id": "1e15aab6",
   "metadata": {},
   "outputs": [
    {
     "name": "stdout",
     "output_type": "stream",
     "text": [
      "Fitting 21 folds for each of 54 candidates, totalling 1134 fits\n"
     ]
    },
    {
     "data": {
      "text/html": [
       "<style>#sk-container-id-114 {color: black;background-color: white;}#sk-container-id-114 pre{padding: 0;}#sk-container-id-114 div.sk-toggleable {background-color: white;}#sk-container-id-114 label.sk-toggleable__label {cursor: pointer;display: block;width: 100%;margin-bottom: 0;padding: 0.3em;box-sizing: border-box;text-align: center;}#sk-container-id-114 label.sk-toggleable__label-arrow:before {content: \"▸\";float: left;margin-right: 0.25em;color: #696969;}#sk-container-id-114 label.sk-toggleable__label-arrow:hover:before {color: black;}#sk-container-id-114 div.sk-estimator:hover label.sk-toggleable__label-arrow:before {color: black;}#sk-container-id-114 div.sk-toggleable__content {max-height: 0;max-width: 0;overflow: hidden;text-align: left;background-color: #f0f8ff;}#sk-container-id-114 div.sk-toggleable__content pre {margin: 0.2em;color: black;border-radius: 0.25em;background-color: #f0f8ff;}#sk-container-id-114 input.sk-toggleable__control:checked~div.sk-toggleable__content {max-height: 200px;max-width: 100%;overflow: auto;}#sk-container-id-114 input.sk-toggleable__control:checked~label.sk-toggleable__label-arrow:before {content: \"▾\";}#sk-container-id-114 div.sk-estimator input.sk-toggleable__control:checked~label.sk-toggleable__label {background-color: #d4ebff;}#sk-container-id-114 div.sk-label input.sk-toggleable__control:checked~label.sk-toggleable__label {background-color: #d4ebff;}#sk-container-id-114 input.sk-hidden--visually {border: 0;clip: rect(1px 1px 1px 1px);clip: rect(1px, 1px, 1px, 1px);height: 1px;margin: -1px;overflow: hidden;padding: 0;position: absolute;width: 1px;}#sk-container-id-114 div.sk-estimator {font-family: monospace;background-color: #f0f8ff;border: 1px dotted black;border-radius: 0.25em;box-sizing: border-box;margin-bottom: 0.5em;}#sk-container-id-114 div.sk-estimator:hover {background-color: #d4ebff;}#sk-container-id-114 div.sk-parallel-item::after {content: \"\";width: 100%;border-bottom: 1px solid gray;flex-grow: 1;}#sk-container-id-114 div.sk-label:hover label.sk-toggleable__label {background-color: #d4ebff;}#sk-container-id-114 div.sk-serial::before {content: \"\";position: absolute;border-left: 1px solid gray;box-sizing: border-box;top: 0;bottom: 0;left: 50%;z-index: 0;}#sk-container-id-114 div.sk-serial {display: flex;flex-direction: column;align-items: center;background-color: white;padding-right: 0.2em;padding-left: 0.2em;position: relative;}#sk-container-id-114 div.sk-item {position: relative;z-index: 1;}#sk-container-id-114 div.sk-parallel {display: flex;align-items: stretch;justify-content: center;background-color: white;position: relative;}#sk-container-id-114 div.sk-item::before, #sk-container-id-114 div.sk-parallel-item::before {content: \"\";position: absolute;border-left: 1px solid gray;box-sizing: border-box;top: 0;bottom: 0;left: 50%;z-index: -1;}#sk-container-id-114 div.sk-parallel-item {display: flex;flex-direction: column;z-index: 1;position: relative;background-color: white;}#sk-container-id-114 div.sk-parallel-item:first-child::after {align-self: flex-end;width: 50%;}#sk-container-id-114 div.sk-parallel-item:last-child::after {align-self: flex-start;width: 50%;}#sk-container-id-114 div.sk-parallel-item:only-child::after {width: 0;}#sk-container-id-114 div.sk-dashed-wrapped {border: 1px dashed gray;margin: 0 0.4em 0.5em 0.4em;box-sizing: border-box;padding-bottom: 0.4em;background-color: white;}#sk-container-id-114 div.sk-label label {font-family: monospace;font-weight: bold;display: inline-block;line-height: 1.2em;}#sk-container-id-114 div.sk-label-container {text-align: center;}#sk-container-id-114 div.sk-container {/* jupyter's `normalize.less` sets `[hidden] { display: none; }` but bootstrap.min.css set `[hidden] { display: none !important; }` so we also need the `!important` here to be able to override the default hidden behavior on the sphinx rendered scikit-learn.org. See: https://github.com/scikit-learn/scikit-learn/issues/21755 */display: inline-block !important;position: relative;}#sk-container-id-114 div.sk-text-repr-fallback {display: none;}</style><div id=\"sk-container-id-114\" class=\"sk-top-container\"><div class=\"sk-text-repr-fallback\"><pre>GridSearchCV(cv=21, estimator=DecisionTreeClassifier(), n_jobs=-1,\n",
       "             param_grid={&#x27;criterion&#x27;: (&#x27;entropy&#x27;, &#x27;gini&#x27;, &#x27;log_loss&#x27;),\n",
       "                         &#x27;max_depth&#x27;: (10, 50, 130),\n",
       "                         &#x27;max_features&#x27;: (&#x27;auto&#x27;, &#x27;sqrt&#x27;, &#x27;log&#x27;),\n",
       "                         &#x27;splitter&#x27;: (&#x27;best&#x27;, &#x27;random&#x27;)},\n",
       "             verbose=True)</pre><b>In a Jupyter environment, please rerun this cell to show the HTML representation or trust the notebook. <br />On GitHub, the HTML representation is unable to render, please try loading this page with nbviewer.org.</b></div><div class=\"sk-container\" hidden><div class=\"sk-item sk-dashed-wrapped\"><div class=\"sk-label-container\"><div class=\"sk-label sk-toggleable\"><input class=\"sk-toggleable__control sk-hidden--visually\" id=\"sk-estimator-id-236\" type=\"checkbox\" ><label for=\"sk-estimator-id-236\" class=\"sk-toggleable__label sk-toggleable__label-arrow\">GridSearchCV</label><div class=\"sk-toggleable__content\"><pre>GridSearchCV(cv=21, estimator=DecisionTreeClassifier(), n_jobs=-1,\n",
       "             param_grid={&#x27;criterion&#x27;: (&#x27;entropy&#x27;, &#x27;gini&#x27;, &#x27;log_loss&#x27;),\n",
       "                         &#x27;max_depth&#x27;: (10, 50, 130),\n",
       "                         &#x27;max_features&#x27;: (&#x27;auto&#x27;, &#x27;sqrt&#x27;, &#x27;log&#x27;),\n",
       "                         &#x27;splitter&#x27;: (&#x27;best&#x27;, &#x27;random&#x27;)},\n",
       "             verbose=True)</pre></div></div></div><div class=\"sk-parallel\"><div class=\"sk-parallel-item\"><div class=\"sk-item\"><div class=\"sk-label-container\"><div class=\"sk-label sk-toggleable\"><input class=\"sk-toggleable__control sk-hidden--visually\" id=\"sk-estimator-id-237\" type=\"checkbox\" ><label for=\"sk-estimator-id-237\" class=\"sk-toggleable__label sk-toggleable__label-arrow\">estimator: DecisionTreeClassifier</label><div class=\"sk-toggleable__content\"><pre>DecisionTreeClassifier()</pre></div></div></div><div class=\"sk-serial\"><div class=\"sk-item\"><div class=\"sk-estimator sk-toggleable\"><input class=\"sk-toggleable__control sk-hidden--visually\" id=\"sk-estimator-id-238\" type=\"checkbox\" ><label for=\"sk-estimator-id-238\" class=\"sk-toggleable__label sk-toggleable__label-arrow\">DecisionTreeClassifier</label><div class=\"sk-toggleable__content\"><pre>DecisionTreeClassifier()</pre></div></div></div></div></div></div></div></div></div></div>"
      ],
      "text/plain": [
       "GridSearchCV(cv=21, estimator=DecisionTreeClassifier(), n_jobs=-1,\n",
       "             param_grid={'criterion': ('entropy', 'gini', 'log_loss'),\n",
       "                         'max_depth': (10, 50, 130),\n",
       "                         'max_features': ('auto', 'sqrt', 'log'),\n",
       "                         'splitter': ('best', 'random')},\n",
       "             verbose=True)"
      ]
     },
     "execution_count": 640,
     "metadata": {},
     "output_type": "execute_result"
    }
   ],
   "source": [
    "DTC_grid.fit(X_train,Y_train) # model fitting with training examples "
   ]
  },
  {
   "cell_type": "code",
   "execution_count": 641,
   "id": "2648c41b",
   "metadata": {},
   "outputs": [
    {
     "data": {
      "text/html": [
       "<style>#sk-container-id-115 {color: black;background-color: white;}#sk-container-id-115 pre{padding: 0;}#sk-container-id-115 div.sk-toggleable {background-color: white;}#sk-container-id-115 label.sk-toggleable__label {cursor: pointer;display: block;width: 100%;margin-bottom: 0;padding: 0.3em;box-sizing: border-box;text-align: center;}#sk-container-id-115 label.sk-toggleable__label-arrow:before {content: \"▸\";float: left;margin-right: 0.25em;color: #696969;}#sk-container-id-115 label.sk-toggleable__label-arrow:hover:before {color: black;}#sk-container-id-115 div.sk-estimator:hover label.sk-toggleable__label-arrow:before {color: black;}#sk-container-id-115 div.sk-toggleable__content {max-height: 0;max-width: 0;overflow: hidden;text-align: left;background-color: #f0f8ff;}#sk-container-id-115 div.sk-toggleable__content pre {margin: 0.2em;color: black;border-radius: 0.25em;background-color: #f0f8ff;}#sk-container-id-115 input.sk-toggleable__control:checked~div.sk-toggleable__content {max-height: 200px;max-width: 100%;overflow: auto;}#sk-container-id-115 input.sk-toggleable__control:checked~label.sk-toggleable__label-arrow:before {content: \"▾\";}#sk-container-id-115 div.sk-estimator input.sk-toggleable__control:checked~label.sk-toggleable__label {background-color: #d4ebff;}#sk-container-id-115 div.sk-label input.sk-toggleable__control:checked~label.sk-toggleable__label {background-color: #d4ebff;}#sk-container-id-115 input.sk-hidden--visually {border: 0;clip: rect(1px 1px 1px 1px);clip: rect(1px, 1px, 1px, 1px);height: 1px;margin: -1px;overflow: hidden;padding: 0;position: absolute;width: 1px;}#sk-container-id-115 div.sk-estimator {font-family: monospace;background-color: #f0f8ff;border: 1px dotted black;border-radius: 0.25em;box-sizing: border-box;margin-bottom: 0.5em;}#sk-container-id-115 div.sk-estimator:hover {background-color: #d4ebff;}#sk-container-id-115 div.sk-parallel-item::after {content: \"\";width: 100%;border-bottom: 1px solid gray;flex-grow: 1;}#sk-container-id-115 div.sk-label:hover label.sk-toggleable__label {background-color: #d4ebff;}#sk-container-id-115 div.sk-serial::before {content: \"\";position: absolute;border-left: 1px solid gray;box-sizing: border-box;top: 0;bottom: 0;left: 50%;z-index: 0;}#sk-container-id-115 div.sk-serial {display: flex;flex-direction: column;align-items: center;background-color: white;padding-right: 0.2em;padding-left: 0.2em;position: relative;}#sk-container-id-115 div.sk-item {position: relative;z-index: 1;}#sk-container-id-115 div.sk-parallel {display: flex;align-items: stretch;justify-content: center;background-color: white;position: relative;}#sk-container-id-115 div.sk-item::before, #sk-container-id-115 div.sk-parallel-item::before {content: \"\";position: absolute;border-left: 1px solid gray;box-sizing: border-box;top: 0;bottom: 0;left: 50%;z-index: -1;}#sk-container-id-115 div.sk-parallel-item {display: flex;flex-direction: column;z-index: 1;position: relative;background-color: white;}#sk-container-id-115 div.sk-parallel-item:first-child::after {align-self: flex-end;width: 50%;}#sk-container-id-115 div.sk-parallel-item:last-child::after {align-self: flex-start;width: 50%;}#sk-container-id-115 div.sk-parallel-item:only-child::after {width: 0;}#sk-container-id-115 div.sk-dashed-wrapped {border: 1px dashed gray;margin: 0 0.4em 0.5em 0.4em;box-sizing: border-box;padding-bottom: 0.4em;background-color: white;}#sk-container-id-115 div.sk-label label {font-family: monospace;font-weight: bold;display: inline-block;line-height: 1.2em;}#sk-container-id-115 div.sk-label-container {text-align: center;}#sk-container-id-115 div.sk-container {/* jupyter's `normalize.less` sets `[hidden] { display: none; }` but bootstrap.min.css set `[hidden] { display: none !important; }` so we also need the `!important` here to be able to override the default hidden behavior on the sphinx rendered scikit-learn.org. See: https://github.com/scikit-learn/scikit-learn/issues/21755 */display: inline-block !important;position: relative;}#sk-container-id-115 div.sk-text-repr-fallback {display: none;}</style><div id=\"sk-container-id-115\" class=\"sk-top-container\"><div class=\"sk-text-repr-fallback\"><pre>DecisionTreeClassifier(criterion=&#x27;log_loss&#x27;, max_depth=10, max_features=&#x27;auto&#x27;)</pre><b>In a Jupyter environment, please rerun this cell to show the HTML representation or trust the notebook. <br />On GitHub, the HTML representation is unable to render, please try loading this page with nbviewer.org.</b></div><div class=\"sk-container\" hidden><div class=\"sk-item\"><div class=\"sk-estimator sk-toggleable\"><input class=\"sk-toggleable__control sk-hidden--visually\" id=\"sk-estimator-id-239\" type=\"checkbox\" checked><label for=\"sk-estimator-id-239\" class=\"sk-toggleable__label sk-toggleable__label-arrow\">DecisionTreeClassifier</label><div class=\"sk-toggleable__content\"><pre>DecisionTreeClassifier(criterion=&#x27;log_loss&#x27;, max_depth=10, max_features=&#x27;auto&#x27;)</pre></div></div></div></div></div>"
      ],
      "text/plain": [
       "DecisionTreeClassifier(criterion='log_loss', max_depth=10, max_features='auto')"
      ]
     },
     "execution_count": 641,
     "metadata": {},
     "output_type": "execute_result"
    }
   ],
   "source": [
    "# to see the best_estimators\n",
    "DTC_grid.best_estimator_"
   ]
  },
  {
   "cell_type": "code",
   "execution_count": 642,
   "id": "ada9d2a9",
   "metadata": {},
   "outputs": [
    {
     "name": "stdout",
     "output_type": "stream",
     "text": [
      "Training Score : 0.9010416666666666\n",
      "Testing Score : 0.7395833333333334\n"
     ]
    }
   ],
   "source": [
    "print(\"Training Score : \" + str(DTC_grid.score(X_train,Y_train)))\n",
    "print(\"Testing Score : \" + str(DTC_grid.score(X_test, Y_test)))"
   ]
  },
  {
   "cell_type": "code",
   "execution_count": 643,
   "id": "cf31f881",
   "metadata": {},
   "outputs": [
    {
     "name": "stdout",
     "output_type": "stream",
     "text": [
      "Confusion Matrix : \n",
      " [[110  20]\n",
      " [ 30  32]]\n",
      "Accuracy :  0.7395833333333334\n",
      "specificity1 :  0.8461538461538461\n",
      "Sensitivity :  0.5161290322580645\n",
      "MCC :  0.38119714639273494\n",
      "AUC :  0.6811414392059554\n",
      "              precision    recall  f1-score   support\n",
      "\n",
      "           0       0.79      0.85      0.81       130\n",
      "           1       0.62      0.52      0.56        62\n",
      "\n",
      "    accuracy                           0.74       192\n",
      "   macro avg       0.70      0.68      0.69       192\n",
      "weighted avg       0.73      0.74      0.73       192\n",
      "\n"
     ]
    }
   ],
   "source": [
    "pred_DTC = DTC_grid.predict(X_test)\n",
    "\n",
    "from sklearn.metrics import confusion_matrix\n",
    "\n",
    "cm1 = confusion_matrix(Y_test, pred_DTC)\n",
    "print('Confusion Matrix : \\n', cm1)\n",
    "\n",
    "total1=sum(sum(cm1))\n",
    "\n",
    "accuracy1=(cm1[0,0]+cm1[1,1])/total1\n",
    "print ('Accuracy : ', accuracy1)\n",
    "\n",
    "specificity1 = cm1[0,0]/(cm1[0,0]+cm1[0,1])\n",
    "\n",
    "print('specificity1 : ', specificity1)\n",
    "\n",
    "sensitivity1 = cm1[1,1]/(cm1[1,0]+cm1[1,1])\n",
    "print('Sensitivity : ', sensitivity1)\n",
    "\n",
    "from sklearn.metrics import matthews_corrcoef\n",
    "\n",
    "print(\"MCC : \",matthews_corrcoef(Y_test,pred_DTC))\n",
    "\n",
    "from sklearn.metrics import roc_auc_score\n",
    "\n",
    "print(\"AUC : \",roc_auc_score(Y_test,pred_DTC))\n",
    "\n",
    "from sklearn.metrics import classification_report\n",
    "\n",
    "print(classification_report(Y_test, pred_DTC))"
   ]
  },
  {
   "cell_type": "code",
   "execution_count": 622,
   "id": "b1958b73",
   "metadata": {},
   "outputs": [
    {
     "name": "stdout",
     "output_type": "stream",
     "text": [
      "SVM on PIDDD ---------------------->\n",
      "TP 114\n",
      "FN 32\n",
      "FP 16\n",
      "TN 30\n",
      "Accuracy : 0.75\n",
      "Precision : 0.8769230769230769\n",
      "Recall : 0.7808219178082192 \n",
      "F1_score : 0.8260869565217391\n",
      "TPR : 0.8769230769230769\n",
      "FPR : 0.34782608695652173\n"
     ]
    }
   ],
   "source": [
    "# Confusion Matrix : \n",
    "#  [[114  16]\n",
    "#  [ 32  30]]\n",
    "TP7 = 114\n",
    "FP7 = 16\n",
    "FN7 = 32\n",
    "TN7 = 30\n",
    "\n",
    "\n",
    "def fun1(TP,FN,FP,TN):\n",
    "    \n",
    "    print(\"SVM on PIDDD ---------------------->\")\n",
    "    print(\"TP\",TP)\n",
    "    print(\"FN\",FN)\n",
    "    print(\"FP\",FP)\n",
    "    print(\"TN\", TN)\n",
    "    Accuracy = (TP + TN)/(TP + TN + FP + FN)\n",
    "    print(\"Accuracy : {}\".format(Accuracy))\n",
    "    Precision = TP / (TP + FP)\n",
    "    print(\"Precision : {}\".format(Precision))\n",
    "    Recall = TP / (TP + FN)\n",
    "    print(\"Recall : {} \".format(Recall))\n",
    "    F1_score = 2*(Precision*Recall)/(Precision + Recall)\n",
    "    print(\"F1_score : {}\".format(F1_score))\n",
    "    TPR = TP / (TP + FP)\n",
    "    print(\"TPR : {}\".format(TPR))\n",
    "    FPR = FP / (FP + TN)\n",
    "    print(\"FPR : {}\".format(FPR))\n",
    "    \n",
    "fun1(TP7,FN7,FP7,TN7)"
   ]
  },
  {
   "cell_type": "code",
   "execution_count": 312,
   "id": "b3c2b66b",
   "metadata": {},
   "outputs": [
    {
     "name": "stdout",
     "output_type": "stream",
     "text": [
      "Collecting graphviz\n",
      "  Downloading graphviz-0.20.1-py3-none-any.whl (47 kB)\n",
      "     -------------------------------------- 47.0/47.0 kB 261.0 kB/s eta 0:00:00\n",
      "Installing collected packages: graphviz\n",
      "Successfully installed graphviz-0.20.1\n"
     ]
    }
   ],
   "source": [
    "!pip install graphviz"
   ]
  },
  {
   "cell_type": "code",
   "execution_count": 329,
   "id": "679d5221",
   "metadata": {},
   "outputs": [],
   "source": [
    "# import graphviz  \n",
    "# from sklearn.tree import DecisionTreeClassifier, export_graphviz"
   ]
  },
  {
   "cell_type": "code",
   "execution_count": null,
   "id": "0e40dc11",
   "metadata": {},
   "outputs": [],
   "source": [
    "# results = []\n",
    "# names = []\n",
    "\n",
    "\n",
    "# def estimator_function(parameter_dictionary, scoring = 'accuracy'):\n",
    "    \n",
    "    \n",
    "#     for name, model, params in models_opt:\n",
    "    \n",
    "#         #kfold = KFold(len(X_train), n_folds=5, random_state=2, shuffle=True)\n",
    "#         skfold=StratifiedKFold(n_splits=5)\n",
    "#         leave_validation=LeaveOneOut()\n",
    "\n",
    "#         model_grid = GridSearchCV(model, params)\n",
    "\n",
    "#         cv_results = cross_val_score(model_grid, X_train, Y_train, cv =leave_validation, scoring=scoring)\n",
    "\n",
    "#         results.append(cv_results)\n",
    "\n",
    "#         names.append(name)\n",
    "\n",
    "#         msg = \"Cross Validation Accuracy %s: Accarcy: %f SD: %f\" % (name, cv_results.mean(), cv_results.std())\n",
    "\n",
    "#         print(msg)"
   ]
  },
  {
   "cell_type": "code",
   "execution_count": 477,
   "id": "d5eb7030",
   "metadata": {},
   "outputs": [],
   "source": [
    "# kfold = KFold(len(X_train), random_state=2, shuffle=True)\n",
    "# leave_validation=LeaveOneOut()\n",
    "# skfold=StratifiedKFold(n_splits=5)\n",
    "# model_grid_DTC = GridSearchCV(DTC_classifier, DTC_grid)\n",
    "# cv_results = cross_val_score(model_grid_DTC, X_train, Y_train, cv =skfold, scoring='accuracy')"
   ]
  },
  {
   "cell_type": "code",
   "execution_count": null,
   "id": "72622a74",
   "metadata": {},
   "outputs": [],
   "source": []
  },
  {
   "cell_type": "code",
   "execution_count": null,
   "id": "7ebb674e",
   "metadata": {},
   "outputs": [],
   "source": []
  },
  {
   "cell_type": "code",
   "execution_count": null,
   "id": "958999ce",
   "metadata": {},
   "outputs": [],
   "source": []
  },
  {
   "cell_type": "code",
   "execution_count": null,
   "id": "9188dc2a",
   "metadata": {},
   "outputs": [],
   "source": []
  },
  {
   "cell_type": "code",
   "execution_count": null,
   "id": "b86baacc",
   "metadata": {},
   "outputs": [],
   "source": []
  },
  {
   "cell_type": "code",
   "execution_count": null,
   "id": "76206def",
   "metadata": {},
   "outputs": [],
   "source": []
  },
  {
   "cell_type": "code",
   "execution_count": 325,
   "id": "5201425e",
   "metadata": {},
   "outputs": [
    {
     "data": {
      "text/plain": [
       "'Outcome'"
      ]
     },
     "execution_count": 325,
     "metadata": {},
     "output_type": "execute_result"
    }
   ],
   "source": [
    "df.columns[-1]"
   ]
  },
  {
   "cell_type": "code",
   "execution_count": 606,
   "id": "0fc4638b",
   "metadata": {},
   "outputs": [],
   "source": [
    "# # dot_data = export_graphviz(DTC_grid,   \n",
    "#                       out_file=None, \n",
    "#                       feature_names=x.columns,       #Provide X Variables Column Names \n",
    "#                       class_names=df.columns[-1],      # Provide Target Variable Column Name\n",
    "#                       filled=True, rounded=True,     # Controls the look of the nodes and colours it\n",
    "#                       special_characters=True)  \n",
    "# graph = graphviz.Source(dot_data)  \n",
    "# graph "
   ]
  },
  {
   "cell_type": "code",
   "execution_count": 310,
   "id": "1a1bde66",
   "metadata": {},
   "outputs": [
    {
     "data": {
      "text/plain": [
       "Index(['Pregnancies', 'Glucose', 'BloodPressure', 'SkinThickness', 'Insulin',\n",
       "       'BMI', 'DiabetesPedigreeFunction', 'Age'],\n",
       "      dtype='object')"
      ]
     },
     "execution_count": 310,
     "metadata": {},
     "output_type": "execute_result"
    }
   ],
   "source": [
    "X_train.columns"
   ]
  },
  {
   "cell_type": "code",
   "execution_count": null,
   "id": "f1371f98",
   "metadata": {},
   "outputs": [],
   "source": []
  }
 ],
 "metadata": {
  "kernelspec": {
   "display_name": "Python 3 (ipykernel)",
   "language": "python",
   "name": "python3"
  },
  "language_info": {
   "codemirror_mode": {
    "name": "ipython",
    "version": 3
   },
   "file_extension": ".py",
   "mimetype": "text/x-python",
   "name": "python",
   "nbconvert_exporter": "python",
   "pygments_lexer": "ipython3",
   "version": "3.9.15"
  }
 },
 "nbformat": 4,
 "nbformat_minor": 5
}
