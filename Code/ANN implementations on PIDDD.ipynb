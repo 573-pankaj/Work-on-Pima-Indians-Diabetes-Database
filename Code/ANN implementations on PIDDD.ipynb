{
 "cells": [
  {
   "cell_type": "code",
   "execution_count": 162,
   "id": "cfc35f47",
   "metadata": {},
   "outputs": [],
   "source": [
    "import pandas as pd\n",
    "import matplotlib.pyplot as plt\n",
    "import numpy as np\n",
    "import seaborn as sns \n",
    "import tensorflow as tf\n",
    "import keras"
   ]
  },
  {
   "cell_type": "code",
   "execution_count": 163,
   "id": "4c7ae222",
   "metadata": {},
   "outputs": [],
   "source": [
    "df = pd.read_csv('../data/heart_failure_clinical_records_dataset.csv')"
   ]
  },
  {
   "cell_type": "code",
   "execution_count": 164,
   "id": "3ed54d40",
   "metadata": {},
   "outputs": [
    {
     "data": {
      "text/plain": [
       "(299, 13)"
      ]
     },
     "execution_count": 164,
     "metadata": {},
     "output_type": "execute_result"
    }
   ],
   "source": [
    "df.shape"
   ]
  },
  {
   "cell_type": "code",
   "execution_count": 4,
   "id": "53159e1f",
   "metadata": {},
   "outputs": [],
   "source": [
    "X = df.iloc[:, :-1].values\n",
    "y = df.iloc[:, -1].values"
   ]
  },
  {
   "cell_type": "code",
   "execution_count": 5,
   "id": "433af709",
   "metadata": {},
   "outputs": [],
   "source": [
    "from sklearn.model_selection import train_test_split\n",
    "X_train, X_test, y_train, y_test = train_test_split(X, y, test_size = 0.25, random_state = 0)"
   ]
  },
  {
   "cell_type": "code",
   "execution_count": 6,
   "id": "28c96c53",
   "metadata": {},
   "outputs": [],
   "source": [
    "from sklearn.preprocessing import StandardScaler\n",
    "sc = StandardScaler()\n",
    "X_train = sc.fit_transform(X_train)\n",
    "X_test = sc.transform(X_test)"
   ]
  },
  {
   "cell_type": "code",
   "execution_count": 89,
   "id": "c10a50b8",
   "metadata": {},
   "outputs": [],
   "source": [
    "### Part 2  lets create aritficial intrllegence\n",
    "from tensorflow.keras.models import Sequential\n",
    "from tensorflow.keras.layers import Dense\n",
    "from tensorflow.keras.layers import ReLU,LeakyReLU, PReLU, ELU\n",
    "from tensorflow.keras.layers import Dropout"
   ]
  },
  {
   "cell_type": "code",
   "execution_count": 129,
   "id": "9f089801",
   "metadata": {},
   "outputs": [],
   "source": [
    "classifier = Sequential()\n",
    "classifier.add(Dense(units=12,activation='relu'))\n",
    "classifier.add(Dropout(0.2))\n",
    "classifier.add(Dense(units=7,activation='relu'))\n",
    "classifier.add(Dense(units=6,activation='relu'))\n",
    "# classifier.add(Dense(units=6,activation='relu'))\n",
    "# classifier.add(Dense(units=6,activation='relu'))\n",
    "classifier.add(Dense(units=1, activation='sigmoid')) "
   ]
  },
  {
   "cell_type": "code",
   "execution_count": 130,
   "id": "00b6f60f",
   "metadata": {},
   "outputs": [],
   "source": [
    "classifier.compile(optimizer='adam',loss='binary_crossentropy',metrics=['accuracy'])"
   ]
  },
  {
   "cell_type": "code",
   "execution_count": 131,
   "id": "cf2d12f8",
   "metadata": {},
   "outputs": [],
   "source": [
    "## Early stoping\n",
    "# Stop training when a monitored metric has stopped improving.\n",
    "# patience: Number of epochs with no improvement after which training will be stopped.\n",
    "early_stoping = tf.keras.callbacks.EarlyStopping(\n",
    "    monitor=\"val_loss\",\n",
    "    min_delta=0.001,\n",
    "    patience=20,\n",
    "    verbose=1,\n",
    "    mode=\"auto\",\n",
    "    baseline=None,\n",
    "    restore_best_weights=False,\n",
    "#     start_from_epoch=0,\n",
    ")"
   ]
  },
  {
   "cell_type": "code",
   "execution_count": 132,
   "id": "c93c819c",
   "metadata": {},
   "outputs": [
    {
     "name": "stdout",
     "output_type": "stream",
     "text": [
      "Epoch 1/100\n",
      "15/15 [==============================] - 1s 19ms/step - loss: 0.7141 - accuracy: 0.3733 - val_loss: 0.6923 - val_accuracy: 0.4865\n",
      "Epoch 2/100\n",
      "15/15 [==============================] - 0s 5ms/step - loss: 0.6997 - accuracy: 0.4933 - val_loss: 0.6866 - val_accuracy: 0.5405\n",
      "Epoch 3/100\n",
      "15/15 [==============================] - 0s 5ms/step - loss: 0.6924 - accuracy: 0.5400 - val_loss: 0.6824 - val_accuracy: 0.6486\n",
      "Epoch 4/100\n",
      "15/15 [==============================] - 0s 5ms/step - loss: 0.6854 - accuracy: 0.6133 - val_loss: 0.6794 - val_accuracy: 0.6216\n",
      "Epoch 5/100\n",
      "15/15 [==============================] - 0s 5ms/step - loss: 0.6767 - accuracy: 0.6600 - val_loss: 0.6762 - val_accuracy: 0.6892\n",
      "Epoch 6/100\n",
      "15/15 [==============================] - 0s 5ms/step - loss: 0.6653 - accuracy: 0.7400 - val_loss: 0.6732 - val_accuracy: 0.7162\n",
      "Epoch 7/100\n",
      "15/15 [==============================] - 0s 5ms/step - loss: 0.6629 - accuracy: 0.7600 - val_loss: 0.6701 - val_accuracy: 0.7162\n",
      "Epoch 8/100\n",
      "15/15 [==============================] - 0s 5ms/step - loss: 0.6535 - accuracy: 0.8067 - val_loss: 0.6673 - val_accuracy: 0.7162\n",
      "Epoch 9/100\n",
      "15/15 [==============================] - 0s 5ms/step - loss: 0.6513 - accuracy: 0.8000 - val_loss: 0.6633 - val_accuracy: 0.7297\n",
      "Epoch 10/100\n",
      "15/15 [==============================] - 0s 5ms/step - loss: 0.6572 - accuracy: 0.7267 - val_loss: 0.6600 - val_accuracy: 0.7297\n",
      "Epoch 11/100\n",
      "15/15 [==============================] - 0s 5ms/step - loss: 0.6355 - accuracy: 0.8200 - val_loss: 0.6555 - val_accuracy: 0.7432\n",
      "Epoch 12/100\n",
      "15/15 [==============================] - 0s 5ms/step - loss: 0.6317 - accuracy: 0.8000 - val_loss: 0.6507 - val_accuracy: 0.7432\n",
      "Epoch 13/100\n",
      "15/15 [==============================] - 0s 5ms/step - loss: 0.6190 - accuracy: 0.8267 - val_loss: 0.6445 - val_accuracy: 0.7568\n",
      "Epoch 14/100\n",
      "15/15 [==============================] - 0s 5ms/step - loss: 0.6126 - accuracy: 0.8000 - val_loss: 0.6379 - val_accuracy: 0.7432\n",
      "Epoch 15/100\n",
      "15/15 [==============================] - 0s 5ms/step - loss: 0.6081 - accuracy: 0.8067 - val_loss: 0.6299 - val_accuracy: 0.7703\n",
      "Epoch 16/100\n",
      "15/15 [==============================] - 0s 5ms/step - loss: 0.5951 - accuracy: 0.8000 - val_loss: 0.6227 - val_accuracy: 0.7568\n",
      "Epoch 17/100\n",
      "15/15 [==============================] - 0s 5ms/step - loss: 0.5692 - accuracy: 0.8600 - val_loss: 0.6128 - val_accuracy: 0.7568\n",
      "Epoch 18/100\n",
      "15/15 [==============================] - 0s 5ms/step - loss: 0.5700 - accuracy: 0.8000 - val_loss: 0.6034 - val_accuracy: 0.7568\n",
      "Epoch 19/100\n",
      "15/15 [==============================] - 0s 5ms/step - loss: 0.5412 - accuracy: 0.8333 - val_loss: 0.5902 - val_accuracy: 0.7703\n",
      "Epoch 20/100\n",
      "15/15 [==============================] - 0s 5ms/step - loss: 0.5423 - accuracy: 0.8400 - val_loss: 0.5811 - val_accuracy: 0.7703\n",
      "Epoch 21/100\n",
      "15/15 [==============================] - 0s 5ms/step - loss: 0.5193 - accuracy: 0.8400 - val_loss: 0.5730 - val_accuracy: 0.7568\n",
      "Epoch 22/100\n",
      "15/15 [==============================] - 0s 5ms/step - loss: 0.5122 - accuracy: 0.8200 - val_loss: 0.5603 - val_accuracy: 0.7703\n",
      "Epoch 23/100\n",
      "15/15 [==============================] - 0s 5ms/step - loss: 0.4857 - accuracy: 0.8400 - val_loss: 0.5530 - val_accuracy: 0.7703\n",
      "Epoch 24/100\n",
      "15/15 [==============================] - 0s 5ms/step - loss: 0.4884 - accuracy: 0.8133 - val_loss: 0.5405 - val_accuracy: 0.8108\n",
      "Epoch 25/100\n",
      "15/15 [==============================] - 0s 5ms/step - loss: 0.4461 - accuracy: 0.8800 - val_loss: 0.5313 - val_accuracy: 0.8108\n",
      "Epoch 26/100\n",
      "15/15 [==============================] - 0s 5ms/step - loss: 0.4499 - accuracy: 0.8467 - val_loss: 0.5303 - val_accuracy: 0.7973\n",
      "Epoch 27/100\n",
      "15/15 [==============================] - 0s 5ms/step - loss: 0.4286 - accuracy: 0.8533 - val_loss: 0.5279 - val_accuracy: 0.7838\n",
      "Epoch 28/100\n",
      "15/15 [==============================] - 0s 5ms/step - loss: 0.4004 - accuracy: 0.8667 - val_loss: 0.5144 - val_accuracy: 0.8108\n",
      "Epoch 29/100\n",
      "15/15 [==============================] - 0s 5ms/step - loss: 0.3907 - accuracy: 0.8867 - val_loss: 0.5065 - val_accuracy: 0.8108\n",
      "Epoch 30/100\n",
      "15/15 [==============================] - 0s 5ms/step - loss: 0.4110 - accuracy: 0.8267 - val_loss: 0.5015 - val_accuracy: 0.8108\n",
      "Epoch 31/100\n",
      "15/15 [==============================] - 0s 5ms/step - loss: 0.4391 - accuracy: 0.8200 - val_loss: 0.5044 - val_accuracy: 0.8108\n",
      "Epoch 32/100\n",
      "15/15 [==============================] - 0s 5ms/step - loss: 0.3884 - accuracy: 0.8533 - val_loss: 0.5019 - val_accuracy: 0.8108\n",
      "Epoch 33/100\n",
      "15/15 [==============================] - 0s 5ms/step - loss: 0.3861 - accuracy: 0.8333 - val_loss: 0.5052 - val_accuracy: 0.8108\n",
      "Epoch 34/100\n",
      "15/15 [==============================] - 0s 5ms/step - loss: 0.4142 - accuracy: 0.8400 - val_loss: 0.5046 - val_accuracy: 0.8108\n",
      "Epoch 35/100\n",
      "15/15 [==============================] - 0s 5ms/step - loss: 0.3785 - accuracy: 0.8467 - val_loss: 0.5041 - val_accuracy: 0.8108\n",
      "Epoch 36/100\n",
      "15/15 [==============================] - 0s 5ms/step - loss: 0.3909 - accuracy: 0.8267 - val_loss: 0.5022 - val_accuracy: 0.8108\n",
      "Epoch 37/100\n",
      "15/15 [==============================] - 0s 5ms/step - loss: 0.3718 - accuracy: 0.8467 - val_loss: 0.5000 - val_accuracy: 0.8108\n",
      "Epoch 38/100\n",
      "15/15 [==============================] - 0s 5ms/step - loss: 0.3696 - accuracy: 0.8600 - val_loss: 0.4924 - val_accuracy: 0.8108\n",
      "Epoch 39/100\n",
      "15/15 [==============================] - 0s 5ms/step - loss: 0.3817 - accuracy: 0.8467 - val_loss: 0.4943 - val_accuracy: 0.8108\n",
      "Epoch 40/100\n",
      "15/15 [==============================] - 0s 5ms/step - loss: 0.3725 - accuracy: 0.8467 - val_loss: 0.4942 - val_accuracy: 0.8108\n",
      "Epoch 41/100\n",
      "15/15 [==============================] - 0s 5ms/step - loss: 0.3233 - accuracy: 0.8800 - val_loss: 0.4930 - val_accuracy: 0.8108\n",
      "Epoch 42/100\n",
      "15/15 [==============================] - 0s 5ms/step - loss: 0.3545 - accuracy: 0.8600 - val_loss: 0.4948 - val_accuracy: 0.8108\n",
      "Epoch 43/100\n",
      "15/15 [==============================] - 0s 5ms/step - loss: 0.3864 - accuracy: 0.8467 - val_loss: 0.4922 - val_accuracy: 0.8108\n",
      "Epoch 44/100\n",
      "15/15 [==============================] - 0s 5ms/step - loss: 0.3806 - accuracy: 0.8467 - val_loss: 0.4920 - val_accuracy: 0.8108\n",
      "Epoch 45/100\n",
      "15/15 [==============================] - 0s 5ms/step - loss: 0.3357 - accuracy: 0.8600 - val_loss: 0.4905 - val_accuracy: 0.8108\n",
      "Epoch 46/100\n",
      "15/15 [==============================] - 0s 5ms/step - loss: 0.3845 - accuracy: 0.8400 - val_loss: 0.4954 - val_accuracy: 0.8108\n",
      "Epoch 47/100\n",
      "15/15 [==============================] - 0s 5ms/step - loss: 0.3624 - accuracy: 0.8467 - val_loss: 0.4907 - val_accuracy: 0.7973\n",
      "Epoch 48/100\n",
      "15/15 [==============================] - 0s 5ms/step - loss: 0.3299 - accuracy: 0.8867 - val_loss: 0.4864 - val_accuracy: 0.7973\n",
      "Epoch 49/100\n",
      "15/15 [==============================] - 0s 5ms/step - loss: 0.3284 - accuracy: 0.8933 - val_loss: 0.4789 - val_accuracy: 0.7973\n",
      "Epoch 50/100\n",
      "15/15 [==============================] - 0s 5ms/step - loss: 0.3111 - accuracy: 0.8933 - val_loss: 0.4796 - val_accuracy: 0.7973\n",
      "Epoch 51/100\n",
      "15/15 [==============================] - 0s 5ms/step - loss: 0.3550 - accuracy: 0.8667 - val_loss: 0.4875 - val_accuracy: 0.7973\n",
      "Epoch 52/100\n",
      "15/15 [==============================] - 0s 5ms/step - loss: 0.3201 - accuracy: 0.8733 - val_loss: 0.4894 - val_accuracy: 0.7973\n",
      "Epoch 53/100\n",
      "15/15 [==============================] - 0s 5ms/step - loss: 0.3145 - accuracy: 0.8867 - val_loss: 0.4869 - val_accuracy: 0.7973\n",
      "Epoch 54/100\n",
      "15/15 [==============================] - 0s 5ms/step - loss: 0.3576 - accuracy: 0.8533 - val_loss: 0.4926 - val_accuracy: 0.7973\n",
      "Epoch 55/100\n",
      "15/15 [==============================] - 0s 5ms/step - loss: 0.2915 - accuracy: 0.8933 - val_loss: 0.4917 - val_accuracy: 0.7973\n",
      "Epoch 56/100\n",
      "15/15 [==============================] - 0s 5ms/step - loss: 0.3258 - accuracy: 0.8667 - val_loss: 0.4916 - val_accuracy: 0.7973\n",
      "Epoch 57/100\n",
      "15/15 [==============================] - 0s 6ms/step - loss: 0.3312 - accuracy: 0.8667 - val_loss: 0.4947 - val_accuracy: 0.7973\n",
      "Epoch 58/100\n",
      "15/15 [==============================] - 0s 6ms/step - loss: 0.2954 - accuracy: 0.8667 - val_loss: 0.4874 - val_accuracy: 0.7973\n"
     ]
    },
    {
     "name": "stdout",
     "output_type": "stream",
     "text": [
      "Epoch 59/100\n",
      "15/15 [==============================] - 0s 6ms/step - loss: 0.3047 - accuracy: 0.8867 - val_loss: 0.4946 - val_accuracy: 0.7973\n",
      "Epoch 60/100\n",
      "15/15 [==============================] - 0s 5ms/step - loss: 0.3006 - accuracy: 0.8867 - val_loss: 0.4902 - val_accuracy: 0.8108\n",
      "Epoch 61/100\n",
      "15/15 [==============================] - 0s 6ms/step - loss: 0.3074 - accuracy: 0.8667 - val_loss: 0.4881 - val_accuracy: 0.8108\n",
      "Epoch 62/100\n",
      "15/15 [==============================] - 0s 5ms/step - loss: 0.2970 - accuracy: 0.8667 - val_loss: 0.4867 - val_accuracy: 0.8108\n",
      "Epoch 63/100\n",
      "15/15 [==============================] - 0s 5ms/step - loss: 0.2773 - accuracy: 0.8733 - val_loss: 0.4874 - val_accuracy: 0.8108\n",
      "Epoch 64/100\n",
      "15/15 [==============================] - 0s 5ms/step - loss: 0.3165 - accuracy: 0.8467 - val_loss: 0.4858 - val_accuracy: 0.8108\n",
      "Epoch 65/100\n",
      "15/15 [==============================] - 0s 5ms/step - loss: 0.3207 - accuracy: 0.8733 - val_loss: 0.4871 - val_accuracy: 0.8108\n",
      "Epoch 66/100\n",
      "15/15 [==============================] - 0s 5ms/step - loss: 0.2936 - accuracy: 0.8800 - val_loss: 0.4891 - val_accuracy: 0.8108\n",
      "Epoch 67/100\n",
      "15/15 [==============================] - 0s 5ms/step - loss: 0.3121 - accuracy: 0.8733 - val_loss: 0.4903 - val_accuracy: 0.8108\n",
      "Epoch 68/100\n",
      "15/15 [==============================] - 0s 5ms/step - loss: 0.2610 - accuracy: 0.9133 - val_loss: 0.4949 - val_accuracy: 0.8108\n",
      "Epoch 69/100\n",
      "15/15 [==============================] - 0s 5ms/step - loss: 0.2726 - accuracy: 0.8600 - val_loss: 0.4966 - val_accuracy: 0.8108\n",
      "Epoch 69: early stopping\n"
     ]
    }
   ],
   "source": [
    "model_history = classifier.fit(X_train,y_train,validation_split=0.33,batch_size=10,epochs=100,callbacks=early_stoping)"
   ]
  },
  {
   "cell_type": "code",
   "execution_count": 133,
   "id": "21c3a7c8",
   "metadata": {},
   "outputs": [
    {
     "data": {
      "text/plain": [
       "dict_keys(['loss', 'accuracy', 'val_loss', 'val_accuracy'])"
      ]
     },
     "execution_count": 133,
     "metadata": {},
     "output_type": "execute_result"
    }
   ],
   "source": [
    "model_history.history.keys() "
   ]
  },
  {
   "cell_type": "code",
   "execution_count": 134,
   "id": "4cf9c6a4",
   "metadata": {},
   "outputs": [
    {
     "data": {
      "image/png": "[encoded data removed]",
      "text/plain": [
       "<Figure size 640x480 with 1 Axes>"
      ]
     },
     "metadata": {},
     "output_type": "display_data"
    }
   ],
   "source": [
    "plt.plot(model_history.history[ 'accuracy'])\n",
    "plt.plot(model_history.history[ 'val_accuracy'])\n",
    "plt.title('model accuracy')\n",
    "plt.ylabel('accuracy')\n",
    "plt.xlabel('epoch')\n",
    "plt.legend(['train','test'],loc='upper left')\n",
    "plt.show()"
   ]
  },
  {
   "cell_type": "code",
   "execution_count": 140,
   "id": "ed1594f4",
   "metadata": {},
   "outputs": [
    {
     "data": {
      "image/png": "[encoded data removed]",
      "text/plain": [
       "<Figure size 640x480 with 1 Axes>"
      ]
     },
     "metadata": {},
     "output_type": "display_data"
    }
   ],
   "source": [
    "plt.plot(model_history.history[ 'loss'])\n",
    "plt.plot(model_history.history[ 'val_loss'])\n",
    "plt.title('model accuracy')\n",
    "plt.ylabel('loss')\n",
    "plt.xlabel('epoch')\n",
    "plt.legend(['train','test'],loc='upper left')\n",
    "plt.show()"
   ]
  },
  {
   "cell_type": "code",
   "execution_count": 145,
   "id": "12c4477c",
   "metadata": {},
   "outputs": [
    {
     "name": "stdout",
     "output_type": "stream",
     "text": [
      "3/3 [==============================] - 0s 10ms/step\n",
      "[[0 0]\n",
      " [0 0]\n",
      " [1 1]\n",
      " [0 0]\n",
      " [0 0]\n",
      " [0 0]\n",
      " [1 0]\n",
      " [0 0]\n",
      " [1 1]\n",
      " [0 0]\n",
      " [0 0]\n",
      " [1 1]\n",
      " [0 1]\n",
      " [0 1]\n",
      " [1 1]\n",
      " [1 1]\n",
      " [0 0]\n",
      " [0 0]\n",
      " [0 0]\n",
      " [0 0]\n",
      " [0 0]\n",
      " [0 0]\n",
      " [0 1]\n",
      " [0 0]\n",
      " [0 1]\n",
      " [0 0]\n",
      " [0 1]\n",
      " [0 0]\n",
      " [0 0]\n",
      " [0 0]\n",
      " [0 0]\n",
      " [1 1]\n",
      " [0 1]\n",
      " [0 0]\n",
      " [0 1]\n",
      " [1 1]\n",
      " [0 0]\n",
      " [0 1]\n",
      " [0 0]\n",
      " [1 1]\n",
      " [0 0]\n",
      " [0 0]\n",
      " [0 0]\n",
      " [0 1]\n",
      " [1 1]\n",
      " [0 0]\n",
      " [0 0]\n",
      " [0 0]\n",
      " [0 1]\n",
      " [0 1]\n",
      " [0 0]\n",
      " [0 0]\n",
      " [0 0]\n",
      " [0 0]\n",
      " [1 1]\n",
      " [0 1]\n",
      " [0 0]\n",
      " [1 1]\n",
      " [0 0]\n",
      " [0 0]\n",
      " [0 0]\n",
      " [0 0]\n",
      " [0 1]\n",
      " [0 0]\n",
      " [0 0]\n",
      " [0 0]\n",
      " [0 0]\n",
      " [0 0]\n",
      " [1 0]\n",
      " [0 1]\n",
      " [0 0]\n",
      " [0 0]\n",
      " [0 0]\n",
      " [1 1]\n",
      " [0 1]]\n"
     ]
    }
   ],
   "source": [
    "ann = classifier\n",
    "# predicting teh test set results\n",
    "y_pred = ann.predict(X_test)\n",
    "# print(y_pred)\n",
    "y_pred = (y_pred > 0.5)\n",
    "#print(y_pred)\n",
    "print(np.concatenate((y_pred.reshape(len(y_pred),1), y_test.reshape(len(y_test),1)),1))"
   ]
  },
  {
   "cell_type": "code",
   "execution_count": 168,
   "id": "55737037",
   "metadata": {},
   "outputs": [
    {
     "name": "stdout",
     "output_type": "stream",
     "text": [
      "Accuracy : 0.7733333333333333\n",
      "Confusion Matrix : \n",
      "\n"
     ]
    },
    {
     "data": {
      "text/plain": [
       "<sklearn.metrics._plot.confusion_matrix.ConfusionMatrixDisplay at 0x229d74497f0>"
      ]
     },
     "execution_count": 168,
     "metadata": {},
     "output_type": "execute_result"
    },
    {
     "data": {
      "image/png": "[encoded data removed]",
      "text/plain": [
       "<Figure size 640x480 with 2 Axes>"
      ]
     },
     "metadata": {},
     "output_type": "display_data"
    }
   ],
   "source": [
    "# confusion matrix\n",
    "from sklearn.metrics import confusion_matrix, accuracy_score, ConfusionMatrixDisplay\n",
    " \n",
    "cm = confusion_matrix(y_test, y_pred)\n",
    "print('Accuracy :',accuracy_score(y_test, y_pred))\n",
    "# print(accuracy_score(y_test, y_pred))\n",
    "print('Confusion Matrix : \\n')\n",
    "conf_matrix1 = ConfusionMatrixDisplay(confusion_matrix=cm)\n",
    "conf_matrix1.plot()"
   ]
  },
  {
   "cell_type": "code",
   "execution_count": 137,
   "id": "6e714a3f",
   "metadata": {},
   "outputs": [
    {
     "name": "stdout",
     "output_type": "stream",
     "text": [
      "3/3 [==============================] - 0s 2ms/step\n",
      "Confusion Matrix : \n",
      " [[46  2]\n",
      " [15 12]]\n",
      "Accuracy :  0.7733333333333333\n",
      "specificity1 :  0.9583333333333334\n",
      "Sensitivity :  0.4444444444444444\n",
      "MCC :  0.4961797853511374\n",
      "AUC :  0.701388888888889\n",
      "              precision    recall  f1-score   support\n",
      "\n",
      "           0       0.75      0.96      0.84        48\n",
      "           1       0.86      0.44      0.59        27\n",
      "\n",
      "    accuracy                           0.77        75\n",
      "   macro avg       0.81      0.70      0.71        75\n",
      "weighted avg       0.79      0.77      0.75        75\n",
      "\n"
     ]
    }
   ],
   "source": [
    "pred_Ann = ann.predict(X_test)\n",
    "pred_Ann= (pred_Ann > 0.5)\n",
    "from sklearn.metrics import confusion_matrix\n",
    "\n",
    "cm1 = confusion_matrix(y_test, pred_Ann)\n",
    "print('Confusion Matrix : \\n', cm1)\n",
    "\n",
    "total1=sum(sum(cm1))\n",
    "\n",
    "accuracy1=(cm1[0,0]+cm1[1,1])/total1\n",
    "print ('Accuracy : ', accuracy1)\n",
    "\n",
    "specificity1 = cm1[0,0]/(cm1[0,0]+cm1[0,1])\n",
    "print('specificity1 : ', specificity1)\n",
    "\n",
    "sensitivity1 = cm1[1,1]/(cm1[1,0]+cm1[1,1])\n",
    "print('Sensitivity : ', sensitivity1)\n",
    "\n",
    "from sklearn.metrics import matthews_corrcoef\n",
    "\n",
    "print(\"MCC : \",matthews_corrcoef(y_test,pred_Ann))\n",
    "\n",
    "from sklearn.metrics import roc_auc_score\n",
    "\n",
    "print(\"AUC : \",roc_auc_score(y_test,pred_Ann))\n",
    "\n",
    "from sklearn.metrics import classification_report\n",
    "\n",
    "print(classification_report(y_test, pred_Ann))"
   ]
  },
  {
   "cell_type": "code",
   "execution_count": 138,
   "id": "966536d1",
   "metadata": {},
   "outputs": [],
   "source": [
    "# Confusion Matrix : \n",
    "# [[46  2]\n",
    "#  [15 12]]\n",
    "TP3 = 46\n",
    "FP3 = 2\n",
    "FN3 = 15\n",
    "TN3 = 12\n",
    "\n",
    "\n",
    "def fun1(TP,FN,FP,TN):\n",
    "    \n",
    "    print(\"SVM on PIDDD ---------------------->\")\n",
    "    print(\"TP\",TP)\n",
    "    print(\"FN\",FN)\n",
    "    print(\"FP\",FP)\n",
    "    print(\"TN\", TN)\n",
    "    Accuracy = (TP + TN)/(TP + TN + FP + FN)\n",
    "    print(\"Accuracy : {}\".format(Accuracy))\n",
    "    Precision = TP / (TP + FP)\n",
    "    print(\"Precision : {}\".format(Precision))\n",
    "    Recall = TP / (TP + FN)\n",
    "    print(\"Recall : {} \".format(Recall))\n",
    "    F1_score = 2*(Precision*Recall)/(Precision + Recall)\n",
    "    print(\"F1_score : {}\".format(F1_score))\n",
    "    TPR = TP / (TP + FP)\n",
    "    print(\"TPR : {}\".format(TPR))\n",
    "    FPR = FP / (FP + TN)\n",
    "    print(\"FPR : {}\".format(FPR))"
   ]
  },
  {
   "cell_type": "code",
   "execution_count": 139,
   "id": "054d18c0",
   "metadata": {},
   "outputs": [
    {
     "name": "stdout",
     "output_type": "stream",
     "text": [
      "SVM on PIDDD ---------------------->\n",
      "TP 46\n",
      "FN 15\n",
      "FP 2\n",
      "TN 12\n",
      "Accuracy : 0.7733333333333333\n",
      "Precision : 0.9583333333333334\n",
      "Recall : 0.7540983606557377 \n",
      "F1_score : 0.8440366972477064\n",
      "TPR : 0.9583333333333334\n",
      "FPR : 0.14285714285714285\n"
     ]
    }
   ],
   "source": [
    "fun1(TP3,FN3,FP3,TN3)"
   ]
  },
  {
   "cell_type": "code",
   "execution_count": 146,
   "id": "90c11445",
   "metadata": {},
   "outputs": [
    {
     "name": "stdout",
     "output_type": "stream",
     "text": [
      "3/3 [==============================] - 5s 95ms/step\n"
     ]
    },
    {
     "data": {
      "text/plain": [
       "array([[0.0112975 ],\n",
       "       [0.04386633],\n",
       "       [0.5684958 ],\n",
       "       [0.03846083],\n",
       "       [0.08359502],\n",
       "       [0.0493391 ],\n",
       "       [0.63244534],\n",
       "       [0.02702284],\n",
       "       [0.7347143 ],\n",
       "       [0.10204867],\n",
       "       [0.09153318],\n",
       "       [0.93818605],\n",
       "       [0.2732453 ],\n",
       "       [0.06248297],\n",
       "       [0.5588429 ],\n",
       "       [0.8060971 ],\n",
       "       [0.01705206],\n",
       "       [0.13704386],\n",
       "       [0.03478429],\n",
       "       [0.06377322],\n",
       "       [0.31332746],\n",
       "       [0.05671357],\n",
       "       [0.34501886],\n",
       "       [0.09642762],\n",
       "       [0.23249187],\n",
       "       [0.04100478],\n",
       "       [0.09882023],\n",
       "       [0.02903989],\n",
       "       [0.0634    ],\n",
       "       [0.03634946],\n",
       "       [0.03077224],\n",
       "       [0.846107  ],\n",
       "       [0.25301012],\n",
       "       [0.08105415],\n",
       "       [0.08966552],\n",
       "       [0.52777   ],\n",
       "       [0.11150289],\n",
       "       [0.14425828],\n",
       "       [0.0228937 ],\n",
       "       [0.9378799 ],\n",
       "       [0.01600631],\n",
       "       [0.13008882],\n",
       "       [0.11821679],\n",
       "       [0.24932401],\n",
       "       [0.8608838 ],\n",
       "       [0.08318147],\n",
       "       [0.0364649 ],\n",
       "       [0.02024829],\n",
       "       [0.12403265],\n",
       "       [0.3521457 ],\n",
       "       [0.19213577],\n",
       "       [0.03756615],\n",
       "       [0.07623944],\n",
       "       [0.07960729],\n",
       "       [0.8497598 ],\n",
       "       [0.13080558],\n",
       "       [0.08607672],\n",
       "       [0.944188  ],\n",
       "       [0.06603993],\n",
       "       [0.07863371],\n",
       "       [0.46168205],\n",
       "       [0.046177  ],\n",
       "       [0.04359009],\n",
       "       [0.03640384],\n",
       "       [0.01112622],\n",
       "       [0.02748821],\n",
       "       [0.02748302],\n",
       "       [0.0852851 ],\n",
       "       [0.9652647 ],\n",
       "       [0.33454427],\n",
       "       [0.11684059],\n",
       "       [0.2712688 ],\n",
       "       [0.03679226],\n",
       "       [0.68855363],\n",
       "       [0.2892728 ]], dtype=float32)"
      ]
     },
     "execution_count": 146,
     "metadata": {},
     "output_type": "execute_result"
    }
   ],
   "source": [
    " ann.predict(X_test)"
   ]
  },
  {
   "cell_type": "code",
   "execution_count": 148,
   "id": "0ad4be1f",
   "metadata": {},
   "outputs": [],
   "source": [
    "import pickle"
   ]
  },
  {
   "cell_type": "code",
   "execution_count": 155,
   "id": "83ca7893",
   "metadata": {},
   "outputs": [
    {
     "name": "stdout",
     "output_type": "stream",
     "text": [
      "INFO:tensorflow:Assets written to: ram://0873933b-8330-45f1-9e72-78a0429dce44/assets\n"
     ]
    }
   ],
   "source": [
    "pickle.dump(ann, open('../PICKEL/ANNmodel.pkl','wb'))"
   ]
  },
  {
   "cell_type": "code",
   "execution_count": 169,
   "id": "0e17316e",
   "metadata": {
    "scrolled": true
   },
   "outputs": [],
   "source": [
    "# # Loading model to compare the results\n",
    "# modelANN = pickle.load(open('../PICKEL/ANNmodel.pkl','rb'))"
   ]
  },
  {
   "cell_type": "code",
   "execution_count": null,
   "id": "85a8f3a1",
   "metadata": {},
   "outputs": [],
   "source": [
    "modelANN.predict(X_test)"
   ]
  },
  {
   "cell_type": "code",
   "execution_count": 158,
   "id": "83cce05e",
   "metadata": {},
   "outputs": [
    {
     "name": "stdout",
     "output_type": "stream",
     "text": [
      "Saved model to disk\n"
     ]
    }
   ],
   "source": [
    "# serialize weights to HDF5\n",
    "ann.save_weights(\"../PICKEL/model.h5\")\n",
    "print(\"Saved model to disk\")"
   ]
  },
  {
   "cell_type": "code",
   "execution_count": 170,
   "id": "c17f8f5b",
   "metadata": {},
   "outputs": [],
   "source": [
    "# # load weights into new model\n",
    "# loaded_model.load_weights(\"../PICKEL/model.h5\")\n",
    "# print(\"Loaded model from disk\")"
   ]
  },
  {
   "cell_type": "code",
   "execution_count": null,
   "id": "f18bf167",
   "metadata": {},
   "outputs": [],
   "source": []
  }
 ],
 "metadata": {
  "kernelspec": {
   "display_name": "Python 3 (ipykernel)",
   "language": "python",
   "name": "python3"
  },
  "language_info": {
   "codemirror_mode": {
    "name": "ipython",
    "version": 3
   },
   "file_extension": ".py",
   "mimetype": "text/x-python",
   "name": "python",
   "nbconvert_exporter": "python",
   "pygments_lexer": "ipython3",
   "version": "3.9.15"
  }
 },
 "nbformat": 4,
 "nbformat_minor": 5
}
