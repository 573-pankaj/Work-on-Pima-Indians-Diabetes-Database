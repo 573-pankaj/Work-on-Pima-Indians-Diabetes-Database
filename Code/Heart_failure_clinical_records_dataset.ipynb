{
 "cells": [
  {
   "cell_type": "code",
   "execution_count": 2,
   "id": "20b0c8b9",
   "metadata": {},
   "outputs": [],
   "source": [
    "import pandas as pd\n",
    "import matplotlib.pyplot as plt\n",
    "import numpy as np\n",
    "import seaborn as sns "
   ]
  },
  {
   "cell_type": "markdown",
   "id": "2ceeccea",
   "metadata": {},
   "source": [
    "### Importing Dataset"
   ]
  },
  {
   "cell_type": "code",
   "execution_count": 2,
   "id": "cbe38576",
   "metadata": {},
   "outputs": [],
   "source": [
    "df = pd.read_csv('../data/heart_failure_clinical_records_dataset.csv')"
   ]
  },
  {
   "cell_type": "code",
   "execution_count": 3,
   "id": "bba5aed8",
   "metadata": {},
   "outputs": [
    {
     "data": {
      "text/html": [
       "<div>\n",
       "<style scoped>\n",
       "    .dataframe tbody tr th:only-of-type {\n",
       "        vertical-align: middle;\n",
       "    }\n",
       "\n",
       "    .dataframe tbody tr th {\n",
       "        vertical-align: top;\n",
       "    }\n",
       "\n",
       "    .dataframe thead th {\n",
       "        text-align: right;\n",
       "    }\n",
       "</style>\n",
       "<table border=\"1\" class=\"dataframe\">\n",
       "  <thead>\n",
       "    <tr style=\"text-align: right;\">\n",
       "      <th></th>\n",
       "      <th>age</th>\n",
       "      <th>anaemia</th>\n",
       "      <th>creatinine_phosphokinase</th>\n",
       "      <th>diabetes</th>\n",
       "      <th>ejection_fraction</th>\n",
       "      <th>high_blood_pressure</th>\n",
       "      <th>platelets</th>\n",
       "      <th>serum_creatinine</th>\n",
       "      <th>serum_sodium</th>\n",
       "      <th>sex</th>\n",
       "      <th>smoking</th>\n",
       "      <th>time</th>\n",
       "      <th>DEATH_EVENT</th>\n",
       "    </tr>\n",
       "  </thead>\n",
       "  <tbody>\n",
       "    <tr>\n",
       "      <th>0</th>\n",
       "      <td>75.0</td>\n",
       "      <td>0</td>\n",
       "      <td>582</td>\n",
       "      <td>0</td>\n",
       "      <td>20</td>\n",
       "      <td>1</td>\n",
       "      <td>265000.00</td>\n",
       "      <td>1.9</td>\n",
       "      <td>130</td>\n",
       "      <td>1</td>\n",
       "      <td>0</td>\n",
       "      <td>4</td>\n",
       "      <td>1</td>\n",
       "    </tr>\n",
       "    <tr>\n",
       "      <th>1</th>\n",
       "      <td>55.0</td>\n",
       "      <td>0</td>\n",
       "      <td>7861</td>\n",
       "      <td>0</td>\n",
       "      <td>38</td>\n",
       "      <td>0</td>\n",
       "      <td>263358.03</td>\n",
       "      <td>1.1</td>\n",
       "      <td>136</td>\n",
       "      <td>1</td>\n",
       "      <td>0</td>\n",
       "      <td>6</td>\n",
       "      <td>1</td>\n",
       "    </tr>\n",
       "    <tr>\n",
       "      <th>2</th>\n",
       "      <td>65.0</td>\n",
       "      <td>0</td>\n",
       "      <td>146</td>\n",
       "      <td>0</td>\n",
       "      <td>20</td>\n",
       "      <td>0</td>\n",
       "      <td>162000.00</td>\n",
       "      <td>1.3</td>\n",
       "      <td>129</td>\n",
       "      <td>1</td>\n",
       "      <td>1</td>\n",
       "      <td>7</td>\n",
       "      <td>1</td>\n",
       "    </tr>\n",
       "    <tr>\n",
       "      <th>3</th>\n",
       "      <td>50.0</td>\n",
       "      <td>1</td>\n",
       "      <td>111</td>\n",
       "      <td>0</td>\n",
       "      <td>20</td>\n",
       "      <td>0</td>\n",
       "      <td>210000.00</td>\n",
       "      <td>1.9</td>\n",
       "      <td>137</td>\n",
       "      <td>1</td>\n",
       "      <td>0</td>\n",
       "      <td>7</td>\n",
       "      <td>1</td>\n",
       "    </tr>\n",
       "    <tr>\n",
       "      <th>4</th>\n",
       "      <td>65.0</td>\n",
       "      <td>1</td>\n",
       "      <td>160</td>\n",
       "      <td>1</td>\n",
       "      <td>20</td>\n",
       "      <td>0</td>\n",
       "      <td>327000.00</td>\n",
       "      <td>2.7</td>\n",
       "      <td>116</td>\n",
       "      <td>0</td>\n",
       "      <td>0</td>\n",
       "      <td>8</td>\n",
       "      <td>1</td>\n",
       "    </tr>\n",
       "    <tr>\n",
       "      <th>...</th>\n",
       "      <td>...</td>\n",
       "      <td>...</td>\n",
       "      <td>...</td>\n",
       "      <td>...</td>\n",
       "      <td>...</td>\n",
       "      <td>...</td>\n",
       "      <td>...</td>\n",
       "      <td>...</td>\n",
       "      <td>...</td>\n",
       "      <td>...</td>\n",
       "      <td>...</td>\n",
       "      <td>...</td>\n",
       "      <td>...</td>\n",
       "    </tr>\n",
       "    <tr>\n",
       "      <th>294</th>\n",
       "      <td>62.0</td>\n",
       "      <td>0</td>\n",
       "      <td>61</td>\n",
       "      <td>1</td>\n",
       "      <td>38</td>\n",
       "      <td>1</td>\n",
       "      <td>155000.00</td>\n",
       "      <td>1.1</td>\n",
       "      <td>143</td>\n",
       "      <td>1</td>\n",
       "      <td>1</td>\n",
       "      <td>270</td>\n",
       "      <td>0</td>\n",
       "    </tr>\n",
       "    <tr>\n",
       "      <th>295</th>\n",
       "      <td>55.0</td>\n",
       "      <td>0</td>\n",
       "      <td>1820</td>\n",
       "      <td>0</td>\n",
       "      <td>38</td>\n",
       "      <td>0</td>\n",
       "      <td>270000.00</td>\n",
       "      <td>1.2</td>\n",
       "      <td>139</td>\n",
       "      <td>0</td>\n",
       "      <td>0</td>\n",
       "      <td>271</td>\n",
       "      <td>0</td>\n",
       "    </tr>\n",
       "    <tr>\n",
       "      <th>296</th>\n",
       "      <td>45.0</td>\n",
       "      <td>0</td>\n",
       "      <td>2060</td>\n",
       "      <td>1</td>\n",
       "      <td>60</td>\n",
       "      <td>0</td>\n",
       "      <td>742000.00</td>\n",
       "      <td>0.8</td>\n",
       "      <td>138</td>\n",
       "      <td>0</td>\n",
       "      <td>0</td>\n",
       "      <td>278</td>\n",
       "      <td>0</td>\n",
       "    </tr>\n",
       "    <tr>\n",
       "      <th>297</th>\n",
       "      <td>45.0</td>\n",
       "      <td>0</td>\n",
       "      <td>2413</td>\n",
       "      <td>0</td>\n",
       "      <td>38</td>\n",
       "      <td>0</td>\n",
       "      <td>140000.00</td>\n",
       "      <td>1.4</td>\n",
       "      <td>140</td>\n",
       "      <td>1</td>\n",
       "      <td>1</td>\n",
       "      <td>280</td>\n",
       "      <td>0</td>\n",
       "    </tr>\n",
       "    <tr>\n",
       "      <th>298</th>\n",
       "      <td>50.0</td>\n",
       "      <td>0</td>\n",
       "      <td>196</td>\n",
       "      <td>0</td>\n",
       "      <td>45</td>\n",
       "      <td>0</td>\n",
       "      <td>395000.00</td>\n",
       "      <td>1.6</td>\n",
       "      <td>136</td>\n",
       "      <td>1</td>\n",
       "      <td>1</td>\n",
       "      <td>285</td>\n",
       "      <td>0</td>\n",
       "    </tr>\n",
       "  </tbody>\n",
       "</table>\n",
       "<p>299 rows × 13 columns</p>\n",
       "</div>"
      ],
      "text/plain": [
       "      age  anaemia  creatinine_phosphokinase  diabetes  ejection_fraction  \\\n",
       "0    75.0        0                       582         0                 20   \n",
       "1    55.0        0                      7861         0                 38   \n",
       "2    65.0        0                       146         0                 20   \n",
       "3    50.0        1                       111         0                 20   \n",
       "4    65.0        1                       160         1                 20   \n",
       "..    ...      ...                       ...       ...                ...   \n",
       "294  62.0        0                        61         1                 38   \n",
       "295  55.0        0                      1820         0                 38   \n",
       "296  45.0        0                      2060         1                 60   \n",
       "297  45.0        0                      2413         0                 38   \n",
       "298  50.0        0                       196         0                 45   \n",
       "\n",
       "     high_blood_pressure  platelets  serum_creatinine  serum_sodium  sex  \\\n",
       "0                      1  265000.00               1.9           130    1   \n",
       "1                      0  263358.03               1.1           136    1   \n",
       "2                      0  162000.00               1.3           129    1   \n",
       "3                      0  210000.00               1.9           137    1   \n",
       "4                      0  327000.00               2.7           116    0   \n",
       "..                   ...        ...               ...           ...  ...   \n",
       "294                    1  155000.00               1.1           143    1   \n",
       "295                    0  270000.00               1.2           139    0   \n",
       "296                    0  742000.00               0.8           138    0   \n",
       "297                    0  140000.00               1.4           140    1   \n",
       "298                    0  395000.00               1.6           136    1   \n",
       "\n",
       "     smoking  time  DEATH_EVENT  \n",
       "0          0     4            1  \n",
       "1          0     6            1  \n",
       "2          1     7            1  \n",
       "3          0     7            1  \n",
       "4          0     8            1  \n",
       "..       ...   ...          ...  \n",
       "294        1   270            0  \n",
       "295        0   271            0  \n",
       "296        0   278            0  \n",
       "297        1   280            0  \n",
       "298        1   285            0  \n",
       "\n",
       "[299 rows x 13 columns]"
      ]
     },
     "execution_count": 3,
     "metadata": {},
     "output_type": "execute_result"
    }
   ],
   "source": [
    "df"
   ]
  },
  {
   "cell_type": "code",
   "execution_count": 1,
   "id": "1a7e842d",
   "metadata": {},
   "outputs": [
    {
     "ename": "NameError",
     "evalue": "name 'sns' is not defined",
     "output_type": "error",
     "traceback": [
      "\u001b[1;31m---------------------------------------------------------------------------\u001b[0m",
      "\u001b[1;31mNameError\u001b[0m                                 Traceback (most recent call last)",
      "Cell \u001b[1;32mIn [1], line 1\u001b[0m\n\u001b[1;32m----> 1\u001b[0m \u001b[43msns\u001b[49m\u001b[38;5;241m.\u001b[39mboxplot(df[\u001b[38;5;124m'\u001b[39m\u001b[38;5;124mcreatinine_phosphokinase\u001b[39m\u001b[38;5;124m'\u001b[39m])\n",
      "\u001b[1;31mNameError\u001b[0m: name 'sns' is not defined"
     ]
    }
   ],
   "source": [
    "sns.boxplot(df['creatinine_phosphokinase'])"
   ]
  },
  {
   "cell_type": "code",
   "execution_count": 5,
   "id": "f8048633",
   "metadata": {},
   "outputs": [
    {
     "data": {
      "text/plain": [
       "Index(['age', 'anaemia', 'creatinine_phosphokinase', 'diabetes',\n",
       "       'ejection_fraction', 'high_blood_pressure', 'platelets',\n",
       "       'serum_creatinine', 'serum_sodium', 'sex', 'smoking', 'time',\n",
       "       'DEATH_EVENT'],\n",
       "      dtype='object')"
      ]
     },
     "execution_count": 5,
     "metadata": {},
     "output_type": "execute_result"
    }
   ],
   "source": [
    "df.columns"
   ]
  },
  {
   "cell_type": "code",
   "execution_count": 10,
   "id": "f33ab436",
   "metadata": {},
   "outputs": [
    {
     "data": {
      "text/plain": [
       "0    203\n",
       "1     96\n",
       "Name: DEATH_EVENT, dtype: int64"
      ]
     },
     "execution_count": 10,
     "metadata": {},
     "output_type": "execute_result"
    }
   ],
   "source": [
    "df['DEATH_EVENT'].value_counts()"
   ]
  },
  {
   "cell_type": "markdown",
   "id": "ea3df868",
   "metadata": {},
   "source": [
    "### Checking Null Value"
   ]
  },
  {
   "cell_type": "code",
   "execution_count": 11,
   "id": "23cd9829",
   "metadata": {
    "scrolled": true
   },
   "outputs": [
    {
     "data": {
      "text/plain": [
       "age                         0\n",
       "anaemia                     0\n",
       "creatinine_phosphokinase    0\n",
       "diabetes                    0\n",
       "ejection_fraction           0\n",
       "high_blood_pressure         0\n",
       "platelets                   0\n",
       "serum_creatinine            0\n",
       "serum_sodium                0\n",
       "sex                         0\n",
       "smoking                     0\n",
       "time                        0\n",
       "DEATH_EVENT                 0\n",
       "dtype: int64"
      ]
     },
     "execution_count": 11,
     "metadata": {},
     "output_type": "execute_result"
    }
   ],
   "source": [
    "df.isnull().sum()"
   ]
  },
  {
   "cell_type": "code",
   "execution_count": 13,
   "id": "16ff3256",
   "metadata": {},
   "outputs": [],
   "source": [
    "x = df.drop(['DEATH_EVENT'],axis = 1)\n",
    "\n",
    "y = df['DEATH_EVENT']"
   ]
  },
  {
   "cell_type": "code",
   "execution_count": 6,
   "id": "10f70366",
   "metadata": {},
   "outputs": [],
   "source": [
    "# !pip install scikit-learn"
   ]
  },
  {
   "cell_type": "code",
   "execution_count": 14,
   "id": "b16816f2",
   "metadata": {},
   "outputs": [],
   "source": [
    "from sklearn.model_selection import train_test_split\n",
    "xtrain, xtest, ytrain, ytest = train_test_split(x,y, test_size = 0.20)"
   ]
  },
  {
   "cell_type": "markdown",
   "id": "190d93f4",
   "metadata": {},
   "source": [
    "### Decision Tree"
   ]
  },
  {
   "cell_type": "code",
   "execution_count": 15,
   "id": "3e02271f",
   "metadata": {},
   "outputs": [
    {
     "data": {
      "text/plain": [
       "0.65"
      ]
     },
     "execution_count": 15,
     "metadata": {},
     "output_type": "execute_result"
    }
   ],
   "source": [
    "from sklearn.tree import DecisionTreeClassifier  # load Decision libraries\n",
    " \n",
    "dtc = DecisionTreeClassifier()   # create a decision tree class\n",
    "\n",
    "dtc.fit(xtrain,ytrain)\n",
    "\n",
    "dtc.score(xtest,ytest)"
   ]
  },
  {
   "cell_type": "markdown",
   "id": "f6a558cf",
   "metadata": {},
   "source": [
    "### Scope hyper parameter tuing for DT"
   ]
  },
  {
   "cell_type": "code",
   "execution_count": null,
   "id": "63909df2",
   "metadata": {},
   "outputs": [],
   "source": []
  },
  {
   "cell_type": "code",
   "execution_count": 16,
   "id": "0721327c",
   "metadata": {},
   "outputs": [
    {
     "name": "stdout",
     "output_type": "stream",
     "text": [
      "Confusion Matrix : \n",
      " [[25 10]\n",
      " [11 14]]\n",
      "Accuracy :  0.65\n",
      "specificity1 :  0.7142857142857143\n",
      "Sensitivity :  0.56\n",
      "MCC :  0.2760262237369417\n",
      "AUC :  0.6371428571428571\n",
      "              precision    recall  f1-score   support\n",
      "\n",
      "           0       0.69      0.71      0.70        35\n",
      "           1       0.58      0.56      0.57        25\n",
      "\n",
      "    accuracy                           0.65        60\n",
      "   macro avg       0.64      0.64      0.64        60\n",
      "weighted avg       0.65      0.65      0.65        60\n",
      "\n"
     ]
    }
   ],
   "source": [
    "pred_dtc = dtc.predict(xtest)\n",
    "\n",
    "from sklearn.metrics import confusion_matrix\n",
    "\n",
    "cm1 = confusion_matrix(ytest,pred_dtc)\n",
    "print('Confusion Matrix : \\n', cm1)\n",
    "\n",
    "total1=sum(sum(cm1))\n",
    "\n",
    "accuracy1=(cm1[0,0]+cm1[1,1])/total1\n",
    "print ('Accuracy : ', accuracy1)\n",
    "\n",
    "specificity1 = cm1[0,0]/(cm1[0,0]+cm1[0,1])\n",
    "print('specificity1 : ', specificity1)\n",
    "\n",
    "sensitivity1 = cm1[1,1]/(cm1[1,0]+cm1[1,1])\n",
    "print('Sensitivity : ', sensitivity1)\n",
    "\n",
    "from sklearn.metrics import matthews_corrcoef\n",
    "\n",
    "print(\"MCC : \",matthews_corrcoef(ytest,pred_dtc))\n",
    "\n",
    "from sklearn.metrics import roc_auc_score\n",
    "\n",
    "print(\"AUC : \",roc_auc_score(ytest,pred_dtc))\n",
    "\n",
    "from sklearn.metrics import classification_report\n",
    "\n",
    "print(classification_report(ytest, pred_dtc))"
   ]
  },
  {
   "cell_type": "markdown",
   "id": "4a51123c",
   "metadata": {},
   "source": [
    "### K-Nearest Neighbors"
   ]
  },
  {
   "cell_type": "code",
   "execution_count": 17,
   "id": "5db137a3",
   "metadata": {},
   "outputs": [
    {
     "data": {
      "text/plain": [
       "0.5833333333333334"
      ]
     },
     "execution_count": 17,
     "metadata": {},
     "output_type": "execute_result"
    }
   ],
   "source": [
    "from sklearn.neighbors import KNeighborsClassifier\n",
    "\n",
    "knn = KNeighborsClassifier(n_neighbors = 9)\n",
    "\n",
    "knn.fit(xtrain,ytrain)\n",
    "\n",
    "knn.score(xtest,ytest)"
   ]
  },
  {
   "cell_type": "code",
   "execution_count": null,
   "id": "1273cd5a",
   "metadata": {},
   "outputs": [],
   "source": [
    "# Scopre of hyper parameter tuning"
   ]
  },
  {
   "cell_type": "code",
   "execution_count": null,
   "id": "65855ff2",
   "metadata": {},
   "outputs": [],
   "source": []
  },
  {
   "cell_type": "code",
   "execution_count": 18,
   "id": "0bcd84de",
   "metadata": {},
   "outputs": [
    {
     "name": "stdout",
     "output_type": "stream",
     "text": [
      "Confusion Matrix : \n",
      " [[32  3]\n",
      " [22  3]]\n",
      "Accuracy :  0.5833333333333334\n",
      "specificity1 :  0.9142857142857143\n",
      "Sensitivity :  0.12\n",
      "MCC :  0.0563436169819011\n",
      "AUC :  0.5171428571428571\n",
      "              precision    recall  f1-score   support\n",
      "\n",
      "           0       0.59      0.91      0.72        35\n",
      "           1       0.50      0.12      0.19        25\n",
      "\n",
      "    accuracy                           0.58        60\n",
      "   macro avg       0.55      0.52      0.46        60\n",
      "weighted avg       0.55      0.58      0.50        60\n",
      "\n"
     ]
    }
   ],
   "source": [
    "pred_knn = knn.predict(xtest)\n",
    "\n",
    "from sklearn.metrics import confusion_matrix\n",
    "\n",
    "cm1 = confusion_matrix(ytest,pred_knn)\n",
    "print('Confusion Matrix : \\n', cm1)\n",
    "\n",
    "total1=sum(sum(cm1))\n",
    "\n",
    "accuracy1=(cm1[0,0]+cm1[1,1])/total1\n",
    "print ('Accuracy : ', accuracy1)\n",
    "\n",
    "specificity1 = cm1[0,0]/(cm1[0,0]+cm1[0,1])\n",
    "print('specificity1 : ', specificity1)\n",
    "\n",
    "sensitivity1 = cm1[1,1]/(cm1[1,0]+cm1[1,1])\n",
    "print('Sensitivity : ', sensitivity1)\n",
    "\n",
    "from sklearn.metrics import matthews_corrcoef\n",
    "\n",
    "print(\"MCC : \",matthews_corrcoef(ytest,pred_knn))\n",
    "\n",
    "from sklearn.metrics import roc_auc_score\n",
    "\n",
    "print(\"AUC : \",roc_auc_score(ytest,pred_knn))\n",
    "\n",
    "from sklearn.metrics import classification_report\n",
    "\n",
    "print(classification_report(ytest, pred_knn))"
   ]
  },
  {
   "cell_type": "markdown",
   "id": "2df41bcb",
   "metadata": {},
   "source": [
    "### Random Forest"
   ]
  },
  {
   "cell_type": "code",
   "execution_count": 19,
   "id": "78ea7ee1",
   "metadata": {},
   "outputs": [
    {
     "data": {
      "text/plain": [
       "0.75"
      ]
     },
     "execution_count": 19,
     "metadata": {},
     "output_type": "execute_result"
    }
   ],
   "source": [
    "from sklearn.ensemble import RandomForestClassifier\n",
    "\n",
    "rfc = RandomForestClassifier()\n",
    "\n",
    "rfc.fit(xtrain,ytrain)\n",
    "\n",
    "rfc.score(xtest,ytest)"
   ]
  },
  {
   "cell_type": "markdown",
   "id": "6ae27d41",
   "metadata": {},
   "source": [
    "#### Scope of hyper parameter tuning  and corss validations"
   ]
  },
  {
   "cell_type": "code",
   "execution_count": null,
   "id": "08170532",
   "metadata": {},
   "outputs": [],
   "source": []
  },
  {
   "cell_type": "code",
   "execution_count": 20,
   "id": "dae2f7d8",
   "metadata": {},
   "outputs": [
    {
     "name": "stdout",
     "output_type": "stream",
     "text": [
      "Confusion Matrix : \n",
      " [[29  6]\n",
      " [ 9 16]]\n",
      "Accuracy :  0.75\n",
      "specificity1 :  0.8285714285714286\n",
      "Sensitivity :  0.64\n",
      "MCC :  0.47937644619880754\n",
      "AUC :  0.7342857142857142\n",
      "              precision    recall  f1-score   support\n",
      "\n",
      "           0       0.76      0.83      0.79        35\n",
      "           1       0.73      0.64      0.68        25\n",
      "\n",
      "    accuracy                           0.75        60\n",
      "   macro avg       0.75      0.73      0.74        60\n",
      "weighted avg       0.75      0.75      0.75        60\n",
      "\n"
     ]
    }
   ],
   "source": [
    "pred_rfc = rfc.predict(xtest)\n",
    "\n",
    "from sklearn.metrics import confusion_matrix\n",
    "\n",
    "cm1 = confusion_matrix(ytest,pred_rfc)\n",
    "print('Confusion Matrix : \\n', cm1)\n",
    "\n",
    "total1=sum(sum(cm1))\n",
    "\n",
    "accuracy1=(cm1[0,0]+cm1[1,1])/total1\n",
    "print ('Accuracy : ', accuracy1)\n",
    "\n",
    "specificity1 = cm1[0,0]/(cm1[0,0]+cm1[0,1])\n",
    "print('specificity1 : ', specificity1)\n",
    "\n",
    "sensitivity1 = cm1[1,1]/(cm1[1,0]+cm1[1,1])\n",
    "print('Sensitivity : ', sensitivity1)\n",
    "\n",
    "from sklearn.metrics import matthews_corrcoef\n",
    "\n",
    "print(\"MCC : \",matthews_corrcoef(ytest,pred_rfc))\n",
    "\n",
    "from sklearn.metrics import roc_auc_score\n",
    "\n",
    "print(\"AUC : \",roc_auc_score(ytest,pred_rfc))\n",
    "\n",
    "from sklearn.metrics import classification_report\n",
    "\n",
    "print(classification_report(ytest, pred_rfc))"
   ]
  },
  {
   "cell_type": "markdown",
   "id": "82f3cccb",
   "metadata": {},
   "source": [
    "### Logistic Regression"
   ]
  },
  {
   "cell_type": "code",
   "execution_count": 21,
   "id": "6203bb09",
   "metadata": {},
   "outputs": [
    {
     "data": {
      "text/plain": [
       "0.8"
      ]
     },
     "execution_count": 21,
     "metadata": {},
     "output_type": "execute_result"
    }
   ],
   "source": [
    "from sklearn.linear_model import LogisticRegression\n",
    "\n",
    "logReg = LogisticRegression()\n",
    "\n",
    "logReg.fit(xtrain,ytrain)\n",
    "\n",
    "logReg.score(xtest,ytest)"
   ]
  },
  {
   "cell_type": "markdown",
   "id": "7430d94e",
   "metadata": {},
   "source": [
    "#### scope of  hyper parameter tuning and cross validations"
   ]
  },
  {
   "cell_type": "code",
   "execution_count": null,
   "id": "8fa38fe9",
   "metadata": {},
   "outputs": [],
   "source": []
  },
  {
   "cell_type": "code",
   "execution_count": 22,
   "id": "41af36c4",
   "metadata": {},
   "outputs": [
    {
     "name": "stdout",
     "output_type": "stream",
     "text": [
      "Confusion Matrix : \n",
      " [[31  4]\n",
      " [ 8 17]]\n",
      "Accuracy :  0.8\n",
      "specificity1 :  0.8857142857142857\n",
      "Sensitivity :  0.68\n",
      "MCC :  0.5847351773491256\n",
      "AUC :  0.7828571428571428\n",
      "              precision    recall  f1-score   support\n",
      "\n",
      "           0       0.79      0.89      0.84        35\n",
      "           1       0.81      0.68      0.74        25\n",
      "\n",
      "    accuracy                           0.80        60\n",
      "   macro avg       0.80      0.78      0.79        60\n",
      "weighted avg       0.80      0.80      0.80        60\n",
      "\n"
     ]
    }
   ],
   "source": [
    "pred_logReg = logReg.predict(xtest)\n",
    "\n",
    "from sklearn.metrics import confusion_matrix\n",
    "\n",
    "cm1 = confusion_matrix(ytest,pred_logReg)\n",
    "print('Confusion Matrix : \\n', cm1)\n",
    "\n",
    "total1=sum(sum(cm1))\n",
    "\n",
    "accuracy1=(cm1[0,0]+cm1[1,1])/total1\n",
    "print ('Accuracy : ', accuracy1)\n",
    "\n",
    "specificity1 = cm1[0,0]/(cm1[0,0]+cm1[0,1])\n",
    "print('specificity1 : ', specificity1)\n",
    "\n",
    "sensitivity1 = cm1[1,1]/(cm1[1,0]+cm1[1,1])\n",
    "print('Sensitivity : ', sensitivity1)\n",
    "\n",
    "from sklearn.metrics import matthews_corrcoef\n",
    "\n",
    "print(\"MCC : \",matthews_corrcoef(ytest,pred_logReg))\n",
    "\n",
    "from sklearn.metrics import roc_auc_score\n",
    "\n",
    "print(\"AUC : \",roc_auc_score(ytest,pred_logReg))\n",
    "\n",
    "from sklearn.metrics import classification_report\n",
    "\n",
    "print(classification_report(ytest, pred_logReg))"
   ]
  },
  {
   "cell_type": "markdown",
   "id": "40d874da",
   "metadata": {},
   "source": [
    "### Support Vector Machine (Linear)"
   ]
  },
  {
   "cell_type": "code",
   "execution_count": 23,
   "id": "ada5dcaa",
   "metadata": {},
   "outputs": [
    {
     "data": {
      "text/plain": [
       "0.7833333333333333"
      ]
     },
     "execution_count": 23,
     "metadata": {},
     "output_type": "execute_result"
    }
   ],
   "source": [
    "from sklearn.svm import SVC\n",
    "\n",
    "svml = SVC(kernel = 'linear')\n",
    "\n",
    "svml.fit(xtrain,ytrain)\n",
    "\n",
    "svml.score(xtest,ytest)"
   ]
  },
  {
   "cell_type": "markdown",
   "id": "ab529790",
   "metadata": {},
   "source": [
    "#### scope of  hyper parameter tuning and cross validations"
   ]
  },
  {
   "cell_type": "code",
   "execution_count": null,
   "id": "1871b1c2",
   "metadata": {},
   "outputs": [],
   "source": []
  },
  {
   "cell_type": "code",
   "execution_count": 24,
   "id": "ae7a71ae",
   "metadata": {},
   "outputs": [
    {
     "name": "stdout",
     "output_type": "stream",
     "text": [
      "Confusion Matrix : \n",
      " [[32  3]\n",
      " [10 15]]\n",
      "Accuracy :  0.7833333333333333\n",
      "specificity1 :  0.9142857142857143\n",
      "Sensitivity :  0.6\n",
      "MCC :  0.5532833351724881\n",
      "AUC :  0.7571428571428571\n",
      "              precision    recall  f1-score   support\n",
      "\n",
      "           0       0.76      0.91      0.83        35\n",
      "           1       0.83      0.60      0.70        25\n",
      "\n",
      "    accuracy                           0.78        60\n",
      "   macro avg       0.80      0.76      0.76        60\n",
      "weighted avg       0.79      0.78      0.78        60\n",
      "\n"
     ]
    }
   ],
   "source": [
    "pred_svml = svml.predict(xtest)\n",
    "\n",
    "from sklearn.metrics import confusion_matrix\n",
    "\n",
    "cm1 = confusion_matrix(ytest,pred_svml)\n",
    "print('Confusion Matrix : \\n', cm1)\n",
    "\n",
    "total1=sum(sum(cm1))\n",
    "\n",
    "accuracy1=(cm1[0,0]+cm1[1,1])/total1\n",
    "print ('Accuracy : ', accuracy1)\n",
    "\n",
    "specificity1 = cm1[0,0]/(cm1[0,0]+cm1[0,1])\n",
    "print('specificity1 : ', specificity1)\n",
    "\n",
    "sensitivity1 = cm1[1,1]/(cm1[1,0]+cm1[1,1])\n",
    "print('Sensitivity : ', sensitivity1)\n",
    "\n",
    "from sklearn.metrics import matthews_corrcoef\n",
    "\n",
    "print(\"MCC : \",matthews_corrcoef(ytest,pred_svml))\n",
    "\n",
    "from sklearn.metrics import roc_auc_score\n",
    "\n",
    "print(\"AUC : \",roc_auc_score(ytest,pred_svml))\n",
    "\n",
    "from sklearn.metrics import classification_report\n",
    "\n",
    "print(classification_report(ytest, pred_svml))"
   ]
  },
  {
   "cell_type": "markdown",
   "id": "896a3c39",
   "metadata": {},
   "source": [
    "### Support Vector Machine (RBF)"
   ]
  },
  {
   "cell_type": "code",
   "execution_count": 25,
   "id": "8ebfa16b",
   "metadata": {},
   "outputs": [
    {
     "data": {
      "text/plain": [
       "0.5833333333333334"
      ]
     },
     "execution_count": 25,
     "metadata": {},
     "output_type": "execute_result"
    }
   ],
   "source": [
    "from sklearn.svm import SVC\n",
    "\n",
    "svmr = SVC(kernel = 'rbf')\n",
    "\n",
    "svmr.fit(xtrain,ytrain)\n",
    "\n",
    "svmr.score(xtest,ytest)"
   ]
  },
  {
   "cell_type": "markdown",
   "id": "7eb9f7b8",
   "metadata": {},
   "source": [
    "### scope of  hyper parameter tuning and cross validations"
   ]
  },
  {
   "cell_type": "code",
   "execution_count": null,
   "id": "1c124412",
   "metadata": {},
   "outputs": [],
   "source": []
  },
  {
   "cell_type": "code",
   "execution_count": null,
   "id": "ddf36251",
   "metadata": {},
   "outputs": [],
   "source": []
  },
  {
   "cell_type": "code",
   "execution_count": 26,
   "id": "dafb4cfe",
   "metadata": {},
   "outputs": [
    {
     "name": "stdout",
     "output_type": "stream",
     "text": [
      "Confusion Matrix : \n",
      " [[35  0]\n",
      " [25  0]]\n",
      "Accuracy :  0.5833333333333334\n",
      "specificity1 :  1.0\n",
      "Sensitivity :  0.0\n",
      "MCC :  0.0\n",
      "AUC :  0.5\n",
      "              precision    recall  f1-score   support\n",
      "\n",
      "           0       0.58      1.00      0.74        35\n",
      "           1       0.00      0.00      0.00        25\n",
      "\n",
      "    accuracy                           0.58        60\n",
      "   macro avg       0.29      0.50      0.37        60\n",
      "weighted avg       0.34      0.58      0.43        60\n",
      "\n"
     ]
    },
    {
     "name": "stderr",
     "output_type": "stream",
     "text": [
      "C:\\Users\\panka\\anaconda33\\envs\\cv\\lib\\site-packages\\sklearn\\metrics\\_classification.py:1344: UndefinedMetricWarning: Precision and F-score are ill-defined and being set to 0.0 in labels with no predicted samples. Use `zero_division` parameter to control this behavior.\n",
      "  _warn_prf(average, modifier, msg_start, len(result))\n",
      "C:\\Users\\panka\\anaconda33\\envs\\cv\\lib\\site-packages\\sklearn\\metrics\\_classification.py:1344: UndefinedMetricWarning: Precision and F-score are ill-defined and being set to 0.0 in labels with no predicted samples. Use `zero_division` parameter to control this behavior.\n",
      "  _warn_prf(average, modifier, msg_start, len(result))\n",
      "C:\\Users\\panka\\anaconda33\\envs\\cv\\lib\\site-packages\\sklearn\\metrics\\_classification.py:1344: UndefinedMetricWarning: Precision and F-score are ill-defined and being set to 0.0 in labels with no predicted samples. Use `zero_division` parameter to control this behavior.\n",
      "  _warn_prf(average, modifier, msg_start, len(result))\n"
     ]
    }
   ],
   "source": [
    "pred_svmr = svmr.predict(xtest)\n",
    "\n",
    "from sklearn.metrics import confusion_matrix\n",
    "\n",
    "cm1 = confusion_matrix(ytest,pred_svmr)\n",
    "print('Confusion Matrix : \\n', cm1)\n",
    "\n",
    "total1=sum(sum(cm1))\n",
    "\n",
    "accuracy1=(cm1[0,0]+cm1[1,1])/total1\n",
    "print ('Accuracy : ', accuracy1)\n",
    "\n",
    "specificity1 = cm1[0,0]/(cm1[0,0]+cm1[0,1])\n",
    "print('specificity1 : ', specificity1)\n",
    "\n",
    "sensitivity1 = cm1[1,1]/(cm1[1,0]+cm1[1,1])\n",
    "print('Sensitivity : ', sensitivity1)\n",
    "\n",
    "from sklearn.metrics import matthews_corrcoef\n",
    "\n",
    "print(\"MCC : \",matthews_corrcoef(ytest,pred_svmr))\n",
    "\n",
    "from sklearn.metrics import roc_auc_score\n",
    "\n",
    "print(\"AUC : \",roc_auc_score(ytest,pred_svmr))\n",
    "\n",
    "from sklearn.metrics import classification_report\n",
    "\n",
    "print(classification_report(ytest, pred_svmr))"
   ]
  },
  {
   "cell_type": "markdown",
   "id": "bed54354",
   "metadata": {},
   "source": [
    "# Hyper Parameter tuning "
   ]
  },
  {
   "cell_type": "code",
   "execution_count": 27,
   "id": "167bdcd2",
   "metadata": {},
   "outputs": [],
   "source": [
    "import numpy as np\n",
    "import pandas as pd\n",
    "import matplotlib.pyplot as plt\n",
    "%matplotlib inline\n",
    "import seaborn as sns\n",
    "from scipy import stats\n",
    "#from sklearn.cross_validation import KFold, cross_val_score, train_test_split\n",
    "\n",
    "from sklearn.model_selection import train_test_split\n",
    "from sklearn.preprocessing import normalize \n",
    "from sklearn.linear_model import LogisticRegression\n",
    "from sklearn.tree import DecisionTreeClassifier\n",
    "from sklearn.neighbors import KNeighborsClassifier\n",
    "from sklearn.discriminant_analysis import LinearDiscriminantAnalysis\n",
    "from sklearn.naive_bayes import GaussianNB, MultinomialNB\n",
    "from sklearn.svm import SVC\n",
    "from sklearn.ensemble import RandomForestClassifier\n",
    "\n",
    "from sklearn.metrics import accuracy_score, classification_report, confusion_matrix\n",
    "from sklearn.metrics import mean_squared_error as mse\n",
    "from sklearn.feature_selection import RFECV\n",
    "from sklearn.decomposition import PCA\n",
    "from sklearn.cluster import KMeans\n",
    "from sklearn.ensemble import BaggingClassifier\n",
    "from sklearn.ensemble import AdaBoostClassifier\n",
    "from sklearn.ensemble import GradientBoostingClassifier\n",
    "from sklearn.ensemble import ExtraTreesClassifier\n",
    "from sklearn.preprocessing import Normalizer\n",
    "from sklearn.pipeline import Pipeline\n",
    "from sklearn.pipeline import FeatureUnion\n",
    "from sklearn.feature_selection import SelectKBest\n",
    "from sklearn import datasets\n",
    "from sklearn.model_selection import cross_validate\n",
    "from sklearn.model_selection import GridSearchCV\n",
    "import warnings\n",
    "warnings.filterwarnings(\"ignore\")"
   ]
  },
  {
   "cell_type": "code",
   "execution_count": 29,
   "id": "7c9fc2aa",
   "metadata": {},
   "outputs": [],
   "source": [
    "# Define parameters for optimization using dictionaries {parameter name: parameter list}\n",
    "\n",
    "# SVM_params = {'C':[0.001, 0.1, 10, 100], 'kernel':['rbf' ,'linear', 'poly', 'sigmoid']}\n",
    "LR_params = {'C':[0.001, 0.1, 1, 10, 100]}\n",
    "LDA_params = {'n_components':[None, 1,2,3], 'solver':['svd'], 'shrinkage':[None]}\n",
    "KNN_params = {'n_neighbors':[1,5,10,9,20, 50], 'p':[2], 'metric':['minkowski']}\n",
    "RF_params = {'n_estimators':[10,50,100]}\n",
    "DTC_params = {'criterion':['entropy', 'gini'], 'max_depth':[10, 50, 100]}"
   ]
  },
  {
   "cell_type": "code",
   "execution_count": 30,
   "id": "b2b5493d",
   "metadata": {},
   "outputs": [],
   "source": [
    "# Append list of models with parameter dictionaries\n",
    "\n",
    "models_opt = []\n",
    "\n",
    "models_opt.append(('LR', LogisticRegression(), LR_params))\n",
    "models_opt.append(('LDA', LinearDiscriminantAnalysis(), LDA_params))\n",
    "models_opt.append(('KNN', KNeighborsClassifier(),KNN_params))\n",
    "models_opt.append(('DTC', DecisionTreeClassifier(), DTC_params))\n",
    "models_opt.append(('RFC', RandomForestClassifier(), RF_params))\n",
    "# models_opt.append(('SVM', SVC(), SVM_params))"
   ]
  },
  {
   "cell_type": "code",
   "execution_count": 31,
   "id": "28ea994d",
   "metadata": {},
   "outputs": [
    {
     "data": {
      "text/plain": [
       "[('LR', LogisticRegression(), {'C': [0.001, 0.1, 1, 10, 100]}),\n",
       " ('LDA',\n",
       "  LinearDiscriminantAnalysis(),\n",
       "  {'n_components': [None, 1, 2, 3], 'solver': ['svd'], 'shrinkage': [None]}),\n",
       " ('KNN',\n",
       "  KNeighborsClassifier(),\n",
       "  {'n_neighbors': [1, 5, 10, 9, 20, 50], 'p': [2], 'metric': ['minkowski']}),\n",
       " ('DTC',\n",
       "  DecisionTreeClassifier(),\n",
       "  {'criterion': ['entropy', 'gini'], 'max_depth': [10, 50, 100]}),\n",
       " ('RFC', RandomForestClassifier(), {'n_estimators': [10, 50, 100]})]"
      ]
     },
     "execution_count": 31,
     "metadata": {},
     "output_type": "execute_result"
    }
   ],
   "source": [
    "models_opt"
   ]
  },
  {
   "cell_type": "code",
   "execution_count": 32,
   "id": "791bf870",
   "metadata": {},
   "outputs": [],
   "source": [
    "from sklearn.model_selection import LeaveOneOut\n",
    "from sklearn.model_selection import KFold\n",
    "from sklearn.model_selection import cross_val_score\n",
    "from sklearn.model_selection import GridSearchCV\n",
    "#from sklearn.cross_validation.KFold(n=4, n_folds=2, shuffle=False,random_state=None)\n",
    "from sklearn.model_selection import StratifiedKFold\n",
    "skfold=StratifiedKFold(n_splits=5)"
   ]
  },
  {
   "cell_type": "code",
   "execution_count": 33,
   "id": "ab42571f",
   "metadata": {},
   "outputs": [
    {
     "name": "stdout",
     "output_type": "stream",
     "text": [
      "Time consumed in working:  0.001998424530029297\n"
     ]
    }
   ],
   "source": [
    "import time\n",
    "start = time.time()\n",
    "from sklearn.model_selection import train_test_split\n",
    "X_train, X_test, Y_train, Y_test = train_test_split(x, y, test_size = 0.25 , random_state = 0)\n",
    "end = time.time()\n",
    "print(\"Time consumed in working: \",end - start)"
   ]
  },
  {
   "cell_type": "code",
   "execution_count": 34,
   "id": "25133578",
   "metadata": {},
   "outputs": [],
   "source": [
    "results = []\n",
    "names = []\n",
    "\n",
    "\n",
    "def estimator_function(parameter_dictionary, scoring = 'accuracy'):\n",
    "    \n",
    "    \n",
    "    for name, model, params in models_opt:\n",
    "    \n",
    "        #kfold = KFold(len(X_train), n_folds=5, random_state=2, shuffle=True)\n",
    "        skfold=StratifiedKFold(n_splits=5)\n",
    "        leave_validation=LeaveOneOut()\n",
    "\n",
    "        model_grid = GridSearchCV(model, params)\n",
    "\n",
    "        cv_results = cross_val_score(model_grid, X_train, Y_train, cv =leave_validation, scoring=scoring)\n",
    "\n",
    "        results.append(cv_results)\n",
    "\n",
    "        names.append(name)\n",
    "\n",
    "        msg = \"Cross Validation Accuracy %s: Accarcy: %f SD: %f\" % (name, cv_results.mean(), cv_results.std())\n",
    "\n",
    "        print(msg)"
   ]
  },
  {
   "cell_type": "code",
   "execution_count": 35,
   "id": "9770225f",
   "metadata": {},
   "outputs": [
    {
     "name": "stdout",
     "output_type": "stream",
     "text": [
      "Cross Validation Accuracy LR: Accarcy: 0.843750 SD: 0.363092\n",
      "Cross Validation Accuracy LDA: Accarcy: 0.848214 SD: 0.358813\n",
      "Cross Validation Accuracy KNN: Accarcy: 0.687500 SD: 0.463512\n",
      "Cross Validation Accuracy DTC: Accarcy: 0.767857 SD: 0.422200\n",
      "Cross Validation Accuracy RFC: Accarcy: 0.839286 SD: 0.367267\n"
     ]
    }
   ],
   "source": [
    "estimator_function(models_opt, scoring = 'accuracy')"
   ]
  },
  {
   "cell_type": "code",
   "execution_count": null,
   "id": "69cb70bb",
   "metadata": {},
   "outputs": [],
   "source": [
    "# leave_validation=LeaveOneOut()  \n",
    "Cross Validation Accuracy LR: Accarcy: 0.751736 SD: 0.432006\n",
    "Cross Validation Accuracy LDA: Accarcy: 0.750000 SD: 0.433013\n",
    "Cross Validation Accuracy KNN: Accarcy: 0.701389 SD: 0.457649\n",
    "Cross Validation Accuracy DTC: Accarcy: 0.637153 SD: 0.480821\n",
    "Cross Validation Accuracy RFC: Accarcy: 0.736111 SD: 0.440740"
   ]
  },
  {
   "cell_type": "code",
   "execution_count": null,
   "id": "e42804e5",
   "metadata": {},
   "outputs": [],
   "source": []
  },
  {
   "cell_type": "code",
   "execution_count": null,
   "id": "e9985c98",
   "metadata": {},
   "outputs": [],
   "source": []
  },
  {
   "cell_type": "code",
   "execution_count": 38,
   "id": "d2da69a4",
   "metadata": {},
   "outputs": [],
   "source": [
    "from contextlib import contextmanager\n",
    "@contextmanager\n",
    "def timer():\n",
    "    \"\"\"Helper for measuring runtime\"\"\"\n",
    "\n",
    "    time0 =  time.perf_counter()\n",
    "    \n",
    "    yield\n",
    "    print('[elapsed time: %.18f s]' % (time.perf_counter() - time0))"
   ]
  },
  {
   "cell_type": "markdown",
   "id": "a94f45ab",
   "metadata": {},
   "source": [
    "## Random Forest"
   ]
  },
  {
   "cell_type": "code",
   "execution_count": 36,
   "id": "5410b742",
   "metadata": {},
   "outputs": [
    {
     "name": "stdout",
     "output_type": "stream",
     "text": [
      "{'n_estimators': [200, 400, 600, 800, 1000, 1200, 1400, 1600, 1800, 2000], 'max_features': ['auto', 'sqrt', 'log2'], 'max_depth': [10, 120, 230, 340, 450, 560, 670, 780, 890, 1000], 'min_samples_split': [2, 5, 10, 14], 'min_samples_leaf': [1, 2, 4, 6, 8], 'criterion': ['entropy', 'gini']}\n"
     ]
    }
   ],
   "source": [
    "import numpy as np\n",
    "from sklearn.model_selection import RandomizedSearchCV\n",
    "# Number of trees in random forest\n",
    "n_estimators = [int(x) for x in np.linspace(start = 200, stop = 2000, num = 10)]\n",
    "# Number of features to consider at every split\n",
    "max_features = ['auto', 'sqrt','log2']\n",
    "# Maximum number of levels in tree\n",
    "max_depth = [int(x) for x in np.linspace(10, 1000,10)]\n",
    "# Minimum number of samples required to split a node\n",
    "min_samples_split = [2, 5, 10,14]\n",
    "# Minimum number of samples required at each leaf node\n",
    "min_samples_leaf = [1, 2, 4,6,8]\n",
    "# Create the random grid\n",
    "random_grid = {'n_estimators': n_estimators,\n",
    "               'max_features': max_features,\n",
    "               'max_depth': max_depth,\n",
    "               'min_samples_split': min_samples_split,\n",
    "               'min_samples_leaf': min_samples_leaf,\n",
    "              'criterion':['entropy','gini']}\n",
    "print(random_grid)"
   ]
  },
  {
   "cell_type": "code",
   "execution_count": 39,
   "id": "5abeae41",
   "metadata": {},
   "outputs": [
    {
     "name": "stdout",
     "output_type": "stream",
     "text": [
      "Fitting 3 folds for each of 100 candidates, totalling 300 fits\n",
      "[elapsed time: 112.537697399999842673 s]\n"
     ]
    }
   ],
   "source": [
    "with timer() as t:\n",
    "    rf=RandomForestClassifier()\n",
    "    rf_randomcv=RandomizedSearchCV(estimator=rf,param_distributions=random_grid,n_iter=100,cv=3,verbose=2,\n",
    "                               random_state=100,n_jobs=-1)\n",
    "    rf_randomcv.fit(X_train,Y_train)"
   ]
  },
  {
   "cell_type": "code",
   "execution_count": 72,
   "id": "b83a853b",
   "metadata": {},
   "outputs": [],
   "source": [
    "# rf=RandomForestClassifier()\n",
    "# rf_randomcv=RandomizedSearchCV(estimator=rf,param_distributions=random_grid,n_iter=100,cv=3,verbose=2,\n",
    "#                                random_state=100,n_jobs=-1)\n",
    "# ### fit the randomized model\n",
    "# rf_randomcv.fit(X_train,Y_train)"
   ]
  },
  {
   "cell_type": "code",
   "execution_count": 40,
   "id": "c3f51eec",
   "metadata": {},
   "outputs": [
    {
     "data": {
      "text/plain": [
       "{'n_estimators': 1400,\n",
       " 'min_samples_split': 14,\n",
       " 'min_samples_leaf': 2,\n",
       " 'max_features': 'auto',\n",
       " 'max_depth': 780,\n",
       " 'criterion': 'gini'}"
      ]
     },
     "execution_count": 40,
     "metadata": {},
     "output_type": "execute_result"
    }
   ],
   "source": [
    "rf_randomcv.best_params_"
   ]
  },
  {
   "cell_type": "code",
   "execution_count": 41,
   "id": "00db4188",
   "metadata": {},
   "outputs": [],
   "source": [
    "best_random_grid=rf_randomcv.best_estimator_"
   ]
  },
  {
   "cell_type": "code",
   "execution_count": 42,
   "id": "cfa7e4d1",
   "metadata": {},
   "outputs": [
    {
     "name": "stdout",
     "output_type": "stream",
     "text": [
      "[[46  2]\n",
      " [10 17]]\n",
      "Training Accuracy Score 0.9285714285714286\n",
      "Testing Accuracy Score 0.84\n",
      "Classification report:               precision    recall  f1-score   support\n",
      "\n",
      "           0       0.82      0.96      0.88        48\n",
      "           1       0.89      0.63      0.74        27\n",
      "\n",
      "    accuracy                           0.84        75\n",
      "   macro avg       0.86      0.79      0.81        75\n",
      "weighted avg       0.85      0.84      0.83        75\n",
      "\n"
     ]
    }
   ],
   "source": [
    "from sklearn.metrics import accuracy_score\n",
    "y_predRM=best_random_grid.predict(X_test)\n",
    "print(confusion_matrix(Y_test,y_predRM))\n",
    "print(\"Training Accuracy Score {}\".format(best_random_grid.score(X_train,Y_train)))\n",
    "print(\"Testing Accuracy Score {}\".format(accuracy_score(Y_test,y_predRM)))\n",
    "print(\"Classification report: {}\".format(classification_report(Y_test,y_predRM)))"
   ]
  },
  {
   "cell_type": "code",
   "execution_count": 43,
   "id": "ccceb4ba",
   "metadata": {},
   "outputs": [
    {
     "name": "stdout",
     "output_type": "stream",
     "text": [
      "Confusion Matrix : \n",
      " [[46  2]\n",
      " [10 17]]\n",
      "Accuracy :  0.84\n",
      "specificity1 :  0.9583333333333334\n",
      "Sensitivity :  0.6296296296296297\n",
      "MCC :  0.6489058009549221\n",
      "AUC :  0.7939814814814816\n",
      "              precision    recall  f1-score   support\n",
      "\n",
      "           0       0.82      0.96      0.88        48\n",
      "           1       0.89      0.63      0.74        27\n",
      "\n",
      "    accuracy                           0.84        75\n",
      "   macro avg       0.86      0.79      0.81        75\n",
      "weighted avg       0.85      0.84      0.83        75\n",
      "\n"
     ]
    }
   ],
   "source": [
    "# Random forest\n",
    "cm1 = confusion_matrix(Y_test,y_predRM)\n",
    "print('Confusion Matrix : \\n', cm1)\n",
    "\n",
    "total1=sum(sum(cm1))\n",
    "\n",
    "accuracy1=(cm1[0,0]+cm1[1,1])/total1\n",
    "print ('Accuracy : ', accuracy1)\n",
    "\n",
    "specificity1 = cm1[0,0]/(cm1[0,0]+cm1[0,1])\n",
    "print('specificity1 : ', specificity1)\n",
    "\n",
    "sensitivity1 = cm1[1,1]/(cm1[1,0]+cm1[1,1])\n",
    "print('Sensitivity : ', sensitivity1)\n",
    "\n",
    "from sklearn.metrics import matthews_corrcoef\n",
    "\n",
    "print(\"MCC : \",matthews_corrcoef(Y_test,y_predRM))\n",
    "\n",
    "from sklearn.metrics import roc_auc_score\n",
    "\n",
    "print(\"AUC : \",roc_auc_score(Y_test,y_predRM))\n",
    "\n",
    "from sklearn.metrics import classification_report\n",
    "\n",
    "print(classification_report(Y_test, y_predRM))"
   ]
  },
  {
   "cell_type": "markdown",
   "id": "4d7d3492",
   "metadata": {},
   "source": [
    "<img src=\"../images/confusion_Matrix.jpeg\" width=\"70%\">"
   ]
  },
  {
   "cell_type": "code",
   "execution_count": 44,
   "id": "650ad673",
   "metadata": {},
   "outputs": [],
   "source": [
    "# Confusion Matrix : \n",
    "# Confusion Matrix : \n",
    "#  [[46  2]\n",
    "#  [10 17]]\n",
    "TP = 46\n",
    "FP = 2\n",
    "FN = 10\n",
    "TN = 17"
   ]
  },
  {
   "cell_type": "code",
   "execution_count": 45,
   "id": "746db23b",
   "metadata": {},
   "outputs": [],
   "source": [
    "# Random forest\n",
    "def fun(TP,FN,FP,TN):\n",
    "    print(\"Random Forest on Heart Failure\")\n",
    "    print(\"TP\",TP)\n",
    "    print(\"FN\",FN)\n",
    "    print(\"FP\",FP)\n",
    "    print(\"TN\", TN)\n",
    "    Accuracy = (TP + TN)/(TP + TN + FP + FN)\n",
    "    print(\"Accuracy : {}\".format(Accuracy))\n",
    "    Precision = TP / (TP + FP)\n",
    "    print(\"Precision : {}\".format(Precision))\n",
    "    Recall = TP / (TP + FN)\n",
    "    print(\"Recall : {} \".format(Recall))\n",
    "    F1_score = 2*(Precision*Recall)/(Precision + Recall)\n",
    "    print(\"F1_score : {}\".format(F1_score))\n",
    "    TPR = TP / (TP + FP)\n",
    "    print(\"TPR : {}\".format(TPR))\n",
    "    FPR = FP / (FP + TN)\n",
    "    print(\"FPR : {}\".format(FPR))"
   ]
  },
  {
   "cell_type": "code",
   "execution_count": 46,
   "id": "85822228",
   "metadata": {},
   "outputs": [
    {
     "name": "stdout",
     "output_type": "stream",
     "text": [
      "Random Forest on Heart Failure\n",
      "TP 46\n",
      "FN 10\n",
      "FP 2\n",
      "TN 17\n",
      "Accuracy : 0.84\n",
      "Precision : 0.9583333333333334\n",
      "Recall : 0.8214285714285714 \n",
      "F1_score : 0.8846153846153847\n",
      "TPR : 0.9583333333333334\n",
      "FPR : 0.10526315789473684\n"
     ]
    }
   ],
   "source": [
    "fun(TP,FN,FP,TN)"
   ]
  },
  {
   "cell_type": "markdown",
   "id": "feddabea",
   "metadata": {},
   "source": [
    "# SVM ( RBF)"
   ]
  },
  {
   "cell_type": "code",
   "execution_count": 47,
   "id": "485b1e00",
   "metadata": {},
   "outputs": [],
   "source": [
    "from contextlib import contextmanager\n",
    "@contextmanager\n",
    "def timer():\n",
    "    \"\"\"Helper for measuring runtime\"\"\"\n",
    "\n",
    "    time0 =  time.perf_counter()\n",
    "    \n",
    "    yield\n",
    "    print('[elapsed time: %.18f s]' % (time.perf_counter() - time0))"
   ]
  },
  {
   "cell_type": "code",
   "execution_count": 48,
   "id": "d4d24ae6",
   "metadata": {},
   "outputs": [
    {
     "name": "stdout",
     "output_type": "stream",
     "text": [
      "training score : 0.6919642857142857\n",
      "testing score : 0.64\n",
      "              precision    recall  f1-score   support\n",
      "\n",
      "           0       0.64      1.00      0.78        48\n",
      "           1       0.00      0.00      0.00        27\n",
      "\n",
      "    accuracy                           0.64        75\n",
      "   macro avg       0.32      0.50      0.39        75\n",
      "weighted avg       0.41      0.64      0.50        75\n",
      "\n",
      "[[48  0]\n",
      " [27  0]]\n",
      "[elapsed time: 0.041195199999947363 s]\n"
     ]
    }
   ],
   "source": [
    "from sklearn.metrics import classification_report # make predictions on validation datasets\n",
    "import time\n",
    "with timer() as t:\n",
    "    SVM = SVC(C=1.0,\n",
    "    kernel='rbf',\n",
    "    degree=6,\n",
    "    gamma='scale',\n",
    "    coef0=0.0,\n",
    "    shrinking=True,\n",
    "    probability=False,\n",
    "    tol=0.001,\n",
    "    cache_size=300,\n",
    "    class_weight=None,\n",
    "    verbose=False,\n",
    "    max_iter=-1,\n",
    "    decision_function_shape='ovr',\n",
    "    break_ties=False,\n",
    "    random_state=None)\n",
    "    \n",
    "    SVM.fit(X_train, Y_train)\n",
    "    y_predSVM_rbf= SVM.predict(X_test)\n",
    "    print((\"training score : {}\").format(SVM.score(X_train, Y_train)))\n",
    "    print((\"testing score : {}\").format(accuracy_score(Y_test, y_predSVM_rbf)))\n",
    "    print(classification_report(Y_test, y_predSVM_rbf))\n",
    "    print(confusion_matrix(Y_test, y_predSVM_rbf))"
   ]
  },
  {
   "cell_type": "code",
   "execution_count": 49,
   "id": "b8e01c11",
   "metadata": {},
   "outputs": [
    {
     "name": "stdout",
     "output_type": "stream",
     "text": [
      "Confusion Matrix : \n",
      " [[48  0]\n",
      " [27  0]]\n",
      "Accuracy :  0.64\n",
      "specificity1 :  1.0\n",
      "Sensitivity :  0.0\n",
      "MCC :  0.0\n",
      "AUC :  0.5\n",
      "              precision    recall  f1-score   support\n",
      "\n",
      "           0       0.64      1.00      0.78        48\n",
      "           1       0.00      0.00      0.00        27\n",
      "\n",
      "    accuracy                           0.64        75\n",
      "   macro avg       0.32      0.50      0.39        75\n",
      "weighted avg       0.41      0.64      0.50        75\n",
      "\n"
     ]
    }
   ],
   "source": [
    "# SVM with RBF\n",
    "cm1 = confusion_matrix(Y_test,y_predSVM_rbf)\n",
    "print('Confusion Matrix : \\n', cm1)\n",
    "\n",
    "total1=sum(sum(cm1))\n",
    "\n",
    "accuracy1=(cm1[0,0]+cm1[1,1])/total1\n",
    "print ('Accuracy : ', accuracy1)\n",
    "\n",
    "specificity1 = cm1[0,0]/(cm1[0,0]+cm1[0,1])\n",
    "print('specificity1 : ', specificity1)\n",
    "\n",
    "sensitivity1 = cm1[1,1]/(cm1[1,0]+cm1[1,1])\n",
    "print('Sensitivity : ', sensitivity1)\n",
    "\n",
    "from sklearn.metrics import matthews_corrcoef\n",
    "\n",
    "print(\"MCC : \",matthews_corrcoef(Y_test,y_predSVM_rbf))\n",
    "\n",
    "from sklearn.metrics import roc_auc_score\n",
    "\n",
    "print(\"AUC : \",roc_auc_score(Y_test,y_predSVM_rbf))\n",
    "\n",
    "from sklearn.metrics import classification_report\n",
    "\n",
    "print(classification_report(Y_test, y_predSVM_rbf))"
   ]
  },
  {
   "cell_type": "code",
   "execution_count": 51,
   "id": "b408e401",
   "metadata": {},
   "outputs": [],
   "source": [
    "# SVM with RBF\n",
    "# Confusion Matrix : \n",
    "#  [[48  0]\n",
    "#  [27  0]]\n",
    "TP1 = 48\n",
    "FP1 = 0\n",
    "FN1 = 27\n",
    "TN1 = 0\n",
    "\n",
    "\n",
    "def fun1(TP,FN,FP,TN):\n",
    "    \n",
    "    print(\"SVM on Heart Failure ---------------------->\")\n",
    "    print(\"TP\",TP)\n",
    "    print(\"FN\",FN)\n",
    "    print(\"FP\",FP)\n",
    "    print(\"TN\", TN)\n",
    "    Accuracy = (TP + TN)/(TP + TN + FP + FN)\n",
    "    print(\"Accuracy : {}\".format(Accuracy))\n",
    "    Precision = TP / (TP + FP)\n",
    "    print(\"Precision : {}\".format(Precision))\n",
    "    Recall = TP / (TP + FN)\n",
    "    print(\"Recall : {} \".format(Recall))\n",
    "    F1_score = 2*(Precision*Recall)/(Precision + Recall)\n",
    "    print(\"F1_score : {}\".format(F1_score))\n",
    "    TPR = TP / (TP + FP)\n",
    "    print(\"TPR : {}\".format(TPR))\n",
    "    FPR = FP / (FP + TN)\n",
    "    print(\"FPR : {}\".format(FPR))"
   ]
  },
  {
   "cell_type": "code",
   "execution_count": 52,
   "id": "a2f2c47f",
   "metadata": {},
   "outputs": [
    {
     "name": "stdout",
     "output_type": "stream",
     "text": [
      "SVM on Heart Failure ---------------------->\n",
      "TP 48\n",
      "FN 27\n",
      "FP 0\n",
      "TN 0\n",
      "Accuracy : 0.64\n",
      "Precision : 1.0\n",
      "Recall : 0.64 \n",
      "F1_score : 0.7804878048780487\n",
      "TPR : 1.0\n"
     ]
    },
    {
     "ename": "ZeroDivisionError",
     "evalue": "division by zero",
     "output_type": "error",
     "traceback": [
      "\u001b[1;31m---------------------------------------------------------------------------\u001b[0m",
      "\u001b[1;31mZeroDivisionError\u001b[0m                         Traceback (most recent call last)",
      "Cell \u001b[1;32mIn [52], line 1\u001b[0m\n\u001b[1;32m----> 1\u001b[0m \u001b[43mfun1\u001b[49m\u001b[43m(\u001b[49m\u001b[43mTP1\u001b[49m\u001b[43m,\u001b[49m\u001b[43mFN1\u001b[49m\u001b[43m,\u001b[49m\u001b[43mFP1\u001b[49m\u001b[43m,\u001b[49m\u001b[43mTN1\u001b[49m\u001b[43m)\u001b[49m\n",
      "Cell \u001b[1;32mIn [51], line 28\u001b[0m, in \u001b[0;36mfun1\u001b[1;34m(TP, FN, FP, TN)\u001b[0m\n\u001b[0;32m     26\u001b[0m TPR \u001b[38;5;241m=\u001b[39m TP \u001b[38;5;241m/\u001b[39m (TP \u001b[38;5;241m+\u001b[39m FP)\n\u001b[0;32m     27\u001b[0m \u001b[38;5;28mprint\u001b[39m(\u001b[38;5;124m\"\u001b[39m\u001b[38;5;124mTPR : \u001b[39m\u001b[38;5;132;01m{}\u001b[39;00m\u001b[38;5;124m\"\u001b[39m\u001b[38;5;241m.\u001b[39mformat(TPR))\n\u001b[1;32m---> 28\u001b[0m FPR \u001b[38;5;241m=\u001b[39m \u001b[43mFP\u001b[49m\u001b[43m \u001b[49m\u001b[38;5;241;43m/\u001b[39;49m\u001b[43m \u001b[49m\u001b[43m(\u001b[49m\u001b[43mFP\u001b[49m\u001b[43m \u001b[49m\u001b[38;5;241;43m+\u001b[39;49m\u001b[43m \u001b[49m\u001b[43mTN\u001b[49m\u001b[43m)\u001b[49m\n\u001b[0;32m     29\u001b[0m \u001b[38;5;28mprint\u001b[39m(\u001b[38;5;124m\"\u001b[39m\u001b[38;5;124mFPR : \u001b[39m\u001b[38;5;132;01m{}\u001b[39;00m\u001b[38;5;124m\"\u001b[39m\u001b[38;5;241m.\u001b[39mformat(FPR))\n",
      "\u001b[1;31mZeroDivisionError\u001b[0m: division by zero"
     ]
    }
   ],
   "source": [
    "fun1(TP1,FN1,FP1,TN1)"
   ]
  },
  {
   "cell_type": "code",
   "execution_count": null,
   "id": "b9972208",
   "metadata": {},
   "outputs": [],
   "source": [
    "Observations : "
   ]
  },
  {
   "cell_type": "markdown",
   "id": "75fb6f9e",
   "metadata": {},
   "source": [
    "# SVM (LINEAR)"
   ]
  },
  {
   "cell_type": "markdown",
   "id": "36b86edb",
   "metadata": {},
   "source": [
    "#### 'kernel':['rbf' ,'linear', 'poly', 'sigmoid']"
   ]
  },
  {
   "cell_type": "code",
   "execution_count": 53,
   "id": "5515a127",
   "metadata": {},
   "outputs": [
    {
     "name": "stdout",
     "output_type": "stream",
     "text": [
      "training score : 0.8303571428571429\n",
      "testing score : 0.7733333333333333\n",
      "              precision    recall  f1-score   support\n",
      "\n",
      "           0       0.78      0.90      0.83        48\n",
      "           1       0.75      0.56      0.64        27\n",
      "\n",
      "    accuracy                           0.77        75\n",
      "   macro avg       0.77      0.73      0.74        75\n",
      "weighted avg       0.77      0.77      0.76        75\n",
      "\n",
      "[[43  5]\n",
      " [12 15]]\n",
      "[elapsed time: 22.938388099999883707 s]\n"
     ]
    }
   ],
   "source": [
    "from sklearn.metrics import classification_report # make predictions on validation datasets\n",
    "import time\n",
    "with timer() as t:\n",
    "    SVM = SVC(C=1.0,\n",
    "    kernel='linear',\n",
    "    degree=6,\n",
    "    gamma='scale',\n",
    "    coef0=0.0,\n",
    "    shrinking=True,\n",
    "    probability=False,\n",
    "    tol=0.001,\n",
    "    cache_size=300,\n",
    "    class_weight=None,\n",
    "    verbose=False,\n",
    "    max_iter=-1,\n",
    "    decision_function_shape='ovr',\n",
    "    break_ties=False,\n",
    "    random_state=None)\n",
    "    \n",
    "    SVM.fit(X_train, Y_train)\n",
    "    y_predSVM_linear= SVM.predict(X_test)\n",
    "    print((\"training score : {}\").format(SVM.score(X_train, Y_train)))\n",
    "    print((\"testing score : {}\").format(accuracy_score(Y_test, y_predSVM_linear)))\n",
    "    print(classification_report(Y_test, y_predSVM_linear))\n",
    "    print(confusion_matrix(Y_test, y_predSVM_linear))"
   ]
  },
  {
   "cell_type": "code",
   "execution_count": 54,
   "id": "abc04d63",
   "metadata": {},
   "outputs": [
    {
     "name": "stdout",
     "output_type": "stream",
     "text": [
      "Confusion Matrix : \n",
      " [[43  5]\n",
      " [12 15]]\n",
      "Accuracy :  0.7733333333333333\n",
      "specificity1 :  0.8958333333333334\n",
      "Sensitivity :  0.5555555555555556\n",
      "MCC :  0.48995593493886586\n",
      "AUC :  0.7256944444444445\n",
      "              precision    recall  f1-score   support\n",
      "\n",
      "           0       0.78      0.90      0.83        48\n",
      "           1       0.75      0.56      0.64        27\n",
      "\n",
      "    accuracy                           0.77        75\n",
      "   macro avg       0.77      0.73      0.74        75\n",
      "weighted avg       0.77      0.77      0.76        75\n",
      "\n"
     ]
    }
   ],
   "source": [
    "# SVM with RBF\n",
    "cm1 = confusion_matrix(Y_test,y_predSVM_linear)\n",
    "print('Confusion Matrix : \\n', cm1)\n",
    "\n",
    "total1=sum(sum(cm1))\n",
    "\n",
    "accuracy1=(cm1[0,0]+cm1[1,1])/total1\n",
    "print ('Accuracy : ', accuracy1)\n",
    "\n",
    "specificity1 = cm1[0,0]/(cm1[0,0]+cm1[0,1])\n",
    "print('specificity1 : ', specificity1)\n",
    "\n",
    "sensitivity1 = cm1[1,1]/(cm1[1,0]+cm1[1,1])\n",
    "print('Sensitivity : ', sensitivity1)\n",
    "\n",
    "from sklearn.metrics import matthews_corrcoef\n",
    "\n",
    "print(\"MCC : \",matthews_corrcoef(Y_test,y_predSVM_linear))\n",
    "\n",
    "from sklearn.metrics import roc_auc_score\n",
    "\n",
    "print(\"AUC : \",roc_auc_score(Y_test,y_predSVM_linear))\n",
    "\n",
    "from sklearn.metrics import classification_report\n",
    "\n",
    "print(classification_report(Y_test, y_predSVM_linear))"
   ]
  },
  {
   "cell_type": "code",
   "execution_count": 55,
   "id": "6fec4134",
   "metadata": {},
   "outputs": [],
   "source": [
    "#Confusion Matrix : \n",
    "#  [[43  5]\n",
    "#  [12 15]]\n",
    "TP2 = 43\n",
    "FP2 = 5\n",
    "FN2 = 12\n",
    "TN2 = 15\n",
    "\n",
    "\n",
    "def fun1(TP,FN,FP,TN):\n",
    "    \n",
    "    print(\"SVM on BCWD ---------------------->\")\n",
    "    print(\"TP\",TP)\n",
    "    print(\"FN\",FN)\n",
    "    print(\"FP\",FP)\n",
    "    print(\"TN\", TN)\n",
    "    Accuracy = (TP + TN)/(TP + TN + FP + FN)\n",
    "    print(\"Accuracy : {}\".format(Accuracy))\n",
    "    Precision = TP / (TP + FP)\n",
    "    print(\"Precision : {}\".format(Precision))\n",
    "    Recall = TP / (TP + FN)\n",
    "    print(\"Recall : {} \".format(Recall))\n",
    "    F1_score = 2*(Precision*Recall)/(Precision + Recall)\n",
    "    print(\"F1_score : {}\".format(F1_score))\n",
    "    TPR = TP / (TP + FP)\n",
    "    print(\"TPR : {}\".format(TPR))\n",
    "    FPR = FP / (FP + TN)\n",
    "    print(\"FPR : {}\".format(FPR))"
   ]
  },
  {
   "cell_type": "code",
   "execution_count": 56,
   "id": "5bfe3f6d",
   "metadata": {},
   "outputs": [
    {
     "name": "stdout",
     "output_type": "stream",
     "text": [
      "SVM on BCWD ---------------------->\n",
      "TP 43\n",
      "FN 5\n",
      "FP 12\n",
      "TN 15\n",
      "Accuracy : 0.7733333333333333\n",
      "Precision : 0.7818181818181819\n",
      "Recall : 0.8958333333333334 \n",
      "F1_score : 0.8349514563106797\n",
      "TPR : 0.7818181818181819\n",
      "FPR : 0.4444444444444444\n"
     ]
    }
   ],
   "source": [
    "fun1(TP2,FP2,FN2,TN2)"
   ]
  },
  {
   "cell_type": "code",
   "execution_count": null,
   "id": "4327ab4d",
   "metadata": {},
   "outputs": [],
   "source": []
  },
  {
   "cell_type": "markdown",
   "id": "2ce0c874",
   "metadata": {},
   "source": [
    "# SVM ('sigmoid')"
   ]
  },
  {
   "cell_type": "code",
   "execution_count": 57,
   "id": "8cb6946b",
   "metadata": {},
   "outputs": [
    {
     "name": "stdout",
     "output_type": "stream",
     "text": [
      "training score : 0.6919642857142857\n",
      "testing score : 0.64\n",
      "              precision    recall  f1-score   support\n",
      "\n",
      "           0       0.64      1.00      0.78        48\n",
      "           1       0.00      0.00      0.00        27\n",
      "\n",
      "    accuracy                           0.64        75\n",
      "   macro avg       0.32      0.50      0.39        75\n",
      "weighted avg       0.41      0.64      0.50        75\n",
      "\n",
      "[[48  0]\n",
      " [27  0]]\n",
      "[elapsed time: 0.037832799999932831 s]\n"
     ]
    }
   ],
   "source": [
    "from sklearn.metrics import classification_report # make predictions on validation datasets\n",
    "import time\n",
    "with timer() as t:\n",
    "    SVM = SVC(C=1.0,\n",
    "    kernel='sigmoid',\n",
    "    degree=6,\n",
    "    gamma='scale',\n",
    "    coef0=0.0,\n",
    "    shrinking=True,\n",
    "    probability=False,\n",
    "    tol=0.001,\n",
    "    cache_size=300,\n",
    "    class_weight=None,\n",
    "    verbose=False,\n",
    "    max_iter=-1,\n",
    "    decision_function_shape='ovr',\n",
    "    break_ties=False,\n",
    "    random_state=None)\n",
    "    \n",
    "    SVM.fit(X_train, Y_train)\n",
    "    y_predSVM_sigmoid= SVM.predict(X_test)\n",
    "    print((\"training score : {}\").format(SVM.score(X_train, Y_train)))\n",
    "    print((\"testing score : {}\").format(accuracy_score(Y_test, y_predSVM_sigmoid)))\n",
    "    print(classification_report(Y_test, y_predSVM_sigmoid))\n",
    "    print(confusion_matrix(Y_test, y_predSVM_sigmoid))"
   ]
  },
  {
   "cell_type": "code",
   "execution_count": 58,
   "id": "efc328f7",
   "metadata": {},
   "outputs": [
    {
     "name": "stdout",
     "output_type": "stream",
     "text": [
      "Confusion Matrix : \n",
      " [[48  0]\n",
      " [27  0]]\n",
      "Accuracy :  0.64\n",
      "specificity1 :  1.0\n",
      "Sensitivity :  0.0\n",
      "MCC :  0.0\n",
      "AUC :  0.5\n",
      "              precision    recall  f1-score   support\n",
      "\n",
      "           0       0.64      1.00      0.78        48\n",
      "           1       0.00      0.00      0.00        27\n",
      "\n",
      "    accuracy                           0.64        75\n",
      "   macro avg       0.32      0.50      0.39        75\n",
      "weighted avg       0.41      0.64      0.50        75\n",
      "\n"
     ]
    }
   ],
   "source": [
    "# SVM with RBF\n",
    "cm1 = confusion_matrix(Y_test,y_predSVM_sigmoid)\n",
    "print('Confusion Matrix : \\n', cm1)\n",
    "\n",
    "total1=sum(sum(cm1))\n",
    "\n",
    "accuracy1=(cm1[0,0]+cm1[1,1])/total1\n",
    "print ('Accuracy : ', accuracy1)\n",
    "\n",
    "specificity1 = cm1[0,0]/(cm1[0,0]+cm1[0,1])\n",
    "print('specificity1 : ', specificity1)\n",
    "\n",
    "sensitivity1 = cm1[1,1]/(cm1[1,0]+cm1[1,1])\n",
    "print('Sensitivity : ', sensitivity1)\n",
    "\n",
    "from sklearn.metrics import matthews_corrcoef\n",
    "\n",
    "print(\"MCC : \",matthews_corrcoef(Y_test,y_predSVM_sigmoid))\n",
    "\n",
    "from sklearn.metrics import roc_auc_score\n",
    "\n",
    "print(\"AUC : \",roc_auc_score(Y_test,y_predSVM_sigmoid))\n",
    "\n",
    "from sklearn.metrics import classification_report\n",
    "\n",
    "print(classification_report(Y_test, y_predSVM_sigmoid))"
   ]
  },
  {
   "cell_type": "code",
   "execution_count": 59,
   "id": "f1ef4f18",
   "metadata": {},
   "outputs": [],
   "source": [
    "# observations : here sigmoid kernel performed very bad "
   ]
  },
  {
   "cell_type": "markdown",
   "id": "47ed0fb3",
   "metadata": {},
   "source": [
    "# SVM (poly)"
   ]
  },
  {
   "cell_type": "code",
   "execution_count": 60,
   "id": "f36cd795",
   "metadata": {},
   "outputs": [
    {
     "name": "stdout",
     "output_type": "stream",
     "text": [
      "training score : 0.6919642857142857\n",
      "testing score : 0.64\n",
      "              precision    recall  f1-score   support\n",
      "\n",
      "           0       0.64      1.00      0.78        48\n",
      "           1       0.00      0.00      0.00        27\n",
      "\n",
      "    accuracy                           0.64        75\n",
      "   macro avg       0.32      0.50      0.39        75\n",
      "weighted avg       0.41      0.64      0.50        75\n",
      "\n",
      "[[48  0]\n",
      " [27  0]]\n",
      "[elapsed time: 0.186212100000147984 s]\n"
     ]
    }
   ],
   "source": [
    "from sklearn.metrics import classification_report # make predictions on validation datasets\n",
    "import time\n",
    "with timer() as t:\n",
    "    SVM = SVC(C=1.0,\n",
    "    kernel='poly',\n",
    "    degree=6,\n",
    "    gamma='scale',\n",
    "    coef0=0.0,\n",
    "    shrinking=True,\n",
    "    probability=False,\n",
    "    tol=0.001,\n",
    "    cache_size=300,\n",
    "    class_weight=None,\n",
    "    verbose=False,\n",
    "    max_iter=-1,\n",
    "    decision_function_shape='ovr',\n",
    "    break_ties=False,\n",
    "    random_state=None)\n",
    "    \n",
    "    SVM.fit(X_train, Y_train)\n",
    "    y_predSVM_poly= SVM.predict(X_test)\n",
    "    print((\"training score : {}\").format(SVM.score(X_train, Y_train)))\n",
    "    print((\"testing score : {}\").format(accuracy_score(Y_test, y_predSVM_poly)))\n",
    "    print(classification_report(Y_test, y_predSVM_poly))\n",
    "    print(confusion_matrix(Y_test, y_predSVM_poly))"
   ]
  },
  {
   "cell_type": "code",
   "execution_count": 61,
   "id": "7b617bd8",
   "metadata": {},
   "outputs": [
    {
     "name": "stdout",
     "output_type": "stream",
     "text": [
      "Confusion Matrix : \n",
      " [[48  0]\n",
      " [27  0]]\n",
      "Accuracy :  0.64\n",
      "specificity1 :  1.0\n",
      "Sensitivity :  0.0\n",
      "MCC :  0.0\n",
      "AUC :  0.5\n",
      "              precision    recall  f1-score   support\n",
      "\n",
      "           0       0.64      1.00      0.78        48\n",
      "           1       0.00      0.00      0.00        27\n",
      "\n",
      "    accuracy                           0.64        75\n",
      "   macro avg       0.32      0.50      0.39        75\n",
      "weighted avg       0.41      0.64      0.50        75\n",
      "\n"
     ]
    }
   ],
   "source": [
    "# SVM with RBF\n",
    "cm1 = confusion_matrix(Y_test,y_predSVM_poly)\n",
    "print('Confusion Matrix : \\n', cm1)\n",
    "\n",
    "total1=sum(sum(cm1))\n",
    "\n",
    "accuracy1=(cm1[0,0]+cm1[1,1])/total1\n",
    "print ('Accuracy : ', accuracy1)\n",
    "\n",
    "specificity1 = cm1[0,0]/(cm1[0,0]+cm1[0,1])\n",
    "print('specificity1 : ', specificity1)\n",
    "\n",
    "sensitivity1 = cm1[1,1]/(cm1[1,0]+cm1[1,1])\n",
    "print('Sensitivity : ', sensitivity1)\n",
    "\n",
    "from sklearn.metrics import matthews_corrcoef\n",
    "\n",
    "print(\"MCC : \",matthews_corrcoef(Y_test,y_predSVM_poly))\n",
    "\n",
    "from sklearn.metrics import roc_auc_score\n",
    "\n",
    "print(\"AUC : \",roc_auc_score(Y_test,y_predSVM_poly))\n",
    "\n",
    "from sklearn.metrics import classification_report\n",
    "\n",
    "print(classification_report(Y_test, y_predSVM_poly))"
   ]
  },
  {
   "cell_type": "code",
   "execution_count": 101,
   "id": "5b097eeb",
   "metadata": {},
   "outputs": [],
   "source": [
    "# Confusion Matrix : \n",
    "#  [[122   8]\n",
    "#  [ 38  24]]\n",
    "TP3 = 122\n",
    "FP3 = 8\n",
    "FN3 = 38\n",
    "TN3 = 24\n",
    "\n",
    "\n",
    "def fun1(TP,FN,FP,TN):\n",
    "    \n",
    "    print(\"SVM on PIDDD ---------------------->\")\n",
    "    print(\"TP\",TP)\n",
    "    print(\"FN\",FN)\n",
    "    print(\"FP\",FP)\n",
    "    print(\"TN\", TN)\n",
    "    Accuracy = (TP + TN)/(TP + TN + FP + FN)\n",
    "    print(\"Accuracy : {}\".format(Accuracy))\n",
    "    Precision = TP / (TP + FP)\n",
    "    print(\"Precision : {}\".format(Precision))\n",
    "    Recall = TP / (TP + FN)\n",
    "    print(\"Recall : {} \".format(Recall))\n",
    "    F1_score = 2*(Precision*Recall)/(Precision + Recall)\n",
    "    print(\"F1_score : {}\".format(F1_score))\n",
    "    TPR = TP / (TP + FP)\n",
    "    print(\"TPR : {}\".format(TPR))\n",
    "    FPR = FP / (FP + TN)\n",
    "    print(\"FPR : {}\".format(FPR))"
   ]
  },
  {
   "cell_type": "code",
   "execution_count": 102,
   "id": "c44eeb12",
   "metadata": {},
   "outputs": [
    {
     "name": "stdout",
     "output_type": "stream",
     "text": [
      "SVM on PIDDD ---------------------->\n",
      "TP 122\n",
      "FN 38\n",
      "FP 8\n",
      "TN 24\n",
      "Accuracy : 0.7604166666666666\n",
      "Precision : 0.9384615384615385\n",
      "Recall : 0.7625 \n",
      "F1_score : 0.8413793103448275\n",
      "TPR : 0.9384615384615385\n",
      "FPR : 0.25\n"
     ]
    }
   ],
   "source": [
    "fun1(TP3,FN3,FP3,TN3)"
   ]
  },
  {
   "cell_type": "markdown",
   "id": "6a98d5b6",
   "metadata": {},
   "source": [
    "# SVM ('precomputed')"
   ]
  },
  {
   "cell_type": "code",
   "execution_count": 62,
   "id": "4fe12e92",
   "metadata": {},
   "outputs": [
    {
     "name": "stdout",
     "output_type": "stream",
     "text": [
      "testing score : 0.7733333333333333\n",
      "              precision    recall  f1-score   support\n",
      "\n",
      "           0       0.78      0.90      0.83        48\n",
      "           1       0.75      0.56      0.64        27\n",
      "\n",
      "    accuracy                           0.77        75\n",
      "   macro avg       0.77      0.73      0.74        75\n",
      "weighted avg       0.77      0.77      0.76        75\n",
      "\n",
      "[[43  5]\n",
      " [12 15]]\n",
      "[elapsed time: 26.408041300000149931 s]\n"
     ]
    }
   ],
   "source": [
    "from sklearn.metrics import classification_report # make predictions on validation datasets\n",
    "import time\n",
    "with timer() as t:\n",
    "    SVM = SVC(C=1.0,\n",
    "    kernel='precomputed',\n",
    "    degree=6,\n",
    "    gamma='scale',\n",
    "    coef0=0.0,\n",
    "    shrinking=True,\n",
    "    probability=False,\n",
    "    tol=0.001,\n",
    "    cache_size=300,\n",
    "    class_weight=None,\n",
    "    verbose=False,\n",
    "    max_iter=-1,\n",
    "    decision_function_shape='ovr',\n",
    "    break_ties=False,\n",
    "    random_state=None)\n",
    "    \n",
    "    gram_train = np.dot(X_train, X_train.T)\n",
    "    SVM.fit(gram_train, Y_train)\n",
    "    gram_test = np.dot(X_test, X_train.T)\n",
    "    y_predSVM_precomputed= SVM.predict(gram_test)\n",
    "#     gram_score = np.dot(X_train, Y_train)\n",
    "#     print((\"training score : {}\").format(SVM.score(gram_score)))\n",
    "    print((\"testing score : {}\").format(accuracy_score(Y_test, y_predSVM_precomputed)))\n",
    "    print(classification_report(Y_test, y_predSVM_precomputed))\n",
    "    print(confusion_matrix(Y_test, y_predSVM_precomputed))"
   ]
  },
  {
   "cell_type": "code",
   "execution_count": 63,
   "id": "5b1768cc",
   "metadata": {},
   "outputs": [
    {
     "name": "stdout",
     "output_type": "stream",
     "text": [
      "Confusion Matrix : \n",
      " [[43  5]\n",
      " [12 15]]\n",
      "Accuracy :  0.7733333333333333\n",
      "specificity1 :  0.8958333333333334\n",
      "Sensitivity :  0.5555555555555556\n",
      "MCC :  0.48995593493886586\n",
      "AUC :  0.7256944444444445\n",
      "              precision    recall  f1-score   support\n",
      "\n",
      "           0       0.78      0.90      0.83        48\n",
      "           1       0.75      0.56      0.64        27\n",
      "\n",
      "    accuracy                           0.77        75\n",
      "   macro avg       0.77      0.73      0.74        75\n",
      "weighted avg       0.77      0.77      0.76        75\n",
      "\n"
     ]
    }
   ],
   "source": [
    "# SVM with precomputed\n",
    "cm1 = confusion_matrix(Y_test,y_predSVM_precomputed)\n",
    "print('Confusion Matrix : \\n', cm1)\n",
    "\n",
    "total1=sum(sum(cm1))\n",
    "\n",
    "accuracy1=(cm1[0,0]+cm1[1,1])/total1\n",
    "print ('Accuracy : ', accuracy1)\n",
    "\n",
    "specificity1 = cm1[0,0]/(cm1[0,0]+cm1[0,1])\n",
    "print('specificity1 : ', specificity1)\n",
    "\n",
    "sensitivity1 = cm1[1,1]/(cm1[1,0]+cm1[1,1])\n",
    "print('Sensitivity : ', sensitivity1)\n",
    "\n",
    "from sklearn.metrics import matthews_corrcoef\n",
    "\n",
    "print(\"MCC : \",matthews_corrcoef(Y_test,y_predSVM_precomputed))\n",
    "\n",
    "from sklearn.metrics import roc_auc_score\n",
    "\n",
    "print(\"AUC : \",roc_auc_score(Y_test,y_predSVM_precomputed))\n",
    "\n",
    "from sklearn.metrics import classification_report\n",
    "\n",
    "print(classification_report(Y_test, y_predSVM_precomputed))"
   ]
  },
  {
   "cell_type": "code",
   "execution_count": 64,
   "id": "a2d8b902",
   "metadata": {},
   "outputs": [
    {
     "name": "stdout",
     "output_type": "stream",
     "text": [
      "SVM on PIDDD ---------------------->\n",
      "TP 43\n",
      "FN 12\n",
      "FP 5\n",
      "TN 15\n",
      "Accuracy : 0.7733333333333333\n",
      "Precision : 0.8958333333333334\n",
      "Recall : 0.7818181818181819 \n",
      "F1_score : 0.8349514563106797\n",
      "TPR : 0.8958333333333334\n",
      "FPR : 0.25\n"
     ]
    }
   ],
   "source": [
    "# Confusion Matrix : \n",
    "#  [[43  5]\n",
    "#  [12 15]]\n",
    "TP4 = 43\n",
    "FP4 = 5\n",
    "FN4 = 12\n",
    "TN4 = 15\n",
    "\n",
    "\n",
    "def fun1(TP,FN,FP,TN):\n",
    "    \n",
    "    print(\"SVM on PIDDD ---------------------->\")\n",
    "    print(\"TP\",TP)\n",
    "    print(\"FN\",FN)\n",
    "    print(\"FP\",FP)\n",
    "    print(\"TN\", TN)\n",
    "    Accuracy = (TP + TN)/(TP + TN + FP + FN)\n",
    "    print(\"Accuracy : {}\".format(Accuracy))\n",
    "    Precision = TP / (TP + FP)\n",
    "    print(\"Precision : {}\".format(Precision))\n",
    "    Recall = TP / (TP + FN)\n",
    "    print(\"Recall : {} \".format(Recall))\n",
    "    F1_score = 2*(Precision*Recall)/(Precision + Recall)\n",
    "    print(\"F1_score : {}\".format(F1_score))\n",
    "    TPR = TP / (TP + FP)\n",
    "    print(\"TPR : {}\".format(TPR))\n",
    "    FPR = FP / (FP + TN)\n",
    "    print(\"FPR : {}\".format(FPR))\n",
    "    \n",
    "fun1(TP4,FN4,FP4,TN4)"
   ]
  },
  {
   "cell_type": "markdown",
   "id": "6c5ce693",
   "metadata": {},
   "source": [
    "# Logistic Regression ( LR )"
   ]
  },
  {
   "cell_type": "code",
   "execution_count": 65,
   "id": "977bfbfd",
   "metadata": {},
   "outputs": [
    {
     "data": {
      "text/html": [
       "<style>#sk-container-id-1 {color: black;background-color: white;}#sk-container-id-1 pre{padding: 0;}#sk-container-id-1 div.sk-toggleable {background-color: white;}#sk-container-id-1 label.sk-toggleable__label {cursor: pointer;display: block;width: 100%;margin-bottom: 0;padding: 0.3em;box-sizing: border-box;text-align: center;}#sk-container-id-1 label.sk-toggleable__label-arrow:before {content: \"▸\";float: left;margin-right: 0.25em;color: #696969;}#sk-container-id-1 label.sk-toggleable__label-arrow:hover:before {color: black;}#sk-container-id-1 div.sk-estimator:hover label.sk-toggleable__label-arrow:before {color: black;}#sk-container-id-1 div.sk-toggleable__content {max-height: 0;max-width: 0;overflow: hidden;text-align: left;background-color: #f0f8ff;}#sk-container-id-1 div.sk-toggleable__content pre {margin: 0.2em;color: black;border-radius: 0.25em;background-color: #f0f8ff;}#sk-container-id-1 input.sk-toggleable__control:checked~div.sk-toggleable__content {max-height: 200px;max-width: 100%;overflow: auto;}#sk-container-id-1 input.sk-toggleable__control:checked~label.sk-toggleable__label-arrow:before {content: \"▾\";}#sk-container-id-1 div.sk-estimator input.sk-toggleable__control:checked~label.sk-toggleable__label {background-color: #d4ebff;}#sk-container-id-1 div.sk-label input.sk-toggleable__control:checked~label.sk-toggleable__label {background-color: #d4ebff;}#sk-container-id-1 input.sk-hidden--visually {border: 0;clip: rect(1px 1px 1px 1px);clip: rect(1px, 1px, 1px, 1px);height: 1px;margin: -1px;overflow: hidden;padding: 0;position: absolute;width: 1px;}#sk-container-id-1 div.sk-estimator {font-family: monospace;background-color: #f0f8ff;border: 1px dotted black;border-radius: 0.25em;box-sizing: border-box;margin-bottom: 0.5em;}#sk-container-id-1 div.sk-estimator:hover {background-color: #d4ebff;}#sk-container-id-1 div.sk-parallel-item::after {content: \"\";width: 100%;border-bottom: 1px solid gray;flex-grow: 1;}#sk-container-id-1 div.sk-label:hover label.sk-toggleable__label {background-color: #d4ebff;}#sk-container-id-1 div.sk-serial::before {content: \"\";position: absolute;border-left: 1px solid gray;box-sizing: border-box;top: 0;bottom: 0;left: 50%;z-index: 0;}#sk-container-id-1 div.sk-serial {display: flex;flex-direction: column;align-items: center;background-color: white;padding-right: 0.2em;padding-left: 0.2em;position: relative;}#sk-container-id-1 div.sk-item {position: relative;z-index: 1;}#sk-container-id-1 div.sk-parallel {display: flex;align-items: stretch;justify-content: center;background-color: white;position: relative;}#sk-container-id-1 div.sk-item::before, #sk-container-id-1 div.sk-parallel-item::before {content: \"\";position: absolute;border-left: 1px solid gray;box-sizing: border-box;top: 0;bottom: 0;left: 50%;z-index: -1;}#sk-container-id-1 div.sk-parallel-item {display: flex;flex-direction: column;z-index: 1;position: relative;background-color: white;}#sk-container-id-1 div.sk-parallel-item:first-child::after {align-self: flex-end;width: 50%;}#sk-container-id-1 div.sk-parallel-item:last-child::after {align-self: flex-start;width: 50%;}#sk-container-id-1 div.sk-parallel-item:only-child::after {width: 0;}#sk-container-id-1 div.sk-dashed-wrapped {border: 1px dashed gray;margin: 0 0.4em 0.5em 0.4em;box-sizing: border-box;padding-bottom: 0.4em;background-color: white;}#sk-container-id-1 div.sk-label label {font-family: monospace;font-weight: bold;display: inline-block;line-height: 1.2em;}#sk-container-id-1 div.sk-label-container {text-align: center;}#sk-container-id-1 div.sk-container {/* jupyter's `normalize.less` sets `[hidden] { display: none; }` but bootstrap.min.css set `[hidden] { display: none !important; }` so we also need the `!important` here to be able to override the default hidden behavior on the sphinx rendered scikit-learn.org. See: https://github.com/scikit-learn/scikit-learn/issues/21755 */display: inline-block !important;position: relative;}#sk-container-id-1 div.sk-text-repr-fallback {display: none;}</style><div id=\"sk-container-id-1\" class=\"sk-top-container\"><div class=\"sk-text-repr-fallback\"><pre>LogisticRegression(random_state=0)</pre><b>In a Jupyter environment, please rerun this cell to show the HTML representation or trust the notebook. <br />On GitHub, the HTML representation is unable to render, please try loading this page with nbviewer.org.</b></div><div class=\"sk-container\" hidden><div class=\"sk-item\"><div class=\"sk-estimator sk-toggleable\"><input class=\"sk-toggleable__control sk-hidden--visually\" id=\"sk-estimator-id-1\" type=\"checkbox\" checked><label for=\"sk-estimator-id-1\" class=\"sk-toggleable__label sk-toggleable__label-arrow\">LogisticRegression</label><div class=\"sk-toggleable__content\"><pre>LogisticRegression(random_state=0)</pre></div></div></div></div></div>"
      ],
      "text/plain": [
       "LogisticRegression(random_state=0)"
      ]
     },
     "execution_count": 65,
     "metadata": {},
     "output_type": "execute_result"
    }
   ],
   "source": [
    "#Logistic Regression\n",
    "from sklearn.linear_model import LogisticRegression\n",
    "log = LogisticRegression(random_state=0)\n",
    "log.fit(X_train,Y_train)"
   ]
  },
  {
   "cell_type": "code",
   "execution_count": 66,
   "id": "c788d452",
   "metadata": {},
   "outputs": [
    {
     "name": "stdout",
     "output_type": "stream",
     "text": [
      "[elapsed time: 0.024585600000136765 s]\n"
     ]
    }
   ],
   "source": [
    "with timer() as t:\n",
    "    from sklearn.linear_model import LogisticRegression\n",
    "    log = LogisticRegression(random_state=0)\n",
    "    log.fit(X_train,Y_train)\n",
    "    "
   ]
  },
  {
   "cell_type": "code",
   "execution_count": 67,
   "id": "ea27ca56",
   "metadata": {},
   "outputs": [
    {
     "data": {
      "text/plain": [
       "0.8526785714285714"
      ]
     },
     "execution_count": 67,
     "metadata": {},
     "output_type": "execute_result"
    }
   ],
   "source": [
    "log.score(X_train,Y_train)"
   ]
  },
  {
   "cell_type": "code",
   "execution_count": 68,
   "id": "9b706da9",
   "metadata": {},
   "outputs": [
    {
     "name": "stdout",
     "output_type": "stream",
     "text": [
      "Confusion Matrix : \n",
      " [[44  4]\n",
      " [15 12]]\n",
      "Accuracy :  0.7466666666666667\n",
      "specificity1 :  0.9166666666666666\n",
      "Sensitivity :  0.4444444444444444\n",
      "MCC :  0.4231139606876776\n",
      "AUC :  0.6805555555555555\n",
      "              precision    recall  f1-score   support\n",
      "\n",
      "           0       0.75      0.92      0.82        48\n",
      "           1       0.75      0.44      0.56        27\n",
      "\n",
      "    accuracy                           0.75        75\n",
      "   macro avg       0.75      0.68      0.69        75\n",
      "weighted avg       0.75      0.75      0.73        75\n",
      "\n"
     ]
    }
   ],
   "source": [
    "pred_logReg = log.predict(X_test)\n",
    "\n",
    "from sklearn.metrics import confusion_matrix\n",
    "\n",
    "cm1 = confusion_matrix(Y_test,pred_logReg)\n",
    "print('Confusion Matrix : \\n', cm1)\n",
    "\n",
    "total1=sum(sum(cm1))\n",
    "\n",
    "accuracy1=(cm1[0,0]+cm1[1,1])/total1\n",
    "print ('Accuracy : ', accuracy1)\n",
    "\n",
    "specificity1 = cm1[0,0]/(cm1[0,0]+cm1[0,1])\n",
    "print('specificity1 : ', specificity1)\n",
    "\n",
    "sensitivity1 = cm1[1,1]/(cm1[1,0]+cm1[1,1])\n",
    "print('Sensitivity : ', sensitivity1)\n",
    "\n",
    "from sklearn.metrics import matthews_corrcoef\n",
    "\n",
    "print(\"MCC : \",matthews_corrcoef(Y_test,pred_logReg))\n",
    "\n",
    "from sklearn.metrics import roc_auc_score\n",
    "\n",
    "print(\"AUC : \",roc_auc_score(Y_test,pred_logReg))\n",
    "\n",
    "from sklearn.metrics import classification_report\n",
    "\n",
    "print(classification_report(Y_test, pred_logReg))"
   ]
  },
  {
   "cell_type": "code",
   "execution_count": 119,
   "id": "48d60179",
   "metadata": {},
   "outputs": [
    {
     "name": "stdout",
     "output_type": "stream",
     "text": [
      "SVM on PIDDD ---------------------->\n",
      "TP 115\n",
      "FN 25\n",
      "FP 15\n",
      "TN 37\n",
      "Accuracy : 0.7916666666666666\n",
      "Precision : 0.8846153846153846\n",
      "Recall : 0.8214285714285714 \n",
      "F1_score : 0.8518518518518519\n",
      "TPR : 0.8846153846153846\n",
      "FPR : 0.28846153846153844\n"
     ]
    }
   ],
   "source": [
    "# Confusion Matrix : \n",
    "#  [[115  15]\n",
    "#  [ 25  37]]\n",
    "TP5 = 115\n",
    "FP5 = 15\n",
    "FN5 = 25\n",
    "TN5 = 37\n",
    "\n",
    "\n",
    "def fun1(TP,FN,FP,TN):\n",
    "    \n",
    "    print(\"SVM on PIDDD ---------------------->\")\n",
    "    print(\"TP\",TP)\n",
    "    print(\"FN\",FN)\n",
    "    print(\"FP\",FP)\n",
    "    print(\"TN\", TN)\n",
    "    Accuracy = (TP + TN)/(TP + TN + FP + FN)\n",
    "    print(\"Accuracy : {}\".format(Accuracy))\n",
    "    Precision = TP / (TP + FP)\n",
    "    print(\"Precision : {}\".format(Precision))\n",
    "    Recall = TP / (TP + FN)\n",
    "    print(\"Recall : {} \".format(Recall))\n",
    "    F1_score = 2*(Precision*Recall)/(Precision + Recall)\n",
    "    print(\"F1_score : {}\".format(F1_score))\n",
    "    TPR = TP / (TP + FP)\n",
    "    print(\"TPR : {}\".format(TPR))\n",
    "    FPR = FP / (FP + TN)\n",
    "    print(\"FPR : {}\".format(FPR))\n",
    "    \n",
    "fun1(TP5,FN5,FP5,TN5)"
   ]
  },
  {
   "cell_type": "markdown",
   "id": "5c0209e8",
   "metadata": {},
   "source": [
    "### Hyper parameter tuning on  LR"
   ]
  },
  {
   "cell_type": "code",
   "execution_count": 69,
   "id": "e5f7b898",
   "metadata": {},
   "outputs": [],
   "source": [
    "from sklearn.model_selection import LeaveOneOut\n",
    "from sklearn.model_selection import KFold\n",
    "from sklearn.model_selection import cross_val_score\n",
    "from sklearn.model_selection import GridSearchCV\n",
    "# sklearn.cross_validation.KFold(n=4, n_folds=2, shuffle=False,\n",
    "#                                random_state=None)\n",
    "from sklearn.model_selection import StratifiedKFold\n",
    "#skfold=StratifiedKFold(n_splits=5)\n"
   ]
  },
  {
   "cell_type": "code",
   "execution_count": 70,
   "id": "aa00bdbc",
   "metadata": {},
   "outputs": [
    {
     "data": {
      "text/plain": [
       "array([0.        , 0.02040816, 0.04081633, 0.06122449, 0.08163265,\n",
       "       0.10204082, 0.12244898, 0.14285714, 0.16326531, 0.18367347,\n",
       "       0.20408163, 0.2244898 , 0.24489796, 0.26530612, 0.28571429,\n",
       "       0.30612245, 0.32653061, 0.34693878, 0.36734694, 0.3877551 ,\n",
       "       0.40816327, 0.42857143, 0.44897959, 0.46938776, 0.48979592,\n",
       "       0.51020408, 0.53061224, 0.55102041, 0.57142857, 0.59183673,\n",
       "       0.6122449 , 0.63265306, 0.65306122, 0.67346939, 0.69387755,\n",
       "       0.71428571, 0.73469388, 0.75510204, 0.7755102 , 0.79591837,\n",
       "       0.81632653, 0.83673469, 0.85714286, 0.87755102, 0.89795918,\n",
       "       0.91836735, 0.93877551, 0.95918367, 0.97959184, 1.        ])"
      ]
     },
     "execution_count": 70,
     "metadata": {},
     "output_type": "execute_result"
    }
   ],
   "source": [
    "import numpy as np\n",
    "#range(0,1)\n",
    "np.linspace(0,1)"
   ]
  },
  {
   "cell_type": "code",
   "execution_count": 71,
   "id": "91c60e9a",
   "metadata": {},
   "outputs": [],
   "source": [
    "logModel = LogisticRegression()\n",
    "param_grid = [    \n",
    "    {'penalty' : ['l1', 'l2', 'elasticnet', 'none'],\n",
    "    'C' : np.logspace(1, 2, 20),\n",
    "    'solver' : ['lbfgs','newton-cg','liblinear','sag','saga'],\n",
    "    'max_iter' : [100, 1000,2500, 5000],\n",
    "     'dual' : [True,False],\n",
    "     'multi_class' : ['auto', 'ovr', 'multinomial'],\n",
    "    \n",
    "    }\n",
    "]"
   ]
  },
  {
   "cell_type": "code",
   "execution_count": 72,
   "id": "88889720",
   "metadata": {},
   "outputs": [],
   "source": [
    "clf = GridSearchCV(logModel, param_grid = param_grid, cv = 4, verbose=True, n_jobs=-1)"
   ]
  },
  {
   "cell_type": "code",
   "execution_count": 73,
   "id": "3a539bdd",
   "metadata": {},
   "outputs": [
    {
     "name": "stdout",
     "output_type": "stream",
     "text": [
      "Fitting 4 folds for each of 9600 candidates, totalling 38400 fits\n"
     ]
    }
   ],
   "source": [
    "best_clf = clf.fit(X_train,Y_train)"
   ]
  },
  {
   "cell_type": "code",
   "execution_count": 171,
   "id": "9c93a866",
   "metadata": {},
   "outputs": [
    {
     "data": {
      "text/html": [
       "<style>#sk-container-id-6 {color: black;background-color: white;}#sk-container-id-6 pre{padding: 0;}#sk-container-id-6 div.sk-toggleable {background-color: white;}#sk-container-id-6 label.sk-toggleable__label {cursor: pointer;display: block;width: 100%;margin-bottom: 0;padding: 0.3em;box-sizing: border-box;text-align: center;}#sk-container-id-6 label.sk-toggleable__label-arrow:before {content: \"▸\";float: left;margin-right: 0.25em;color: #696969;}#sk-container-id-6 label.sk-toggleable__label-arrow:hover:before {color: black;}#sk-container-id-6 div.sk-estimator:hover label.sk-toggleable__label-arrow:before {color: black;}#sk-container-id-6 div.sk-toggleable__content {max-height: 0;max-width: 0;overflow: hidden;text-align: left;background-color: #f0f8ff;}#sk-container-id-6 div.sk-toggleable__content pre {margin: 0.2em;color: black;border-radius: 0.25em;background-color: #f0f8ff;}#sk-container-id-6 input.sk-toggleable__control:checked~div.sk-toggleable__content {max-height: 200px;max-width: 100%;overflow: auto;}#sk-container-id-6 input.sk-toggleable__control:checked~label.sk-toggleable__label-arrow:before {content: \"▾\";}#sk-container-id-6 div.sk-estimator input.sk-toggleable__control:checked~label.sk-toggleable__label {background-color: #d4ebff;}#sk-container-id-6 div.sk-label input.sk-toggleable__control:checked~label.sk-toggleable__label {background-color: #d4ebff;}#sk-container-id-6 input.sk-hidden--visually {border: 0;clip: rect(1px 1px 1px 1px);clip: rect(1px, 1px, 1px, 1px);height: 1px;margin: -1px;overflow: hidden;padding: 0;position: absolute;width: 1px;}#sk-container-id-6 div.sk-estimator {font-family: monospace;background-color: #f0f8ff;border: 1px dotted black;border-radius: 0.25em;box-sizing: border-box;margin-bottom: 0.5em;}#sk-container-id-6 div.sk-estimator:hover {background-color: #d4ebff;}#sk-container-id-6 div.sk-parallel-item::after {content: \"\";width: 100%;border-bottom: 1px solid gray;flex-grow: 1;}#sk-container-id-6 div.sk-label:hover label.sk-toggleable__label {background-color: #d4ebff;}#sk-container-id-6 div.sk-serial::before {content: \"\";position: absolute;border-left: 1px solid gray;box-sizing: border-box;top: 0;bottom: 0;left: 50%;z-index: 0;}#sk-container-id-6 div.sk-serial {display: flex;flex-direction: column;align-items: center;background-color: white;padding-right: 0.2em;padding-left: 0.2em;position: relative;}#sk-container-id-6 div.sk-item {position: relative;z-index: 1;}#sk-container-id-6 div.sk-parallel {display: flex;align-items: stretch;justify-content: center;background-color: white;position: relative;}#sk-container-id-6 div.sk-item::before, #sk-container-id-6 div.sk-parallel-item::before {content: \"\";position: absolute;border-left: 1px solid gray;box-sizing: border-box;top: 0;bottom: 0;left: 50%;z-index: -1;}#sk-container-id-6 div.sk-parallel-item {display: flex;flex-direction: column;z-index: 1;position: relative;background-color: white;}#sk-container-id-6 div.sk-parallel-item:first-child::after {align-self: flex-end;width: 50%;}#sk-container-id-6 div.sk-parallel-item:last-child::after {align-self: flex-start;width: 50%;}#sk-container-id-6 div.sk-parallel-item:only-child::after {width: 0;}#sk-container-id-6 div.sk-dashed-wrapped {border: 1px dashed gray;margin: 0 0.4em 0.5em 0.4em;box-sizing: border-box;padding-bottom: 0.4em;background-color: white;}#sk-container-id-6 div.sk-label label {font-family: monospace;font-weight: bold;display: inline-block;line-height: 1.2em;}#sk-container-id-6 div.sk-label-container {text-align: center;}#sk-container-id-6 div.sk-container {/* jupyter's `normalize.less` sets `[hidden] { display: none; }` but bootstrap.min.css set `[hidden] { display: none !important; }` so we also need the `!important` here to be able to override the default hidden behavior on the sphinx rendered scikit-learn.org. See: https://github.com/scikit-learn/scikit-learn/issues/21755 */display: inline-block !important;position: relative;}#sk-container-id-6 div.sk-text-repr-fallback {display: none;}</style><div id=\"sk-container-id-6\" class=\"sk-top-container\"><div class=\"sk-text-repr-fallback\"><pre>LogisticRegression(C=54.5559478116852, multi_class=&#x27;multinomial&#x27;)</pre><b>In a Jupyter environment, please rerun this cell to show the HTML representation or trust the notebook. <br />On GitHub, the HTML representation is unable to render, please try loading this page with nbviewer.org.</b></div><div class=\"sk-container\" hidden><div class=\"sk-item\"><div class=\"sk-estimator sk-toggleable\"><input class=\"sk-toggleable__control sk-hidden--visually\" id=\"sk-estimator-id-8\" type=\"checkbox\" checked><label for=\"sk-estimator-id-8\" class=\"sk-toggleable__label sk-toggleable__label-arrow\">LogisticRegression</label><div class=\"sk-toggleable__content\"><pre>LogisticRegression(C=54.5559478116852, multi_class=&#x27;multinomial&#x27;)</pre></div></div></div></div></div>"
      ],
      "text/plain": [
       "LogisticRegression(C=54.5559478116852, multi_class='multinomial')"
      ]
     },
     "execution_count": 171,
     "metadata": {},
     "output_type": "execute_result"
    }
   ],
   "source": [
    "best_clf.best_estimator_"
   ]
  },
  {
   "cell_type": "code",
   "execution_count": 172,
   "id": "9b9543e5",
   "metadata": {},
   "outputs": [
    {
     "name": "stdout",
     "output_type": "stream",
     "text": [
      "Confusion Matrix : \n",
      " [[117  13]\n",
      " [ 24  38]]\n",
      "Accuracy :  0.8072916666666666\n",
      "specificity1 :  0.9\n",
      "Sensitivity :  0.6129032258064516\n",
      "MCC :  0.5430105994571142\n",
      "AUC :  0.7564516129032258\n",
      "              precision    recall  f1-score   support\n",
      "\n",
      "           0       0.83      0.90      0.86       130\n",
      "           1       0.75      0.61      0.67        62\n",
      "\n",
      "    accuracy                           0.81       192\n",
      "   macro avg       0.79      0.76      0.77       192\n",
      "weighted avg       0.80      0.81      0.80       192\n",
      "\n"
     ]
    }
   ],
   "source": [
    "pred_logReg1 = best_clf.predict(X_test)\n",
    "\n",
    "from sklearn.metrics import confusion_matrix\n",
    "\n",
    "cm1 = confusion_matrix(Y_test,pred_logReg1)\n",
    "print('Confusion Matrix : \\n', cm1)\n",
    "\n",
    "total1=sum(sum(cm1))\n",
    "\n",
    "accuracy1=(cm1[0,0]+cm1[1,1])/total1\n",
    "print ('Accuracy : ', accuracy1)\n",
    "\n",
    "specificity1 = cm1[0,0]/(cm1[0,0]+cm1[0,1])\n",
    "print('specificity1 : ', specificity1)\n",
    "\n",
    "sensitivity1 = cm1[1,1]/(cm1[1,0]+cm1[1,1])\n",
    "print('Sensitivity : ', sensitivity1)\n",
    "\n",
    "from sklearn.metrics import matthews_corrcoef\n",
    "\n",
    "print(\"MCC : \",matthews_corrcoef(Y_test,pred_logReg1))\n",
    "\n",
    "from sklearn.metrics import roc_auc_score\n",
    "\n",
    "print(\"AUC : \",roc_auc_score(Y_test,pred_logReg1))\n",
    "\n",
    "from sklearn.metrics import classification_report\n",
    "\n",
    "print(classification_report(Y_test, pred_logReg1))"
   ]
  },
  {
   "cell_type": "raw",
   "id": "3ac6d99f",
   "metadata": {},
   "source": [
    "Confusion Matrix : \n",
    " [[118  12]\n",
    " [ 26  36]]\n",
    "Accuracy :  0.8020833333333334\n",
    "specificity1 :  0.9076923076923077\n",
    "Sensitivity :  0.5806451612903226\n",
    "MCC :  0.5273339157746447\n",
    "AUC :  0.7441687344913152\n",
    "              precision    recall  f1-score   support\n",
    "\n",
    "           0       0.82      0.91      0.86       130\n",
    "           1       0.75      0.58      0.65        62\n",
    "\n",
    "    accuracy                           0.80       192\n",
    "   macro avg       0.78      0.74      0.76       192\n",
    "weighted avg       0.80      0.80      0.79       192"
   ]
  },
  {
   "cell_type": "code",
   "execution_count": 173,
   "id": "338b2b9f",
   "metadata": {},
   "outputs": [
    {
     "name": "stdout",
     "output_type": "stream",
     "text": [
      "SVM on PIDDD ---------------------->\n",
      "TP 118\n",
      "FN 26\n",
      "FP 12\n",
      "TN 36\n",
      "Accuracy : 0.8020833333333334\n",
      "Precision : 0.9076923076923077\n",
      "Recall : 0.8194444444444444 \n",
      "F1_score : 0.8613138686131386\n",
      "TPR : 0.9076923076923077\n",
      "FPR : 0.25\n"
     ]
    }
   ],
   "source": [
    "# Confusion Matrix : \n",
    "#  [[118  12]\n",
    "#  [ 26  36]]\n",
    "TP6 = 118\n",
    "FP6 = 12\n",
    "FN6 = 26\n",
    "TN6 = 36\n",
    "\n",
    "\n",
    "def fun1(TP,FN,FP,TN):\n",
    "    \n",
    "    print(\"SVM on PIDDD ---------------------->\")\n",
    "    print(\"TP\",TP)\n",
    "    print(\"FN\",FN)\n",
    "    print(\"FP\",FP)\n",
    "    print(\"TN\", TN)\n",
    "    Accuracy = (TP + TN)/(TP + TN + FP + FN)\n",
    "    print(\"Accuracy : {}\".format(Accuracy))\n",
    "    Precision = TP / (TP + FP)\n",
    "    print(\"Precision : {}\".format(Precision))\n",
    "    Recall = TP / (TP + FN)\n",
    "    print(\"Recall : {} \".format(Recall))\n",
    "    F1_score = 2*(Precision*Recall)/(Precision + Recall)\n",
    "    print(\"F1_score : {}\".format(F1_score))\n",
    "    TPR = TP / (TP + FP)\n",
    "    print(\"TPR : {}\".format(TPR))\n",
    "    FPR = FP / (FP + TN)\n",
    "    print(\"FPR : {}\".format(FPR))\n",
    "    \n",
    "fun1(TP6,FN6,FP6,TN6)"
   ]
  },
  {
   "cell_type": "markdown",
   "id": "d6a334c8",
   "metadata": {},
   "source": [
    "# KNN \n",
    "# Herparameter Optimization for K value"
   ]
  },
  {
   "cell_type": "code",
   "execution_count": 186,
   "id": "375be177",
   "metadata": {},
   "outputs": [],
   "source": [
    "error = []\n",
    "# Calculating error for k between 1 and 60\n",
    "for i in range(1,50):\n",
    "    knn = KNeighborsClassifier(n_neighbors = i)\n",
    "    knn.fit(X_train, Y_train)\n",
    "    pred_i = knn.predict(X_test)\n",
    "    error.append(np.mean(pred_i != Y_test))"
   ]
  },
  {
   "cell_type": "code",
   "execution_count": 189,
   "id": "9fd39413",
   "metadata": {},
   "outputs": [
    {
     "data": {
      "text/plain": [
       "Text(0, 0.5, '<---------------------------mean Error----------------------------->')"
      ]
     },
     "execution_count": 189,
     "metadata": {},
     "output_type": "execute_result"
    },
    {
     "data": {
      "image/png": "[encoded data removed]",
      "text/plain": [
       "<Figure size 1300x600 with 1 Axes>"
      ]
     },
     "metadata": {},
     "output_type": "display_data"
    }
   ],
   "source": [
    "plt.figure(figsize=(13,6))\n",
    "plt.plot(range(1,50),error,color='red',linestyle='dashed',marker='o', markerfacecolor='green', markersize = 10)\n",
    "plt.title(\"Error Rate for K value\")\n",
    "plt.xlabel('<----------------------------------------K_value-------------------------------------------->')\n",
    "plt.ylabel(\"<---------------------------mean Error----------------------------->\")"
   ]
  },
  {
   "cell_type": "markdown",
   "id": "ba70a472",
   "metadata": {},
   "source": [
    "### Hyperparameter Optimization for K value using RandomizedSearchCV"
   ]
  },
  {
   "cell_type": "code",
   "execution_count": 234,
   "id": "9698aaf3",
   "metadata": {},
   "outputs": [],
   "source": [
    "from sklearn.model_selection import GridSearchCV, RandomizedSearchCV\n",
    "knn = KNeighborsClassifier(n_neighbors = 5)"
   ]
  },
  {
   "cell_type": "code",
   "execution_count": 236,
   "id": "52b824f3",
   "metadata": {},
   "outputs": [
    {
     "data": {
      "text/html": [
       "<style>#sk-container-id-21 {color: black;background-color: white;}#sk-container-id-21 pre{padding: 0;}#sk-container-id-21 div.sk-toggleable {background-color: white;}#sk-container-id-21 label.sk-toggleable__label {cursor: pointer;display: block;width: 100%;margin-bottom: 0;padding: 0.3em;box-sizing: border-box;text-align: center;}#sk-container-id-21 label.sk-toggleable__label-arrow:before {content: \"▸\";float: left;margin-right: 0.25em;color: #696969;}#sk-container-id-21 label.sk-toggleable__label-arrow:hover:before {color: black;}#sk-container-id-21 div.sk-estimator:hover label.sk-toggleable__label-arrow:before {color: black;}#sk-container-id-21 div.sk-toggleable__content {max-height: 0;max-width: 0;overflow: hidden;text-align: left;background-color: #f0f8ff;}#sk-container-id-21 div.sk-toggleable__content pre {margin: 0.2em;color: black;border-radius: 0.25em;background-color: #f0f8ff;}#sk-container-id-21 input.sk-toggleable__control:checked~div.sk-toggleable__content {max-height: 200px;max-width: 100%;overflow: auto;}#sk-container-id-21 input.sk-toggleable__control:checked~label.sk-toggleable__label-arrow:before {content: \"▾\";}#sk-container-id-21 div.sk-estimator input.sk-toggleable__control:checked~label.sk-toggleable__label {background-color: #d4ebff;}#sk-container-id-21 div.sk-label input.sk-toggleable__control:checked~label.sk-toggleable__label {background-color: #d4ebff;}#sk-container-id-21 input.sk-hidden--visually {border: 0;clip: rect(1px 1px 1px 1px);clip: rect(1px, 1px, 1px, 1px);height: 1px;margin: -1px;overflow: hidden;padding: 0;position: absolute;width: 1px;}#sk-container-id-21 div.sk-estimator {font-family: monospace;background-color: #f0f8ff;border: 1px dotted black;border-radius: 0.25em;box-sizing: border-box;margin-bottom: 0.5em;}#sk-container-id-21 div.sk-estimator:hover {background-color: #d4ebff;}#sk-container-id-21 div.sk-parallel-item::after {content: \"\";width: 100%;border-bottom: 1px solid gray;flex-grow: 1;}#sk-container-id-21 div.sk-label:hover label.sk-toggleable__label {background-color: #d4ebff;}#sk-container-id-21 div.sk-serial::before {content: \"\";position: absolute;border-left: 1px solid gray;box-sizing: border-box;top: 0;bottom: 0;left: 50%;z-index: 0;}#sk-container-id-21 div.sk-serial {display: flex;flex-direction: column;align-items: center;background-color: white;padding-right: 0.2em;padding-left: 0.2em;position: relative;}#sk-container-id-21 div.sk-item {position: relative;z-index: 1;}#sk-container-id-21 div.sk-parallel {display: flex;align-items: stretch;justify-content: center;background-color: white;position: relative;}#sk-container-id-21 div.sk-item::before, #sk-container-id-21 div.sk-parallel-item::before {content: \"\";position: absolute;border-left: 1px solid gray;box-sizing: border-box;top: 0;bottom: 0;left: 50%;z-index: -1;}#sk-container-id-21 div.sk-parallel-item {display: flex;flex-direction: column;z-index: 1;position: relative;background-color: white;}#sk-container-id-21 div.sk-parallel-item:first-child::after {align-self: flex-end;width: 50%;}#sk-container-id-21 div.sk-parallel-item:last-child::after {align-self: flex-start;width: 50%;}#sk-container-id-21 div.sk-parallel-item:only-child::after {width: 0;}#sk-container-id-21 div.sk-dashed-wrapped {border: 1px dashed gray;margin: 0 0.4em 0.5em 0.4em;box-sizing: border-box;padding-bottom: 0.4em;background-color: white;}#sk-container-id-21 div.sk-label label {font-family: monospace;font-weight: bold;display: inline-block;line-height: 1.2em;}#sk-container-id-21 div.sk-label-container {text-align: center;}#sk-container-id-21 div.sk-container {/* jupyter's `normalize.less` sets `[hidden] { display: none; }` but bootstrap.min.css set `[hidden] { display: none !important; }` so we also need the `!important` here to be able to override the default hidden behavior on the sphinx rendered scikit-learn.org. See: https://github.com/scikit-learn/scikit-learn/issues/21755 */display: inline-block !important;position: relative;}#sk-container-id-21 div.sk-text-repr-fallback {display: none;}</style><div id=\"sk-container-id-21\" class=\"sk-top-container\"><div class=\"sk-text-repr-fallback\"><pre>RandomizedSearchCV(cv=7, estimator=KNeighborsClassifier(), n_jobs=-1,\n",
       "                   param_distributions={&#x27;metric&#x27;: [&#x27;minkowski&#x27;],\n",
       "                                        &#x27;n_neighbors&#x27;: array([9, 9, 4, 7, 7, 7, 5, 3, 8, 6]),\n",
       "                                        &#x27;p&#x27;: [2]})</pre><b>In a Jupyter environment, please rerun this cell to show the HTML representation or trust the notebook. <br />On GitHub, the HTML representation is unable to render, please try loading this page with nbviewer.org.</b></div><div class=\"sk-container\" hidden><div class=\"sk-item sk-dashed-wrapped\"><div class=\"sk-label-container\"><div class=\"sk-label sk-toggleable\"><input class=\"sk-toggleable__control sk-hidden--visually\" id=\"sk-estimator-id-51\" type=\"checkbox\" ><label for=\"sk-estimator-id-51\" class=\"sk-toggleable__label sk-toggleable__label-arrow\">RandomizedSearchCV</label><div class=\"sk-toggleable__content\"><pre>RandomizedSearchCV(cv=7, estimator=KNeighborsClassifier(), n_jobs=-1,\n",
       "                   param_distributions={&#x27;metric&#x27;: [&#x27;minkowski&#x27;],\n",
       "                                        &#x27;n_neighbors&#x27;: array([9, 9, 4, 7, 7, 7, 5, 3, 8, 6]),\n",
       "                                        &#x27;p&#x27;: [2]})</pre></div></div></div><div class=\"sk-parallel\"><div class=\"sk-parallel-item\"><div class=\"sk-item\"><div class=\"sk-label-container\"><div class=\"sk-label sk-toggleable\"><input class=\"sk-toggleable__control sk-hidden--visually\" id=\"sk-estimator-id-52\" type=\"checkbox\" ><label for=\"sk-estimator-id-52\" class=\"sk-toggleable__label sk-toggleable__label-arrow\">estimator: KNeighborsClassifier</label><div class=\"sk-toggleable__content\"><pre>KNeighborsClassifier()</pre></div></div></div><div class=\"sk-serial\"><div class=\"sk-item\"><div class=\"sk-estimator sk-toggleable\"><input class=\"sk-toggleable__control sk-hidden--visually\" id=\"sk-estimator-id-53\" type=\"checkbox\" ><label for=\"sk-estimator-id-53\" class=\"sk-toggleable__label sk-toggleable__label-arrow\">KNeighborsClassifier</label><div class=\"sk-toggleable__content\"><pre>KNeighborsClassifier()</pre></div></div></div></div></div></div></div></div></div></div>"
      ],
      "text/plain": [
       "RandomizedSearchCV(cv=7, estimator=KNeighborsClassifier(), n_jobs=-1,\n",
       "                   param_distributions={'metric': ['minkowski'],\n",
       "                                        'n_neighbors': array([9, 9, 4, 7, 7, 7, 5, 3, 8, 6]),\n",
       "                                        'p': [2]})"
      ]
     },
     "execution_count": 236,
     "metadata": {},
     "output_type": "execute_result"
    }
   ],
   "source": [
    "k = np.random.randint(1,10,10)\n",
    "# define list of parameters for the model\n",
    "KNN_params = {'n_neighbors': k, 'p':[2], 'metric':['minkowski']}\n",
    "random_search =  RandomizedSearchCV(knn, KNN_params, n_iter = 10, cv = 7, n_jobs = -1, verbose = 0 )\n",
    "random_search.fit(X_train,Y_train)"
   ]
  },
  {
   "cell_type": "code",
   "execution_count": 237,
   "id": "0ef0ce2b",
   "metadata": {},
   "outputs": [
    {
     "name": "stdout",
     "output_type": "stream",
     "text": [
      "Training Score : 0.7881944444444444\n",
      "Testing Score : 0.7708333333333334\n"
     ]
    }
   ],
   "source": [
    "print(\"Training Score : \" + str(random_search.score(X_train,Y_train)))\n",
    "print(\"Testing Score : \" + str(random_search.score(X_test, Y_test)))"
   ]
  },
  {
   "cell_type": "code",
   "execution_count": 238,
   "id": "42a82c48",
   "metadata": {},
   "outputs": [
    {
     "name": "stdout",
     "output_type": "stream",
     "text": [
      "{'p': 2, 'n_neighbors': 9, 'metric': 'minkowski'}\n"
     ]
    }
   ],
   "source": [
    "print(random_search.best_params_)"
   ]
  },
  {
   "cell_type": "code",
   "execution_count": 240,
   "id": "2a50ee00",
   "metadata": {},
   "outputs": [
    {
     "name": "stdout",
     "output_type": "stream",
     "text": [
      "Confusion Matrix : \n",
      " [[112  18]\n",
      " [ 26  36]]\n",
      "Accuracy :  0.7708333333333334\n",
      "specificity1 :  0.8615384615384616\n",
      "Sensitivity :  0.5806451612903226\n",
      "MCC :  0.4598685942327356\n",
      "AUC :  0.721091811414392\n",
      "              precision    recall  f1-score   support\n",
      "\n",
      "           0       0.81      0.86      0.84       130\n",
      "           1       0.67      0.58      0.62        62\n",
      "\n",
      "    accuracy                           0.77       192\n",
      "   macro avg       0.74      0.72      0.73       192\n",
      "weighted avg       0.76      0.77      0.77       192\n",
      "\n"
     ]
    }
   ],
   "source": [
    "pred_KNN = random_search.predict(X_test)\n",
    "\n",
    "from sklearn.metrics import confusion_matrix\n",
    "\n",
    "cm1 = confusion_matrix(Y_test,pred_KNN)\n",
    "print('Confusion Matrix : \\n', cm1)\n",
    "\n",
    "total1=sum(sum(cm1))\n",
    "\n",
    "accuracy1=(cm1[0,0]+cm1[1,1])/total1\n",
    "print ('Accuracy : ', accuracy1)\n",
    "\n",
    "specificity1 = cm1[0,0]/(cm1[0,0]+cm1[0,1])\n",
    "print('specificity1 : ', specificity1)\n",
    "\n",
    "sensitivity1 = cm1[1,1]/(cm1[1,0]+cm1[1,1])\n",
    "print('Sensitivity : ', sensitivity1)\n",
    "\n",
    "from sklearn.metrics import matthews_corrcoef\n",
    "\n",
    "print(\"MCC : \",matthews_corrcoef(Y_test,pred_KNN))\n",
    "\n",
    "from sklearn.metrics import roc_auc_score\n",
    "\n",
    "print(\"AUC : \",roc_auc_score(Y_test,pred_KNN))\n",
    "\n",
    "from sklearn.metrics import classification_report\n",
    "\n",
    "print(classification_report(Y_test, pred_KNN))"
   ]
  },
  {
   "cell_type": "code",
   "execution_count": 241,
   "id": "2ccd5775",
   "metadata": {},
   "outputs": [
    {
     "name": "stdout",
     "output_type": "stream",
     "text": [
      "SVM on PIDDD ---------------------->\n",
      "TP 112\n",
      "FN 26\n",
      "FP 18\n",
      "TN 36\n",
      "Accuracy : 0.7708333333333334\n",
      "Precision : 0.8615384615384616\n",
      "Recall : 0.8115942028985508 \n",
      "F1_score : 0.835820895522388\n",
      "TPR : 0.8615384615384616\n",
      "FPR : 0.3333333333333333\n"
     ]
    }
   ],
   "source": [
    "# forb KNN\n",
    "# Confusion Matrix : \n",
    "#  [[112  18]\n",
    "#  [ 26  36]]\n",
    "TP7 = 112\n",
    "FP7 = 18\n",
    "FN7 = 26\n",
    "TN7 = 36\n",
    "\n",
    "\n",
    "def fun1(TP,FN,FP,TN):\n",
    "    \n",
    "    print(\"SVM on PIDDD ---------------------->\")\n",
    "    print(\"TP\",TP)\n",
    "    print(\"FN\",FN)\n",
    "    print(\"FP\",FP)\n",
    "    print(\"TN\", TN)\n",
    "    Accuracy = (TP + TN)/(TP + TN + FP + FN)\n",
    "    print(\"Accuracy : {}\".format(Accuracy))\n",
    "    Precision = TP / (TP + FP)\n",
    "    print(\"Precision : {}\".format(Precision))\n",
    "    Recall = TP / (TP + FN)\n",
    "    print(\"Recall : {} \".format(Recall))\n",
    "    F1_score = 2*(Precision*Recall)/(Precision + Recall)\n",
    "    print(\"F1_score : {}\".format(F1_score))\n",
    "    TPR = TP / (TP + FP)\n",
    "    print(\"TPR : {}\".format(TPR))\n",
    "    FPR = FP / (FP + TN)\n",
    "    print(\"FPR : {}\".format(FPR))\n",
    "    \n",
    "fun1(TP7,FN7,FP7,TN7)"
   ]
  },
  {
   "cell_type": "code",
   "execution_count": 43,
   "id": "d6ff42e3",
   "metadata": {},
   "outputs": [],
   "source": [
    "# KNN_params = {'n_neighbors':[1,5,10,9,20, 50], 'p':[2], 'metric':['minkowski']}"
   ]
  },
  {
   "cell_type": "code",
   "execution_count": null,
   "id": "cbb3702e",
   "metadata": {},
   "outputs": [],
   "source": [
    "# from sklearn.neighbors import KNeighborsClassifier\n",
    "\n",
    "# knn = KNeighborsClassifier(n_neighbors = 9)\n",
    "\n",
    "# knn.fit(xtrain,ytrain)\n",
    "\n",
    "# knn.score(xtest,ytest)"
   ]
  },
  {
   "cell_type": "code",
   "execution_count": null,
   "id": "cd4851c5",
   "metadata": {},
   "outputs": [],
   "source": []
  },
  {
   "cell_type": "markdown",
   "id": "82cc4e8f",
   "metadata": {},
   "source": [
    "# Decision Tree Model Hyperparameter optimization"
   ]
  },
  {
   "cell_type": "code",
   "execution_count": 580,
   "id": "fe9f0315",
   "metadata": {},
   "outputs": [],
   "source": [
    "DTC_parameters = {  'criterion':('entropy', 'gini','log_loss'), \n",
    "                    'splitter' : ('best', 'random'), \n",
    "                    'max_depth':(10, 50, 120),\n",
    "                    'max_features' : ('auto','sqrt','log'),\n",
    "                    \n",
    "                 }\n",
    "\n",
    "# 'max_sample_split' : (2,4,6) "
   ]
  },
  {
   "cell_type": "code",
   "execution_count": 581,
   "id": "c4d70b4a",
   "metadata": {},
   "outputs": [],
   "source": [
    "from sklearn.tree import DecisionTreeClassifier\n",
    "DTC_classifier = DecisionTreeClassifier()"
   ]
  },
  {
   "cell_type": "markdown",
   "id": "abc4ceec",
   "metadata": {},
   "source": [
    "# Randomized Search CV"
   ]
  },
  {
   "cell_type": "code",
   "execution_count": 638,
   "id": "e6b2bb91",
   "metadata": {},
   "outputs": [],
   "source": [
    "from sklearn.tree import DecisionTreeClassifier\n",
    "from sklearn.model_selection import cross_validate\n",
    "from sklearn.model_selection import GridSearchCV , RandomizedSearchCV\n",
    "kfold = KFold( random_state=2, n_splits= 4, shuffle=True) # n_splits=2, random_state=None, shuffle=False len(X_train),\n",
    "leave_validation=LeaveOneOut()\n",
    "skfold=StratifiedKFold(n_splits=20,random_state=2,shuffle=True)  #n_splits=20"
   ]
  },
  {
   "cell_type": "code",
   "execution_count": 639,
   "id": "1728cf85",
   "metadata": {},
   "outputs": [],
   "source": [
    "DTC_grid =  GridSearchCV(DTC_classifier, DTC_parameters, cv = 21 , n_jobs = -1,  verbose = True )"
   ]
  },
  {
   "cell_type": "code",
   "execution_count": 640,
   "id": "c432284d",
   "metadata": {},
   "outputs": [
    {
     "name": "stdout",
     "output_type": "stream",
     "text": [
      "Fitting 21 folds for each of 54 candidates, totalling 1134 fits\n"
     ]
    },
    {
     "data": {
      "text/html": [
       "<style>#sk-container-id-114 {color: black;background-color: white;}#sk-container-id-114 pre{padding: 0;}#sk-container-id-114 div.sk-toggleable {background-color: white;}#sk-container-id-114 label.sk-toggleable__label {cursor: pointer;display: block;width: 100%;margin-bottom: 0;padding: 0.3em;box-sizing: border-box;text-align: center;}#sk-container-id-114 label.sk-toggleable__label-arrow:before {content: \"▸\";float: left;margin-right: 0.25em;color: #696969;}#sk-container-id-114 label.sk-toggleable__label-arrow:hover:before {color: black;}#sk-container-id-114 div.sk-estimator:hover label.sk-toggleable__label-arrow:before {color: black;}#sk-container-id-114 div.sk-toggleable__content {max-height: 0;max-width: 0;overflow: hidden;text-align: left;background-color: #f0f8ff;}#sk-container-id-114 div.sk-toggleable__content pre {margin: 0.2em;color: black;border-radius: 0.25em;background-color: #f0f8ff;}#sk-container-id-114 input.sk-toggleable__control:checked~div.sk-toggleable__content {max-height: 200px;max-width: 100%;overflow: auto;}#sk-container-id-114 input.sk-toggleable__control:checked~label.sk-toggleable__label-arrow:before {content: \"▾\";}#sk-container-id-114 div.sk-estimator input.sk-toggleable__control:checked~label.sk-toggleable__label {background-color: #d4ebff;}#sk-container-id-114 div.sk-label input.sk-toggleable__control:checked~label.sk-toggleable__label {background-color: #d4ebff;}#sk-container-id-114 input.sk-hidden--visually {border: 0;clip: rect(1px 1px 1px 1px);clip: rect(1px, 1px, 1px, 1px);height: 1px;margin: -1px;overflow: hidden;padding: 0;position: absolute;width: 1px;}#sk-container-id-114 div.sk-estimator {font-family: monospace;background-color: #f0f8ff;border: 1px dotted black;border-radius: 0.25em;box-sizing: border-box;margin-bottom: 0.5em;}#sk-container-id-114 div.sk-estimator:hover {background-color: #d4ebff;}#sk-container-id-114 div.sk-parallel-item::after {content: \"\";width: 100%;border-bottom: 1px solid gray;flex-grow: 1;}#sk-container-id-114 div.sk-label:hover label.sk-toggleable__label {background-color: #d4ebff;}#sk-container-id-114 div.sk-serial::before {content: \"\";position: absolute;border-left: 1px solid gray;box-sizing: border-box;top: 0;bottom: 0;left: 50%;z-index: 0;}#sk-container-id-114 div.sk-serial {display: flex;flex-direction: column;align-items: center;background-color: white;padding-right: 0.2em;padding-left: 0.2em;position: relative;}#sk-container-id-114 div.sk-item {position: relative;z-index: 1;}#sk-container-id-114 div.sk-parallel {display: flex;align-items: stretch;justify-content: center;background-color: white;position: relative;}#sk-container-id-114 div.sk-item::before, #sk-container-id-114 div.sk-parallel-item::before {content: \"\";position: absolute;border-left: 1px solid gray;box-sizing: border-box;top: 0;bottom: 0;left: 50%;z-index: -1;}#sk-container-id-114 div.sk-parallel-item {display: flex;flex-direction: column;z-index: 1;position: relative;background-color: white;}#sk-container-id-114 div.sk-parallel-item:first-child::after {align-self: flex-end;width: 50%;}#sk-container-id-114 div.sk-parallel-item:last-child::after {align-self: flex-start;width: 50%;}#sk-container-id-114 div.sk-parallel-item:only-child::after {width: 0;}#sk-container-id-114 div.sk-dashed-wrapped {border: 1px dashed gray;margin: 0 0.4em 0.5em 0.4em;box-sizing: border-box;padding-bottom: 0.4em;background-color: white;}#sk-container-id-114 div.sk-label label {font-family: monospace;font-weight: bold;display: inline-block;line-height: 1.2em;}#sk-container-id-114 div.sk-label-container {text-align: center;}#sk-container-id-114 div.sk-container {/* jupyter's `normalize.less` sets `[hidden] { display: none; }` but bootstrap.min.css set `[hidden] { display: none !important; }` so we also need the `!important` here to be able to override the default hidden behavior on the sphinx rendered scikit-learn.org. See: https://github.com/scikit-learn/scikit-learn/issues/21755 */display: inline-block !important;position: relative;}#sk-container-id-114 div.sk-text-repr-fallback {display: none;}</style><div id=\"sk-container-id-114\" class=\"sk-top-container\"><div class=\"sk-text-repr-fallback\"><pre>GridSearchCV(cv=21, estimator=DecisionTreeClassifier(), n_jobs=-1,\n",
       "             param_grid={&#x27;criterion&#x27;: (&#x27;entropy&#x27;, &#x27;gini&#x27;, &#x27;log_loss&#x27;),\n",
       "                         &#x27;max_depth&#x27;: (10, 50, 130),\n",
       "                         &#x27;max_features&#x27;: (&#x27;auto&#x27;, &#x27;sqrt&#x27;, &#x27;log&#x27;),\n",
       "                         &#x27;splitter&#x27;: (&#x27;best&#x27;, &#x27;random&#x27;)},\n",
       "             verbose=True)</pre><b>In a Jupyter environment, please rerun this cell to show the HTML representation or trust the notebook. <br />On GitHub, the HTML representation is unable to render, please try loading this page with nbviewer.org.</b></div><div class=\"sk-container\" hidden><div class=\"sk-item sk-dashed-wrapped\"><div class=\"sk-label-container\"><div class=\"sk-label sk-toggleable\"><input class=\"sk-toggleable__control sk-hidden--visually\" id=\"sk-estimator-id-236\" type=\"checkbox\" ><label for=\"sk-estimator-id-236\" class=\"sk-toggleable__label sk-toggleable__label-arrow\">GridSearchCV</label><div class=\"sk-toggleable__content\"><pre>GridSearchCV(cv=21, estimator=DecisionTreeClassifier(), n_jobs=-1,\n",
       "             param_grid={&#x27;criterion&#x27;: (&#x27;entropy&#x27;, &#x27;gini&#x27;, &#x27;log_loss&#x27;),\n",
       "                         &#x27;max_depth&#x27;: (10, 50, 130),\n",
       "                         &#x27;max_features&#x27;: (&#x27;auto&#x27;, &#x27;sqrt&#x27;, &#x27;log&#x27;),\n",
       "                         &#x27;splitter&#x27;: (&#x27;best&#x27;, &#x27;random&#x27;)},\n",
       "             verbose=True)</pre></div></div></div><div class=\"sk-parallel\"><div class=\"sk-parallel-item\"><div class=\"sk-item\"><div class=\"sk-label-container\"><div class=\"sk-label sk-toggleable\"><input class=\"sk-toggleable__control sk-hidden--visually\" id=\"sk-estimator-id-237\" type=\"checkbox\" ><label for=\"sk-estimator-id-237\" class=\"sk-toggleable__label sk-toggleable__label-arrow\">estimator: DecisionTreeClassifier</label><div class=\"sk-toggleable__content\"><pre>DecisionTreeClassifier()</pre></div></div></div><div class=\"sk-serial\"><div class=\"sk-item\"><div class=\"sk-estimator sk-toggleable\"><input class=\"sk-toggleable__control sk-hidden--visually\" id=\"sk-estimator-id-238\" type=\"checkbox\" ><label for=\"sk-estimator-id-238\" class=\"sk-toggleable__label sk-toggleable__label-arrow\">DecisionTreeClassifier</label><div class=\"sk-toggleable__content\"><pre>DecisionTreeClassifier()</pre></div></div></div></div></div></div></div></div></div></div>"
      ],
      "text/plain": [
       "GridSearchCV(cv=21, estimator=DecisionTreeClassifier(), n_jobs=-1,\n",
       "             param_grid={'criterion': ('entropy', 'gini', 'log_loss'),\n",
       "                         'max_depth': (10, 50, 130),\n",
       "                         'max_features': ('auto', 'sqrt', 'log'),\n",
       "                         'splitter': ('best', 'random')},\n",
       "             verbose=True)"
      ]
     },
     "execution_count": 640,
     "metadata": {},
     "output_type": "execute_result"
    }
   ],
   "source": [
    "DTC_grid.fit(X_train,Y_train) # model fitting with training examples "
   ]
  },
  {
   "cell_type": "code",
   "execution_count": 641,
   "id": "70a1ed46",
   "metadata": {},
   "outputs": [
    {
     "data": {
      "text/html": [
       "<style>#sk-container-id-115 {color: black;background-color: white;}#sk-container-id-115 pre{padding: 0;}#sk-container-id-115 div.sk-toggleable {background-color: white;}#sk-container-id-115 label.sk-toggleable__label {cursor: pointer;display: block;width: 100%;margin-bottom: 0;padding: 0.3em;box-sizing: border-box;text-align: center;}#sk-container-id-115 label.sk-toggleable__label-arrow:before {content: \"▸\";float: left;margin-right: 0.25em;color: #696969;}#sk-container-id-115 label.sk-toggleable__label-arrow:hover:before {color: black;}#sk-container-id-115 div.sk-estimator:hover label.sk-toggleable__label-arrow:before {color: black;}#sk-container-id-115 div.sk-toggleable__content {max-height: 0;max-width: 0;overflow: hidden;text-align: left;background-color: #f0f8ff;}#sk-container-id-115 div.sk-toggleable__content pre {margin: 0.2em;color: black;border-radius: 0.25em;background-color: #f0f8ff;}#sk-container-id-115 input.sk-toggleable__control:checked~div.sk-toggleable__content {max-height: 200px;max-width: 100%;overflow: auto;}#sk-container-id-115 input.sk-toggleable__control:checked~label.sk-toggleable__label-arrow:before {content: \"▾\";}#sk-container-id-115 div.sk-estimator input.sk-toggleable__control:checked~label.sk-toggleable__label {background-color: #d4ebff;}#sk-container-id-115 div.sk-label input.sk-toggleable__control:checked~label.sk-toggleable__label {background-color: #d4ebff;}#sk-container-id-115 input.sk-hidden--visually {border: 0;clip: rect(1px 1px 1px 1px);clip: rect(1px, 1px, 1px, 1px);height: 1px;margin: -1px;overflow: hidden;padding: 0;position: absolute;width: 1px;}#sk-container-id-115 div.sk-estimator {font-family: monospace;background-color: #f0f8ff;border: 1px dotted black;border-radius: 0.25em;box-sizing: border-box;margin-bottom: 0.5em;}#sk-container-id-115 div.sk-estimator:hover {background-color: #d4ebff;}#sk-container-id-115 div.sk-parallel-item::after {content: \"\";width: 100%;border-bottom: 1px solid gray;flex-grow: 1;}#sk-container-id-115 div.sk-label:hover label.sk-toggleable__label {background-color: #d4ebff;}#sk-container-id-115 div.sk-serial::before {content: \"\";position: absolute;border-left: 1px solid gray;box-sizing: border-box;top: 0;bottom: 0;left: 50%;z-index: 0;}#sk-container-id-115 div.sk-serial {display: flex;flex-direction: column;align-items: center;background-color: white;padding-right: 0.2em;padding-left: 0.2em;position: relative;}#sk-container-id-115 div.sk-item {position: relative;z-index: 1;}#sk-container-id-115 div.sk-parallel {display: flex;align-items: stretch;justify-content: center;background-color: white;position: relative;}#sk-container-id-115 div.sk-item::before, #sk-container-id-115 div.sk-parallel-item::before {content: \"\";position: absolute;border-left: 1px solid gray;box-sizing: border-box;top: 0;bottom: 0;left: 50%;z-index: -1;}#sk-container-id-115 div.sk-parallel-item {display: flex;flex-direction: column;z-index: 1;position: relative;background-color: white;}#sk-container-id-115 div.sk-parallel-item:first-child::after {align-self: flex-end;width: 50%;}#sk-container-id-115 div.sk-parallel-item:last-child::after {align-self: flex-start;width: 50%;}#sk-container-id-115 div.sk-parallel-item:only-child::after {width: 0;}#sk-container-id-115 div.sk-dashed-wrapped {border: 1px dashed gray;margin: 0 0.4em 0.5em 0.4em;box-sizing: border-box;padding-bottom: 0.4em;background-color: white;}#sk-container-id-115 div.sk-label label {font-family: monospace;font-weight: bold;display: inline-block;line-height: 1.2em;}#sk-container-id-115 div.sk-label-container {text-align: center;}#sk-container-id-115 div.sk-container {/* jupyter's `normalize.less` sets `[hidden] { display: none; }` but bootstrap.min.css set `[hidden] { display: none !important; }` so we also need the `!important` here to be able to override the default hidden behavior on the sphinx rendered scikit-learn.org. See: https://github.com/scikit-learn/scikit-learn/issues/21755 */display: inline-block !important;position: relative;}#sk-container-id-115 div.sk-text-repr-fallback {display: none;}</style><div id=\"sk-container-id-115\" class=\"sk-top-container\"><div class=\"sk-text-repr-fallback\"><pre>DecisionTreeClassifier(criterion=&#x27;log_loss&#x27;, max_depth=10, max_features=&#x27;auto&#x27;)</pre><b>In a Jupyter environment, please rerun this cell to show the HTML representation or trust the notebook. <br />On GitHub, the HTML representation is unable to render, please try loading this page with nbviewer.org.</b></div><div class=\"sk-container\" hidden><div class=\"sk-item\"><div class=\"sk-estimator sk-toggleable\"><input class=\"sk-toggleable__control sk-hidden--visually\" id=\"sk-estimator-id-239\" type=\"checkbox\" checked><label for=\"sk-estimator-id-239\" class=\"sk-toggleable__label sk-toggleable__label-arrow\">DecisionTreeClassifier</label><div class=\"sk-toggleable__content\"><pre>DecisionTreeClassifier(criterion=&#x27;log_loss&#x27;, max_depth=10, max_features=&#x27;auto&#x27;)</pre></div></div></div></div></div>"
      ],
      "text/plain": [
       "DecisionTreeClassifier(criterion='log_loss', max_depth=10, max_features='auto')"
      ]
     },
     "execution_count": 641,
     "metadata": {},
     "output_type": "execute_result"
    }
   ],
   "source": [
    "# to see the best_estimators\n",
    "DTC_grid.best_estimator_"
   ]
  },
  {
   "cell_type": "code",
   "execution_count": 642,
   "id": "c4732ccc",
   "metadata": {},
   "outputs": [
    {
     "name": "stdout",
     "output_type": "stream",
     "text": [
      "Training Score : 0.9010416666666666\n",
      "Testing Score : 0.7395833333333334\n"
     ]
    }
   ],
   "source": [
    "print(\"Training Score : \" + str(DTC_grid.score(X_train,Y_train)))\n",
    "print(\"Testing Score : \" + str(DTC_grid.score(X_test, Y_test)))"
   ]
  },
  {
   "cell_type": "code",
   "execution_count": 643,
   "id": "7b97a760",
   "metadata": {},
   "outputs": [
    {
     "name": "stdout",
     "output_type": "stream",
     "text": [
      "Confusion Matrix : \n",
      " [[110  20]\n",
      " [ 30  32]]\n",
      "Accuracy :  0.7395833333333334\n",
      "specificity1 :  0.8461538461538461\n",
      "Sensitivity :  0.5161290322580645\n",
      "MCC :  0.38119714639273494\n",
      "AUC :  0.6811414392059554\n",
      "              precision    recall  f1-score   support\n",
      "\n",
      "           0       0.79      0.85      0.81       130\n",
      "           1       0.62      0.52      0.56        62\n",
      "\n",
      "    accuracy                           0.74       192\n",
      "   macro avg       0.70      0.68      0.69       192\n",
      "weighted avg       0.73      0.74      0.73       192\n",
      "\n"
     ]
    }
   ],
   "source": [
    "pred_DTC = DTC_grid.predict(X_test)\n",
    "\n",
    "from sklearn.metrics import confusion_matrix\n",
    "\n",
    "cm1 = confusion_matrix(Y_test, pred_DTC)\n",
    "print('Confusion Matrix : \\n', cm1)\n",
    "\n",
    "total1=sum(sum(cm1))\n",
    "\n",
    "accuracy1=(cm1[0,0]+cm1[1,1])/total1\n",
    "print ('Accuracy : ', accuracy1)\n",
    "\n",
    "specificity1 = cm1[0,0]/(cm1[0,0]+cm1[0,1])\n",
    "\n",
    "print('specificity1 : ', specificity1)\n",
    "\n",
    "sensitivity1 = cm1[1,1]/(cm1[1,0]+cm1[1,1])\n",
    "print('Sensitivity : ', sensitivity1)\n",
    "\n",
    "from sklearn.metrics import matthews_corrcoef\n",
    "\n",
    "print(\"MCC : \",matthews_corrcoef(Y_test,pred_DTC))\n",
    "\n",
    "from sklearn.metrics import roc_auc_score\n",
    "\n",
    "print(\"AUC : \",roc_auc_score(Y_test,pred_DTC))\n",
    "\n",
    "from sklearn.metrics import classification_report\n",
    "\n",
    "print(classification_report(Y_test, pred_DTC))"
   ]
  },
  {
   "cell_type": "code",
   "execution_count": 622,
   "id": "5285a7fa",
   "metadata": {},
   "outputs": [
    {
     "name": "stdout",
     "output_type": "stream",
     "text": [
      "SVM on PIDDD ---------------------->\n",
      "TP 114\n",
      "FN 32\n",
      "FP 16\n",
      "TN 30\n",
      "Accuracy : 0.75\n",
      "Precision : 0.8769230769230769\n",
      "Recall : 0.7808219178082192 \n",
      "F1_score : 0.8260869565217391\n",
      "TPR : 0.8769230769230769\n",
      "FPR : 0.34782608695652173\n"
     ]
    }
   ],
   "source": [
    "# Confusion Matrix : \n",
    "#  [[114  16]\n",
    "#  [ 32  30]]\n",
    "TP7 = 114\n",
    "FP7 = 16\n",
    "FN7 = 32\n",
    "TN7 = 30\n",
    "\n",
    "\n",
    "def fun1(TP,FN,FP,TN):\n",
    "    \n",
    "    print(\"SVM on PIDDD ---------------------->\")\n",
    "    print(\"TP\",TP)\n",
    "    print(\"FN\",FN)\n",
    "    print(\"FP\",FP)\n",
    "    print(\"TN\", TN)\n",
    "    Accuracy = (TP + TN)/(TP + TN + FP + FN)\n",
    "    print(\"Accuracy : {}\".format(Accuracy))\n",
    "    Precision = TP / (TP + FP)\n",
    "    print(\"Precision : {}\".format(Precision))\n",
    "    Recall = TP / (TP + FN)\n",
    "    print(\"Recall : {} \".format(Recall))\n",
    "    F1_score = 2*(Precision*Recall)/(Precision + Recall)\n",
    "    print(\"F1_score : {}\".format(F1_score))\n",
    "    TPR = TP / (TP + FP)\n",
    "    print(\"TPR : {}\".format(TPR))\n",
    "    FPR = FP / (FP + TN)\n",
    "    print(\"FPR : {}\".format(FPR))\n",
    "    \n",
    "fun1(TP7,FN7,FP7,TN7)"
   ]
  },
  {
   "cell_type": "code",
   "execution_count": 312,
   "id": "ec92fd21",
   "metadata": {},
   "outputs": [
    {
     "name": "stdout",
     "output_type": "stream",
     "text": [
      "Collecting graphviz\n",
      "  Downloading graphviz-0.20.1-py3-none-any.whl (47 kB)\n",
      "     -------------------------------------- 47.0/47.0 kB 261.0 kB/s eta 0:00:00\n",
      "Installing collected packages: graphviz\n",
      "Successfully installed graphviz-0.20.1\n"
     ]
    }
   ],
   "source": [
    "!pip install graphviz"
   ]
  },
  {
   "cell_type": "code",
   "execution_count": 329,
   "id": "5b11852f",
   "metadata": {},
   "outputs": [],
   "source": [
    "# import graphviz  \n",
    "# from sklearn.tree import DecisionTreeClassifier, export_graphviz"
   ]
  },
  {
   "cell_type": "code",
   "execution_count": null,
   "id": "d4f08bf1",
   "metadata": {},
   "outputs": [],
   "source": [
    "# results = []\n",
    "# names = []\n",
    "\n",
    "\n",
    "# def estimator_function(parameter_dictionary, scoring = 'accuracy'):\n",
    "    \n",
    "    \n",
    "#     for name, model, params in models_opt:\n",
    "    \n",
    "#         #kfold = KFold(len(X_train), n_folds=5, random_state=2, shuffle=True)\n",
    "#         skfold=StratifiedKFold(n_splits=5)\n",
    "#         leave_validation=LeaveOneOut()\n",
    "\n",
    "#         model_grid = GridSearchCV(model, params)\n",
    "\n",
    "#         cv_results = cross_val_score(model_grid, X_train, Y_train, cv =leave_validation, scoring=scoring)\n",
    "\n",
    "#         results.append(cv_results)\n",
    "\n",
    "#         names.append(name)\n",
    "\n",
    "#         msg = \"Cross Validation Accuracy %s: Accarcy: %f SD: %f\" % (name, cv_results.mean(), cv_results.std())\n",
    "\n",
    "#         print(msg)"
   ]
  },
  {
   "cell_type": "code",
   "execution_count": 644,
   "id": "0a9cabd9",
   "metadata": {},
   "outputs": [],
   "source": [
    "# kfold = KFold(len(X_train), random_state=2, shuffle=True)\n",
    "# leave_validation=LeaveOneOut()\n",
    "# skfold=StratifiedKFold(n_splits=5)\n",
    "# model_grid_DTC = GridSearchCV(DTC_classifier, DTC_grid)\n",
    "# cv_results = cross_val_score(model_grid_DTC, X_train, Y_train, cv =skfold, scoring='accuracy')"
   ]
  },
  {
   "cell_type": "code",
   "execution_count": null,
   "id": "13dc77fe",
   "metadata": {},
   "outputs": [],
   "source": []
  },
  {
   "cell_type": "code",
   "execution_count": null,
   "id": "166f0bc4",
   "metadata": {},
   "outputs": [],
   "source": []
  },
  {
   "cell_type": "code",
   "execution_count": null,
   "id": "e8c8812b",
   "metadata": {},
   "outputs": [],
   "source": []
  },
  {
   "cell_type": "code",
   "execution_count": null,
   "id": "a1f96a13",
   "metadata": {},
   "outputs": [],
   "source": []
  },
  {
   "cell_type": "code",
   "execution_count": null,
   "id": "e24c1209",
   "metadata": {},
   "outputs": [],
   "source": []
  },
  {
   "cell_type": "code",
   "execution_count": null,
   "id": "fdfeca74",
   "metadata": {},
   "outputs": [],
   "source": []
  },
  {
   "cell_type": "code",
   "execution_count": 325,
   "id": "6bbaa50d",
   "metadata": {},
   "outputs": [
    {
     "data": {
      "text/plain": [
       "'Outcome'"
      ]
     },
     "execution_count": 325,
     "metadata": {},
     "output_type": "execute_result"
    }
   ],
   "source": [
    "df.columns[-1]"
   ]
  },
  {
   "cell_type": "code",
   "execution_count": 606,
   "id": "e2f1b7bb",
   "metadata": {},
   "outputs": [],
   "source": [
    "# # dot_data = export_graphviz(DTC_grid,   \n",
    "#                       out_file=None, \n",
    "#                       feature_names=x.columns,       #Provide X Variables Column Names \n",
    "#                       class_names=df.columns[-1],      # Provide Target Variable Column Name\n",
    "#                       filled=True, rounded=True,     # Controls the look of the nodes and colours it\n",
    "#                       special_characters=True)  \n",
    "# graph = graphviz.Source(dot_data)  \n",
    "# graph "
   ]
  },
  {
   "cell_type": "code",
   "execution_count": 310,
   "id": "d640e776",
   "metadata": {},
   "outputs": [
    {
     "data": {
      "text/plain": [
       "Index(['Pregnancies', 'Glucose', 'BloodPressure', 'SkinThickness', 'Insulin',\n",
       "       'BMI', 'DiabetesPedigreeFunction', 'Age'],\n",
       "      dtype='object')"
      ]
     },
     "execution_count": 310,
     "metadata": {},
     "output_type": "execute_result"
    }
   ],
   "source": [
    "X_train.columns"
   ]
  },
  {
   "cell_type": "code",
   "execution_count": null,
   "id": "85b1fedd",
   "metadata": {},
   "outputs": [],
   "source": []
  }
 ],
 "metadata": {
  "kernelspec": {
   "display_name": "Python 3 (ipykernel)",
   "language": "python",
   "name": "python3"
  },
  "language_info": {
   "codemirror_mode": {
    "name": "ipython",
    "version": 3
   },
   "file_extension": ".py",
   "mimetype": "text/x-python",
   "name": "python",
   "nbconvert_exporter": "python",
   "pygments_lexer": "ipython3",
   "version": "3.9.15"
  }
 },
 "nbformat": 4,
 "nbformat_minor": 5
}
